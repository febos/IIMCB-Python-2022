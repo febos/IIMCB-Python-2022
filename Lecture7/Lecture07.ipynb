{
 "cells": [
  {
   "cell_type": "markdown",
   "metadata": {
    "slideshow": {
     "slide_type": "slide"
    }
   },
   "source": [
    "# Classes"
   ]
  },
  {
   "cell_type": "markdown",
   "metadata": {},
   "source": [
    "## Attributes and methods"
   ]
  },
  {
   "cell_type": "code",
   "execution_count": 1,
   "metadata": {},
   "outputs": [],
   "source": [
    "class MyLittleClass:\n",
    "    color = \"blue\"\n",
    "    \n",
    "    def set_color(self, color_):\n",
    "        color = color_\n",
    "        print('set color to {}'.format(color))\n"
   ]
  },
  {
   "cell_type": "code",
   "execution_count": 2,
   "metadata": {
    "slideshow": {
     "slide_type": "subslide"
    }
   },
   "outputs": [
    {
     "name": "stdout",
     "output_type": "stream",
     "text": [
      "blue\n",
      "set color to red\n",
      "blue\n"
     ]
    }
   ],
   "source": [
    "obj = MyLittleClass()\n",
    "print(obj.color)\n",
    "\n",
    "obj.set_color('red')\n",
    "print(obj.color)"
   ]
  },
  {
   "cell_type": "markdown",
   "metadata": {
    "slideshow": {
     "slide_type": "-"
    }
   },
   "source": [
    "__Whaaaaaa?!!!__\n",
    "\n",
    "Because for object attributes you should use `self.attribute_name`, and `color` in `set_color` method is just a local variable :)"
   ]
  },
  {
   "cell_type": "code",
   "execution_count": 3,
   "metadata": {
    "slideshow": {
     "slide_type": "subslide"
    }
   },
   "outputs": [],
   "source": [
    "class MyLittleClass2:\n",
    "    color = \"blue\" # attribute of the class\n",
    "    \n",
    "    def set_color(self, color_):\n",
    "        self.color = color_  # attribute of objects :)\n",
    "        MyLittleClass2.color = 'blue' # how to change attribute of the class\n",
    "        print('set color to {}'.format(self.color))"
   ]
  },
  {
   "cell_type": "code",
   "execution_count": 4,
   "metadata": {},
   "outputs": [
    {
     "name": "stdout",
     "output_type": "stream",
     "text": [
      "blue\n",
      "set color to red\n",
      "red\n"
     ]
    }
   ],
   "source": [
    "obj = MyLittleClass2()\n",
    "print(obj.color)\n",
    "\n",
    "obj.set_color('red')\n",
    "print(obj.color)"
   ]
  },
  {
   "cell_type": "code",
   "execution_count": 5,
   "metadata": {
    "slideshow": {
     "slide_type": "subslide"
    }
   },
   "outputs": [
    {
     "name": "stdout",
     "output_type": "stream",
     "text": [
      "green\n"
     ]
    }
   ],
   "source": [
    "# in fact, this is also possible, but good programmers write the so-called getter and setter methods\n",
    "obj.color = 'green'\n",
    "print(obj.color)"
   ]
  },
  {
   "cell_type": "markdown",
   "metadata": {
    "slideshow": {
     "slide_type": "slide"
    }
   },
   "source": [
    "__Q:__ Dynamically define attributes that were not in the class definition at all?\n",
    "\n",
    "__A:__ Easy!"
   ]
  },
  {
   "cell_type": "code",
   "execution_count": 6,
   "metadata": {},
   "outputs": [
    {
     "name": "stdout",
     "output_type": "stream",
     "text": [
      "42\n"
     ]
    }
   ],
   "source": [
    "obj.some_attribute = 42\n",
    "print(obj.some_attribute)"
   ]
  },
  {
   "cell_type": "markdown",
   "metadata": {
    "slideshow": {
     "slide_type": "slide"
    }
   },
   "source": [
    "__Q:__ And what does self mean in the definition of a method?\n",
    "\n",
    "__A:__ When we call the method as obj.methodname(), the first argument is a reference to obj (as self)"
   ]
  },
  {
   "cell_type": "code",
   "execution_count": 7,
   "metadata": {},
   "outputs": [],
   "source": [
    "class MyLittleClass3:\n",
    "    \n",
    "    def method_with_self(self, arg):\n",
    "        print(arg)\n",
    "    \n",
    "    def method_without_self(arg):\n",
    "        print(arg)\n",
    "        "
   ]
  },
  {
   "cell_type": "code",
   "execution_count": 8,
   "metadata": {},
   "outputs": [
    {
     "name": "stdout",
     "output_type": "stream",
     "text": [
      "i am an argument\n"
     ]
    },
    {
     "ename": "TypeError",
     "evalue": "method_without_self() takes 1 positional argument but 2 were given",
     "output_type": "error",
     "traceback": [
      "\u001b[0;31m---------------------------------------------------------------------------\u001b[0m",
      "\u001b[0;31mTypeError\u001b[0m                                 Traceback (most recent call last)",
      "Input \u001b[0;32mIn [8]\u001b[0m, in \u001b[0;36m<cell line: 3>\u001b[0;34m()\u001b[0m\n\u001b[1;32m      1\u001b[0m obj \u001b[38;5;241m=\u001b[39m MyLittleClass3()\n\u001b[1;32m      2\u001b[0m obj\u001b[38;5;241m.\u001b[39mmethod_with_self(\u001b[38;5;124m'\u001b[39m\u001b[38;5;124mi am an argument\u001b[39m\u001b[38;5;124m'\u001b[39m)\n\u001b[0;32m----> 3\u001b[0m \u001b[43mobj\u001b[49m\u001b[38;5;241;43m.\u001b[39;49m\u001b[43mmethod_without_self\u001b[49m\u001b[43m(\u001b[49m\u001b[38;5;124;43m'\u001b[39;49m\u001b[38;5;124;43mi am another argument\u001b[39;49m\u001b[38;5;124;43m'\u001b[39;49m\u001b[43m)\u001b[49m\n",
      "\u001b[0;31mTypeError\u001b[0m: method_without_self() takes 1 positional argument but 2 were given"
     ]
    }
   ],
   "source": [
    "obj = MyLittleClass3()\n",
    "obj.method_with_self('i am an argument')\n",
    "obj.method_without_self('i am another argument') # here we are actually passing two arguments, self and arg"
   ]
  },
  {
   "cell_type": "markdown",
   "metadata": {
    "slideshow": {
     "slide_type": "slide"
    }
   },
   "source": [
    "__Q:__ But how to call them then?!\n",
    "\n",
    "__A:__ They are not bound to an instance (because they do not have access to its local data), but are bound to a class"
   ]
  },
  {
   "cell_type": "code",
   "execution_count": 9,
   "metadata": {},
   "outputs": [
    {
     "name": "stdout",
     "output_type": "stream",
     "text": [
      "i am another argument\n"
     ]
    }
   ],
   "source": [
    "MyLittleClass3.method_without_self('i am another argument') # and here we pass only one argument"
   ]
  },
  {
   "cell_type": "markdown",
   "metadata": {
    "slideshow": {
     "slide_type": "slide"
    }
   },
   "source": [
    "__Q:__ Is it possible to detach a method from a class?\n",
    "\n",
    "__A:__ Well, let's try"
   ]
  },
  {
   "cell_type": "code",
   "execution_count": 10,
   "metadata": {},
   "outputs": [
    {
     "name": "stdout",
     "output_type": "stream",
     "text": [
      "hello\n"
     ]
    }
   ],
   "source": [
    "func = MyLittleClass3.method_without_self\n",
    "func(\"hello\")"
   ]
  },
  {
   "cell_type": "code",
   "execution_count": 11,
   "metadata": {
    "slideshow": {
     "slide_type": "subslide"
    }
   },
   "outputs": [
    {
     "ename": "TypeError",
     "evalue": "method_with_self() missing 1 required positional argument: 'arg'",
     "output_type": "error",
     "traceback": [
      "\u001b[0;31m---------------------------------------------------------------------------\u001b[0m",
      "\u001b[0;31mTypeError\u001b[0m                                 Traceback (most recent call last)",
      "Input \u001b[0;32mIn [11]\u001b[0m, in \u001b[0;36m<cell line: 2>\u001b[0;34m()\u001b[0m\n\u001b[1;32m      1\u001b[0m func2 \u001b[38;5;241m=\u001b[39m MyLittleClass3\u001b[38;5;241m.\u001b[39mmethod_with_self\n\u001b[0;32m----> 2\u001b[0m \u001b[43mfunc2\u001b[49m\u001b[43m(\u001b[49m\u001b[38;5;124;43m\"\u001b[39;49m\u001b[38;5;124;43mhello\u001b[39;49m\u001b[38;5;124;43m\"\u001b[39;49m\u001b[43m)\u001b[49m\n",
      "\u001b[0;31mTypeError\u001b[0m: method_with_self() missing 1 required positional argument: 'arg'"
     ]
    }
   ],
   "source": [
    "func2 = MyLittleClass3.method_with_self\n",
    "func2(\"hello\") # passing one argument"
   ]
  },
  {
   "cell_type": "code",
   "execution_count": 12,
   "metadata": {},
   "outputs": [
    {
     "name": "stdout",
     "output_type": "stream",
     "text": [
      "hello\n"
     ]
    }
   ],
   "source": [
    "obj = MyLittleClass3()\n",
    "func2(obj, \"hello\") # oh, we still need an object for self!"
   ]
  },
  {
   "cell_type": "markdown",
   "metadata": {
    "slideshow": {
     "slide_type": "slide"
    }
   },
   "source": [
    "__Q:__ And vice versa?\n",
    "\n",
    "__A:__ Yes, it's a python. Sure!"
   ]
  },
  {
   "cell_type": "code",
   "execution_count": 13,
   "metadata": {},
   "outputs": [
    {
     "ename": "AttributeError",
     "evalue": "'MyLittleClass3' object has no attribute 'get_color'",
     "output_type": "error",
     "traceback": [
      "\u001b[0;31m---------------------------------------------------------------------------\u001b[0m",
      "\u001b[0;31mAttributeError\u001b[0m                            Traceback (most recent call last)",
      "Input \u001b[0;32mIn [13]\u001b[0m, in \u001b[0;36m<cell line: 1>\u001b[0;34m()\u001b[0m\n\u001b[0;32m----> 1\u001b[0m \u001b[43mobj\u001b[49m\u001b[38;5;241;43m.\u001b[39;49m\u001b[43mget_color\u001b[49m()\n",
      "\u001b[0;31mAttributeError\u001b[0m: 'MyLittleClass3' object has no attribute 'get_color'"
     ]
    }
   ],
   "source": [
    "obj.get_color()"
   ]
  },
  {
   "cell_type": "code",
   "execution_count": 14,
   "metadata": {
    "slideshow": {
     "slide_type": "subslide"
    }
   },
   "outputs": [
    {
     "ename": "AttributeError",
     "evalue": "'MyLittleClass3' object has no attribute 'color'",
     "output_type": "error",
     "traceback": [
      "\u001b[0;31m---------------------------------------------------------------------------\u001b[0m",
      "\u001b[0;31mAttributeError\u001b[0m                            Traceback (most recent call last)",
      "Input \u001b[0;32mIn [14]\u001b[0m, in \u001b[0;36m<cell line: 6>\u001b[0;34m()\u001b[0m\n\u001b[1;32m      4\u001b[0m MyLittleClass3\u001b[38;5;241m.\u001b[39mget_color \u001b[38;5;241m=\u001b[39m get_color_function\n\u001b[1;32m      5\u001b[0m obj \u001b[38;5;241m=\u001b[39m MyLittleClass3()\n\u001b[0;32m----> 6\u001b[0m \u001b[43mobj\u001b[49m\u001b[38;5;241;43m.\u001b[39;49m\u001b[43mget_color\u001b[49m\u001b[43m(\u001b[49m\u001b[43m)\u001b[49m\n",
      "Input \u001b[0;32mIn [14]\u001b[0m, in \u001b[0;36mget_color_function\u001b[0;34m(self)\u001b[0m\n\u001b[1;32m      1\u001b[0m \u001b[38;5;28;01mdef\u001b[39;00m \u001b[38;5;21mget_color_function\u001b[39m(\u001b[38;5;28mself\u001b[39m):\n\u001b[0;32m----> 2\u001b[0m     \u001b[38;5;28;01mreturn\u001b[39;00m \u001b[38;5;28;43mself\u001b[39;49m\u001b[38;5;241;43m.\u001b[39;49m\u001b[43mcolor\u001b[49m\n",
      "\u001b[0;31mAttributeError\u001b[0m: 'MyLittleClass3' object has no attribute 'color'"
     ]
    }
   ],
   "source": [
    "def get_color_function(self):\n",
    "    return self.color\n",
    "\n",
    "MyLittleClass3.get_color = get_color_function\n",
    "obj = MyLittleClass3()\n",
    "obj.get_color()"
   ]
  },
  {
   "cell_type": "markdown",
   "metadata": {
    "slideshow": {
     "slide_type": "subslide"
    }
   },
   "source": [
    "Oh yes, we have no color. But it doesn’t matter, it's python!"
   ]
  },
  {
   "cell_type": "code",
   "execution_count": 15,
   "metadata": {},
   "outputs": [
    {
     "data": {
      "text/plain": [
       "'pink'"
      ]
     },
     "execution_count": 15,
     "metadata": {},
     "output_type": "execute_result"
    }
   ],
   "source": [
    "obj.color = 'pink'\n",
    "obj.get_color()"
   ]
  },
  {
   "cell_type": "markdown",
   "metadata": {
    "slideshow": {
     "slide_type": "slide"
    }
   },
   "source": [
    "__Q:__ But how to know what is already defined and what is not?\n",
    "\n",
    "__A:__ Easy!"
   ]
  },
  {
   "cell_type": "code",
   "execution_count": 16,
   "metadata": {},
   "outputs": [
    {
     "name": "stdout",
     "output_type": "stream",
     "text": [
      "['__class__', '__delattr__', '__dict__', '__dir__', '__doc__', '__eq__', '__format__', '__ge__', '__getattribute__', '__gt__', '__hash__', '__init__', '__init_subclass__', '__le__', '__lt__', '__module__', '__ne__', '__new__', '__reduce__', '__reduce_ex__', '__repr__', '__setattr__', '__sizeof__', '__str__', '__subclasshook__', '__weakref__', 'color', 'get_color', 'method_with_self', 'method_without_self']\n"
     ]
    }
   ],
   "source": [
    "print(dir(obj))"
   ]
  },
  {
   "cell_type": "code",
   "execution_count": 17,
   "metadata": {
    "slideshow": {
     "slide_type": "subslide"
    }
   },
   "outputs": [
    {
     "name": "stdout",
     "output_type": "stream",
     "text": [
      "['__class__', '__delattr__', '__dir__', '__eq__', '__format__', '__ge__', '__getattribute__', '__gt__', '__hash__', '__init__', '__init_subclass__', '__le__', '__lt__', '__ne__', '__new__', '__reduce__', '__reduce_ex__', '__repr__', '__setattr__', '__sizeof__', '__str__', '__subclasshook__', 'get_color', 'method_with_self', 'method_without_self']\n"
     ]
    }
   ],
   "source": [
    "# and now only methods\n",
    "print([name for name in dir(obj) if callable(getattr(obj, name))])"
   ]
  },
  {
   "cell_type": "code",
   "execution_count": 18,
   "metadata": {
    "slideshow": {
     "slide_type": "subslide"
    }
   },
   "outputs": [
    {
     "name": "stdout",
     "output_type": "stream",
     "text": [
      "[]\n",
      "[]\n",
      "['obj']\n",
      "['ClassWithNothing', 'In', 'MyLittleClass', 'MyLittleClass2', 'MyLittleClass3', 'Out', '_', '_15', '__', '___', '__builtin__', '__builtins__', '__doc__', '__loader__', '__name__', '__package__', '__spec__', '_dh', '_i', '_i1', '_i10', '_i11', '_i12', '_i13', '_i14', '_i15', '_i16', '_i17', '_i18', '_i2', '_i3', '_i4', '_i5', '_i6', '_i7', '_i8', '_i9', '_ih', '_ii', '_iii', '_oh', 'exit', 'func', 'func2', 'get_color_function', 'get_ipython', 'nobject', 'obj', 'print_custom_attrs', 'quit']\n"
     ]
    }
   ],
   "source": [
    "class ClassWithNothing:\n",
    "    pass\n",
    "\n",
    "nobject = ClassWithNothing()\n",
    "\n",
    "def print_custom_attrs(obj=None):\n",
    "    if obj is None:\n",
    "        # in local scope!\n",
    "        attrs = dir()\n",
    "    else:\n",
    "        attrs = dir(obj)\n",
    "    print([name for name in attrs if not name.startswith('__')])\n",
    "\n",
    "print_custom_attrs(nobject)\n",
    "print_custom_attrs(ClassWithNothing)\n",
    "print_custom_attrs()\n",
    "print(dir())"
   ]
  },
  {
   "cell_type": "code",
   "execution_count": 19,
   "metadata": {
    "slideshow": {
     "slide_type": "subslide"
    }
   },
   "outputs": [
    {
     "name": "stdout",
     "output_type": "stream",
     "text": [
      "Help on built-in function dir in module builtins:\n",
      "\n",
      "dir(...)\n",
      "    dir([object]) -> list of strings\n",
      "    \n",
      "    If called without an argument, return the names in the current scope.\n",
      "    Else, return an alphabetized list of names comprising (some of) the attributes\n",
      "    of the given object, and of attributes reachable from it.\n",
      "    If the object supplies a method named __dir__, it will be used; otherwise\n",
      "    the default dir() logic is used and returns:\n",
      "      for a module object: the module's attributes.\n",
      "      for a class object:  its attributes, and recursively the attributes\n",
      "        of its bases.\n",
      "      for any other object: its attributes, its class's attributes, and\n",
      "        recursively the attributes of its class's base classes.\n",
      "\n"
     ]
    }
   ],
   "source": [
    "help(dir)\n"
   ]
  },
  {
   "cell_type": "code",
   "execution_count": 42,
   "metadata": {
    "slideshow": {
     "slide_type": "subslide"
    }
   },
   "outputs": [
    {
     "name": "stdout",
     "output_type": "stream",
     "text": [
      "['my_attribute', 'my_instance_attribute']\n",
      "['my_attribute']\n"
     ]
    }
   ],
   "source": [
    "ClassWithNothing.my_attribute = 'my value'\n",
    "nobject.my_instance_attribute = \"my value 2\"\n",
    "\n",
    "print_custom_attrs(nobject)\n",
    "print_custom_attrs(ClassWithNothing)\n"
   ]
  },
  {
   "cell_type": "markdown",
   "metadata": {
    "slideshow": {
     "slide_type": "slide"
    }
   },
   "source": [
    "## Inheritance"
   ]
  },
  {
   "cell_type": "code",
   "execution_count": 20,
   "metadata": {},
   "outputs": [],
   "source": [
    "class Animal:\n",
    "    some_value = \"animal\"\n",
    "    def __init__(self):\n",
    "        print(\"i am an animal\")\n",
    "    \n",
    "    def speak(self):\n",
    "        raise NotImplementedError('i don\\'t know how to speak')\n",
    "\n",
    "        \n",
    "class Cat(Animal):\n",
    "    some_value = \"cat\"\n",
    "    def __init__(self):\n",
    "        super().__init__()\n",
    "        print(\"i am a cat\")\n",
    "    \n",
    "    def speak(self):\n",
    "        print('meoooow')\n",
    "\n",
    "        \n",
    "class Hedgehog(Animal):\n",
    "    def __init__(self):\n",
    "        super().__init__()\n",
    "        print(\"i am a hedgehog\")\n",
    "\n",
    "        \n",
    "class Dog(Animal):\n",
    "    some_value = \"dog\"\n",
    "    def __init__(self):\n",
    "        super().__init__()\n",
    "        print(\"i am a dog\")\n",
    "\n",
    "        \n",
    "class CatDog(Cat, Dog):  # rhomb-shaped inheritance is possible, but don't do this, please!\n",
    "    def __init__(self):\n",
    "        super().__init__()\n",
    "        print(\"i am a CatDog!\")"
   ]
  },
  {
   "cell_type": "code",
   "execution_count": 21,
   "metadata": {
    "slideshow": {
     "slide_type": "subslide"
    }
   },
   "outputs": [
    {
     "name": "stdout",
     "output_type": "stream",
     "text": [
      "i am an animal\n"
     ]
    },
    {
     "data": {
      "text/plain": [
       "'animal'"
      ]
     },
     "execution_count": 21,
     "metadata": {},
     "output_type": "execute_result"
    }
   ],
   "source": [
    "animal = Animal()\n",
    "animal.some_value"
   ]
  },
  {
   "cell_type": "code",
   "execution_count": 22,
   "metadata": {},
   "outputs": [
    {
     "name": "stdout",
     "output_type": "stream",
     "text": [
      "i am an animal\n",
      "i am a cat\n"
     ]
    },
    {
     "data": {
      "text/plain": [
       "'cat'"
      ]
     },
     "execution_count": 22,
     "metadata": {},
     "output_type": "execute_result"
    }
   ],
   "source": [
    "cat = Cat()\n",
    "cat.some_value # redefined"
   ]
  },
  {
   "cell_type": "code",
   "execution_count": 23,
   "metadata": {
    "slideshow": {
     "slide_type": "subslide"
    }
   },
   "outputs": [
    {
     "name": "stdout",
     "output_type": "stream",
     "text": [
      "i am an animal\n",
      "i am a hedgehog\n"
     ]
    },
    {
     "data": {
      "text/plain": [
       "'animal'"
      ]
     },
     "execution_count": 23,
     "metadata": {},
     "output_type": "execute_result"
    }
   ],
   "source": [
    "hedgehog = Hedgehog()\n",
    "hedgehog.some_value # not redefined"
   ]
  },
  {
   "cell_type": "code",
   "execution_count": 24,
   "metadata": {},
   "outputs": [
    {
     "name": "stdout",
     "output_type": "stream",
     "text": [
      "i am an animal\n",
      "i am a dog\n"
     ]
    },
    {
     "data": {
      "text/plain": [
       "'dog'"
      ]
     },
     "execution_count": 24,
     "metadata": {},
     "output_type": "execute_result"
    }
   ],
   "source": [
    "dog = Dog()\n",
    "dog.some_value # redefined"
   ]
  },
  {
   "cell_type": "code",
   "execution_count": 25,
   "metadata": {
    "slideshow": {
     "slide_type": "subslide"
    }
   },
   "outputs": [
    {
     "name": "stdout",
     "output_type": "stream",
     "text": [
      "i am an animal\n",
      "i am a dog\n",
      "i am a cat\n",
      "i am a CatDog!\n"
     ]
    },
    {
     "data": {
      "text/plain": [
       "'cat'"
      ]
     },
     "execution_count": 25,
     "metadata": {},
     "output_type": "execute_result"
    }
   ],
   "source": [
    "catdog = CatDog()\n",
    "catdog.some_value"
   ]
  },
  {
   "cell_type": "markdown",
   "metadata": {
    "slideshow": {
     "slide_type": "slide"
    }
   },
   "source": [
    "__Q:__ And how is the order determined?\n",
    "    \n",
    "__A:__ The order of listing parents is important!"
   ]
  },
  {
   "cell_type": "code",
   "execution_count": 26,
   "metadata": {},
   "outputs": [
    {
     "name": "stdout",
     "output_type": "stream",
     "text": [
      "i am an animal\n",
      "i am a cat\n",
      "i am a dog\n",
      "i am a CatDog!\n"
     ]
    },
    {
     "data": {
      "text/plain": [
       "'dog'"
      ]
     },
     "execution_count": 26,
     "metadata": {},
     "output_type": "execute_result"
    }
   ],
   "source": [
    "class CatDog(Dog, Cat):  # now Dog is first\n",
    "    def __init__(self):\n",
    "        super().__init__()\n",
    "        print(\"i am a CatDog!\")\n",
    "\n",
    "catdog = CatDog()\n",
    "catdog.some_value"
   ]
  },
  {
   "cell_type": "markdown",
   "metadata": {
    "slideshow": {
     "slide_type": "slide"
    }
   },
   "source": [
    "__Q:__ And what about the methods?\n",
    "    \n",
    "__A:__ All the same, as with the attributes!"
   ]
  },
  {
   "cell_type": "code",
   "execution_count": 27,
   "metadata": {},
   "outputs": [
    {
     "name": "stdout",
     "output_type": "stream",
     "text": [
      "meoooow\n"
     ]
    },
    {
     "ename": "NotImplementedError",
     "evalue": "i don't know how to speak",
     "output_type": "error",
     "traceback": [
      "\u001b[0;31m---------------------------------------------------------------------------\u001b[0m",
      "\u001b[0;31mNotImplementedError\u001b[0m                       Traceback (most recent call last)",
      "Input \u001b[0;32mIn [27]\u001b[0m, in \u001b[0;36m<cell line: 2>\u001b[0;34m()\u001b[0m\n\u001b[1;32m      1\u001b[0m cat\u001b[38;5;241m.\u001b[39mspeak() \u001b[38;5;66;03m# redefined\u001b[39;00m\n\u001b[0;32m----> 2\u001b[0m \u001b[43mdog\u001b[49m\u001b[38;5;241;43m.\u001b[39;49m\u001b[43mspeak\u001b[49m\u001b[43m(\u001b[49m\u001b[43m)\u001b[49m\n",
      "Input \u001b[0;32mIn [20]\u001b[0m, in \u001b[0;36mAnimal.speak\u001b[0;34m(self)\u001b[0m\n\u001b[1;32m      6\u001b[0m \u001b[38;5;28;01mdef\u001b[39;00m \u001b[38;5;21mspeak\u001b[39m(\u001b[38;5;28mself\u001b[39m):\n\u001b[0;32m----> 7\u001b[0m     \u001b[38;5;28;01mraise\u001b[39;00m \u001b[38;5;167;01mNotImplementedError\u001b[39;00m(\u001b[38;5;124m'\u001b[39m\u001b[38;5;124mi don\u001b[39m\u001b[38;5;130;01m\\'\u001b[39;00m\u001b[38;5;124mt know how to speak\u001b[39m\u001b[38;5;124m'\u001b[39m)\n",
      "\u001b[0;31mNotImplementedError\u001b[0m: i don't know how to speak"
     ]
    }
   ],
   "source": [
    "cat.speak() # redefined\n",
    "dog.speak() # not redefined"
   ]
  },
  {
   "cell_type": "markdown",
   "metadata": {
    "slideshow": {
     "slide_type": "slide"
    }
   },
   "source": [
    "## Privacy?"
   ]
  },
  {
   "cell_type": "code",
   "execution_count": 28,
   "metadata": {},
   "outputs": [],
   "source": [
    "class VeryPrivateDataHolder:\n",
    "    _secret = 1\n",
    "    __another_secret__ = 2\n",
    "    __very_secret = 3"
   ]
  },
  {
   "cell_type": "code",
   "execution_count": 29,
   "metadata": {},
   "outputs": [
    {
     "name": "stdout",
     "output_type": "stream",
     "text": [
      "1\n",
      "2\n"
     ]
    },
    {
     "ename": "AttributeError",
     "evalue": "'VeryPrivateDataHolder' object has no attribute '__very_secret__'",
     "output_type": "error",
     "traceback": [
      "\u001b[0;31m---------------------------------------------------------------------------\u001b[0m",
      "\u001b[0;31mAttributeError\u001b[0m                            Traceback (most recent call last)",
      "Input \u001b[0;32mIn [29]\u001b[0m, in \u001b[0;36m<cell line: 4>\u001b[0;34m()\u001b[0m\n\u001b[1;32m      2\u001b[0m \u001b[38;5;28mprint\u001b[39m(obj\u001b[38;5;241m.\u001b[39m_secret)\n\u001b[1;32m      3\u001b[0m \u001b[38;5;28mprint\u001b[39m(obj\u001b[38;5;241m.\u001b[39m__another_secret__)\n\u001b[0;32m----> 4\u001b[0m \u001b[38;5;28mprint\u001b[39m(\u001b[43mobj\u001b[49m\u001b[38;5;241;43m.\u001b[39;49m\u001b[43m__very_secret__\u001b[49m)\n",
      "\u001b[0;31mAttributeError\u001b[0m: 'VeryPrivateDataHolder' object has no attribute '__very_secret__'"
     ]
    }
   ],
   "source": [
    "obj = VeryPrivateDataHolder()\n",
    "print(obj._secret)\n",
    "print(obj.__another_secret__)\n",
    "print(obj.__very_secret__)"
   ]
  },
  {
   "cell_type": "markdown",
   "metadata": {
    "slideshow": {
     "slide_type": "subslide"
    }
   },
   "source": [
    "__Q:__ That is, Python nevertheless has privacy?\n",
    "\n",
    "__A:__ Well..."
   ]
  },
  {
   "cell_type": "code",
   "execution_count": 30,
   "metadata": {},
   "outputs": [
    {
     "data": {
      "text/plain": [
       "3"
      ]
     },
     "execution_count": 30,
     "metadata": {},
     "output_type": "execute_result"
    }
   ],
   "source": [
    "obj._VeryPrivateDataHolder__very_secret  # and never do that, especially with other people's classes"
   ]
  },
  {
   "cell_type": "code",
   "execution_count": 31,
   "metadata": {},
   "outputs": [
    {
     "data": {
      "text/plain": [
       "'new secret'"
      ]
     },
     "execution_count": 31,
     "metadata": {},
     "output_type": "execute_result"
    }
   ],
   "source": [
    "obj._VeryPrivateDataHolder__very_secret = 'new secret'\n",
    "obj._VeryPrivateDataHolder__very_secret"
   ]
  },
  {
   "cell_type": "markdown",
   "metadata": {
    "slideshow": {
     "slide_type": "slide"
    }
   },
   "source": [
    "# Generators and iterators: new perspective"
   ]
  },
  {
   "cell_type": "markdown",
   "metadata": {},
   "source": [
    "theory:\n",
    "\n",
    "1. Iterator is an object with implemented `__iter__` and `__next__` methods.\n",
    "\n",
    "2. Generator is a result of calling a function that... well, generating. For example with `yield`. It simplifies creating of iterators.\n",
    "\n",
    "3. Each generator is an iterator (implicitly implements an iterator interface). The converse, of course, is not true."
   ]
  },
  {
   "cell_type": "markdown",
   "metadata": {},
   "source": [
    "In practice, fortunately, everything looks a little clearer. Below is a typical iterator, view from under the hood:"
   ]
  },
  {
   "cell_type": "code",
   "execution_count": 32,
   "metadata": {
    "slideshow": {
     "slide_type": "subslide"
    }
   },
   "outputs": [],
   "source": [
    "class my_range_iterator:\n",
    "    def __init__(self, n_max):\n",
    "        self.i = 0\n",
    "        self.n_max = n_max\n",
    "\n",
    "    def __iter__(self):\n",
    "        return self\n",
    "\n",
    "    def __next__(self):\n",
    "        if self.i < self.n_max:\n",
    "            i = self.i\n",
    "            self.i += 1\n",
    "            return i\n",
    "        else:\n",
    "            # special exception, which means \"items are out!\"\n",
    "            # however, it may be never thrown\n",
    "            raise StopIteration()"
   ]
  },
  {
   "cell_type": "code",
   "execution_count": 33,
   "metadata": {
    "slideshow": {
     "slide_type": "subslide"
    }
   },
   "outputs": [
    {
     "name": "stdout",
     "output_type": "stream",
     "text": [
      "0\n",
      "1\n",
      "2\n"
     ]
    },
    {
     "ename": "StopIteration",
     "evalue": "",
     "output_type": "error",
     "traceback": [
      "\u001b[0;31m---------------------------------------------------------------------------\u001b[0m",
      "\u001b[0;31mStopIteration\u001b[0m                             Traceback (most recent call last)",
      "Input \u001b[0;32mIn [33]\u001b[0m, in \u001b[0;36m<cell line: 5>\u001b[0;34m()\u001b[0m\n\u001b[1;32m      3\u001b[0m \u001b[38;5;28mprint\u001b[39m(iterator_obj\u001b[38;5;241m.\u001b[39m\u001b[38;5;21m__next__\u001b[39m())\n\u001b[1;32m      4\u001b[0m \u001b[38;5;28mprint\u001b[39m(iterator_obj\u001b[38;5;241m.\u001b[39m\u001b[38;5;21m__next__\u001b[39m())\n\u001b[0;32m----> 5\u001b[0m \u001b[38;5;28mprint\u001b[39m(\u001b[43miterator_obj\u001b[49m\u001b[38;5;241;43m.\u001b[39;49m\u001b[38;5;21;43m__next__\u001b[39;49m\u001b[43m(\u001b[49m\u001b[43m)\u001b[49m)\n",
      "Input \u001b[0;32mIn [32]\u001b[0m, in \u001b[0;36mmy_range_iterator.__next__\u001b[0;34m(self)\u001b[0m\n\u001b[1;32m     13\u001b[0m     \u001b[38;5;28;01mreturn\u001b[39;00m i\n\u001b[1;32m     14\u001b[0m \u001b[38;5;28;01melse\u001b[39;00m:\n\u001b[1;32m     15\u001b[0m     \u001b[38;5;66;03m# special exception, which means \"items are out!\"\u001b[39;00m\n\u001b[1;32m     16\u001b[0m     \u001b[38;5;66;03m# however, it may be never thrown\u001b[39;00m\n\u001b[0;32m---> 17\u001b[0m     \u001b[38;5;28;01mraise\u001b[39;00m \u001b[38;5;167;01mStopIteration\u001b[39;00m()\n",
      "\u001b[0;31mStopIteration\u001b[0m: "
     ]
    }
   ],
   "source": [
    "iterator_obj = my_range_iterator(3)\n",
    "print(iterator_obj.__next__())\n",
    "print(iterator_obj.__next__())\n",
    "print(iterator_obj.__next__())\n",
    "print(iterator_obj.__next__())"
   ]
  },
  {
   "cell_type": "markdown",
   "metadata": {
    "slideshow": {
     "slide_type": "subslide"
    }
   },
   "source": [
    "__Q:__ And what, in order to use it, it is necessary to handle exceptions?\n",
    "\n",
    "__A:__ Of course not! This is non-pythonic way."
   ]
  },
  {
   "cell_type": "code",
   "execution_count": 34,
   "metadata": {},
   "outputs": [
    {
     "name": "stdout",
     "output_type": "stream",
     "text": [
      "<class '__main__.my_range_iterator'>\n",
      "0\n",
      "1\n",
      "2\n"
     ]
    }
   ],
   "source": [
    "iterator_obj = my_range_iterator(3)\n",
    "print(type(iterator_obj))\n",
    "for x in iterator_obj:\n",
    "    print(x)"
   ]
  },
  {
   "cell_type": "code",
   "execution_count": 35,
   "metadata": {},
   "outputs": [],
   "source": [
    "for x in iterator_obj:\n",
    "    print(x)"
   ]
  },
  {
   "cell_type": "markdown",
   "metadata": {
    "slideshow": {
     "slide_type": "subslide"
    }
   },
   "source": [
    "__Q:__ Can't be reused?!\n",
    "\n",
    "__A:__ The iterator object, as can be understood from the code, stores its state. He has already given us everything that he should have"
   ]
  },
  {
   "cell_type": "code",
   "execution_count": 36,
   "metadata": {},
   "outputs": [],
   "source": [
    "def my_range_generator(n_max):\n",
    "    i = 0\n",
    "    while i < n_max:\n",
    "        yield i\n",
    "        i += 1"
   ]
  },
  {
   "cell_type": "code",
   "execution_count": 37,
   "metadata": {},
   "outputs": [
    {
     "name": "stdout",
     "output_type": "stream",
     "text": [
      "<class 'generator'>\n",
      "<method-wrapper '__iter__' of generator object at 0x7f5c8dc807b0>\n",
      "<generator object my_range_generator at 0x7f5c8dc807b0>\n",
      "<method-wrapper '__next__' of generator object at 0x7f5c8dc807b0>\n"
     ]
    }
   ],
   "source": [
    "generator_obj = my_range_generator(3)\n",
    "print(type(generator_obj))\n",
    "# we did not define the magic functions of the iterator, but ...\n",
    "print(generator_obj.__iter__)\n",
    "print(generator_obj.__iter__())\n",
    "print(generator_obj.__next__)"
   ]
  },
  {
   "cell_type": "code",
   "execution_count": 38,
   "metadata": {
    "slideshow": {
     "slide_type": "subslide"
    }
   },
   "outputs": [
    {
     "name": "stdout",
     "output_type": "stream",
     "text": [
      "0\n",
      "1\n",
      "2\n"
     ]
    }
   ],
   "source": [
    "for x in generator_obj:\n",
    "    print(x)"
   ]
  },
  {
   "cell_type": "code",
   "execution_count": 39,
   "metadata": {},
   "outputs": [],
   "source": [
    "for x in generator_obj:\n",
    "    print(x)"
   ]
  },
  {
   "cell_type": "markdown",
   "metadata": {
    "slideshow": {
     "slide_type": "subslide"
    }
   },
   "source": [
    "__Q:__ And what is the difference in practical use?\n",
    "\n",
    "__A:__ As a rule, almost nothing."
   ]
  },
  {
   "cell_type": "code",
   "execution_count": 40,
   "metadata": {},
   "outputs": [
    {
     "name": "stdout",
     "output_type": "stream",
     "text": [
      "10\n",
      "10\n"
     ]
    }
   ],
   "source": [
    "print(sum(my_range_generator(5)))\n",
    "print(sum(my_range_iterator(5)))"
   ]
  },
  {
   "cell_type": "markdown",
   "metadata": {
    "slideshow": {
     "slide_type": "slide"
    }
   },
   "source": [
    "## Syntactic sugar"
   ]
  },
  {
   "cell_type": "code",
   "execution_count": 41,
   "metadata": {},
   "outputs": [],
   "source": [
    "class MyClass:\n",
    "    \n",
    "    clsval = 0\n",
    "    \n",
    "    def __init__(self,val):\n",
    "        self.objval = val\n",
    "\n",
    "    def Set(self,val):\n",
    "        type(self).clsval = val  # class'es attribute\n",
    "        self.objval = val        # object's attribute\n",
    "    \n",
    "    @staticmethod #we can call it like obj.Set(val) or MyClass.Set(val)!\n",
    "    def statSet(val):\n",
    "        MyClass.clsval = val\n",
    "        \n",
    "    @classmethod # first argument is the class\n",
    "    def clsSet(cls,val):\n",
    "        cls.clsval = val\n",
    "\n"
   ]
  },
  {
   "cell_type": "code",
   "execution_count": 42,
   "metadata": {
    "slideshow": {
     "slide_type": "subslide"
    }
   },
   "outputs": [
    {
     "name": "stdout",
     "output_type": "stream",
     "text": [
      "clsval 0 objval 5\n",
      "clsval 9 objval 9\n",
      "clsval 4 objval 9\n",
      "clsval 3 objval 9\n",
      "clsval 7 objval 9\n"
     ]
    }
   ],
   "source": [
    "obj = MyClass(5)\n",
    "print('clsval',obj.clsval,'objval',obj.objval)\n",
    "\n",
    "obj.Set(9)\n",
    "print('clsval',obj.clsval,'objval',obj.objval)\n",
    "\n",
    "obj.statSet(4)\n",
    "print('clsval',obj.clsval,'objval',obj.objval)\n",
    "\n",
    "MyClass.statSet(3)\n",
    "print('clsval',obj.clsval,'objval',obj.objval)\n",
    "\n",
    "MyClass.clsSet(7)\n",
    "print('clsval',obj.clsval,'objval',obj.objval)"
   ]
  },
  {
   "cell_type": "markdown",
   "metadata": {
    "slideshow": {
     "slide_type": "slide"
    }
   },
   "source": [
    "## Callable-objects"
   ]
  },
  {
   "cell_type": "code",
   "execution_count": 43,
   "metadata": {},
   "outputs": [
    {
     "data": {
      "text/plain": [
       "24"
      ]
     },
     "execution_count": 43,
     "metadata": {},
     "output_type": "execute_result"
    }
   ],
   "source": [
    "class Adder:\n",
    "    def __init__(self, x):\n",
    "        self.x = x\n",
    "    def __call__(self, y):\n",
    "        return self.x + y\n",
    "    \n",
    "adder = Adder(10)\n",
    "\n",
    "adder(14)"
   ]
  },
  {
   "cell_type": "markdown",
   "metadata": {
    "slideshow": {
     "slide_type": "slide"
    }
   },
   "source": [
    "## Imports\n"
   ]
  },
  {
   "cell_type": "code",
   "execution_count": 44,
   "metadata": {},
   "outputs": [
    {
     "name": "stdout",
     "output_type": "stream",
     "text": [
      "3.141592653589793\n"
     ]
    }
   ],
   "source": [
    "import math\n",
    "\n",
    "print(math.pi)"
   ]
  },
  {
   "cell_type": "code",
   "execution_count": 45,
   "metadata": {},
   "outputs": [
    {
     "name": "stdout",
     "output_type": "stream",
     "text": [
      "3.141592653589793\n"
     ]
    }
   ],
   "source": [
    "import math as m\n",
    "\n",
    "print(m.pi)"
   ]
  },
  {
   "cell_type": "code",
   "execution_count": 46,
   "metadata": {
    "slideshow": {
     "slide_type": "subslide"
    }
   },
   "outputs": [
    {
     "name": "stdout",
     "output_type": "stream",
     "text": [
      "3.141592653589793\n"
     ]
    }
   ],
   "source": [
    "from math import pi\n",
    "\n",
    "print(pi)"
   ]
  },
  {
   "cell_type": "code",
   "execution_count": 47,
   "metadata": {},
   "outputs": [
    {
     "name": "stdout",
     "output_type": "stream",
     "text": [
      "3.141592653589793\n"
     ]
    }
   ],
   "source": [
    "from math import * # import everything into the global scope - DO NOT DO THAT!\n",
    "\n",
    "print(pi)"
   ]
  },
  {
   "cell_type": "code",
   "execution_count": null,
   "metadata": {},
   "outputs": [],
   "source": []
  }
 ],
 "metadata": {
  "celltoolbar": "Slideshow",
  "kernelspec": {
   "display_name": "Python 3 (ipykernel)",
   "language": "python",
   "name": "python3"
  },
  "language_info": {
   "codemirror_mode": {
    "name": "ipython",
    "version": 3
   },
   "file_extension": ".py",
   "mimetype": "text/x-python",
   "name": "python",
   "nbconvert_exporter": "python",
   "pygments_lexer": "ipython3",
   "version": "3.8.10"
  }
 },
 "nbformat": 4,
 "nbformat_minor": 2
}
