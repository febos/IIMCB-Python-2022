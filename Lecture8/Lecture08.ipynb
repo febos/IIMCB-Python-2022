{
 "cells": [
  {
   "cell_type": "markdown",
   "metadata": {
    "slideshow": {
     "slide_type": "slide"
    }
   },
   "source": [
    "# Special class methods"
   ]
  },
  {
   "cell_type": "code",
   "execution_count": 14,
   "metadata": {},
   "outputs": [],
   "source": [
    "import random\n",
    "\n",
    "class Vector:        \n",
    "    def __init__(self, x=0, y=0, color=None):\n",
    "        print(\"initializing a vector\")\n",
    "        if type(x) != int or type(y) != int:\n",
    "            raise AttributeError('x and y should be int')\n",
    "        \n",
    "        self._x = x\n",
    "        self._y = y\n",
    "        self._color = color\n",
    "    \n",
    "    def get_x(self):\n",
    "        return self._x\n",
    "    \n",
    "    def get_y(self):\n",
    "        return self._y"
   ]
  },
  {
   "cell_type": "markdown",
   "metadata": {
    "slideshow": {
     "slide_type": "subslide"
    }
   },
   "source": [
    "Methods with double underscore (dunder) at the beginning and the end of their names have special meaning.\n",
    "\n",
    "We are already familiar with `__next__` and `__iter__`, it's time to learn about the rest."
   ]
  },
  {
   "cell_type": "code",
   "execution_count": 15,
   "metadata": {},
   "outputs": [
    {
     "name": "stdout",
     "output_type": "stream",
     "text": [
      "initializing a vector\n"
     ]
    },
    {
     "data": {
      "text/plain": [
       "'<__main__.Vector object at 0x7f5864782eb0>'"
      ]
     },
     "execution_count": 15,
     "metadata": {},
     "output_type": "execute_result"
    }
   ],
   "source": [
    "vector = Vector(1, 2, 'red')\n",
    "str(vector)"
   ]
  },
  {
   "cell_type": "code",
   "execution_count": 16,
   "metadata": {
    "slideshow": {
     "slide_type": "subslide"
    }
   },
   "outputs": [],
   "source": [
    "class VectorWithStr(Vector):\n",
    "    def __str__(self):\n",
    "        return 'vector ({}, {}) of color {}'.format(self._x, self._y, self._color)"
   ]
  },
  {
   "cell_type": "code",
   "execution_count": 17,
   "metadata": {},
   "outputs": [
    {
     "name": "stdout",
     "output_type": "stream",
     "text": [
      "initializing a vector\n"
     ]
    },
    {
     "data": {
      "text/plain": [
       "'vector (1, 2) of color red'"
      ]
     },
     "execution_count": 17,
     "metadata": {},
     "output_type": "execute_result"
    }
   ],
   "source": [
    "vector = VectorWithStr(1, 2, 'red')\n",
    "str(vector)"
   ]
  },
  {
   "cell_type": "markdown",
   "metadata": {
    "slideshow": {
     "slide_type": "subslide"
    }
   },
   "source": [
    "__Q:__ Casting to string and that's all?\n",
    "\n",
    "__A:__ Of course not. Implicit conversions sometimes occur where we do not expect them"
   ]
  },
  {
   "cell_type": "code",
   "execution_count": 18,
   "metadata": {},
   "outputs": [
    {
     "name": "stdout",
     "output_type": "stream",
     "text": [
      "vector (1, 2) of color red\n"
     ]
    }
   ],
   "source": [
    "print(vector)"
   ]
  },
  {
   "cell_type": "code",
   "execution_count": 19,
   "metadata": {},
   "outputs": [
    {
     "name": "stdout",
     "output_type": "stream",
     "text": [
      "OBJECT: vector (1, 2) of color red\n"
     ]
    }
   ],
   "source": [
    "print(\"OBJECT: {}\".format(vector))"
   ]
  },
  {
   "cell_type": "code",
   "execution_count": 20,
   "metadata": {},
   "outputs": [
    {
     "name": "stdout",
     "output_type": "stream",
     "text": [
      "[<__main__.VectorWithStr object at 0x7f5874107fa0>]\n"
     ]
    }
   ],
   "source": [
    "mylist = [vector]\n",
    "print(mylist)"
   ]
  },
  {
   "cell_type": "markdown",
   "metadata": {
    "slideshow": {
     "slide_type": "subslide"
    }
   },
   "source": [
    "__Q:__ And where are the ugly lines again from?!\n",
    "\n",
    "__A:__ Python uses two methods of casting to a string. These are the functions `str` and` repr`, which differ in their purpose.\n",
    "\n",
    "`str` is used where human readability is needed, and` repr` is implemented so that it is possible to unambiguously determine which object we are talking about. If `repr` is not implemented, the standard option is used, and if` str` is not implemented, then `repr` is used instead.\n",
    "\n",
    "Let's try!"
   ]
  },
  {
   "cell_type": "code",
   "execution_count": 21,
   "metadata": {},
   "outputs": [],
   "source": [
    "class VectorWithRepr(Vector):\n",
    "    def __repr__(self):\n",
    "        return 'vector representation (x: {}, y: {}, color: {})'.format(self._x, self._y, self._color)"
   ]
  },
  {
   "cell_type": "code",
   "execution_count": 22,
   "metadata": {
    "slideshow": {
     "slide_type": "subslide"
    }
   },
   "outputs": [
    {
     "name": "stdout",
     "output_type": "stream",
     "text": [
      "initializing a vector\n",
      "vector representation (x: 1, y: 2, color: red)\n",
      "[vector representation (x: 1, y: 2, color: red)]\n"
     ]
    },
    {
     "ename": "KeyError",
     "evalue": "vector representation (x: 1, y: 2, color: red)",
     "output_type": "error",
     "traceback": [
      "\u001b[0;31m---------------------------------------------------------------------------\u001b[0m",
      "\u001b[0;31mKeyError\u001b[0m                                  Traceback (most recent call last)",
      "Input \u001b[0;32mIn [22]\u001b[0m, in \u001b[0;36m<cell line: 7>\u001b[0;34m()\u001b[0m\n\u001b[1;32m      5\u001b[0m \u001b[38;5;28mprint\u001b[39m(mylist)\n\u001b[1;32m      6\u001b[0m mydict \u001b[38;5;241m=\u001b[39m {}\n\u001b[0;32m----> 7\u001b[0m \u001b[43mmydict\u001b[49m\u001b[43m[\u001b[49m\u001b[43mvector\u001b[49m\u001b[43m]\u001b[49m\n",
      "\u001b[0;31mKeyError\u001b[0m: vector representation (x: 1, y: 2, color: red)"
     ]
    }
   ],
   "source": [
    "vector = VectorWithRepr(1, 2, 'red')\n",
    "\n",
    "print(vector)\n",
    "mylist = [vector]\n",
    "print(mylist)\n",
    "mydict = {}\n",
    "mydict[vector]"
   ]
  },
  {
   "cell_type": "code",
   "execution_count": 23,
   "metadata": {
    "slideshow": {
     "slide_type": "subslide"
    }
   },
   "outputs": [],
   "source": [
    "class VectorWithBothReprAndStr(VectorWithRepr, VectorWithStr):\n",
    "    pass"
   ]
  },
  {
   "cell_type": "code",
   "execution_count": 24,
   "metadata": {},
   "outputs": [
    {
     "name": "stdout",
     "output_type": "stream",
     "text": [
      "initializing a vector\n",
      "vector (1, 2) of color red\n",
      "[vector representation (x: 1, y: 2, color: red)]\n"
     ]
    }
   ],
   "source": [
    "vector = VectorWithBothReprAndStr(1, 2, 'red')\n",
    "# now we should get different outputs\n",
    "print(vector)\n",
    "print([vector])"
   ]
  },
  {
   "cell_type": "markdown",
   "metadata": {
    "slideshow": {
     "slide_type": "slide"
    }
   },
   "source": [
    "## Arithmetic"
   ]
  },
  {
   "cell_type": "code",
   "execution_count": 25,
   "metadata": {},
   "outputs": [],
   "source": [
    "import math\n",
    "import random\n",
    "\n",
    "class VectorWithMath(VectorWithBothReprAndStr):    \n",
    "    def __abs__(self):\n",
    "        return math.hypot(self._x, self._y)\n",
    "    \n",
    "    def __add__(self, other):\n",
    "        return VectorWithMath(self.get_x() + other.get_x(),\n",
    "                     self.get_y() + other.get_y(),\n",
    "                     random.choice((str(self._color), str(other._color))))\n",
    "    \n",
    "    def __sub__(self, other):\n",
    "        return VectorWithMath(self.get_x() - other.get_x(),\n",
    "                     self.get_y() - other.get_y(),\n",
    "                     random.choice((str(self._color), str(other._color))))\n",
    "    \n",
    "    # there also div, mul and many other methods"
   ]
  },
  {
   "cell_type": "code",
   "execution_count": 26,
   "metadata": {
    "slideshow": {
     "slide_type": "subslide"
    }
   },
   "outputs": [
    {
     "name": "stdout",
     "output_type": "stream",
     "text": [
      "initializing a vector\n",
      "initializing a vector\n"
     ]
    }
   ],
   "source": [
    "vector1 = VectorWithMath(3, 4, 'blue')\n",
    "vector2 = VectorWithMath(1, 2, 'red')"
   ]
  },
  {
   "cell_type": "code",
   "execution_count": 27,
   "metadata": {},
   "outputs": [
    {
     "name": "stdout",
     "output_type": "stream",
     "text": [
      "5.0\n",
      "initializing a vector\n",
      "vector (4, 6) of color blue\n"
     ]
    }
   ],
   "source": [
    "print(abs(vector1))\n",
    "print(vector1 + vector2)"
   ]
  },
  {
   "cell_type": "markdown",
   "metadata": {
    "slideshow": {
     "slide_type": "slide"
    }
   },
   "source": [
    "## Type conversions"
   ]
  },
  {
   "cell_type": "code",
   "execution_count": 28,
   "metadata": {},
   "outputs": [],
   "source": [
    "import math\n",
    "\n",
    "class VectorWithTypes(VectorWithMath):\n",
    "    def __bool__(self):\n",
    "        return bool(self._x) or bool(self._y)\n",
    "    \n",
    "    def __int__(self):\n",
    "        return int(float(self))\n",
    "    \n",
    "    def __float__(self):\n",
    "        return abs(self)"
   ]
  },
  {
   "cell_type": "code",
   "execution_count": 29,
   "metadata": {
    "slideshow": {
     "slide_type": "subslide"
    }
   },
   "outputs": [
    {
     "name": "stdout",
     "output_type": "stream",
     "text": [
      "initializing a vector\n",
      "vector (3, 4) of color blue\n",
      "5\n",
      "5.0\n",
      "vector ~ True\n"
     ]
    }
   ],
   "source": [
    "vector = VectorWithTypes(3, 4, 'blue')\n",
    "print(vector)\n",
    "print(int(vector))\n",
    "print(float(vector))\n",
    "if vector:\n",
    "    print(\"vector ~ True\")"
   ]
  },
  {
   "cell_type": "code",
   "execution_count": 30,
   "metadata": {
    "slideshow": {
     "slide_type": "subslide"
    }
   },
   "outputs": [
    {
     "name": "stdout",
     "output_type": "stream",
     "text": [
      "initializing a vector\n",
      "vector (0, 0) of color None\n",
      "vector ~ False\n"
     ]
    }
   ],
   "source": [
    "vector = VectorWithTypes()\n",
    "print(vector)\n",
    "if not vector:\n",
    "    print(\"vector ~ False\")"
   ]
  },
  {
   "cell_type": "markdown",
   "metadata": {
    "slideshow": {
     "slide_type": "slide"
    }
   },
   "source": [
    "## Iterating"
   ]
  },
  {
   "cell_type": "markdown",
   "metadata": {},
   "source": [
    "We already know one way to make the object \"iterable\", the `__iter__` and `__next__` methods. But it is not the only way."
   ]
  },
  {
   "cell_type": "code",
   "execution_count": 31,
   "metadata": {},
   "outputs": [],
   "source": [
    "class VectorIterable(VectorWithTypes):\n",
    "    def __getitem__(self, position):\n",
    "        return (self._x, self._y)[position]\n",
    "    \n",
    "    def __len__(self):\n",
    "        return 2\n",
    "    \n",
    "    def __reversed__(self):\n",
    "        return (self._x, self._y)[::-1]"
   ]
  },
  {
   "cell_type": "code",
   "execution_count": 32,
   "metadata": {
    "slideshow": {
     "slide_type": "subslide"
    }
   },
   "outputs": [
    {
     "name": "stdout",
     "output_type": "stream",
     "text": [
      "initializing a vector\n",
      "100\n"
     ]
    },
    {
     "ename": "IndexError",
     "evalue": "tuple index out of range",
     "output_type": "error",
     "traceback": [
      "\u001b[0;31m---------------------------------------------------------------------------\u001b[0m",
      "\u001b[0;31mIndexError\u001b[0m                                Traceback (most recent call last)",
      "Input \u001b[0;32mIn [32]\u001b[0m, in \u001b[0;36m<cell line: 3>\u001b[0;34m()\u001b[0m\n\u001b[1;32m      1\u001b[0m vector \u001b[38;5;241m=\u001b[39m VectorIterable(\u001b[38;5;241m100\u001b[39m, \u001b[38;5;241m500\u001b[39m)\n\u001b[1;32m      2\u001b[0m \u001b[38;5;28mprint\u001b[39m(vector[\u001b[38;5;241m0\u001b[39m])\n\u001b[0;32m----> 3\u001b[0m \u001b[38;5;28mprint\u001b[39m(\u001b[43mvector\u001b[49m\u001b[43m[\u001b[49m\u001b[38;5;241;43m3\u001b[39;49m\u001b[43m]\u001b[49m)\n",
      "Input \u001b[0;32mIn [31]\u001b[0m, in \u001b[0;36mVectorIterable.__getitem__\u001b[0;34m(self, position)\u001b[0m\n\u001b[1;32m      2\u001b[0m \u001b[38;5;28;01mdef\u001b[39;00m \u001b[38;5;21m__getitem__\u001b[39m(\u001b[38;5;28mself\u001b[39m, position):\n\u001b[0;32m----> 3\u001b[0m     \u001b[38;5;28;01mreturn\u001b[39;00m \u001b[43m(\u001b[49m\u001b[38;5;28;43mself\u001b[39;49m\u001b[38;5;241;43m.\u001b[39;49m\u001b[43m_x\u001b[49m\u001b[43m,\u001b[49m\u001b[43m \u001b[49m\u001b[38;5;28;43mself\u001b[39;49m\u001b[38;5;241;43m.\u001b[39;49m\u001b[43m_y\u001b[49m\u001b[43m)\u001b[49m\u001b[43m[\u001b[49m\u001b[43mposition\u001b[49m\u001b[43m]\u001b[49m\n",
      "\u001b[0;31mIndexError\u001b[0m: tuple index out of range"
     ]
    }
   ],
   "source": [
    "vector = VectorIterable(100, 500)\n",
    "print(vector[0])\n",
    "print(vector[3])"
   ]
  },
  {
   "cell_type": "code",
   "execution_count": 33,
   "metadata": {
    "slideshow": {
     "slide_type": "subslide"
    }
   },
   "outputs": [
    {
     "name": "stdout",
     "output_type": "stream",
     "text": [
      "100\n",
      "500\n"
     ]
    }
   ],
   "source": [
    "for coordinate in vector:\n",
    "    print(coordinate)"
   ]
  },
  {
   "cell_type": "code",
   "execution_count": 34,
   "metadata": {},
   "outputs": [
    {
     "name": "stdout",
     "output_type": "stream",
     "text": [
      "500\n",
      "100\n"
     ]
    }
   ],
   "source": [
    "for coordinate in reversed(vector):\n",
    "    print(coordinate)"
   ]
  },
  {
   "cell_type": "code",
   "execution_count": 57,
   "metadata": {
    "slideshow": {
     "slide_type": "subslide"
    }
   },
   "outputs": [],
   "source": [
    "class VectorIterable(VectorWithTypes):\n",
    "    \n",
    "    def __getitem__(self, position):\n",
    "        return (self._y, self._x)[position]\n",
    "    \n",
    "    def __iter__(self):\n",
    "        \n",
    "        #return iter((self._x, self._y))\n",
    "        return self\n",
    "    \n",
    "    def __next__(self):\n",
    "        \n",
    "        if not hasattr(self,'count'):\n",
    "            self.count = 0\n",
    "        \n",
    "        self.count += 1\n",
    "        \n",
    "        if self.count < 3:\n",
    "            return (self._x, self._y)[self.count-1]\n",
    "        else:\n",
    "            raise StopIteration\n",
    "    \n",
    "    def __len__(self):\n",
    "        return 2\n",
    "    \n",
    "    def __reversed__(self):\n",
    "        return (self._x, self._y)[::-1]"
   ]
  },
  {
   "cell_type": "code",
   "execution_count": 58,
   "metadata": {
    "slideshow": {
     "slide_type": "subslide"
    }
   },
   "outputs": [
    {
     "name": "stdout",
     "output_type": "stream",
     "text": [
      "initializing a vector\n",
      "3\n",
      "5\n"
     ]
    }
   ],
   "source": [
    "vect = VectorIterable(3, 5)\n",
    "\n",
    "for c in vect:\n",
    "    print(c)"
   ]
  },
  {
   "cell_type": "markdown",
   "metadata": {
    "slideshow": {
     "slide_type": "slide"
    }
   },
   "source": [
    "## Dynamic work with attributes"
   ]
  },
  {
   "cell_type": "markdown",
   "metadata": {
    "collapsed": true
   },
   "source": [
    "It seems that in python there is no protection against \"hacking\". But is it possible to do it yourself?"
   ]
  },
  {
   "cell_type": "code",
   "execution_count": 37,
   "metadata": {},
   "outputs": [],
   "source": [
    "class VectorWithAllAttributes(VectorIterable):\n",
    "    def __getattr__(self, attr_name):\n",
    "        return \"value of {}\".format(attr_name)\n",
    "    \n",
    "    def __setattr__(self, attr_name, attr_value):\n",
    "        if attr_name not in ('_x', '_y', '_color'):\n",
    "            raise Exception('you shall not add new attributes here, young padawan!')\n",
    "        else:\n",
    "            super().__setattr__(attr_name, attr_value)\n",
    "            \n",
    "    def __delattr__(self, attr_name):\n",
    "        print('Heh, you can delete nothing')"
   ]
  },
  {
   "cell_type": "code",
   "execution_count": 38,
   "metadata": {
    "slideshow": {
     "slide_type": "subslide"
    }
   },
   "outputs": [
    {
     "name": "stdout",
     "output_type": "stream",
     "text": [
      "initializing a vector\n",
      "['__abs__', '__add__', '__bool__', '__class__', '__delattr__', '__dict__', '__dir__', '__doc__', '__eq__', '__float__', '__format__', '__ge__', '__getattr__', '__getattribute__', '__getitem__', '__gt__', '__hash__', '__init__', '__init_subclass__', '__int__', '__iter__', '__le__', '__len__', '__lt__', '__module__', '__ne__', '__new__', '__next__', '__reduce__', '__reduce_ex__', '__repr__', '__reversed__', '__setattr__', '__sizeof__', '__str__', '__sub__', '__subclasshook__', '__weakref__', '_color', '_x', '_y', 'get_x', 'get_y']\n"
     ]
    }
   ],
   "source": [
    "vector = VectorWithAllAttributes(1, 2, 'violet')\n",
    "print(dir(vector))"
   ]
  },
  {
   "cell_type": "code",
   "execution_count": 39,
   "metadata": {},
   "outputs": [
    {
     "name": "stdout",
     "output_type": "stream",
     "text": [
      "value of some_attribute\n",
      "violet\n",
      "1\n"
     ]
    }
   ],
   "source": [
    "print(vector.some_attribute)\n",
    "print(vector._color)\n",
    "print(vector.get_x())"
   ]
  },
  {
   "cell_type": "code",
   "execution_count": 40,
   "metadata": {
    "slideshow": {
     "slide_type": "subslide"
    }
   },
   "outputs": [
    {
     "ename": "Exception",
     "evalue": "you shall not add new attributes here, young padawan!",
     "output_type": "error",
     "traceback": [
      "\u001b[0;31m---------------------------------------------------------------------------\u001b[0m",
      "\u001b[0;31mException\u001b[0m                                 Traceback (most recent call last)",
      "Input \u001b[0;32mIn [40]\u001b[0m, in \u001b[0;36m<cell line: 1>\u001b[0;34m()\u001b[0m\n\u001b[0;32m----> 1\u001b[0m vector\u001b[38;5;241m.\u001b[39mnew_attribute \u001b[38;5;241m=\u001b[39m \u001b[38;5;124m\"\u001b[39m\u001b[38;5;124mvalue\u001b[39m\u001b[38;5;124m\"\u001b[39m\n",
      "Input \u001b[0;32mIn [37]\u001b[0m, in \u001b[0;36mVectorWithAllAttributes.__setattr__\u001b[0;34m(self, attr_name, attr_value)\u001b[0m\n\u001b[1;32m      5\u001b[0m \u001b[38;5;28;01mdef\u001b[39;00m \u001b[38;5;21m__setattr__\u001b[39m(\u001b[38;5;28mself\u001b[39m, attr_name, attr_value):\n\u001b[1;32m      6\u001b[0m     \u001b[38;5;28;01mif\u001b[39;00m attr_name \u001b[38;5;129;01mnot\u001b[39;00m \u001b[38;5;129;01min\u001b[39;00m (\u001b[38;5;124m'\u001b[39m\u001b[38;5;124m_x\u001b[39m\u001b[38;5;124m'\u001b[39m, \u001b[38;5;124m'\u001b[39m\u001b[38;5;124m_y\u001b[39m\u001b[38;5;124m'\u001b[39m, \u001b[38;5;124m'\u001b[39m\u001b[38;5;124m_color\u001b[39m\u001b[38;5;124m'\u001b[39m):\n\u001b[0;32m----> 7\u001b[0m         \u001b[38;5;28;01mraise\u001b[39;00m \u001b[38;5;167;01mException\u001b[39;00m(\u001b[38;5;124m'\u001b[39m\u001b[38;5;124myou shall not add new attributes here, young padawan!\u001b[39m\u001b[38;5;124m'\u001b[39m)\n\u001b[1;32m      8\u001b[0m     \u001b[38;5;28;01melse\u001b[39;00m:\n\u001b[1;32m      9\u001b[0m         \u001b[38;5;28msuper\u001b[39m()\u001b[38;5;241m.\u001b[39m\u001b[38;5;21m__setattr__\u001b[39m(attr_name, attr_value)\n",
      "\u001b[0;31mException\u001b[0m: you shall not add new attributes here, young padawan!"
     ]
    }
   ],
   "source": [
    "vector.new_attribute = \"value\""
   ]
  },
  {
   "cell_type": "code",
   "execution_count": 41,
   "metadata": {
    "slideshow": {
     "slide_type": "subslide"
    }
   },
   "outputs": [
    {
     "name": "stdout",
     "output_type": "stream",
     "text": [
      "Heh, you can delete nothing\n",
      "Heh, you can delete nothing\n",
      "violet\n"
     ]
    }
   ],
   "source": [
    "del vector._color\n",
    "delattr(vector, '_color')\n",
    "print(vector._color)"
   ]
  },
  {
   "cell_type": "markdown",
   "metadata": {
    "slideshow": {
     "slide_type": "slide"
    }
   },
   "source": [
    "### ```__getattr__ vs. __getattribute__```"
   ]
  },
  {
   "cell_type": "code",
   "execution_count": 43,
   "metadata": {},
   "outputs": [],
   "source": [
    "class GetAttr:\n",
    "    attr1 = 1\n",
    "    def __init__(self):\n",
    "        self.attr2 = 2\n",
    "    def __getattr__(self, attr):   # for non-existing attrs only\n",
    "        print('get: ' + attr)      # Not for attr1: it's inherited from the class\n",
    "        return 3                   # Not for attr2: it exists for the object\n",
    "    \n",
    "\n",
    "class GetAttribute:\n",
    "    attr1 = 1\n",
    "    def __init__(self):\n",
    "        self.attr2 = 2\n",
    "    def __getattribute__(self, attr):  # Is called by all assigning operations\n",
    "        print('get: ' + attr)          # Use superclass in order to not get stuck in an infinite cycle\n",
    "        if attr == 'attr3':\n",
    "            return 3\n",
    "        else:\n",
    "            return super().__getattribute__(attr)"
   ]
  },
  {
   "cell_type": "code",
   "execution_count": 2,
   "metadata": {
    "slideshow": {
     "slide_type": "subslide"
    }
   },
   "outputs": [
    {
     "name": "stdout",
     "output_type": "stream",
     "text": [
      "1\n",
      "2\n",
      "get: attr3\n",
      "3\n",
      "----------------------------------------\n",
      "get: attr1\n",
      "1\n",
      "get: attr2\n",
      "2\n",
      "get: attr3\n",
      "3\n"
     ]
    }
   ],
   "source": [
    "X = GetAttr()\n",
    "print(X.attr1)\n",
    "print(X.attr2)\n",
    "print(X.attr3)\n",
    "print('-' * 40)        \n",
    "X = GetAttribute()\n",
    "print(X.attr1)\n",
    "print(X.attr2)\n",
    "print(X.attr3)"
   ]
  },
  {
   "cell_type": "markdown",
   "metadata": {
    "slideshow": {
     "slide_type": "slide"
    }
   },
   "source": [
    "## Contexts"
   ]
  },
  {
   "cell_type": "code",
   "execution_count": 48,
   "metadata": {},
   "outputs": [],
   "source": [
    "class VectorWithContextManager(VectorWithAllAttributes):\n",
    "    def __enter__(self):\n",
    "        print('entering context')\n",
    "    def __exit__(self, *args):\n",
    "        print(args)\n",
    "        print(dir(args[2]),args[2].tb_lineno)\n",
    "        print('leaving context')\n",
    "        #return False # -- throwing error \n",
    "        return True  # -- not throwing error"
   ]
  },
  {
   "cell_type": "code",
   "execution_count": 49,
   "metadata": {
    "slideshow": {
     "slide_type": "subslide"
    }
   },
   "outputs": [
    {
     "name": "stdout",
     "output_type": "stream",
     "text": [
      "initializing a vector\n",
      "entering context\n",
      "0\n",
      "1\n",
      "2\n",
      "(<class 'Exception'>, Exception('something happened inside!'), <traceback object at 0x7f58646a4dc0>)\n",
      "['tb_frame', 'tb_lasti', 'tb_lineno', 'tb_next'] 5\n",
      "leaving context\n",
      "we are out of the context\n"
     ]
    }
   ],
   "source": [
    "try:\n",
    "    with VectorWithContextManager() as vec:\n",
    "        for i in range(3):\n",
    "            print(i)\n",
    "        raise Exception('something happened inside!')\n",
    "except Exception:\n",
    "    print('an exception was raised...')\n",
    "    pass\n",
    "print('we are out of the context')"
   ]
  },
  {
   "cell_type": "markdown",
   "metadata": {
    "slideshow": {
     "slide_type": "subslide"
    }
   },
   "source": [
    "But we can do better!"
   ]
  },
  {
   "cell_type": "code",
   "execution_count": 50,
   "metadata": {},
   "outputs": [
    {
     "name": "stdout",
     "output_type": "stream",
     "text": [
      "statement before context\n",
      "handling entering the context\n",
      "initializing a vector\n",
      "<__main__.Vector object at 0x7f5876b78ac0>\n",
      "<__main__.Vector object at 0x7f5876b78ac0>\n",
      "<__main__.Vector object at 0x7f5876b78ac0>\n",
      "handling leaving the context\n",
      "statement after context\n"
     ]
    }
   ],
   "source": [
    "from contextlib import contextmanager\n",
    "\n",
    "@contextmanager\n",
    "def vector_mgr():\n",
    "    print('handling entering the context')\n",
    "    yield Vector()\n",
    "    print('handling leaving the context')\n",
    "          \n",
    "print('statement before context')\n",
    "with vector_mgr() as vector:\n",
    "    for i in range(3):\n",
    "        print(vector)\n",
    "print('statement after context')"
   ]
  },
  {
   "cell_type": "code",
   "execution_count": 51,
   "metadata": {
    "slideshow": {
     "slide_type": "subslide"
    }
   },
   "outputs": [
    {
     "name": "stdout",
     "output_type": "stream",
     "text": [
      "statement before context\n",
      "handling entering the context\n",
      "initializing a vector\n",
      "<__main__.Vector object at 0x7f5864722100>\n",
      "handling leaving the context\n",
      "statement after context\n"
     ]
    }
   ],
   "source": [
    "# And now with error handling:\n",
    "\n",
    "@contextmanager\n",
    "def vector_mgr():\n",
    "    try:\n",
    "        print('handling entering the context')\n",
    "        yield Vector()\n",
    "    except ZeroDivisionError as e:\n",
    "        pass\n",
    "    finally:\n",
    "        print('handling leaving the context')\n",
    "          \n",
    "print('statement before context')\n",
    "with vector_mgr() as vector:\n",
    "    for i in range(3):\n",
    "        print(vector)\n",
    "        infin = 1 / 0\n",
    "print('statement after context')"
   ]
  },
  {
   "cell_type": "markdown",
   "metadata": {
    "slideshow": {
     "slide_type": "slide"
    }
   },
   "source": [
    "## Creating and deleting objects"
   ]
  },
  {
   "cell_type": "code",
   "execution_count": 52,
   "metadata": {},
   "outputs": [],
   "source": [
    "class VectorInitialized(VectorWithContextManager):\n",
    "    def __new__(cls, *args, **kwargs):\n",
    "        print('invoking __new__ method')\n",
    "        print(cls, args, kwargs)\n",
    "        print(object)\n",
    "        return object.__new__(cls)\n",
    "    \n",
    "    def __del__(self):\n",
    "        print('deleting an object')\n",
    "        raise Exception(\"exception while destructing\")"
   ]
  },
  {
   "cell_type": "code",
   "execution_count": 53,
   "metadata": {
    "slideshow": {
     "slide_type": "subslide"
    }
   },
   "outputs": [
    {
     "name": "stdout",
     "output_type": "stream",
     "text": [
      "invoking __new__ method\n",
      "<class '__main__.VectorInitialized'> (1, 2) {'color': 'navy blue'}\n",
      "<class 'object'>\n",
      "initializing a vector\n",
      "vector (1, 2) of color navy blue\n"
     ]
    }
   ],
   "source": [
    "vector = VectorInitialized(1, 2, color='navy blue')\n",
    "print(vector)"
   ]
  },
  {
   "cell_type": "code",
   "execution_count": 54,
   "metadata": {},
   "outputs": [
    {
     "name": "stderr",
     "output_type": "stream",
     "text": [
      "Exception ignored in: <function VectorInitialized.__del__ at 0x7f58647b3e50>\n",
      "Traceback (most recent call last):\n",
      "  File \"/tmp/ipykernel_3491627/211848912.py\", line 10, in __del__\n",
      "Exception: exception while destructing\n"
     ]
    },
    {
     "name": "stdout",
     "output_type": "stream",
     "text": [
      "deleting an object\n"
     ]
    }
   ],
   "source": [
    "del vector"
   ]
  },
  {
   "cell_type": "markdown",
   "metadata": {
    "slideshow": {
     "slide_type": "slide"
    }
   },
   "source": [
    "### Task! \n",
    "\n",
    "How to use the `__new__` method in order to create a singleton class? i.e. the class allowing to create the only object and returning the same object when you try to create another one."
   ]
  },
  {
   "cell_type": "code",
   "execution_count": 21,
   "metadata": {},
   "outputs": [
    {
     "ename": "AssertionError",
     "evalue": "",
     "output_type": "error",
     "traceback": [
      "\u001b[0;31m---------------------------------------------------------------------------\u001b[0m",
      "\u001b[0;31mAssertionError\u001b[0m                            Traceback (most recent call last)",
      "\u001b[0;32m<ipython-input-21-1bfd78bb4d2c>\u001b[0m in \u001b[0;36m<module>\u001b[0;34m\u001b[0m\n\u001b[1;32m     10\u001b[0m \u001b[0mobj1\u001b[0m \u001b[0;34m=\u001b[0m \u001b[0mSingletonClass\u001b[0m\u001b[0;34m(\u001b[0m\u001b[0;34m)\u001b[0m\u001b[0;34m\u001b[0m\u001b[0m\n\u001b[1;32m     11\u001b[0m \u001b[0mobj2\u001b[0m \u001b[0;34m=\u001b[0m \u001b[0mSingletonClass\u001b[0m\u001b[0;34m(\u001b[0m\u001b[0;34m)\u001b[0m\u001b[0;34m\u001b[0m\u001b[0m\n\u001b[0;32m---> 12\u001b[0;31m \u001b[0;32massert\u001b[0m \u001b[0mid\u001b[0m\u001b[0;34m(\u001b[0m\u001b[0mobj1\u001b[0m\u001b[0;34m)\u001b[0m \u001b[0;34m==\u001b[0m \u001b[0mid\u001b[0m\u001b[0;34m(\u001b[0m\u001b[0mobj2\u001b[0m\u001b[0;34m)\u001b[0m\u001b[0;34m\u001b[0m\u001b[0m\n\u001b[0m",
      "\u001b[0;31mAssertionError\u001b[0m: "
     ]
    }
   ],
   "source": [
    "class SingletonClass:\n",
    "    \n",
    "    #...your code here...\n",
    "    \n",
    "    def __new__(cls, *args, **kwargs):\n",
    "        \n",
    "        #...your code here...\n",
    "        return object.__new__(cls)\n",
    "\n",
    "obj1 = SingletonClass()\n",
    "obj2 = SingletonClass()\n",
    "assert id(obj1) == id(obj2)"
   ]
  },
  {
   "cell_type": "code",
   "execution_count": null,
   "metadata": {
    "slideshow": {
     "slide_type": "skip"
    }
   },
   "outputs": [],
   "source": []
  },
  {
   "cell_type": "code",
   "execution_count": null,
   "metadata": {
    "slideshow": {
     "slide_type": "skip"
    }
   },
   "outputs": [],
   "source": []
  },
  {
   "cell_type": "code",
   "execution_count": null,
   "metadata": {
    "slideshow": {
     "slide_type": "skip"
    }
   },
   "outputs": [],
   "source": []
  },
  {
   "cell_type": "code",
   "execution_count": null,
   "metadata": {
    "slideshow": {
     "slide_type": "skip"
    }
   },
   "outputs": [],
   "source": []
  },
  {
   "cell_type": "code",
   "execution_count": null,
   "metadata": {
    "slideshow": {
     "slide_type": "skip"
    }
   },
   "outputs": [],
   "source": []
  },
  {
   "cell_type": "markdown",
   "metadata": {
    "slideshow": {
     "slide_type": "slide"
    }
   },
   "source": [
    "### Function annotations - https://www.python.org/dev/peps/pep-3107/"
   ]
  },
  {
   "cell_type": "code",
   "execution_count": 35,
   "metadata": {},
   "outputs": [
    {
     "name": "stdout",
     "output_type": "stream",
     "text": [
      "Help on function Sum in module __main__:\n",
      "\n",
      "Sum(x: 10, y: 'слагаемое 2', z: int = 0) -> 9\n",
      "    returns x + y + z\n",
      "\n"
     ]
    },
    {
     "data": {
      "text/plain": [
       "'for reading only'"
      ]
     },
     "execution_count": 35,
     "metadata": {},
     "output_type": "execute_result"
    }
   ],
   "source": [
    "def Sum(x: 10, y: 'слагаемое 2', z: int = 0) -> max(2, 9):\n",
    "    \"returns x + y + z\"\n",
    "    return x + y + z\n",
    "help(Sum)\n",
    "\n",
    "Sum('for ','reading ','only')"
   ]
  },
  {
   "cell_type": "markdown",
   "metadata": {
    "slideshow": {
     "slide_type": "slide"
    }
   },
   "source": [
    "## Once again on modules - https://docs.python.org/3/tutorial/modules.html"
   ]
  },
  {
   "cell_type": "code",
   "execution_count": null,
   "metadata": {},
   "outputs": [],
   "source": []
  }
 ],
 "metadata": {
  "celltoolbar": "Slideshow",
  "kernelspec": {
   "display_name": "Python 3 (ipykernel)",
   "language": "python",
   "name": "python3"
  },
  "language_info": {
   "codemirror_mode": {
    "name": "ipython",
    "version": 3
   },
   "file_extension": ".py",
   "mimetype": "text/x-python",
   "name": "python",
   "nbconvert_exporter": "python",
   "pygments_lexer": "ipython3",
   "version": "3.8.10"
  }
 },
 "nbformat": 4,
 "nbformat_minor": 1
}
