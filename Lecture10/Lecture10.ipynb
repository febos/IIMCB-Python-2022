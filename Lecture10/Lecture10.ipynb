{
 "cells": [
  {
   "cell_type": "markdown",
   "metadata": {},
   "source": [
    "# Web & Scraping\n",
    "\n",
    "Requires: urllib, requests, socket, re, lxml, io, bs4, sqlite3, scrapy, pandas, sqlalchemy.\n",
    "\n",
    "Plan:\n",
    "\n",
    "* HTML 101\n",
    "* HTTP + REST 101\n",
    "* Web scraping"
   ]
  },
  {
   "cell_type": "code",
   "execution_count": 2,
   "metadata": {},
   "outputs": [],
   "source": [
    "#make sure they are all installed\n",
    "import urllib, requests, socket, re, lxml, io, bs4, sqlite3, scrapy, pandas, sqlalchemy \n"
   ]
  },
  {
   "cell_type": "markdown",
   "metadata": {},
   "source": [
    "# Internet 101\n",
    "\n",
    "What happens when you type in a path in the address bar and press Enter?\n",
    "\n",
    "URL:  \n",
    "```<scheme>:[//[<login>[:<passwd>]@]<host>[:<port>]][/<URL‐path>][?<parameters>][#<fragment>]```\n",
    "\n",
    "Example:  \n",
    "`https://pp.userapi.com/c834101/v834101778/13450d/9yxFBjsPxN8.jpg`"
   ]
  },
  {
   "cell_type": "markdown",
   "metadata": {},
   "source": [
    "You are a **client**\n",
    "\n",
    "1. **DNS**: URL -> IP-address and port of the **server** (87.240.129.71:443)\n",
    "2. **HTTP(S)**: IP + URL-path + parameters -> **resource** (text (e.g. *HTML-document*), picture, sound, etc.)\n",
    "3. **Browser engine** tries to parse and **draw** your document\n",
    "4. *Usually* the document contains links to other documents. They have their own URI. We go back to p.1\n",
    "5. Concurrently and after that the **JavaScript**-code is being executed"
   ]
  },
  {
   "cell_type": "markdown",
   "metadata": {},
   "source": [
    "# HTML 101\n",
    "\n",
    "HyperText Markup Language\n",
    "\n",
    "HTML is a markup language used for web-pages.\n",
    "\n",
    "This is a mechanism for obtaining structural text that browsers can understand.\n",
    "\n",
    "The structure in the text is set by nested tags, tags determine how the text will be displayed (rendered).\n",
    "\n",
    "This is a tag: `<tag>`, tags can be opening (`<tag>`) and closing ones (`</tag>`).\n",
    "\n",
    "Example of HTML-markup:\n",
    "\n",
    "```html\n",
    "<!DOCTYPE html>\n",
    "<html>\n",
    "   <head>\n",
    "      <meta charset=\"utf-8\" />\n",
    "      <title>HTML Document</title>\n",
    "   </head>\n",
    "   <body>\n",
    "      <p> <!-- p is a paragraph, and in such strange brackets is a comment -->\n",
    "         <b>\n",
    "            This text will be bold, <i>and this one will be also italic</i>.\n",
    "         </b>\n",
    "      </p>\n",
    "   </body>\n",
    "</html>\n",
    "```\n",
    "\n",
    "So it looks after rendering:\n",
    "\n",
    "<!DOCTYPE html>\n",
    "<html>\n",
    "   <head>\n",
    "      <meta charset=\"utf-8\" />\n",
    "      <title>HTML Document</title>\n",
    "   </head>\n",
    "   <body>\n",
    "      <p> <!-- p is a paragraph, and in such strange brackets is a comment -->\n",
    "         <b>\n",
    "            This text will be bold, <i>and this one will be also italic</i>.\n",
    "         </b>\n",
    "      </p>\n",
    "   </body>\n",
    "</html>\n",
    "\n",
    "You can see that the HTML markup has a tree structure:<br>\n",
    "each tag (a node of the tree) has 0 (then it is a leaf of the tree) or more (then it is an inside vertex) of the tags embedded in it.\n",
    "\n",
    "So, to get some information from HTML, you can use its structure.\n",
    "\n",
    "We will deal with this a bit later.\n",
    "\n",
    "### P.S. \n",
    "In fact, the XML format (another markup language) has the same structure.\n",
    "\n",
    "Formally, HTML is a more standardized subset of XML.\n",
    "\n",
    "### P.P.S.\n",
    "\n",
    "Tags also have **attributes**:\n",
    "\n",
    "```html\n",
    "<a href=\"http://example.com\">Hyperlink to example.com</a>\n",
    "```\n",
    "Render this piece:\n",
    "<a href=\"http://example.com\">Hyperlink to  example.com</a>\n",
    "\n",
    "### P.P.P.S.\n",
    "\n",
    "And this text (certainly having a structure) was written using another markup language - **Markdown**."
   ]
  },
  {
   "cell_type": "markdown",
   "metadata": {},
   "source": [
    "## HTTP 101\n",
    "\n",
    "HyperText Transfer Protocol\n",
    "\n",
    "* **Protocol** -- a set of logical agreements on the interaction of programs, a standard;\n",
    "* **Transfer** -- we live on the Internet, i.e. the world is not limited to our computer => information must be transmitted;\n",
    "* **Hypertext** -- HTML, for instance.\n",
    "\n",
    "The main idea: all computers are divided into **servers** (those that store information) and **clients** (those that request it).\n",
    "\n",
    "In fact, in HTTP we transmit not only hypertext, but **resources** - a philosophical generalization, which includes hypertext, pictures, music, etc. But the standard is suitable for all of this.\n",
    "\n",
    "Each resource has its address - **URI** (Uniform Resource Identifier) - an analogue of the path in the computer system.\n",
    "\n",
    "```<scheme>:[//[<login>[:<passwd>]@]<host>[:<port>]][/<URL‐path>][?<parameters>][#<fragment>]```\n",
    "\n",
    "We omit the low-level side of the issue: the TCP/IP stack, sockets, ports, etc.\n",
    "\n",
    "## HTTP structure\n",
    "\n",
    "To receive data, the client makes a request to the server. The request must contain 3 parts:\n",
    "* **Starting line** defines the type of message;\n",
    "* **Headers** characterize the message body, transmission parameters and other information;\n",
    "* **Message body**.\n",
    "\n",
    "The response message from the server has the same structure.\n",
    "\n",
    "To send these requests by hand, rather than through the browser, you can use the `curl` utility. Let's use it."
   ]
  },
  {
   "cell_type": "code",
   "execution_count": 3,
   "metadata": {},
   "outputs": [
    {
     "name": "stdout",
     "output_type": "stream",
     "text": [
      "<!doctype html>\r\n",
      "<html>\r\n",
      "<head>\r\n",
      "    <title>Example Domain</title>\r\n",
      "\r\n",
      "    <meta charset=\"utf-8\" />\r\n",
      "    <meta http-equiv=\"Content-type\" content=\"text/html; charset=utf-8\" />\r\n",
      "    <meta name=\"viewport\" content=\"width=device-width, initial-scale=1\" />\r\n",
      "    <style type=\"text/css\">\r\n",
      "    body {\r\n",
      "        background-color: #f0f0f2;\r\n",
      "        margin: 0;\r\n",
      "        padding: 0;\r\n",
      "        font-family: -apple-system, system-ui, BlinkMacSystemFont, \"Segoe UI\", \"Open Sans\", \"Helvetica Neue\", Helvetica, Arial, sans-serif;\r\n",
      "        \r\n",
      "    }\r\n",
      "    div {\r\n",
      "        width: 600px;\r\n",
      "        margin: 5em auto;\r\n",
      "        padding: 2em;\r\n",
      "        background-color: #fdfdff;\r\n",
      "        border-radius: 0.5em;\r\n",
      "        box-shadow: 2px 3px 7px 2px rgba(0,0,0,0.02);\r\n",
      "    }\r\n",
      "    a:link, a:visited {\r\n",
      "        color: #38488f;\r\n",
      "        text-decoration: none;\r\n",
      "    }\r\n",
      "    @media (max-width: 700px) {\r\n",
      "        div {\r\n",
      "            margin: 0 auto;\r\n",
      "            width: auto;\r\n",
      "        }\r\n",
      "    }\r\n",
      "    </style>    \r\n",
      "</head>\r\n",
      "\r\n",
      "<body>\r\n",
      "<div>\r\n",
      "    <h1>Example Domain</h1>\r\n",
      "    <p>This domain is for use in illustrative examples in documents. You may use this\r\n",
      "    domain in literature without prior coordination or asking for permission.</p>\r\n",
      "    <p><a href=\"https://www.iana.org/domains/example\">More information...</a></p>\r\n",
      "</div>\r\n",
      "</body>\r\n",
      "</html>\r\n"
     ]
    }
   ],
   "source": [
    "!curl example.com/index.html \n",
    "#!curl example.com/index.html -v"
   ]
  },
  {
   "cell_type": "markdown",
   "metadata": {},
   "source": [
    "## HTTP methods\n",
    "\n",
    "The HTTP method defines the operation that we want to perform on the resource.\n",
    "\n",
    "The most frequent methods: GET, POST, PUT, DELETE (but there are others).\n",
    "\n",
    "* **GET** -- request for resource content. <br> GET requests are idempotent. Therefore, they can be cached.\n",
    "* **POST** -- transferring data to a resource (for example, when sending a comment on a forum or entering a password on a site). <br>Not idempotent => when sending the same comment to the forum, it will appear there twice. <br> Not being cached.\n",
    "* **PUT** -- transferring data to a specific URI (modification of an existing resource). Not being cached.\n",
    "* **DELETE** -- resource deletion.\n",
    "\n",
    "## HTTP codes\n",
    "\n",
    "The response message will return an HTTP response code that determines the result of the operation.\n",
    "\n",
    "The most frequent codes: `200 OK`, `400 BadRequest`, `404 Not Found`, `500 Internal Server Error`.\n",
    "\n",
    "Overview:\n",
    "* **1xx** -- Informational. For example, `102 Processing` (the request is still being processed);\n",
    "* **2xx** -- Success. Everything is fine, the request worked out and did not break anything. At least for now.\n",
    "* **3xx** -- Redirection. Redirect to another resource/page.\n",
    "* **4xx** -- Client error. Client error (invalid request data or wrong path).\n",
    "* **5xx** -- Server error. Something failed on the server (there they divided it by zero, for example)."
   ]
  },
  {
   "cell_type": "markdown",
   "metadata": {},
   "source": [
    "## Example\n",
    "\n",
    "Let's look again at the request to example.com/index.html.\n",
    "\n",
    "Service information from `curl`:\n",
    "\n",
    "```\n",
    "*   Trying 2606:2800:220:1:248:1893:25c8:1946...\n",
    "*   Trying 93.184.216.34...\n",
    "* Connected to example.com (2606:2800:220:1:248:1893:25c8:1946) port 80 (#0)\n",
    "```\n",
    "Client request:\n",
    "```\n",
    "> GET /index.html HTTP/1.1    # Starting line: GET method, URI -- /index.html, protocol version -- HTTP/1.1\n",
    "> Host: example.com           # Headers\n",
    "> User-Agent: curl/7.47.0\n",
    "> Accept: */*\n",
    ">                             # Empty body\n",
    "```\n",
    "\n",
    "Server response:\n",
    "```\n",
    "< HTTP/1.1 200 OK                          # Starting line: protocol version and the message code\n",
    "< Cache-Control: max-age=604800            # Headers\n",
    "< Content-Type: text/html; charset=UTF-8\n",
    "< Date: Tue, 19 Mar 2019 21:25:21 GMT\n",
    "< Etag: \"1541025663+gzip+ident\"\n",
    "< Expires: Tue, 26 Mar 2019 21:25:21 GMT\n",
    "< Last-Modified: Fri, 09 Aug 2013 23:54:35 GMT\n",
    "< Server: ECS (bsa/EB1E)\n",
    "< Vary: Accept-Encoding\n",
    "< X-Cache: HIT\n",
    "< Content-Length: 1270\n",
    "<                                          # Empty line - required by the standard\n",
    "<!doctype html>                            # Response body -- HTML-document\n",
    "<html>\n",
    "<head>\n",
    "    <title>Example Domain</title>\n",
    ". . .\n",
    "```\n"
   ]
  },
  {
   "cell_type": "markdown",
   "metadata": {},
   "source": [
    "## REST\n",
    "\n",
    " <a href=\"https://en.wikipedia.org/wiki/Representational_state_transfer\">Representational State Transfer</a>\n",
    "\n",
    "A set of additional restrictions on HTTP, indicating how to work correctly with methods, codes, etc.\n",
    "\n",
    "You can call it an analog of PEP-8 for Python."
   ]
  },
  {
   "cell_type": "markdown",
   "metadata": {},
   "source": [
    "# Web scraping. \n",
    "\n",
    "* Getting html\n",
    "* Html parsing"
   ]
  },
  {
   "cell_type": "markdown",
   "metadata": {},
   "source": [
    "## Getting html\n",
    "\n",
    "Alternative libraries:\n",
    "\n",
    "* urllib \n",
    "* requests (de-facto standard)\n",
    "* socket (low-level)\n",
    "\n"
   ]
  },
  {
   "cell_type": "markdown",
   "metadata": {},
   "source": [
    "### urllib "
   ]
  },
  {
   "cell_type": "code",
   "execution_count": 4,
   "metadata": {},
   "outputs": [],
   "source": [
    "import urllib.request"
   ]
  },
  {
   "cell_type": "code",
   "execution_count": 5,
   "metadata": {
    "scrolled": true
   },
   "outputs": [
    {
     "name": "stdout",
     "output_type": "stream",
     "text": [
      "b'<!doctype html>\\n<html>\\n<head>\\n    <title>Example Domain</title>\\n\\n    <meta charset=\"utf-8\" />\\n    <meta http-equiv=\"Content-type\" content=\"text/html; charset=utf-8\" />\\n    <meta name=\"viewport\" content=\"width=device-width, initial-scale=1\" />\\n    <style type=\"text/css\">\\n    body {\\n        background-color: #f0f0f2;\\n        margin: 0;\\n        padding: 0;\\n        font-family: -apple-system, system-ui, BlinkMacSystemFont, \"Segoe UI\", \"Open Sans\", \"Helvetica Neue\", Helvetica, Arial, sans-serif;\\n        \\n    }\\n    div {\\n        width: 600px;\\n        margin: 5em auto;\\n        padding: 2em;\\n        background-color: #fdfdff;\\n        border-radius: 0.5em;\\n        box-shadow: 2px 3px 7px 2px rgba(0,0,0,0.02);\\n    }\\n    a:link, a:visited {\\n        color: #38488f;\\n        text-decoration: none;\\n    }\\n    @media (max-width: 700px) {\\n        div {\\n            margin: 0 auto;\\n            width: auto;\\n        }\\n    }\\n    </style>    \\n</head>\\n\\n<body>\\n<div>\\n    <h1>Example Domain</h1>\\n    <p>This domain is for use in illustrative examples in documents. You may use this\\n    domain in literature without prior coordination or asking for permission.</p>\\n    <p><a href=\"https://www.iana.org/domains/example\">More information...</a></p>\\n</div>\\n</body>\\n</html>\\n'\n"
     ]
    }
   ],
   "source": [
    "response = urllib.request.urlopen('http://example.com/')\n",
    "html = response.read()\n",
    "print(html)"
   ]
  },
  {
   "cell_type": "code",
   "execution_count": 6,
   "metadata": {},
   "outputs": [
    {
     "name": "stdout",
     "output_type": "stream",
     "text": [
      "<!doctype html>\n",
      "<html>\n",
      "<head>\n",
      "    <title>Example Domain</title>\n",
      "\n",
      "    <meta charset=\"utf-8\" />\n",
      "    <meta http-equiv=\"Content-type\" content=\"text/html; charset=utf-8\" />\n",
      "    <meta name=\"viewport\" content=\"width=device-width, initial-scale=1\" />\n",
      "    <style type=\"text/css\">\n",
      "    body {\n",
      "        background-color: #f0f0f2;\n",
      "        margin: 0;\n",
      "        padding: 0;\n",
      "        font-family: -apple-system, system-ui, BlinkMacSystemFont, \"Segoe UI\", \"Open Sans\", \"Helvetica Neue\", Helvetica, Arial, sans-serif;\n",
      "        \n",
      "    }\n",
      "    div {\n",
      "        width: 600px;\n",
      "        margin: 5em auto;\n",
      "        padding: 2em;\n",
      "        background-color: #fdfdff;\n",
      "        border-radius: 0.5em;\n",
      "        box-shadow: 2px 3px 7px 2px rgba(0,0,0,0.02);\n",
      "    }\n",
      "    a:link, a:visited {\n",
      "        color: #38488f;\n",
      "        text-decoration: none;\n",
      "    }\n",
      "    @media (max-width: 700px) {\n",
      "        div {\n",
      "            margin: 0 auto;\n",
      "            width: auto;\n",
      "        }\n",
      "    }\n",
      "    </style>    \n",
      "</head>\n",
      "\n",
      "<body>\n",
      "<div>\n",
      "    <h1>Example Domain</h1>\n",
      "    <p>This domain is for use in illustrative examples in documents. You may use this\n",
      "    domain in literature without prior coordination or asking for permission.</p>\n",
      "    <p><a href=\"https://www.iana.org/domains/example\">More information...</a></p>\n",
      "</div>\n",
      "</body>\n",
      "</html>\n",
      "\n"
     ]
    }
   ],
   "source": [
    "html = html.decode('utf-8')\n",
    "print(html)"
   ]
  },
  {
   "cell_type": "markdown",
   "metadata": {},
   "source": [
    "Let's save this html just in case."
   ]
  },
  {
   "cell_type": "code",
   "execution_count": 7,
   "metadata": {},
   "outputs": [],
   "source": [
    "with open('example.com.txt', 'w', encoding='utf-8') as f:\n",
    "    f.write(html)"
   ]
  },
  {
   "cell_type": "markdown",
   "metadata": {},
   "source": [
    "What except html?"
   ]
  },
  {
   "cell_type": "code",
   "execution_count": 8,
   "metadata": {},
   "outputs": [
    {
     "name": "stdout",
     "output_type": "stream",
     "text": [
      "['__abstractmethods__', '__class__', '__del__', '__delattr__', '__dict__', '__dir__', '__doc__', '__enter__', '__eq__', '__exit__', '__format__', '__ge__', '__getattribute__', '__gt__', '__hash__', '__init__', '__init_subclass__', '__iter__', '__le__', '__lt__', '__module__', '__ne__', '__new__', '__next__', '__reduce__', '__reduce_ex__', '__repr__', '__setattr__', '__sizeof__', '__str__', '__subclasshook__', '_abc_impl', '_checkClosed', '_checkReadable', '_checkSeekable', '_checkWritable', '_check_close', '_close_conn', '_get_chunk_left', '_method', '_peek_chunked', '_read1_chunked', '_read_and_discard_trailer', '_read_next_chunk_size', '_read_status', '_readall_chunked', '_readinto_chunked', '_safe_read', '_safe_readinto', 'begin', 'chunk_left', 'chunked', 'close', 'closed', 'code', 'debuglevel', 'detach', 'fileno', 'flush', 'fp', 'getcode', 'getheader', 'getheaders', 'geturl', 'headers', 'info', 'isatty', 'isclosed', 'length', 'msg', 'peek', 'read', 'read1', 'readable', 'readinto', 'readinto1', 'readline', 'readlines', 'reason', 'seek', 'seekable', 'status', 'tell', 'truncate', 'url', 'version', 'will_close', 'writable', 'write', 'writelines']\n"
     ]
    }
   ],
   "source": [
    "print(dir(response))"
   ]
  },
  {
   "cell_type": "markdown",
   "metadata": {},
   "source": [
    "Everything that is in the HTTP message."
   ]
  },
  {
   "cell_type": "code",
   "execution_count": 15,
   "metadata": {},
   "outputs": [
    {
     "name": "stdout",
     "output_type": "stream",
     "text": [
      "http://example.com/\n",
      "OK\n",
      "200\n",
      "Headers: \n",
      "Accept-Ranges: bytes\n",
      "Age: 584316\n",
      "Cache-Control: max-age=604800\n",
      "Content-Type: text/html; charset=UTF-8\n",
      "Date: Mon, 19 Dec 2022 11:24:52 GMT\n",
      "Etag: \"3147526947+ident\"\n",
      "Expires: Mon, 26 Dec 2022 11:24:52 GMT\n",
      "Last-Modified: Thu, 17 Oct 2019 07:18:26 GMT\n",
      "Server: ECS (nyb/1D04)\n",
      "Vary: Accept-Encoding\n",
      "X-Cache: HIT\n",
      "Content-Length: 1256\n",
      "Connection: close\n",
      "\n",
      "\n"
     ]
    }
   ],
   "source": [
    "print(response.url)\n",
    "print(response.msg)\n",
    "print(response.code)\n",
    "print('Headers: \\n{}'.format(response.headers))\n",
    "# . . ."
   ]
  },
  {
   "cell_type": "markdown",
   "metadata": {},
   "source": [
    "### requests\n",
    "HTTP for Humans"
   ]
  },
  {
   "cell_type": "code",
   "execution_count": 16,
   "metadata": {},
   "outputs": [],
   "source": [
    "import requests"
   ]
  },
  {
   "cell_type": "code",
   "execution_count": 18,
   "metadata": {},
   "outputs": [
    {
     "data": {
      "text/plain": [
       "<Response [200]>"
      ]
     },
     "execution_count": 18,
     "metadata": {},
     "output_type": "execute_result"
    }
   ],
   "source": [
    "response = requests.get('http://example.com')\n",
    "response"
   ]
  },
  {
   "cell_type": "code",
   "execution_count": 19,
   "metadata": {},
   "outputs": [
    {
     "name": "stdout",
     "output_type": "stream",
     "text": [
      "['__attrs__', '__bool__', '__class__', '__delattr__', '__dict__', '__dir__', '__doc__', '__enter__', '__eq__', '__exit__', '__format__', '__ge__', '__getattribute__', '__getstate__', '__gt__', '__hash__', '__init__', '__init_subclass__', '__iter__', '__le__', '__lt__', '__module__', '__ne__', '__new__', '__nonzero__', '__reduce__', '__reduce_ex__', '__repr__', '__setattr__', '__setstate__', '__sizeof__', '__str__', '__subclasshook__', '__weakref__', '_content', '_content_consumed', '_next', 'apparent_encoding', 'close', 'connection', 'content', 'cookies', 'elapsed', 'encoding', 'headers', 'history', 'is_permanent_redirect', 'is_redirect', 'iter_content', 'iter_lines', 'json', 'links', 'next', 'ok', 'raise_for_status', 'raw', 'reason', 'request', 'status_code', 'text', 'url']\n"
     ]
    }
   ],
   "source": [
    "print(dir(response))"
   ]
  },
  {
   "cell_type": "code",
   "execution_count": 20,
   "metadata": {},
   "outputs": [
    {
     "name": "stdout",
     "output_type": "stream",
     "text": [
      "http://example.com/\n",
      "<requests.adapters.HTTPAdapter object at 0x7f5a6ff6b9a0>\n",
      "{'Content-Encoding': 'gzip', 'Age': '505265', 'Cache-Control': 'max-age=604800', 'Content-Type': 'text/html; charset=UTF-8', 'Date': 'Mon, 19 Dec 2022 11:27:01 GMT', 'Etag': '\"3147526947+gzip\"', 'Expires': 'Mon, 26 Dec 2022 11:27:01 GMT', 'Last-Modified': 'Thu, 17 Oct 2019 07:18:26 GMT', 'Server': 'ECS (nyb/1D0D)', 'Vary': 'Accept-Encoding', 'X-Cache': 'HIT', 'Content-Length': '648'}\n",
      "True\n",
      "200\n",
      "UTF-8\n",
      "{}\n"
     ]
    }
   ],
   "source": [
    "print(response.url)\n",
    "print(response.connection)\n",
    "print(response.headers)\n",
    "print(response.ok)\n",
    "print(response.status_code)\n",
    "print(response.encoding)\n",
    "print(response.links)"
   ]
  },
  {
   "cell_type": "code",
   "execution_count": 21,
   "metadata": {},
   "outputs": [
    {
     "name": "stdout",
     "output_type": "stream",
     "text": [
      "<!doctype html>\n",
      "<html>\n",
      "<head>\n",
      "    <title>Example Domain</title>\n",
      "\n",
      "    <meta charset=\"utf-8\" />\n",
      "    <meta http-equiv=\"Content-type\" content=\"text/html; charset=utf-8\" />\n",
      "    <meta name=\"viewport\" content=\"width=device-width, initial-scale=1\" />\n",
      "    <style type=\"text/css\">\n",
      "    body {\n",
      "        background-color: #f0f0f2;\n",
      "        margin: 0;\n",
      "        padding: 0;\n",
      "        font-family: -apple-system, system-ui, BlinkMacSystemFont, \"Segoe UI\", \"Open Sans\", \"Helvetica Neue\", Helvetica, Arial, sans-serif;\n",
      "        \n",
      "    }\n",
      "    div {\n",
      "        width: 600px;\n",
      "        margin: 5em auto;\n",
      "        padding: 2em;\n",
      "        background-color: #fdfdff;\n",
      "        border-radius: 0.5em;\n",
      "        box-shadow: 2px 3px 7px 2px rgba(0,0,0,0.02);\n",
      "    }\n",
      "    a:link, a:visited {\n",
      "        color: #38488f;\n",
      "        text-decoration: none;\n",
      "    }\n",
      "    @media (max-width: 700px) {\n",
      "        div {\n",
      "            margin: 0 auto;\n",
      "            width: auto;\n",
      "        }\n",
      "    }\n",
      "    </style>    \n",
      "</head>\n",
      "\n",
      "<body>\n",
      "<div>\n",
      "    <h1>Example Domain</h1>\n",
      "    <p>This domain is for use in illustrative examples in documents. You may use this\n",
      "    domain in literature without prior coordination or asking for permission.</p>\n",
      "    <p><a href=\"https://www.iana.org/domains/example\">More information...</a></p>\n",
      "</div>\n",
      "</body>\n",
      "</html>\n",
      "\n"
     ]
    }
   ],
   "source": [
    "print(response.text)"
   ]
  },
  {
   "cell_type": "markdown",
   "metadata": {},
   "source": [
    "### socket (low-level, if assembler is not enough for you)"
   ]
  },
  {
   "cell_type": "code",
   "execution_count": 22,
   "metadata": {},
   "outputs": [],
   "source": [
    "import socket"
   ]
  },
  {
   "cell_type": "code",
   "execution_count": 23,
   "metadata": {},
   "outputs": [
    {
     "name": "stdout",
     "output_type": "stream",
     "text": [
      "HTTP/1.1 200 OK\r\n",
      "Accept-Ranges: bytes\r\n",
      "Age: 212205\r\n",
      "Cache-Control: max-age=604800\r\n",
      "Content-Type: text/html; charset=UTF-8\r\n",
      "Date: Mon, 19 Dec 2022 11:27:15 GMT\r\n",
      "Etag: \"3147526947+gzip\"\r\n",
      "Expires: Mon, 26 Dec 2022 11:27:15 GMT\r\n",
      "Last-Modified: Thu, 17 Oct 2019 07:18:26 GMT\r\n",
      "Server: ECS (nyb/1D1B)\r\n",
      "Vary: Accept-Encoding\r\n",
      "X-Cache: HIT\r\n",
      "Content-Length: 1256\r\n",
      "\r\n",
      "<!doctype html>\n",
      "<html>\n",
      "<head>\n",
      "    <title>Example Domain</title>\n",
      "\n",
      "    <meta charset=\"utf-8\" />\n",
      "    <meta http-equiv=\"Content-type\" content=\"text/html; charset=utf-8\" />\n",
      "    <meta name=\"viewport\" content=\"width=device-width, initial-scale=1\" />\n",
      "    <style type=\"text/css\">\n",
      "    body {\n",
      "        background-color: #f0f0f2;\n",
      "        margin: 0;\n",
      "        padding: 0;\n",
      "        font-family: -apple-system, system-ui, BlinkMacSystemFont, \"Segoe UI\", \"Open Sans\", \"Helvetica Neue\", Helvetica, Arial, sans-serif;\n",
      "        \n",
      "    }\n",
      "    div {\n",
      "        width: 600px;\n",
      "        margin: 5em auto;\n",
      "        padding: 2em;\n",
      "        background-color: #fdfdff;\n",
      "        border-radius: 0.5em;\n",
      "        box-shadow: 2px 3px 7px 2px rgba(0,0,0,0.02);\n",
      "    }\n",
      "    a:link, a:visited {\n",
      "        color: #38488f;\n",
      "        text-decoration: none;\n",
      "    }\n",
      "    @media (max-width: 700px) {\n",
      "        div {\n",
      "            margin: 0 auto;\n",
      "            width: auto;\n",
      "        }\n",
      "    }\n",
      "    </style>    \n",
      "</head>\n",
      "\n",
      "<body>\n",
      "<div>\n",
      "    <h1>Example Domain</h1>\n",
      "    <p>This domain is for use in illustrative examples in documents. You may use this\n",
      "    domain in literature without prior coordination or asking for permission.</p>\n",
      "    <p><a href=\"https://www.iana.org/domains/example\">More information...</a></p>\n",
      "</div>\n",
      "</body>\n",
      "</html>\n",
      "\n"
     ]
    }
   ],
   "source": [
    "sock = socket.socket(socket.AF_INET, socket.SOCK_STREAM)\n",
    "host = socket.gethostbyname('www.example.com')\n",
    "port = 80\n",
    "\n",
    "sock.connect((host,port))\n",
    "sock.sendall(b'GET / HTTP/1.1\\r\\nHost: www.example.com\\r\\n\\r\\n')\n",
    "\n",
    "val = sock.recv(4096)\n",
    "print(val.decode('utf-8'))\n",
    "#help(sock.recv)"
   ]
  },
  {
   "cell_type": "code",
   "execution_count": 24,
   "metadata": {},
   "outputs": [
    {
     "name": "stdout",
     "output_type": "stream",
     "text": [
      "<!doctype html>\n",
      "<html>\n",
      "<head>\n",
      "    <title>Example Domain</title>\n",
      "\n",
      "    <meta charset=\"utf-8\" />\n",
      "    <meta http-equiv=\"Content-type\" content=\"text/html; charset=utf-8\" />\n",
      "    <meta name=\"viewport\" content=\"width=device-width, initial-scale=1\" />\n",
      "    <style type=\"text/css\">\n",
      "    body {\n",
      "        background-color: #f0f0f2;\n",
      "        margin: 0;\n",
      "        padding: 0;\n",
      "        font-family: -apple-system, system-ui, BlinkMacSystemFont, \"Segoe UI\", \"Open Sans\", \"Helvetica Neue\", Helvetica, Arial, sans-serif;\n",
      "        \n",
      "    }\n",
      "    div {\n",
      "        width: 600px;\n",
      "        margin: 5em auto;\n",
      "        padding: 2em;\n",
      "        background-color: #fdfdff;\n",
      "        border-radius: 0.5em;\n",
      "        box-shadow: 2px 3px 7px 2px rgba(0,0,0,0.02);\n",
      "    }\n",
      "    a:link, a:visited {\n",
      "        color: #38488f;\n",
      "        text-decoration: none;\n",
      "    }\n",
      "    @media (max-width: 700px) {\n",
      "        div {\n",
      "            margin: 0 auto;\n",
      "            width: auto;\n",
      "        }\n",
      "    }\n",
      "    </style>    \n",
      "</head>\n",
      "\n",
      "<body>\n",
      "<div>\n",
      "    <h1>Example Domain</h1>\n",
      "    <p>This domain is for use in illustrative examples in documents. You may use this\n",
      "    domain in literature without prior coordination or asking for permission.</p>\n",
      "    <p><a href=\"https://www.iana.org/domains/example\">More information...</a></p>\n",
      "</div>\n",
      "</body>\n",
      "</html>\n",
      "\n"
     ]
    }
   ],
   "source": [
    "# Split off the HTTP headers\n",
    "val = val.split(b'\\r\\n\\r\\n',1)[1]\n",
    "print(val.decode('utf-8'))"
   ]
  },
  {
   "cell_type": "markdown",
   "metadata": {},
   "source": [
    "## HTML Parsing\n",
    "\n",
    "Alternative libraries:\n",
    "* re\n",
    "* lxml\n",
    "* BeautifulSoup"
   ]
  },
  {
   "cell_type": "code",
   "execution_count": 25,
   "metadata": {},
   "outputs": [
    {
     "name": "stdout",
     "output_type": "stream",
     "text": [
      "<!doctype html>\n",
      "<html>\n",
      "<head>\n",
      "    <title>Example Domain</title>\n",
      "\n",
      "    <meta charset=\"utf-8\" />\n",
      "    <meta http-equiv=\"Content-type\" content=\"text/html; charset=utf-8\" />\n",
      "    <meta name=\"viewport\" content=\"width=device-width, initial-scale=1\" />\n",
      "    <style type=\"text/css\">\n",
      "    body {\n",
      "        background-color: #f0f0f2;\n",
      "        margin: 0;\n",
      "        padding: 0;\n",
      "        font-family: -apple-system, system-ui, BlinkMacSystemFont, \"Segoe UI\", \"Open Sans\", \"Helvetica Neue\", Helvetica, Arial, sans-serif;\n",
      "        \n",
      "    }\n",
      "    div {\n",
      "        width: 600px;\n",
      "        margin: 5em auto;\n",
      "        padding: 2em;\n",
      "        background-color: #fdfdff;\n",
      "        border-radius: 0.5em;\n",
      "        box-shadow: 2px 3px 7px 2px rgba(0,0,0,0.02);\n",
      "    }\n",
      "    a:link, a:visited {\n",
      "        color: #38488f;\n",
      "        text-decoration: none;\n",
      "    }\n",
      "    @media (max-width: 700px) {\n",
      "        div {\n",
      "            margin: 0 auto;\n",
      "            width: auto;\n",
      "        }\n",
      "    }\n",
      "    </style>    \n",
      "</head>\n",
      "\n",
      "<body>\n",
      "<div>\n",
      "    <h1>Example Domain</h1>\n",
      "    <p>This domain is for use in illustrative examples in documents. You may use this\n",
      "    domain in literature without prior coordination or asking for permission.</p>\n",
      "    <p><a href=\"https://www.iana.org/domains/example\">More information...</a></p>\n",
      "</div>\n",
      "</body>\n",
      "</html>\n",
      "\n"
     ]
    }
   ],
   "source": [
    "with open('example.com.txt', 'r', encoding='utf-8') as f:\n",
    "    html = f.read()\n",
    "print(html)"
   ]
  },
  {
   "cell_type": "markdown",
   "metadata": {},
   "source": [
    "### re\n",
    "\n",
    "Let's forget that HTML is a tree, and try to parse it like a line."
   ]
  },
  {
   "cell_type": "code",
   "execution_count": 26,
   "metadata": {},
   "outputs": [],
   "source": [
    "import re"
   ]
  },
  {
   "cell_type": "code",
   "execution_count": 27,
   "metadata": {},
   "outputs": [
    {
     "name": "stdout",
     "output_type": "stream",
     "text": [
      "['<h1>Example Domain</h1>']\n",
      "['Example Domain']\n"
     ]
    }
   ],
   "source": [
    "h1 = re.findall(r'<h1>[\\w ]+</h1>', html)\n",
    "print(h1)\n",
    "h1 = re.findall(r'<h1>([\\w ]+)</h1>', html)\n",
    "print(h1)"
   ]
  },
  {
   "cell_type": "code",
   "execution_count": 28,
   "metadata": {},
   "outputs": [
    {
     "data": {
      "text/plain": [
       "['<a href=\"https://www.iana.org/domains/example\">More information...</a>']"
      ]
     },
     "execution_count": 28,
     "metadata": {},
     "output_type": "execute_result"
    }
   ],
   "source": [
    "paragraphs = re.findall(r'<p>(.*)</p>', html)\n",
    "paragraphs"
   ]
  },
  {
   "cell_type": "markdown",
   "metadata": {},
   "source": [
    "Where is the other paragraph?\n"
   ]
  },
  {
   "cell_type": "code",
   "execution_count": 29,
   "metadata": {},
   "outputs": [
    {
     "data": {
      "text/plain": [
       "['This domain is for use in illustrative examples in documents. You may use this\\n    domain in literature without prior coordination or asking for permission.</p>\\n    <p><a href=\"https://www.iana.org/domains/example\">More information...</a>']"
      ]
     },
     "execution_count": 29,
     "metadata": {},
     "output_type": "execute_result"
    }
   ],
   "source": [
    "paragraphs = re.findall(r'<p>([\\w\\W]*)</p>', html) \n",
    "paragraphs"
   ]
  },
  {
   "cell_type": "markdown",
   "metadata": {},
   "source": [
    "again not what we need.."
   ]
  },
  {
   "cell_type": "code",
   "execution_count": 30,
   "metadata": {},
   "outputs": [
    {
     "data": {
      "text/plain": [
       "['This domain is for use in illustrative examples in documents. You may use this\\n    domain in literature without prior coordination or asking for permission.',\n",
       " '<a href=\"https://www.iana.org/domains/example\">More information...</a>']"
      ]
     },
     "execution_count": 30,
     "metadata": {},
     "output_type": "execute_result"
    }
   ],
   "source": [
    "paragraphs = re.findall(r'<p>([\\w\\W]*?)</p>', html) # * - greedy; *? - lazy (non-greedy) \n",
    "paragraphs"
   ]
  },
  {
   "cell_type": "markdown",
   "metadata": {},
   "source": [
    "tough, huh?"
   ]
  },
  {
   "cell_type": "markdown",
   "metadata": {},
   "source": [
    "### lxml\n",
    "\n",
    "Let's use a library that knows about the structure of XML (and HTML)."
   ]
  },
  {
   "cell_type": "code",
   "execution_count": 31,
   "metadata": {},
   "outputs": [],
   "source": [
    "from lxml import etree\n",
    "from io import StringIO, BytesIO"
   ]
  },
  {
   "cell_type": "code",
   "execution_count": 32,
   "metadata": {},
   "outputs": [
    {
     "data": {
      "text/plain": [
       "<lxml.etree._ElementTree at 0x7f5abe406c00>"
      ]
     },
     "execution_count": 32,
     "metadata": {},
     "output_type": "execute_result"
    }
   ],
   "source": [
    "parser = etree.HTMLParser()\n",
    "tree = etree.parse(StringIO(html), parser)\n",
    "tree"
   ]
  },
  {
   "cell_type": "code",
   "execution_count": 33,
   "metadata": {},
   "outputs": [
    {
     "name": "stdout",
     "output_type": "stream",
     "text": [
      "['__class__', '__copy__', '__deepcopy__', '__delattr__', '__dir__', '__doc__', '__eq__', '__format__', '__ge__', '__getattribute__', '__gt__', '__hash__', '__init__', '__init_subclass__', '__le__', '__lt__', '__ne__', '__new__', '__pyx_vtable__', '__reduce__', '__reduce_ex__', '__repr__', '__setattr__', '__sizeof__', '__str__', '__subclasshook__', '_setroot', 'docinfo', 'find', 'findall', 'findtext', 'getelementpath', 'getiterator', 'getpath', 'getroot', 'iter', 'iterfind', 'parse', 'parser', 'relaxng', 'write', 'write_c14n', 'xinclude', 'xmlschema', 'xpath', 'xslt']\n"
     ]
    }
   ],
   "source": [
    "print(dir(tree))"
   ]
  },
  {
   "cell_type": "code",
   "execution_count": 34,
   "metadata": {},
   "outputs": [
    {
     "name": "stdout",
     "output_type": "stream",
     "text": [
      "<Element html at 0x7f5abe330880>\n",
      "b'<html>\\n<head>\\n    <title>Example Domain</title>\\n\\n    <meta charset=\"utf-8\">\\n    <meta http-equiv=\"Content-type\" content=\"text/html; charset=utf-8\">\\n    <meta name=\"viewport\" content=\"width=device-width, initial-scale=1\">\\n    <style type=\"text/css\">\\n    body {\\n        background-color: #f0f0f2;\\n        margin: 0;\\n        padding: 0;\\n        font-family: -apple-system, system-ui, BlinkMacSystemFont, \"Segoe UI\", \"Open Sans\", \"Helvetica Neue\", Helvetica, Arial, sans-serif;\\n        \\n    }\\n    div {\\n        width: 600px;\\n        margin: 5em auto;\\n        padding: 2em;\\n        background-color: #fdfdff;\\n        border-radius: 0.5em;\\n        box-shadow: 2px 3px 7px 2px rgba(0,0,0,0.02);\\n    }\\n    a:link, a:visited {\\n        color: #38488f;\\n        text-decoration: none;\\n    }\\n    @media (max-width: 700px) {\\n        div {\\n            margin: 0 auto;\\n            width: auto;\\n        }\\n    }\\n    </style>    \\n</head>\\n\\n<body>\\n<div>\\n    <h1>Example Domain</h1>\\n    <p>This domain is for use in illustrative examples in documents. You may use this\\n    domain in literature without prior coordination or asking for permission.</p>\\n    <p><a href=\"https://www.iana.org/domains/example\">More information...</a></p>\\n</div>\\n</body>\\n</html>\\n'\n"
     ]
    }
   ],
   "source": [
    "print(tree.getroot())\n",
    "print(etree.tostring(tree.getroot(), pretty_print=True, method=\"html\"))"
   ]
  },
  {
   "cell_type": "code",
   "execution_count": 35,
   "metadata": {},
   "outputs": [
    {
     "name": "stdout",
     "output_type": "stream",
     "text": [
      "This domain is for use in illustrative examples in documents. You may use this\n",
      "    domain in literature without prior coordination or asking for permission.\n",
      "None\n"
     ]
    }
   ],
   "source": [
    "paragraphs = tree.xpath('//p')\n",
    "for p in paragraphs:\n",
    "    print(p.text)  "
   ]
  },
  {
   "cell_type": "code",
   "execution_count": 36,
   "metadata": {},
   "outputs": [
    {
     "name": "stdout",
     "output_type": "stream",
     "text": [
      "b'<p>This domain is for use in illustrative examples in documents. You may use this\\n    domain in literature without prior coordination or asking for permission.</p>\\n    \\n'\n",
      "b'<p><a href=\"https://www.iana.org/domains/example\">More information...</a></p>\\n\\n'\n"
     ]
    }
   ],
   "source": [
    "for p in paragraphs:\n",
    "    print(etree.tostring(p, pretty_print=True, method='html'))  "
   ]
  },
  {
   "cell_type": "code",
   "execution_count": 37,
   "metadata": {},
   "outputs": [
    {
     "name": "stdout",
     "output_type": "stream",
     "text": [
      "More information...\n",
      "{'href': 'https://www.iana.org/domains/example'}\n"
     ]
    }
   ],
   "source": [
    "hrefs = tree.xpath('//a')\n",
    "for href in hrefs:\n",
    "    print(href.text)  \n",
    "    print(href.attrib)  "
   ]
  },
  {
   "cell_type": "code",
   "execution_count": 38,
   "metadata": {},
   "outputs": [
    {
     "data": {
      "text/plain": [
       "[]"
      ]
     },
     "execution_count": 38,
     "metadata": {},
     "output_type": "execute_result"
    }
   ],
   "source": [
    "specific_hrefs = tree.xpath('//a[@href=\"http://www.non-existing-domain.org/\"]')\n",
    "specific_hrefs"
   ]
  },
  {
   "cell_type": "markdown",
   "metadata": {},
   "source": [
    "### BeautifulSoup\n",
    "\n",
    "Another option that works well for parsing HTML."
   ]
  },
  {
   "cell_type": "code",
   "execution_count": 39,
   "metadata": {
    "scrolled": true
   },
   "outputs": [],
   "source": [
    "# try:\n",
    "from bs4 import BeautifulSoup\n",
    "# except:\n",
    "#     !pip install bs4 "
   ]
  },
  {
   "cell_type": "code",
   "execution_count": 40,
   "metadata": {},
   "outputs": [],
   "source": [
    "soup = BeautifulSoup(html, 'lxml')"
   ]
  },
  {
   "cell_type": "code",
   "execution_count": 41,
   "metadata": {},
   "outputs": [
    {
     "data": {
      "text/plain": [
       "[<p>This domain is for use in illustrative examples in documents. You may use this\n",
       "     domain in literature without prior coordination or asking for permission.</p>,\n",
       " <p><a href=\"https://www.iana.org/domains/example\">More information...</a></p>]"
      ]
     },
     "execution_count": 41,
     "metadata": {},
     "output_type": "execute_result"
    }
   ],
   "source": [
    "paragraphs = soup.find_all('p')\n",
    "paragraphs"
   ]
  },
  {
   "cell_type": "code",
   "execution_count": 42,
   "metadata": {},
   "outputs": [
    {
     "data": {
      "text/plain": [
       "[<a href=\"https://www.iana.org/domains/example\">More information...</a>]"
      ]
     },
     "execution_count": 42,
     "metadata": {},
     "output_type": "execute_result"
    }
   ],
   "source": [
    "hrefs = soup.find_all('a')\n",
    "hrefs"
   ]
  },
  {
   "cell_type": "code",
   "execution_count": 43,
   "metadata": {},
   "outputs": [
    {
     "data": {
      "text/plain": [
       "[<a href=\"https://www.iana.org/domains/example\">More information...</a>]"
      ]
     },
     "execution_count": 43,
     "metadata": {},
     "output_type": "execute_result"
    }
   ],
   "source": [
    "hrefs = soup.find_all('a', href='https://www.iana.org/domains/example')\n",
    "hrefs"
   ]
  },
  {
   "cell_type": "code",
   "execution_count": 44,
   "metadata": {},
   "outputs": [
    {
     "data": {
      "text/plain": [
       "[]"
      ]
     },
     "execution_count": 44,
     "metadata": {},
     "output_type": "execute_result"
    }
   ],
   "source": [
    "hrefs = soup.find_all('a', href='http://www.other-website.org/domains/example')\n",
    "hrefs"
   ]
  },
  {
   "cell_type": "markdown",
   "metadata": {},
   "source": [
    "## Performance"
   ]
  },
  {
   "cell_type": "code",
   "execution_count": 45,
   "metadata": {},
   "outputs": [
    {
     "name": "stdout",
     "output_type": "stream",
     "text": [
      "2.13 µs ± 21.4 ns per loop (mean ± std. dev. of 7 runs, 100,000 loops each)\n",
      "5.07 µs ± 6.41 ns per loop (mean ± std. dev. of 7 runs, 100,000 loops each)\n",
      "6.41 µs ± 15 ns per loop (mean ± std. dev. of 7 runs, 100,000 loops each)\n"
     ]
    }
   ],
   "source": [
    "%timeit re.findall(r'<p>.*?</p>', html, re.DOTALL)\n",
    "%timeit tree.xpath('//p')\n",
    "%timeit soup.find_all('p')"
   ]
  },
  {
   "cell_type": "markdown",
   "metadata": {},
   "source": [
    "Moral: regex is fast.\n",
    "\n",
    "BeautifulSoup is a bit slower than lxml, as for convenience, it converts the document into a certain internal format - in fact, soup."
   ]
  },
  {
   "cell_type": "markdown",
   "metadata": {},
   "source": [
    "## If enough time and you want a very lively practice: scrapy\n",
    "\n",
    "\n",
    "We will parse a site with an archive of cryptocurrency rates: https://coinmarketcap.com/.\n",
    "\n",
    "We want to open [historical snapshots](https://coinmarketcap.com/historical/) and for each week to download the full table.\n",
    "\n",
    "### Important!\n",
    "\n",
    "It is not necessary to understand what will happen next.\n",
    "\n",
    "Moral: there are frameworks that take full responsibility for receiving and parsing HTML.\n",
    "\n",
    "And they also know how to parallelize the process, insert random delays (so that the servers do not think that you are a robot and block your requests) and it is convenient to export the received data (for example, to the database). And much more. <br> And all this is controlled by `scrapy.cfg` - one configuration file.\n",
    "\n",
    "You just have to indicate which pieces of text you need to grab. And into what base to put it. Well, almost. :)"
   ]
  },
  {
   "cell_type": "code",
   "execution_count": 1,
   "metadata": {},
   "outputs": [],
   "source": [
    "try:\n",
    "    import scrapy\n",
    "except:\n",
    "    !pip install scrapy"
   ]
  },
  {
   "cell_type": "code",
   "execution_count": 2,
   "metadata": {},
   "outputs": [],
   "source": [
    "!rm -rf coinmarketcap"
   ]
  },
  {
   "cell_type": "code",
   "execution_count": 3,
   "metadata": {},
   "outputs": [
    {
     "name": "stdout",
     "output_type": "stream",
     "text": [
      "New Scrapy project 'coinmarketcap', using template directory '/usr/local/lib/python3.8/dist-packages/scrapy/templates/project', created in:\r\n",
      "    /mnt/storage/lbpe/edu/iimcb-python/IIMCB-Python-2022/Lecture10/coinmarketcap\r\n",
      "\r\n",
      "You can start your first spider with:\r\n",
      "    cd coinmarketcap\r\n",
      "    scrapy genspider example example.com\r\n"
     ]
    }
   ],
   "source": [
    "!scrapy startproject coinmarketcap"
   ]
  },
  {
   "cell_type": "markdown",
   "metadata": {},
   "source": [
    "What's inside?"
   ]
  },
  {
   "cell_type": "code",
   "execution_count": 4,
   "metadata": {},
   "outputs": [
    {
     "name": "stdout",
     "output_type": "stream",
     "text": [
      ".:\r\n",
      "coinmarketcap  scrapy.cfg\r\n",
      "\r\n",
      "./coinmarketcap:\r\n",
      "__init__.py  items.py  middlewares.py  pipelines.py  settings.py  spiders\r\n",
      "\r\n",
      "./coinmarketcap/spiders:\r\n",
      "__init__.py\r\n"
     ]
    }
   ],
   "source": [
    "!cd coinmarketcap; ls -R"
   ]
  },
  {
   "cell_type": "markdown",
   "metadata": {},
   "source": [
    "A special function to form code in a scrapy project from an ipynb:"
   ]
  },
  {
   "cell_type": "code",
   "execution_count": 5,
   "metadata": {},
   "outputs": [],
   "source": [
    "def dump_to(path):\n",
    "    with open(path, 'w') as f:\n",
    "        f.write(_i)  # _i is \"the last executed Input\" in iPython"
   ]
  },
  {
   "cell_type": "markdown",
   "metadata": {},
   "source": [
    "### Attention!\n",
    "\n",
    "The following cells will fail. <br> We simply put the code in Input, and then transfer it to the desired file."
   ]
  },
  {
   "cell_type": "markdown",
   "metadata": {},
   "source": [
    "### Item: first we’ll determine what we want to collect"
   ]
  },
  {
   "cell_type": "code",
   "execution_count": 6,
   "metadata": {},
   "outputs": [],
   "source": [
    "# -*- coding:utf8 -*-\n",
    "\n",
    "import scrapy\n",
    "\n",
    "\n",
    "class CurrencyItem(scrapy.Item):\n",
    "    date = scrapy.Field()\n",
    "    name = scrapy.Field()\n",
    "    symbol = scrapy.Field()\n",
    "    market_cap = scrapy.Field()\n",
    "    price = scrapy.Field()"
   ]
  },
  {
   "cell_type": "code",
   "execution_count": 7,
   "metadata": {},
   "outputs": [],
   "source": [
    "dump_to('./coinmarketcap/coinmarketcap/items.py')"
   ]
  },
  {
   "cell_type": "markdown",
   "metadata": {},
   "source": [
    "### Spider: the one who collects Items"
   ]
  },
  {
   "cell_type": "code",
   "execution_count": 8,
   "metadata": {},
   "outputs": [
    {
     "ename": "ModuleNotFoundError",
     "evalue": "No module named 'coinmarketcap.items'",
     "output_type": "error",
     "traceback": [
      "\u001b[0;31m---------------------------------------------------------------------------\u001b[0m",
      "\u001b[0;31mModuleNotFoundError\u001b[0m                       Traceback (most recent call last)",
      "Input \u001b[0;32mIn [8]\u001b[0m, in \u001b[0;36m<cell line: 9>\u001b[0;34m()\u001b[0m\n\u001b[1;32m      7\u001b[0m \u001b[38;5;28;01mfrom\u001b[39;00m \u001b[38;5;21;01mscrapy\u001b[39;00m\u001b[38;5;21;01m.\u001b[39;00m\u001b[38;5;21;01mloader\u001b[39;00m \u001b[38;5;28;01mimport\u001b[39;00m ItemLoader\n\u001b[1;32m      8\u001b[0m \u001b[38;5;28;01mfrom\u001b[39;00m \u001b[38;5;21;01mscrapy\u001b[39;00m\u001b[38;5;21;01m.\u001b[39;00m\u001b[38;5;21;01mselector\u001b[39;00m \u001b[38;5;28;01mimport\u001b[39;00m Selector\n\u001b[0;32m----> 9\u001b[0m \u001b[38;5;28;01mfrom\u001b[39;00m \u001b[38;5;21;01mcoinmarketcap\u001b[39;00m\u001b[38;5;21;01m.\u001b[39;00m\u001b[38;5;21;01mitems\u001b[39;00m \u001b[38;5;28;01mimport\u001b[39;00m CurrencyItem\n\u001b[1;32m     11\u001b[0m \u001b[38;5;28;01mclass\u001b[39;00m \u001b[38;5;21;01mCurrencyLoader\u001b[39;00m(ItemLoader):\n\u001b[1;32m     12\u001b[0m     \u001b[38;5;28;01mpass\u001b[39;00m\n",
      "\u001b[0;31mModuleNotFoundError\u001b[0m: No module named 'coinmarketcap.items'"
     ]
    }
   ],
   "source": [
    "# -*- coding:utf8 -*-\n",
    "\n",
    "from scrapy import Request\n",
    "from scrapy.spiders import CrawlSpider, Rule\n",
    "from scrapy.linkextractors import LinkExtractor\n",
    "from scrapy.loader.processors import Join\n",
    "from scrapy.loader import ItemLoader\n",
    "from scrapy.selector import Selector\n",
    "from coinmarketcap.items import CurrencyItem\n",
    "\n",
    "class CurrencyLoader(ItemLoader):\n",
    "    pass\n",
    "\n",
    "class WeeklySpider(CrawlSpider):\n",
    "    name = 'weekly'\n",
    "    allowed_domains = ['coinmarketcap.com']\n",
    "    start_urls = ['https://coinmarketcap.com/historical/']\n",
    "    only_2018_april_regex = '/201904[0-9]{2}' # full history parsing takes ~4 hrs \n",
    "\n",
    "    rules = (\n",
    "        Rule(LinkExtractor(allow=(only_2018_april_regex, )), callback='parse_weekly_report', follow=False),\n",
    "    )\n",
    "\n",
    "    def parse_weekly_report(self, response):\n",
    "        \n",
    "        hxs = Selector(response)\n",
    "        items_html = hxs.xpath('//table//tr')\n",
    "        #print(len(items_html),type(items_html),dir(items_html))\n",
    "        #print(items_html[5])\n",
    "        items = []\n",
    "        \n",
    "        item_names = items_html.xpath('//td[@class=\"cmc-table__cell cmc-table__cell--sticky cmc-table__cell--sortable cmc-table__cell--left cmc-table__cell--sort-by__name\"]//div//a/text()').extract()\n",
    "        item_symbols = items_html.xpath('//td[@class=\"cmc-table__cell cmc-table__cell--sortable cmc-table__cell--left cmc-table__cell--sort-by__symbol\"]//div/text()').extract()\n",
    "        item_caps = items_html.xpath('//td[@class=\"cmc-table__cell cmc-table__cell--sortable cmc-table__cell--right cmc-table__cell--sort-by__market-cap\"]//div/text()').extract()\n",
    "        item_prices = items_html.xpath('//td[@class=\"cmc-table__cell cmc-table__cell--sortable cmc-table__cell--right cmc-table__cell--sort-by__price\"]//div/text()').extract()\n",
    "        print(response.request.url)\n",
    "        #print(len(item_names))\n",
    "        #print(len(item_symbols))\n",
    "        #print(len(item_caps))\n",
    "        #print(len(item_prices))\n",
    "        \n",
    "        for i in range(200):\n",
    "\n",
    "            item = CurrencyItem()\n",
    "            item['date'] = response.request.url.split('/')[-2]\n",
    "            item['name'] = item_names[i]\n",
    "            item['symbol'] = item_symbols[i]\n",
    "            item['market_cap'] = item_caps[i]\n",
    "            item['price'] = item_prices[i]\n",
    "\n",
    "            yield item\n",
    "          "
   ]
  },
  {
   "cell_type": "code",
   "execution_count": 9,
   "metadata": {},
   "outputs": [],
   "source": [
    "dump_to('./coinmarketcap/coinmarketcap/spiders/weekly.py')"
   ]
  },
  {
   "cell_type": "markdown",
   "metadata": {},
   "source": [
    "### Pipeline: for instance, export to a database\n"
   ]
  },
  {
   "cell_type": "code",
   "execution_count": 10,
   "metadata": {},
   "outputs": [
    {
     "ename": "ModuleNotFoundError",
     "evalue": "No module named 'coinmarketcap.items'",
     "output_type": "error",
     "traceback": [
      "\u001b[0;31m---------------------------------------------------------------------------\u001b[0m",
      "\u001b[0;31mModuleNotFoundError\u001b[0m                       Traceback (most recent call last)",
      "Input \u001b[0;32mIn [10]\u001b[0m, in \u001b[0;36m<cell line: 11>\u001b[0;34m()\u001b[0m\n\u001b[1;32m      9\u001b[0m \u001b[38;5;28;01mfrom\u001b[39;00m \u001b[38;5;21;01mscrapy\u001b[39;00m\u001b[38;5;21;01m.\u001b[39;00m\u001b[38;5;21;01mexceptions\u001b[39;00m \u001b[38;5;28;01mimport\u001b[39;00m DropItem\n\u001b[1;32m     10\u001b[0m \u001b[38;5;28;01mfrom\u001b[39;00m \u001b[38;5;21;01mscrapy\u001b[39;00m \u001b[38;5;28;01mimport\u001b[39;00m signals\n\u001b[0;32m---> 11\u001b[0m \u001b[38;5;28;01mfrom\u001b[39;00m \u001b[38;5;21;01mcoinmarketcap\u001b[39;00m\u001b[38;5;21;01m.\u001b[39;00m\u001b[38;5;21;01mitems\u001b[39;00m \u001b[38;5;28;01mimport\u001b[39;00m CurrencyItem\n\u001b[1;32m     12\u001b[0m \u001b[38;5;28;01mimport\u001b[39;00m \u001b[38;5;21;01mpandas\u001b[39;00m \u001b[38;5;28;01mas\u001b[39;00m \u001b[38;5;21;01mpd\u001b[39;00m\n\u001b[1;32m     13\u001b[0m \u001b[38;5;28;01mfrom\u001b[39;00m \u001b[38;5;21;01mcollections\u001b[39;00m \u001b[38;5;28;01mimport\u001b[39;00m Counter\n",
      "\u001b[0;31mModuleNotFoundError\u001b[0m: No module named 'coinmarketcap.items'"
     ]
    }
   ],
   "source": [
    "# -*- coding: utf-8 -*-\n",
    "\n",
    "import os, logging\n",
    "from sqlalchemy.ext.declarative import declarative_base\n",
    "from sqlalchemy import create_engine, Table, Column, Integer, String, Date, MetaData, ForeignKey\n",
    "from sqlalchemy.engine.url import URL\n",
    "from sqlalchemy.orm import sessionmaker\n",
    "from sqlalchemy.pool import NullPool\n",
    "from scrapy.exceptions import DropItem\n",
    "from scrapy import signals\n",
    "from coinmarketcap.items import CurrencyItem\n",
    "import pandas as pd\n",
    "from collections import Counter\n",
    "\n",
    "logger = logging.getLogger(__name__)\n",
    "\n",
    "DeclarativeBase = declarative_base()\n",
    "\n",
    "class Currency(DeclarativeBase):\n",
    "    __tablename__ = 'currency'\n",
    "    __table_args__ = {'sqlite_autoincrement': True}\n",
    "\n",
    "    id = Column('id', Integer, primary_key=True)\n",
    "    date = Column('date', Date)\n",
    "    name = Column('name', String)\n",
    "    symbol = Column('symbol', String)\n",
    "    market_cap = Column('market_cap', String)\n",
    "    price = Column('price', String)\n",
    "\n",
    "    def __init__(self, item):\n",
    "        self.date = pd.to_datetime(item['date'], format='%Y%m%d')\n",
    "        self.name = item['name']\n",
    "        self.symbol = item['symbol']\n",
    "        self.market_cap = item['market_cap']\n",
    "        self.price = item['price']\n",
    "\n",
    "    def __repr__(self):\n",
    "        return \"<Currency({0}, {1}, {2})>\".format(self.id, self.symbol, self.market_cap)\n",
    "\n",
    "\n",
    "class SqlitePipeline(object):\n",
    "    def __init__(self, settings):\n",
    "        self.database = settings.get('DATABASE')\n",
    "        self.sessions = {}\n",
    "\n",
    "    @classmethod\n",
    "    def from_crawler(cls, crawler):\n",
    "        pipeline = cls(crawler.settings)\n",
    "        crawler.signals.connect(pipeline.spider_closed, signals.spider_closed)\n",
    "        crawler.signals.connect(pipeline.spider_opened, signals.spider_opened)\n",
    "        return pipeline\n",
    "\n",
    "    def create_engine(self):\n",
    "        engine = create_engine(URL(**self.database), poolclass=NullPool)\n",
    "        return engine\n",
    "\n",
    "    def create_tables(self, engine):\n",
    "        DeclarativeBase.metadata.create_all(engine, checkfirst=True)\n",
    "\n",
    "    def create_session(self, engine):\n",
    "        session = sessionmaker(bind=engine)()\n",
    "        return session\n",
    "\n",
    "    def spider_opened(self, spider):\n",
    "        engine = self.create_engine()\n",
    "        self.create_tables(engine)\n",
    "        session = self.create_session(engine)\n",
    "        self.sessions[spider] = session\n",
    "\n",
    "    def spider_closed(self, spider):\n",
    "        session = self.sessions.pop(spider)\n",
    "        session.close()\n",
    "\n",
    "    def process_item(self, item, spider):\n",
    "        session = self.sessions[spider]\n",
    "        currency = Currency(item)\n",
    "        link_exists = session.query(Currency).filter_by(symbol=item['symbol'], date=item['date']).first() is not None\n",
    "        \n",
    "        if link_exists:\n",
    "            logger.info('Item {} is in db'.format(currency))\n",
    "            return item\n",
    "\n",
    "        try:\n",
    "            session.add(currency)\n",
    "            session.commit()\n",
    "            logger.info('Item {} stored in db'.format(currency))\n",
    "        except Exception as e:\n",
    "            logger.info('Failed to add {} to db'.format(currency))\n",
    "            session.rollback()\n",
    "            raise e\n",
    "\n",
    "        return item"
   ]
  },
  {
   "cell_type": "code",
   "execution_count": 11,
   "metadata": {},
   "outputs": [],
   "source": [
    "dump_to('./coinmarketcap/coinmarketcap/pipelines.py')"
   ]
  },
  {
   "cell_type": "markdown",
   "metadata": {},
   "source": [
    "### Settings:  scrapy settings"
   ]
  },
  {
   "cell_type": "code",
   "execution_count": 12,
   "metadata": {},
   "outputs": [],
   "source": [
    "# -*- coding: utf-8 -*-\n",
    "\n",
    "# Scrapy settings for coinmarketcap project\n",
    "#\n",
    "# For simplicity, this file contains only settings considered important or\n",
    "# commonly used. You can find more settings consulting the documentation:\n",
    "#\n",
    "#     https://doc.scrapy.org/en/latest/topics/settings.html\n",
    "#     https://doc.scrapy.org/en/latest/topics/downloader-middleware.html\n",
    "#     https://doc.scrapy.org/en/latest/topics/spider-middleware.html\n",
    "\n",
    "BOT_NAME = 'coinmarketcap'\n",
    "\n",
    "SPIDER_MODULES = ['coinmarketcap.spiders']\n",
    "NEWSPIDER_MODULE = 'coinmarketcap.spiders'\n",
    "\n",
    "DATABASE = {\n",
    "    'drivername': 'sqlite',\n",
    "    # 'host': 'localhost',\n",
    "    # 'port': '5432',\n",
    "    # 'username': 'YOUR_USERNAME',\n",
    "    # 'password': 'YOUR_PASSWORD',\n",
    "    'database': 'weekly.sqlite'\n",
    "}\n",
    "\n",
    "# Crawl responsibly by identifying yourself (and your website) on the user-agent\n",
    "USER_AGENT = '%s' % (BOT_NAME)\n",
    "\n",
    "# Obey robots.txt rules\n",
    "# ROBOTSTXT_OBEY = True\n",
    "\n",
    "# Configure maximum concurrent requests performed by Scrapy (default: 16)\n",
    "CONCURRENT_REQUESTS = 1\n",
    "\n",
    "# Configure a delay for requests for the same website (default: 0)\n",
    "# See https://doc.scrapy.org/en/latest/topics/settings.html#download-delay\n",
    "# See also autothrottle settings and docs\n",
    "#DOWNLOAD_DELAY = 3\n",
    "# The download delay setting will honor only one of:\n",
    "#CONCURRENT_REQUESTS_PER_DOMAIN = 16\n",
    "#CONCURRENT_REQUESTS_PER_IP = 16\n",
    "\n",
    "# Disable cookies (enabled by default)\n",
    "#COOKIES_ENABLED = False\n",
    "\n",
    "# Disable Telnet Console (enabled by default)\n",
    "#TELNETCONSOLE_ENABLED = False\n",
    "\n",
    "# Override the default request headers:\n",
    "#DEFAULT_REQUEST_HEADERS = {\n",
    "#   'Accept': 'text/html,application/xhtml+xml,application/xml;q=0.9,*/*;q=0.8',\n",
    "#   'Accept-Language': 'en',\n",
    "#}\n",
    "\n",
    "# Enable or disable spider middlewares\n",
    "# See https://doc.scrapy.org/en/latest/topics/spider-middleware.html\n",
    "#SPIDER_MIDDLEWARES = {\n",
    "#    'coinmarketcap.middlewares.CoinmarketcapSpiderMiddleware': 543,\n",
    "#}\n",
    "\n",
    "# Enable or disable downloader middlewares\n",
    "# See https://doc.scrapy.org/en/latest/topics/downloader-middleware.html\n",
    "#DOWNLOADER_MIDDLEWARES = {\n",
    "#    'coinmarketcap.middlewares.CoinmarketcapDownloaderMiddleware': 543,\n",
    "#}\n",
    "\n",
    "# Enable or disable extensions\n",
    "# See https://doc.scrapy.org/en/latest/topics/extensions.html\n",
    "#EXTENSIONS = {\n",
    "#    'scrapy.extensions.telnet.TelnetConsole': None,\n",
    "#}\n",
    "\n",
    "# Configure item pipelines\n",
    "# See https://doc.scrapy.org/en/latest/topics/item-pipeline.html\n",
    "ITEM_PIPELINES = {\n",
    "   'coinmarketcap.pipelines.SqlitePipeline': 300,\n",
    "}\n",
    "\n",
    "# Enable and configure the AutoThrottle extension (disabled by default)\n",
    "# See https://doc.scrapy.org/en/latest/topics/autothrottle.html\n",
    "AUTOTHROTTLE_ENABLED = False\n",
    "# The initial download delay\n",
    "AUTOTHROTTLE_START_DELAY = 5\n",
    "# The maximum download delay to be set in case of high latencies\n",
    "AUTOTHROTTLE_MAX_DELAY = 60\n",
    "# The average number of requests Scrapy should be sending in parallel to\n",
    "# each remote server\n",
    "#AUTOTHROTTLE_TARGET_CONCURRENCY = 1.0\n",
    "# Enable showing throttling stats for every response received:\n",
    "#AUTOTHROTTLE_DEBUG = False\n",
    "\n",
    "# Enable and configure HTTP caching (disabled by default)\n",
    "# See https://doc.scrapy.org/en/latest/topics/downloader-middleware.html#httpcache-middleware-settings\n",
    "#HTTPCACHE_ENABLED = True\n",
    "#HTTPCACHE_EXPIRATION_SECS = 0\n",
    "#HTTPCACHE_DIR = 'httpcache'\n",
    "#HTTPCACHE_IGNORE_HTTP_CODES = []\n",
    "#HTTPCACHE_STORAGE = 'scrapy.extensions.httpcache.FilesystemCacheStorage'\n",
    "\n",
    "LOG_FILE = 'crawling.log'"
   ]
  },
  {
   "cell_type": "code",
   "execution_count": 13,
   "metadata": {},
   "outputs": [],
   "source": [
    "dump_to('./coinmarketcap/coinmarketcap/settings.py')"
   ]
  },
  {
   "cell_type": "markdown",
   "metadata": {},
   "source": [
    "Let's look at the structure of the scrapy project one more time"
   ]
  },
  {
   "cell_type": "code",
   "execution_count": 14,
   "metadata": {},
   "outputs": [
    {
     "name": "stdout",
     "output_type": "stream",
     "text": [
      ".:\r\n",
      "coinmarketcap  scrapy.cfg\r\n",
      "\r\n",
      "./coinmarketcap:\r\n",
      "__init__.py  items.py  middlewares.py  pipelines.py  settings.py  spiders\r\n",
      "\r\n",
      "./coinmarketcap/spiders:\r\n",
      "__init__.py  weekly.py\r\n"
     ]
    }
   ],
   "source": [
    "!cd coinmarketcap; ls -R"
   ]
  },
  {
   "cell_type": "markdown",
   "metadata": {},
   "source": [
    "### That's all! \n",
    "\n",
    "Let's run the spider! \n",
    "\n",
    "We go through only the April data.\n"
   ]
  },
  {
   "cell_type": "code",
   "execution_count": 15,
   "metadata": {},
   "outputs": [
    {
     "name": "stdout",
     "output_type": "stream",
     "text": [
      "https://coinmarketcap.com/historical/20190407/\n",
      "https://coinmarketcap.com/historical/20190428/\n",
      "https://coinmarketcap.com/historical/20190421/\n",
      "https://coinmarketcap.com/historical/20190414/\n",
      "^C\n",
      "44.3 s ± 0 ns per loop (mean ± std. dev. of 1 run, 1 loop each)\n"
     ]
    }
   ],
   "source": [
    "%%timeit -n 1 -r 1\n",
    "!cd coinmarketcap ; scrapy crawl weekly"
   ]
  },
  {
   "cell_type": "markdown",
   "metadata": {},
   "source": [
    "Let's see what we've got:"
   ]
  },
  {
   "cell_type": "code",
   "execution_count": 16,
   "metadata": {},
   "outputs": [
    {
     "name": "stdout",
     "output_type": "stream",
     "text": [
      "(348, 6)\n"
     ]
    },
    {
     "data": {
      "text/html": [
       "<div>\n",
       "<style scoped>\n",
       "    .dataframe tbody tr th:only-of-type {\n",
       "        vertical-align: middle;\n",
       "    }\n",
       "\n",
       "    .dataframe tbody tr th {\n",
       "        vertical-align: top;\n",
       "    }\n",
       "\n",
       "    .dataframe thead th {\n",
       "        text-align: right;\n",
       "    }\n",
       "</style>\n",
       "<table border=\"1\" class=\"dataframe\">\n",
       "  <thead>\n",
       "    <tr style=\"text-align: right;\">\n",
       "      <th></th>\n",
       "      <th>id</th>\n",
       "      <th>date</th>\n",
       "      <th>name</th>\n",
       "      <th>symbol</th>\n",
       "      <th>market_cap</th>\n",
       "      <th>price</th>\n",
       "    </tr>\n",
       "  </thead>\n",
       "  <tbody>\n",
       "    <tr>\n",
       "      <th>0</th>\n",
       "      <td>1</td>\n",
       "      <td>2019-04-07</td>\n",
       "      <td>BTC</td>\n",
       "      <td>BTC</td>\n",
       "      <td>$91,674,230,185.93</td>\n",
       "      <td>$5,198.90</td>\n",
       "    </tr>\n",
       "    <tr>\n",
       "      <th>1</th>\n",
       "      <td>2</td>\n",
       "      <td>2019-04-07</td>\n",
       "      <td>Bitcoin</td>\n",
       "      <td>ETH</td>\n",
       "      <td>$18,424,576,820.42</td>\n",
       "      <td>$174.53</td>\n",
       "    </tr>\n",
       "    <tr>\n",
       "      <th>2</th>\n",
       "      <td>3</td>\n",
       "      <td>2019-04-07</td>\n",
       "      <td>ETH</td>\n",
       "      <td>XRP</td>\n",
       "      <td>$15,021,731,304.72</td>\n",
       "      <td>$0.3599</td>\n",
       "    </tr>\n",
       "    <tr>\n",
       "      <th>3</th>\n",
       "      <td>4</td>\n",
       "      <td>2019-04-28</td>\n",
       "      <td>BTC</td>\n",
       "      <td>BTC</td>\n",
       "      <td>$93,391,244,394.89</td>\n",
       "      <td>$5,285.14</td>\n",
       "    </tr>\n",
       "    <tr>\n",
       "      <th>4</th>\n",
       "      <td>5</td>\n",
       "      <td>2019-04-07</td>\n",
       "      <td>Ethereum</td>\n",
       "      <td>BCH</td>\n",
       "      <td>$5,662,007,844.39</td>\n",
       "      <td>$319.60</td>\n",
       "    </tr>\n",
       "  </tbody>\n",
       "</table>\n",
       "</div>"
      ],
      "text/plain": [
       "   id        date      name symbol          market_cap      price\n",
       "0   1  2019-04-07       BTC    BTC  $91,674,230,185.93  $5,198.90\n",
       "1   2  2019-04-07   Bitcoin    ETH  $18,424,576,820.42    $174.53\n",
       "2   3  2019-04-07       ETH    XRP  $15,021,731,304.72    $0.3599\n",
       "3   4  2019-04-28       BTC    BTC  $93,391,244,394.89  $5,285.14\n",
       "4   5  2019-04-07  Ethereum    BCH   $5,662,007,844.39    $319.60"
      ]
     },
     "execution_count": 16,
     "metadata": {},
     "output_type": "execute_result"
    }
   ],
   "source": [
    "import sqlite3\n",
    "import pandas as pd\n",
    "\n",
    "connection = sqlite3.connect('./coinmarketcap/weekly.sqlite')\n",
    "\n",
    "df = pd.read_sql_query(\"SELECT * FROM currency\", connection)\n",
    "print(df.shape)\n",
    "df.head()"
   ]
  },
  {
   "cell_type": "code",
   "execution_count": null,
   "metadata": {},
   "outputs": [],
   "source": []
  }
 ],
 "metadata": {
  "celltoolbar": "Slideshow",
  "kernelspec": {
   "display_name": "Python 3 (ipykernel)",
   "language": "python",
   "name": "python3"
  },
  "language_info": {
   "codemirror_mode": {
    "name": "ipython",
    "version": 3
   },
   "file_extension": ".py",
   "mimetype": "text/x-python",
   "name": "python",
   "nbconvert_exporter": "python",
   "pygments_lexer": "ipython3",
   "version": "3.8.10"
  }
 },
 "nbformat": 4,
 "nbformat_minor": 2
}
