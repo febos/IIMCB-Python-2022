{
 "cells": [
  {
   "cell_type": "markdown",
   "metadata": {},
   "source": [
    "# Data analysis using pandas & matplotlib\n",
    "\n",
    "In this assignment, you are invited to analyze RNA base pairs data using the pandas and matplotlib libraries.\n",
    "The task looks like a laboratory work in which you have to fill in the blank cells and answer a number of questions.\n",
    "\n",
    " - [Pandas docs](https://pandas.pydata.org/)\n",
    " - [Matplotlib docs](https://matplotlib.org/index.html)"
   ]
  },
  {
   "cell_type": "markdown",
   "metadata": {},
   "source": [
    "## 0. RNA base pairs"
   ]
  },
  {
   "cell_type": "markdown",
   "metadata": {},
   "source": [
    "In this work you are asked to analyze a dataset of nucleotide-nucleotide interactions, annotated as base pairs with automatic annotation tools.\n",
    "\n",
    "### [What is a base pair? (wiki)](https://en.wikipedia.org/wiki/Base_pair)\n",
    "\n",
    "### Leontis-Westhof base pair classification\n",
    "\n",
    "![image](LW.png)"
   ]
  },
  {
   "cell_type": "markdown",
   "metadata": {},
   "source": [
    "## 1. Data "
   ]
  },
  {
   "cell_type": "markdown",
   "metadata": {},
   "source": [
    "Let's start with the necessary preparations."
   ]
  },
  {
   "cell_type": "code",
   "execution_count": 1,
   "metadata": {},
   "outputs": [],
   "source": [
    "import numpy as np\n",
    "import pandas as pd\n",
    "import matplotlib.pyplot as plt\n",
    "\n",
    "%matplotlib inline"
   ]
  },
  {
   "cell_type": "markdown",
   "metadata": {},
   "source": [
    "#### Load the dataset from \"base_pairs.tsv\". Create a pandas.DataFrame object with name *bps* and N column as index."
   ]
  },
  {
   "cell_type": "code",
   "execution_count": 2,
   "metadata": {
    "collapsed": true
   },
   "outputs": [],
   "source": [
    "# Paste your code here."
   ]
  },
  {
   "cell_type": "markdown",
   "metadata": {},
   "source": [
    "Let's see what we've got"
   ]
  },
  {
   "cell_type": "code",
   "execution_count": null,
   "metadata": {},
   "outputs": [],
   "source": [
    "bps.head(4)"
   ]
  },
  {
   "cell_type": "markdown",
   "metadata": {},
   "source": [
    "column descriptions:\n",
    " - N - ordinal number\n",
    " - RESIDUE1 - first nucleotide (chain.base.id)\n",
    " - RESIDUE2 - second nucleotide (chain.base.id)\n",
    " - BASE1 - base 1\n",
    " - BASE2 - base 2\n",
    " - CLOSESTATOM1 - first nucleotide's atom of the closest atom-atom pair\n",
    " - CLOSESTATOM2 - second nucleotide's atom of the closest atom-atom pair\n",
    " - MINDIST - distance of the closest atom-atom pair\n",
    " - #ATOMPAIRS - number of mutually closest atom pairs\n",
    " - ATOMPAIRS - list of mutually closest atom pairs\n",
    " - CONFORMATION1 - first nucleotide conformation annotated with DSSR\n",
    " - CONFORMATION2 - second nucleotide conformation annotated with DSSR\n",
    " - DSSR_BP - DSSR annotations (Lu et al. 2015)\n",
    " - FR3D_BP - FR3D annotations (Sarver et al. 2008)\n",
    " - MCANNOTATE_BP - MC-Annotate annotations (Gendron et al. 2001)\n",
    " - RNAVIEW_BP - RNAView annotations (Yang et al. 2003)\n",
    " - CLARNA_BP - ClaRNA annotations (Waleń et al. 2014)\n",
    " "
   ]
  },
  {
   "cell_type": "markdown",
   "metadata": {},
   "source": [
    "## 2. What do we have here?"
   ]
  },
  {
   "cell_type": "markdown",
   "metadata": {},
   "source": [
    "Plot the distribution of the MINDIST values and interpret the results."
   ]
  },
  {
   "cell_type": "code",
   "execution_count": null,
   "metadata": {},
   "outputs": [],
   "source": [
    "# Your code here"
   ]
  },
  {
   "cell_type": "markdown",
   "metadata": {},
   "source": [
    "What are the most frequent BASE1-BASE2 pairs? "
   ]
  },
  {
   "cell_type": "code",
   "execution_count": null,
   "metadata": {},
   "outputs": [],
   "source": [
    "# Your code here"
   ]
  },
  {
   "cell_type": "markdown",
   "metadata": {},
   "source": [
    "What are the most frequent CLOSESTATOM1-CLOSESTATOM2 pairs? Do the most frequent atom pairs differ among various BASE1-BASE2 pairs?"
   ]
  },
  {
   "cell_type": "code",
   "execution_count": null,
   "metadata": {},
   "outputs": [],
   "source": [
    "# Your code here"
   ]
  },
  {
   "cell_type": "markdown",
   "metadata": {},
   "source": [
    "## 3. Comparison of the annotations"
   ]
  },
  {
   "cell_type": "markdown",
   "metadata": {},
   "source": [
    "Compare how often the annotation tools agree/disagree with each other. Treat all non-empty **X_BP** columns as annotated base pairs. Make a figure of any chosen type."
   ]
  },
  {
   "cell_type": "code",
   "execution_count": null,
   "metadata": {},
   "outputs": [],
   "source": [
    "# Your code here"
   ]
  },
  {
   "cell_type": "markdown",
   "metadata": {},
   "source": [
    "## 4. Data cleaning"
   ]
  },
  {
   "cell_type": "markdown",
   "metadata": {},
   "source": [
    "To compare the annotations separately for each of the twelve Leontis-Westhof base pair types (LW types), we need to unify the format of annotations. Make **X_BP_CLEAN** columns with unified LW type annotations, e.g., tWW, cHS, etc. Note that not all annotations are of a defined LW type, i.e., you can ignore some of the \"uncertain\" annotations. Describe in detail how you produced **X_BP_CLEAN** columns."
   ]
  },
  {
   "cell_type": "code",
   "execution_count": null,
   "metadata": {},
   "outputs": [],
   "source": [
    "# Your code here"
   ]
  },
  {
   "cell_type": "markdown",
   "metadata": {},
   "source": [
    "## 5. Comparison of the LW type annotations"
   ]
  },
  {
   "cell_type": "markdown",
   "metadata": {},
   "source": [
    "Separately for each LW type, compare how often the annotation tools agree/disagree with each other. Do we observe any differences between the LW types? Make a figure of any chosen type."
   ]
  },
  {
   "cell_type": "code",
   "execution_count": null,
   "metadata": {},
   "outputs": [],
   "source": [
    "# Your code here"
   ]
  },
  {
   "cell_type": "markdown",
   "metadata": {},
   "source": [
    "## 6. Examining LW types"
   ]
  },
  {
   "cell_type": "markdown",
   "metadata": {},
   "source": [
    "Choose one LW type and analyze how sufficient it is for the base pair description. First, select the rows annotated with the choosen LW type by at least two tools. Then, group the ATOMPAIRS column values by BASE1-BASE2 pairs and see how many different patterns you observe. Can the ATOMPAIRS list be always unambiguously defined by LW type and a base-base pair?"
   ]
  },
  {
   "cell_type": "code",
   "execution_count": null,
   "metadata": {},
   "outputs": [],
   "source": [
    "# Your code here"
   ]
  },
  {
   "cell_type": "markdown",
   "metadata": {},
   "source": [
    "## 7. Modified residues"
   ]
  },
  {
   "cell_type": "markdown",
   "metadata": {},
   "source": [
    "Are any modified residues included in the dataset? What are those? What can we state about the automatic base pair annotation for the modified residues?"
   ]
  },
  {
   "cell_type": "code",
   "execution_count": null,
   "metadata": {},
   "outputs": [],
   "source": [
    "# Your code here"
   ]
  },
  {
   "cell_type": "code",
   "execution_count": null,
   "metadata": {},
   "outputs": [],
   "source": []
  },
  {
   "cell_type": "code",
   "execution_count": null,
   "metadata": {},
   "outputs": [],
   "source": []
  },
  {
   "cell_type": "code",
   "execution_count": null,
   "metadata": {},
   "outputs": [],
   "source": []
  },
  {
   "cell_type": "code",
   "execution_count": null,
   "metadata": {},
   "outputs": [],
   "source": []
  },
  {
   "cell_type": "code",
   "execution_count": null,
   "metadata": {},
   "outputs": [],
   "source": []
  },
  {
   "cell_type": "code",
   "execution_count": null,
   "metadata": {},
   "outputs": [],
   "source": []
  },
  {
   "cell_type": "code",
   "execution_count": null,
   "metadata": {},
   "outputs": [],
   "source": []
  },
  {
   "cell_type": "code",
   "execution_count": null,
   "metadata": {},
   "outputs": [],
   "source": []
  },
  {
   "cell_type": "code",
   "execution_count": null,
   "metadata": {},
   "outputs": [],
   "source": []
  }
 ],
 "metadata": {
  "kernelspec": {
   "display_name": "Python 3 (ipykernel)",
   "language": "python",
   "name": "python3"
  },
  "language_info": {
   "codemirror_mode": {
    "name": "ipython",
    "version": 3
   },
   "file_extension": ".py",
   "mimetype": "text/x-python",
   "name": "python",
   "nbconvert_exporter": "python",
   "pygments_lexer": "ipython3",
   "version": "3.8.10"
  }
 },
 "nbformat": 4,
 "nbformat_minor": 2
}
