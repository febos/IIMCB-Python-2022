{
 "cells": [
  {
   "cell_type": "markdown",
   "metadata": {},
   "source": [
    "## Pandas"
   ]
  },
  {
   "cell_type": "markdown",
   "metadata": {},
   "source": [
    "In this notebook we will get to know the main features of **pandas**. This library is huge, so we can only play a little with the available functionality. For a detailed review, read the documentation."
   ]
  },
  {
   "cell_type": "markdown",
   "metadata": {},
   "source": [
    "### 1. First glance"
   ]
  },
  {
   "cell_type": "code",
   "execution_count": 1,
   "metadata": {},
   "outputs": [],
   "source": [
    "import pandas as pd  # common alias for pandas"
   ]
  },
  {
   "cell_type": "code",
   "execution_count": 2,
   "metadata": {
    "scrolled": false
   },
   "outputs": [],
   "source": [
    "# Read dataset from csv file\n",
    "coins = pd.read_csv('coins.csv')  "
   ]
  },
  {
   "cell_type": "code",
   "execution_count": 3,
   "metadata": {
    "scrolled": false
   },
   "outputs": [
    {
     "data": {
      "text/html": [
       "<div>\n",
       "<style scoped>\n",
       "    .dataframe tbody tr th:only-of-type {\n",
       "        vertical-align: middle;\n",
       "    }\n",
       "\n",
       "    .dataframe tbody tr th {\n",
       "        vertical-align: top;\n",
       "    }\n",
       "\n",
       "    .dataframe thead th {\n",
       "        text-align: right;\n",
       "    }\n",
       "</style>\n",
       "<table border=\"1\" class=\"dataframe\">\n",
       "  <thead>\n",
       "    <tr style=\"text-align: right;\">\n",
       "      <th></th>\n",
       "      <th>date</th>\n",
       "      <th>price</th>\n",
       "      <th>txCount</th>\n",
       "      <th>txVolume</th>\n",
       "      <th>activeAddresses</th>\n",
       "      <th>symbol</th>\n",
       "      <th>name</th>\n",
       "      <th>open</th>\n",
       "      <th>high</th>\n",
       "      <th>low</th>\n",
       "      <th>close</th>\n",
       "      <th>volume</th>\n",
       "      <th>market</th>\n",
       "    </tr>\n",
       "  </thead>\n",
       "  <tbody>\n",
       "    <tr>\n",
       "      <th>0</th>\n",
       "      <td>2013-04-28</td>\n",
       "      <td>135.300000</td>\n",
       "      <td>41702.0</td>\n",
       "      <td>6.879868e+07</td>\n",
       "      <td>117984.0</td>\n",
       "      <td>BTC</td>\n",
       "      <td>Bitcoin</td>\n",
       "      <td>135.300000</td>\n",
       "      <td>135.980000</td>\n",
       "      <td>132.100000</td>\n",
       "      <td>134.210000</td>\n",
       "      <td>0.0</td>\n",
       "      <td>1.500520e+09</td>\n",
       "    </tr>\n",
       "    <tr>\n",
       "      <th>1</th>\n",
       "      <td>2013-04-28</td>\n",
       "      <td>4.300000</td>\n",
       "      <td>9174.0</td>\n",
       "      <td>4.431952e+07</td>\n",
       "      <td>17216.0</td>\n",
       "      <td>LTC</td>\n",
       "      <td>Litecoin</td>\n",
       "      <td>4.300000</td>\n",
       "      <td>4.400000</td>\n",
       "      <td>4.180000</td>\n",
       "      <td>4.350000</td>\n",
       "      <td>0.0</td>\n",
       "      <td>7.377340e+07</td>\n",
       "    </tr>\n",
       "    <tr>\n",
       "      <th>2</th>\n",
       "      <td>2013-04-29</td>\n",
       "      <td>134.440000</td>\n",
       "      <td>51602.0</td>\n",
       "      <td>1.138128e+08</td>\n",
       "      <td>86925.0</td>\n",
       "      <td>BTC</td>\n",
       "      <td>Bitcoin</td>\n",
       "      <td>134.440000</td>\n",
       "      <td>147.490000</td>\n",
       "      <td>134.000000</td>\n",
       "      <td>144.540000</td>\n",
       "      <td>0.0</td>\n",
       "      <td>1.491160e+09</td>\n",
       "    </tr>\n",
       "    <tr>\n",
       "      <th>3</th>\n",
       "      <td>2013-04-29</td>\n",
       "      <td>4.370000</td>\n",
       "      <td>9275.0</td>\n",
       "      <td>3.647810e+07</td>\n",
       "      <td>18395.0</td>\n",
       "      <td>LTC</td>\n",
       "      <td>Litecoin</td>\n",
       "      <td>4.370000</td>\n",
       "      <td>4.570000</td>\n",
       "      <td>4.230000</td>\n",
       "      <td>4.380000</td>\n",
       "      <td>0.0</td>\n",
       "      <td>7.495270e+07</td>\n",
       "    </tr>\n",
       "    <tr>\n",
       "      <th>4</th>\n",
       "      <td>2013-04-30</td>\n",
       "      <td>144.000000</td>\n",
       "      <td>47450.0</td>\n",
       "      <td>8.426632e+07</td>\n",
       "      <td>76871.0</td>\n",
       "      <td>BTC</td>\n",
       "      <td>Bitcoin</td>\n",
       "      <td>144.000000</td>\n",
       "      <td>146.930000</td>\n",
       "      <td>134.050000</td>\n",
       "      <td>139.000000</td>\n",
       "      <td>0.0</td>\n",
       "      <td>1.597780e+09</td>\n",
       "    </tr>\n",
       "    <tr>\n",
       "      <th>...</th>\n",
       "      <td>...</td>\n",
       "      <td>...</td>\n",
       "      <td>...</td>\n",
       "      <td>...</td>\n",
       "      <td>...</td>\n",
       "      <td>...</td>\n",
       "      <td>...</td>\n",
       "      <td>...</td>\n",
       "      <td>...</td>\n",
       "      <td>...</td>\n",
       "      <td>...</td>\n",
       "      <td>...</td>\n",
       "      <td>...</td>\n",
       "    </tr>\n",
       "    <tr>\n",
       "      <th>37583</th>\n",
       "      <td>2018-06-06</td>\n",
       "      <td>0.293325</td>\n",
       "      <td>4830.0</td>\n",
       "      <td>2.312763e+05</td>\n",
       "      <td>659.0</td>\n",
       "      <td>XLM</td>\n",
       "      <td>Stellar</td>\n",
       "      <td>0.293325</td>\n",
       "      <td>0.299955</td>\n",
       "      <td>0.289500</td>\n",
       "      <td>0.298269</td>\n",
       "      <td>51165000.0</td>\n",
       "      <td>5.450080e+09</td>\n",
       "    </tr>\n",
       "    <tr>\n",
       "      <th>37584</th>\n",
       "      <td>2018-06-06</td>\n",
       "      <td>0.039586</td>\n",
       "      <td>7205.0</td>\n",
       "      <td>4.947760e+06</td>\n",
       "      <td>18228.0</td>\n",
       "      <td>XVG</td>\n",
       "      <td>Verge</td>\n",
       "      <td>0.039586</td>\n",
       "      <td>0.039737</td>\n",
       "      <td>0.037680</td>\n",
       "      <td>0.038797</td>\n",
       "      <td>9307450.0</td>\n",
       "      <td>5.959400e+08</td>\n",
       "    </tr>\n",
       "    <tr>\n",
       "      <th>37585</th>\n",
       "      <td>2018-06-06</td>\n",
       "      <td>239.760000</td>\n",
       "      <td>10687.0</td>\n",
       "      <td>3.986308e+07</td>\n",
       "      <td>96516.0</td>\n",
       "      <td>ZEC</td>\n",
       "      <td>Zcash</td>\n",
       "      <td>239.750000</td>\n",
       "      <td>240.340000</td>\n",
       "      <td>229.210000</td>\n",
       "      <td>236.050000</td>\n",
       "      <td>56887000.0</td>\n",
       "      <td>9.769940e+08</td>\n",
       "    </tr>\n",
       "    <tr>\n",
       "      <th>37586</th>\n",
       "      <td>2018-06-06</td>\n",
       "      <td>0.127555</td>\n",
       "      <td>1313.0</td>\n",
       "      <td>1.596436e+07</td>\n",
       "      <td>733.0</td>\n",
       "      <td>ZIL</td>\n",
       "      <td>Zilliqa</td>\n",
       "      <td>0.127555</td>\n",
       "      <td>0.133254</td>\n",
       "      <td>0.124194</td>\n",
       "      <td>0.131766</td>\n",
       "      <td>54667900.0</td>\n",
       "      <td>9.348810e+08</td>\n",
       "    </tr>\n",
       "    <tr>\n",
       "      <th>37587</th>\n",
       "      <td>2018-06-06</td>\n",
       "      <td>1.270000</td>\n",
       "      <td>795.0</td>\n",
       "      <td>6.094435e+06</td>\n",
       "      <td>599.0</td>\n",
       "      <td>ZRX</td>\n",
       "      <td>0x</td>\n",
       "      <td>1.270000</td>\n",
       "      <td>1.340000</td>\n",
       "      <td>1.250000</td>\n",
       "      <td>1.330000</td>\n",
       "      <td>17778000.0</td>\n",
       "      <td>6.741510e+08</td>\n",
       "    </tr>\n",
       "  </tbody>\n",
       "</table>\n",
       "<p>37588 rows × 13 columns</p>\n",
       "</div>"
      ],
      "text/plain": [
       "             date       price  txCount      txVolume  activeAddresses symbol  \\\n",
       "0      2013-04-28  135.300000  41702.0  6.879868e+07         117984.0    BTC   \n",
       "1      2013-04-28    4.300000   9174.0  4.431952e+07          17216.0    LTC   \n",
       "2      2013-04-29  134.440000  51602.0  1.138128e+08          86925.0    BTC   \n",
       "3      2013-04-29    4.370000   9275.0  3.647810e+07          18395.0    LTC   \n",
       "4      2013-04-30  144.000000  47450.0  8.426632e+07          76871.0    BTC   \n",
       "...           ...         ...      ...           ...              ...    ...   \n",
       "37583  2018-06-06    0.293325   4830.0  2.312763e+05            659.0    XLM   \n",
       "37584  2018-06-06    0.039586   7205.0  4.947760e+06          18228.0    XVG   \n",
       "37585  2018-06-06  239.760000  10687.0  3.986308e+07          96516.0    ZEC   \n",
       "37586  2018-06-06    0.127555   1313.0  1.596436e+07            733.0    ZIL   \n",
       "37587  2018-06-06    1.270000    795.0  6.094435e+06            599.0    ZRX   \n",
       "\n",
       "           name        open        high         low       close      volume  \\\n",
       "0       Bitcoin  135.300000  135.980000  132.100000  134.210000         0.0   \n",
       "1      Litecoin    4.300000    4.400000    4.180000    4.350000         0.0   \n",
       "2       Bitcoin  134.440000  147.490000  134.000000  144.540000         0.0   \n",
       "3      Litecoin    4.370000    4.570000    4.230000    4.380000         0.0   \n",
       "4       Bitcoin  144.000000  146.930000  134.050000  139.000000         0.0   \n",
       "...         ...         ...         ...         ...         ...         ...   \n",
       "37583   Stellar    0.293325    0.299955    0.289500    0.298269  51165000.0   \n",
       "37584     Verge    0.039586    0.039737    0.037680    0.038797   9307450.0   \n",
       "37585     Zcash  239.750000  240.340000  229.210000  236.050000  56887000.0   \n",
       "37586   Zilliqa    0.127555    0.133254    0.124194    0.131766  54667900.0   \n",
       "37587        0x    1.270000    1.340000    1.250000    1.330000  17778000.0   \n",
       "\n",
       "             market  \n",
       "0      1.500520e+09  \n",
       "1      7.377340e+07  \n",
       "2      1.491160e+09  \n",
       "3      7.495270e+07  \n",
       "4      1.597780e+09  \n",
       "...             ...  \n",
       "37583  5.450080e+09  \n",
       "37584  5.959400e+08  \n",
       "37585  9.769940e+08  \n",
       "37586  9.348810e+08  \n",
       "37587  6.741510e+08  \n",
       "\n",
       "[37588 rows x 13 columns]"
      ]
     },
     "execution_count": 3,
     "metadata": {},
     "output_type": "execute_result"
    }
   ],
   "source": [
    "# Let's see what we've got\n",
    "coins"
   ]
  },
  {
   "cell_type": "markdown",
   "metadata": {},
   "source": [
    "column descriptions:\n",
    " - date - date of measurement\n",
    " - name - coin's name\n",
    " - symbol - coin's symbol\n",
    " - price - average coin price per trading day in USD\n",
    " - txCount - the number of transactions in the coin network\n",
    " - txVolume - coin's volume transferred between the coin network addresses\n",
    " - activeAddresses - the number of addresses that transacted on the trading day in the coin network\n",
    " - open - coin price at the beginning of the trading day\n",
    " - close - coin price at the end of the trading day\n",
    " - high - highest coin price during the trading day\n",
    " - low - lowest coin price during the trading day\n",
    " - volume - trading volume of this coin on exchanges on the trading day\n",
    " - market - capitalization of this coin on the trading day"
   ]
  },
  {
   "cell_type": "markdown",
   "metadata": {},
   "source": [
    "From output you can get a general idea of the table. You can see that the table can store both numeric and categorical (string) data, the number of rows and columns. All this information and much more can be obtained in the code."
   ]
  },
  {
   "cell_type": "markdown",
   "metadata": {},
   "source": [
    "For convenience, we will further limit the size of pandas output in jupyter notebook."
   ]
  },
  {
   "cell_type": "code",
   "execution_count": 4,
   "metadata": {},
   "outputs": [],
   "source": [
    "pd.set_option('display.max_rows', 10)"
   ]
  },
  {
   "cell_type": "code",
   "execution_count": 5,
   "metadata": {},
   "outputs": [
    {
     "data": {
      "text/plain": [
       "(37588, 13)"
      ]
     },
     "execution_count": 5,
     "metadata": {},
     "output_type": "execute_result"
    }
   ],
   "source": [
    "coins.shape  # Table's size"
   ]
  },
  {
   "cell_type": "code",
   "execution_count": 6,
   "metadata": {},
   "outputs": [
    {
     "data": {
      "text/html": [
       "<div>\n",
       "<style scoped>\n",
       "    .dataframe tbody tr th:only-of-type {\n",
       "        vertical-align: middle;\n",
       "    }\n",
       "\n",
       "    .dataframe tbody tr th {\n",
       "        vertical-align: top;\n",
       "    }\n",
       "\n",
       "    .dataframe thead th {\n",
       "        text-align: right;\n",
       "    }\n",
       "</style>\n",
       "<table border=\"1\" class=\"dataframe\">\n",
       "  <thead>\n",
       "    <tr style=\"text-align: right;\">\n",
       "      <th></th>\n",
       "      <th>date</th>\n",
       "      <th>price</th>\n",
       "      <th>txCount</th>\n",
       "      <th>txVolume</th>\n",
       "      <th>activeAddresses</th>\n",
       "      <th>symbol</th>\n",
       "      <th>name</th>\n",
       "      <th>open</th>\n",
       "      <th>high</th>\n",
       "      <th>low</th>\n",
       "      <th>close</th>\n",
       "      <th>volume</th>\n",
       "      <th>market</th>\n",
       "    </tr>\n",
       "  </thead>\n",
       "  <tbody>\n",
       "    <tr>\n",
       "      <th>0</th>\n",
       "      <td>2013-04-28</td>\n",
       "      <td>135.30</td>\n",
       "      <td>41702.0</td>\n",
       "      <td>6.879868e+07</td>\n",
       "      <td>117984.0</td>\n",
       "      <td>BTC</td>\n",
       "      <td>Bitcoin</td>\n",
       "      <td>135.30</td>\n",
       "      <td>135.98</td>\n",
       "      <td>132.10</td>\n",
       "      <td>134.21</td>\n",
       "      <td>0.0</td>\n",
       "      <td>1.500520e+09</td>\n",
       "    </tr>\n",
       "    <tr>\n",
       "      <th>1</th>\n",
       "      <td>2013-04-28</td>\n",
       "      <td>4.30</td>\n",
       "      <td>9174.0</td>\n",
       "      <td>4.431952e+07</td>\n",
       "      <td>17216.0</td>\n",
       "      <td>LTC</td>\n",
       "      <td>Litecoin</td>\n",
       "      <td>4.30</td>\n",
       "      <td>4.40</td>\n",
       "      <td>4.18</td>\n",
       "      <td>4.35</td>\n",
       "      <td>0.0</td>\n",
       "      <td>7.377340e+07</td>\n",
       "    </tr>\n",
       "    <tr>\n",
       "      <th>2</th>\n",
       "      <td>2013-04-29</td>\n",
       "      <td>134.44</td>\n",
       "      <td>51602.0</td>\n",
       "      <td>1.138128e+08</td>\n",
       "      <td>86925.0</td>\n",
       "      <td>BTC</td>\n",
       "      <td>Bitcoin</td>\n",
       "      <td>134.44</td>\n",
       "      <td>147.49</td>\n",
       "      <td>134.00</td>\n",
       "      <td>144.54</td>\n",
       "      <td>0.0</td>\n",
       "      <td>1.491160e+09</td>\n",
       "    </tr>\n",
       "  </tbody>\n",
       "</table>\n",
       "</div>"
      ],
      "text/plain": [
       "         date   price  txCount      txVolume  activeAddresses symbol  \\\n",
       "0  2013-04-28  135.30  41702.0  6.879868e+07         117984.0    BTC   \n",
       "1  2013-04-28    4.30   9174.0  4.431952e+07          17216.0    LTC   \n",
       "2  2013-04-29  134.44  51602.0  1.138128e+08          86925.0    BTC   \n",
       "\n",
       "       name    open    high     low   close  volume        market  \n",
       "0   Bitcoin  135.30  135.98  132.10  134.21     0.0  1.500520e+09  \n",
       "1  Litecoin    4.30    4.40    4.18    4.35     0.0  7.377340e+07  \n",
       "2   Bitcoin  134.44  147.49  134.00  144.54     0.0  1.491160e+09  "
      ]
     },
     "execution_count": 6,
     "metadata": {},
     "output_type": "execute_result"
    }
   ],
   "source": [
    "coins.head(3)  #  First three rows of the table. use .tail(n) for a number of last rows"
   ]
  },
  {
   "cell_type": "code",
   "execution_count": 7,
   "metadata": {},
   "outputs": [
    {
     "data": {
      "text/html": [
       "<div>\n",
       "<style scoped>\n",
       "    .dataframe tbody tr th:only-of-type {\n",
       "        vertical-align: middle;\n",
       "    }\n",
       "\n",
       "    .dataframe tbody tr th {\n",
       "        vertical-align: top;\n",
       "    }\n",
       "\n",
       "    .dataframe thead th {\n",
       "        text-align: right;\n",
       "    }\n",
       "</style>\n",
       "<table border=\"1\" class=\"dataframe\">\n",
       "  <thead>\n",
       "    <tr style=\"text-align: right;\">\n",
       "      <th></th>\n",
       "      <th>price</th>\n",
       "      <th>txCount</th>\n",
       "      <th>txVolume</th>\n",
       "      <th>activeAddresses</th>\n",
       "      <th>open</th>\n",
       "      <th>high</th>\n",
       "      <th>low</th>\n",
       "      <th>close</th>\n",
       "      <th>volume</th>\n",
       "      <th>market</th>\n",
       "    </tr>\n",
       "  </thead>\n",
       "  <tbody>\n",
       "    <tr>\n",
       "      <th>count</th>\n",
       "      <td>37261.000000</td>\n",
       "      <td>3.606800e+04</td>\n",
       "      <td>3.575800e+04</td>\n",
       "      <td>3.606800e+04</td>\n",
       "      <td>37588.000000</td>\n",
       "      <td>37588.000000</td>\n",
       "      <td>37588.000000</td>\n",
       "      <td>37588.000000</td>\n",
       "      <td>3.758800e+04</td>\n",
       "      <td>3.758800e+04</td>\n",
       "    </tr>\n",
       "    <tr>\n",
       "      <th>mean</th>\n",
       "      <td>127.395042</td>\n",
       "      <td>1.960144e+04</td>\n",
       "      <td>4.745076e+53</td>\n",
       "      <td>3.295039e+04</td>\n",
       "      <td>125.652051</td>\n",
       "      <td>131.127449</td>\n",
       "      <td>119.791636</td>\n",
       "      <td>125.771519</td>\n",
       "      <td>1.302249e+08</td>\n",
       "      <td>2.720948e+09</td>\n",
       "    </tr>\n",
       "    <tr>\n",
       "      <th>std</th>\n",
       "      <td>859.109058</td>\n",
       "      <td>7.702995e+04</td>\n",
       "      <td>8.972837e+55</td>\n",
       "      <td>1.143196e+05</td>\n",
       "      <td>855.436562</td>\n",
       "      <td>890.527305</td>\n",
       "      <td>813.697042</td>\n",
       "      <td>855.954704</td>\n",
       "      <td>8.042239e+08</td>\n",
       "      <td>1.534546e+10</td>\n",
       "    </tr>\n",
       "    <tr>\n",
       "      <th>min</th>\n",
       "      <td>0.000002</td>\n",
       "      <td>0.000000e+00</td>\n",
       "      <td>0.000000e+00</td>\n",
       "      <td>0.000000e+00</td>\n",
       "      <td>0.000002</td>\n",
       "      <td>0.000003</td>\n",
       "      <td>0.000002</td>\n",
       "      <td>0.000002</td>\n",
       "      <td>0.000000e+00</td>\n",
       "      <td>0.000000e+00</td>\n",
       "    </tr>\n",
       "    <tr>\n",
       "      <th>25%</th>\n",
       "      <td>0.059871</td>\n",
       "      <td>3.410000e+02</td>\n",
       "      <td>2.751161e+05</td>\n",
       "      <td>2.920000e+02</td>\n",
       "      <td>0.053032</td>\n",
       "      <td>0.057809</td>\n",
       "      <td>0.049289</td>\n",
       "      <td>0.053147</td>\n",
       "      <td>8.794400e+04</td>\n",
       "      <td>1.356655e+07</td>\n",
       "    </tr>\n",
       "    <tr>\n",
       "      <th>50%</th>\n",
       "      <td>1.020000</td>\n",
       "      <td>1.214500e+03</td>\n",
       "      <td>2.007019e+06</td>\n",
       "      <td>1.388000e+03</td>\n",
       "      <td>1.000000</td>\n",
       "      <td>1.050000</td>\n",
       "      <td>1.000000</td>\n",
       "      <td>1.000000</td>\n",
       "      <td>1.949815e+06</td>\n",
       "      <td>1.323890e+08</td>\n",
       "    </tr>\n",
       "    <tr>\n",
       "      <th>75%</th>\n",
       "      <td>8.710000</td>\n",
       "      <td>6.247000e+03</td>\n",
       "      <td>1.425408e+07</td>\n",
       "      <td>1.173400e+04</td>\n",
       "      <td>8.772500</td>\n",
       "      <td>9.480000</td>\n",
       "      <td>8.150000</td>\n",
       "      <td>8.810000</td>\n",
       "      <td>1.770732e+07</td>\n",
       "      <td>5.156410e+08</td>\n",
       "    </tr>\n",
       "    <tr>\n",
       "      <th>max</th>\n",
       "      <td>19475.800000</td>\n",
       "      <td>1.349890e+06</td>\n",
       "      <td>1.696744e+58</td>\n",
       "      <td>1.283929e+06</td>\n",
       "      <td>19475.800000</td>\n",
       "      <td>20089.000000</td>\n",
       "      <td>18974.100000</td>\n",
       "      <td>19497.400000</td>\n",
       "      <td>2.384090e+10</td>\n",
       "      <td>3.261410e+11</td>\n",
       "    </tr>\n",
       "  </tbody>\n",
       "</table>\n",
       "</div>"
      ],
      "text/plain": [
       "              price       txCount      txVolume  activeAddresses  \\\n",
       "count  37261.000000  3.606800e+04  3.575800e+04     3.606800e+04   \n",
       "mean     127.395042  1.960144e+04  4.745076e+53     3.295039e+04   \n",
       "std      859.109058  7.702995e+04  8.972837e+55     1.143196e+05   \n",
       "min        0.000002  0.000000e+00  0.000000e+00     0.000000e+00   \n",
       "25%        0.059871  3.410000e+02  2.751161e+05     2.920000e+02   \n",
       "50%        1.020000  1.214500e+03  2.007019e+06     1.388000e+03   \n",
       "75%        8.710000  6.247000e+03  1.425408e+07     1.173400e+04   \n",
       "max    19475.800000  1.349890e+06  1.696744e+58     1.283929e+06   \n",
       "\n",
       "               open          high           low         close        volume  \\\n",
       "count  37588.000000  37588.000000  37588.000000  37588.000000  3.758800e+04   \n",
       "mean     125.652051    131.127449    119.791636    125.771519  1.302249e+08   \n",
       "std      855.436562    890.527305    813.697042    855.954704  8.042239e+08   \n",
       "min        0.000002      0.000003      0.000002      0.000002  0.000000e+00   \n",
       "25%        0.053032      0.057809      0.049289      0.053147  8.794400e+04   \n",
       "50%        1.000000      1.050000      1.000000      1.000000  1.949815e+06   \n",
       "75%        8.772500      9.480000      8.150000      8.810000  1.770732e+07   \n",
       "max    19475.800000  20089.000000  18974.100000  19497.400000  2.384090e+10   \n",
       "\n",
       "             market  \n",
       "count  3.758800e+04  \n",
       "mean   2.720948e+09  \n",
       "std    1.534546e+10  \n",
       "min    0.000000e+00  \n",
       "25%    1.356655e+07  \n",
       "50%    1.323890e+08  \n",
       "75%    5.156410e+08  \n",
       "max    3.261410e+11  "
      ]
     },
     "execution_count": 7,
     "metadata": {},
     "output_type": "execute_result"
    }
   ],
   "source": [
    "coins.describe()  # Simple statistics for numeric columns"
   ]
  },
  {
   "cell_type": "code",
   "execution_count": 8,
   "metadata": {},
   "outputs": [
    {
     "data": {
      "text/plain": [
       "0        135.300000\n",
       "1          4.300000\n",
       "2        134.440000\n",
       "3          4.370000\n",
       "4        144.000000\n",
       "            ...    \n",
       "37583      0.293325\n",
       "37584      0.039586\n",
       "37585    239.760000\n",
       "37586      0.127555\n",
       "37587      1.270000\n",
       "Name: price, Length: 37588, dtype: float64"
      ]
     },
     "execution_count": 8,
     "metadata": {},
     "output_type": "execute_result"
    }
   ],
   "source": [
    "coins['price']  # A column can be selected "
   ]
  },
  {
   "cell_type": "code",
   "execution_count": 9,
   "metadata": {},
   "outputs": [
    {
     "data": {
      "text/plain": [
       "0         3.880000\n",
       "1         0.220000\n",
       "2        13.490000\n",
       "3         0.340000\n",
       "4        12.880000\n",
       "           ...    \n",
       "37583     0.010455\n",
       "37584     0.002057\n",
       "37585    11.130000\n",
       "37586     0.009060\n",
       "37587     0.090000\n",
       "Length: 37588, dtype: float64"
      ]
     },
     "execution_count": 9,
     "metadata": {},
     "output_type": "execute_result"
    }
   ],
   "source": [
    "coins['high'] - coins['low']  # element-wise operations work on columns"
   ]
  },
  {
   "cell_type": "code",
   "execution_count": 10,
   "metadata": {},
   "outputs": [],
   "source": [
    "coins['spread'] = coins['high'] - coins['low']  # New columns can be added to the table"
   ]
  },
  {
   "cell_type": "code",
   "execution_count": 11,
   "metadata": {},
   "outputs": [],
   "source": [
    "del coins['spread']  # Removing a column. Alternative: coins.pop('spread')"
   ]
  },
  {
   "cell_type": "markdown",
   "metadata": {},
   "source": [
    "Columns in pandas tables behave like arrays of fixed length. The nice difference is that the columns have many useful analytic methods. For example,"
   ]
  },
  {
   "cell_type": "code",
   "execution_count": 12,
   "metadata": {},
   "outputs": [
    {
     "data": {
      "text/plain": [
       "BTC      1866\n",
       "LTC      1866\n",
       "DOGE     1635\n",
       "VTC      1599\n",
       "DGB      1582\n",
       "         ... \n",
       "ZIL       133\n",
       "POLY      125\n",
       "CENNZ      86\n",
       "LOOM       85\n",
       "CTXC       52\n",
       "Name: symbol, Length: 66, dtype: int64"
      ]
     },
     "execution_count": 12,
     "metadata": {},
     "output_type": "execute_result"
    }
   ],
   "source": [
    "coins['symbol'].value_counts() # Number of rows for each coin"
   ]
  },
  {
   "cell_type": "code",
   "execution_count": 13,
   "metadata": {},
   "outputs": [
    {
     "data": {
      "text/plain": [
       "19475.8"
      ]
     },
     "execution_count": 13,
     "metadata": {},
     "output_type": "execute_result"
    }
   ],
   "source": [
    "# Maximum value for price column\n",
    "coins['price'].max()"
   ]
  },
  {
   "cell_type": "markdown",
   "metadata": {},
   "source": [
    "**Task**: How many different coins are in the dataset?"
   ]
  },
  {
   "cell_type": "code",
   "execution_count": 14,
   "metadata": {
    "collapsed": true
   },
   "outputs": [],
   "source": [
    "# your code here"
   ]
  },
  {
   "cell_type": "code",
   "execution_count": 14,
   "metadata": {},
   "outputs": [
    {
     "data": {
      "text/plain": [
       "0    6.879868e+07\n",
       "1    4.431952e+07\n",
       "2    1.138128e+08\n",
       "3    3.647810e+07\n",
       "Name: txVolume, dtype: float64"
      ]
     },
     "execution_count": 14,
     "metadata": {},
     "output_type": "execute_result"
    }
   ],
   "source": [
    "# Standard indexing works\n",
    "coins['txVolume'][:4]"
   ]
  },
  {
   "cell_type": "markdown",
   "metadata": {},
   "source": [
    "Boolean masks also work"
   ]
  },
  {
   "cell_type": "code",
   "execution_count": 15,
   "metadata": {},
   "outputs": [
    {
     "data": {
      "text/plain": [
       "0         True\n",
       "1         True\n",
       "2         True\n",
       "3         True\n",
       "4         True\n",
       "         ...  \n",
       "37583     True\n",
       "37584     True\n",
       "37585     True\n",
       "37586     True\n",
       "37587    False\n",
       "Name: txCount, Length: 37588, dtype: bool"
      ]
     },
     "execution_count": 15,
     "metadata": {},
     "output_type": "execute_result"
    }
   ],
   "source": [
    "coins['txCount'] > 1000"
   ]
  },
  {
   "cell_type": "code",
   "execution_count": 16,
   "metadata": {},
   "outputs": [
    {
     "data": {
      "text/html": [
       "<div>\n",
       "<style scoped>\n",
       "    .dataframe tbody tr th:only-of-type {\n",
       "        vertical-align: middle;\n",
       "    }\n",
       "\n",
       "    .dataframe tbody tr th {\n",
       "        vertical-align: top;\n",
       "    }\n",
       "\n",
       "    .dataframe thead th {\n",
       "        text-align: right;\n",
       "    }\n",
       "</style>\n",
       "<table border=\"1\" class=\"dataframe\">\n",
       "  <thead>\n",
       "    <tr style=\"text-align: right;\">\n",
       "      <th></th>\n",
       "      <th>date</th>\n",
       "      <th>price</th>\n",
       "      <th>txCount</th>\n",
       "      <th>txVolume</th>\n",
       "      <th>activeAddresses</th>\n",
       "      <th>symbol</th>\n",
       "      <th>name</th>\n",
       "      <th>open</th>\n",
       "      <th>high</th>\n",
       "      <th>low</th>\n",
       "      <th>close</th>\n",
       "      <th>volume</th>\n",
       "      <th>market</th>\n",
       "    </tr>\n",
       "  </thead>\n",
       "  <tbody>\n",
       "    <tr>\n",
       "      <th>0</th>\n",
       "      <td>2013-04-28</td>\n",
       "      <td>135.300000</td>\n",
       "      <td>41702.0</td>\n",
       "      <td>6.879868e+07</td>\n",
       "      <td>117984.0</td>\n",
       "      <td>BTC</td>\n",
       "      <td>Bitcoin</td>\n",
       "      <td>135.300000</td>\n",
       "      <td>135.980000</td>\n",
       "      <td>132.100000</td>\n",
       "      <td>134.210000</td>\n",
       "      <td>0.0</td>\n",
       "      <td>1.500520e+09</td>\n",
       "    </tr>\n",
       "    <tr>\n",
       "      <th>1</th>\n",
       "      <td>2013-04-28</td>\n",
       "      <td>4.300000</td>\n",
       "      <td>9174.0</td>\n",
       "      <td>4.431952e+07</td>\n",
       "      <td>17216.0</td>\n",
       "      <td>LTC</td>\n",
       "      <td>Litecoin</td>\n",
       "      <td>4.300000</td>\n",
       "      <td>4.400000</td>\n",
       "      <td>4.180000</td>\n",
       "      <td>4.350000</td>\n",
       "      <td>0.0</td>\n",
       "      <td>7.377340e+07</td>\n",
       "    </tr>\n",
       "    <tr>\n",
       "      <th>2</th>\n",
       "      <td>2013-04-29</td>\n",
       "      <td>134.440000</td>\n",
       "      <td>51602.0</td>\n",
       "      <td>1.138128e+08</td>\n",
       "      <td>86925.0</td>\n",
       "      <td>BTC</td>\n",
       "      <td>Bitcoin</td>\n",
       "      <td>134.440000</td>\n",
       "      <td>147.490000</td>\n",
       "      <td>134.000000</td>\n",
       "      <td>144.540000</td>\n",
       "      <td>0.0</td>\n",
       "      <td>1.491160e+09</td>\n",
       "    </tr>\n",
       "    <tr>\n",
       "      <th>3</th>\n",
       "      <td>2013-04-29</td>\n",
       "      <td>4.370000</td>\n",
       "      <td>9275.0</td>\n",
       "      <td>3.647810e+07</td>\n",
       "      <td>18395.0</td>\n",
       "      <td>LTC</td>\n",
       "      <td>Litecoin</td>\n",
       "      <td>4.370000</td>\n",
       "      <td>4.570000</td>\n",
       "      <td>4.230000</td>\n",
       "      <td>4.380000</td>\n",
       "      <td>0.0</td>\n",
       "      <td>7.495270e+07</td>\n",
       "    </tr>\n",
       "    <tr>\n",
       "      <th>4</th>\n",
       "      <td>2013-04-30</td>\n",
       "      <td>144.000000</td>\n",
       "      <td>47450.0</td>\n",
       "      <td>8.426632e+07</td>\n",
       "      <td>76871.0</td>\n",
       "      <td>BTC</td>\n",
       "      <td>Bitcoin</td>\n",
       "      <td>144.000000</td>\n",
       "      <td>146.930000</td>\n",
       "      <td>134.050000</td>\n",
       "      <td>139.000000</td>\n",
       "      <td>0.0</td>\n",
       "      <td>1.597780e+09</td>\n",
       "    </tr>\n",
       "    <tr>\n",
       "      <th>...</th>\n",
       "      <td>...</td>\n",
       "      <td>...</td>\n",
       "      <td>...</td>\n",
       "      <td>...</td>\n",
       "      <td>...</td>\n",
       "      <td>...</td>\n",
       "      <td>...</td>\n",
       "      <td>...</td>\n",
       "      <td>...</td>\n",
       "      <td>...</td>\n",
       "      <td>...</td>\n",
       "      <td>...</td>\n",
       "      <td>...</td>\n",
       "    </tr>\n",
       "    <tr>\n",
       "      <th>37582</th>\n",
       "      <td>2018-06-06</td>\n",
       "      <td>0.252141</td>\n",
       "      <td>6613.0</td>\n",
       "      <td>3.267675e+06</td>\n",
       "      <td>3231.0</td>\n",
       "      <td>XEM</td>\n",
       "      <td>NEM</td>\n",
       "      <td>0.252141</td>\n",
       "      <td>0.252469</td>\n",
       "      <td>0.245758</td>\n",
       "      <td>0.250975</td>\n",
       "      <td>16446800.0</td>\n",
       "      <td>2.269270e+09</td>\n",
       "    </tr>\n",
       "    <tr>\n",
       "      <th>37583</th>\n",
       "      <td>2018-06-06</td>\n",
       "      <td>0.293325</td>\n",
       "      <td>4830.0</td>\n",
       "      <td>2.312763e+05</td>\n",
       "      <td>659.0</td>\n",
       "      <td>XLM</td>\n",
       "      <td>Stellar</td>\n",
       "      <td>0.293325</td>\n",
       "      <td>0.299955</td>\n",
       "      <td>0.289500</td>\n",
       "      <td>0.298269</td>\n",
       "      <td>51165000.0</td>\n",
       "      <td>5.450080e+09</td>\n",
       "    </tr>\n",
       "    <tr>\n",
       "      <th>37584</th>\n",
       "      <td>2018-06-06</td>\n",
       "      <td>0.039586</td>\n",
       "      <td>7205.0</td>\n",
       "      <td>4.947760e+06</td>\n",
       "      <td>18228.0</td>\n",
       "      <td>XVG</td>\n",
       "      <td>Verge</td>\n",
       "      <td>0.039586</td>\n",
       "      <td>0.039737</td>\n",
       "      <td>0.037680</td>\n",
       "      <td>0.038797</td>\n",
       "      <td>9307450.0</td>\n",
       "      <td>5.959400e+08</td>\n",
       "    </tr>\n",
       "    <tr>\n",
       "      <th>37585</th>\n",
       "      <td>2018-06-06</td>\n",
       "      <td>239.760000</td>\n",
       "      <td>10687.0</td>\n",
       "      <td>3.986308e+07</td>\n",
       "      <td>96516.0</td>\n",
       "      <td>ZEC</td>\n",
       "      <td>Zcash</td>\n",
       "      <td>239.750000</td>\n",
       "      <td>240.340000</td>\n",
       "      <td>229.210000</td>\n",
       "      <td>236.050000</td>\n",
       "      <td>56887000.0</td>\n",
       "      <td>9.769940e+08</td>\n",
       "    </tr>\n",
       "    <tr>\n",
       "      <th>37586</th>\n",
       "      <td>2018-06-06</td>\n",
       "      <td>0.127555</td>\n",
       "      <td>1313.0</td>\n",
       "      <td>1.596436e+07</td>\n",
       "      <td>733.0</td>\n",
       "      <td>ZIL</td>\n",
       "      <td>Zilliqa</td>\n",
       "      <td>0.127555</td>\n",
       "      <td>0.133254</td>\n",
       "      <td>0.124194</td>\n",
       "      <td>0.131766</td>\n",
       "      <td>54667900.0</td>\n",
       "      <td>9.348810e+08</td>\n",
       "    </tr>\n",
       "  </tbody>\n",
       "</table>\n",
       "<p>19365 rows × 13 columns</p>\n",
       "</div>"
      ],
      "text/plain": [
       "             date       price  txCount      txVolume  activeAddresses symbol  \\\n",
       "0      2013-04-28  135.300000  41702.0  6.879868e+07         117984.0    BTC   \n",
       "1      2013-04-28    4.300000   9174.0  4.431952e+07          17216.0    LTC   \n",
       "2      2013-04-29  134.440000  51602.0  1.138128e+08          86925.0    BTC   \n",
       "3      2013-04-29    4.370000   9275.0  3.647810e+07          18395.0    LTC   \n",
       "4      2013-04-30  144.000000  47450.0  8.426632e+07          76871.0    BTC   \n",
       "...           ...         ...      ...           ...              ...    ...   \n",
       "37582  2018-06-06    0.252141   6613.0  3.267675e+06           3231.0    XEM   \n",
       "37583  2018-06-06    0.293325   4830.0  2.312763e+05            659.0    XLM   \n",
       "37584  2018-06-06    0.039586   7205.0  4.947760e+06          18228.0    XVG   \n",
       "37585  2018-06-06  239.760000  10687.0  3.986308e+07          96516.0    ZEC   \n",
       "37586  2018-06-06    0.127555   1313.0  1.596436e+07            733.0    ZIL   \n",
       "\n",
       "           name        open        high         low       close      volume  \\\n",
       "0       Bitcoin  135.300000  135.980000  132.100000  134.210000         0.0   \n",
       "1      Litecoin    4.300000    4.400000    4.180000    4.350000         0.0   \n",
       "2       Bitcoin  134.440000  147.490000  134.000000  144.540000         0.0   \n",
       "3      Litecoin    4.370000    4.570000    4.230000    4.380000         0.0   \n",
       "4       Bitcoin  144.000000  146.930000  134.050000  139.000000         0.0   \n",
       "...         ...         ...         ...         ...         ...         ...   \n",
       "37582       NEM    0.252141    0.252469    0.245758    0.250975  16446800.0   \n",
       "37583   Stellar    0.293325    0.299955    0.289500    0.298269  51165000.0   \n",
       "37584     Verge    0.039586    0.039737    0.037680    0.038797   9307450.0   \n",
       "37585     Zcash  239.750000  240.340000  229.210000  236.050000  56887000.0   \n",
       "37586   Zilliqa    0.127555    0.133254    0.124194    0.131766  54667900.0   \n",
       "\n",
       "             market  \n",
       "0      1.500520e+09  \n",
       "1      7.377340e+07  \n",
       "2      1.491160e+09  \n",
       "3      7.495270e+07  \n",
       "4      1.597780e+09  \n",
       "...             ...  \n",
       "37582  2.269270e+09  \n",
       "37583  5.450080e+09  \n",
       "37584  5.959400e+08  \n",
       "37585  9.769940e+08  \n",
       "37586  9.348810e+08  \n",
       "\n",
       "[19365 rows x 13 columns]"
      ]
     },
     "execution_count": 16,
     "metadata": {},
     "output_type": "execute_result"
    }
   ],
   "source": [
    "# Rows with txCount > 1000\n",
    "coins[coins['txCount'] > 1000]"
   ]
  },
  {
   "cell_type": "code",
   "execution_count": 17,
   "metadata": {},
   "outputs": [
    {
     "data": {
      "text/plain": [
       "0         True\n",
       "1        False\n",
       "2         True\n",
       "3        False\n",
       "4         True\n",
       "         ...  \n",
       "37583    False\n",
       "37584    False\n",
       "37585    False\n",
       "37586    False\n",
       "37587    False\n",
       "Name: symbol, Length: 37588, dtype: bool"
      ]
     },
     "execution_count": 17,
     "metadata": {},
     "output_type": "execute_result"
    }
   ],
   "source": [
    "# coin's symbol is BTC or ADA\n",
    "coins['symbol'].isin(['BTC', 'ADA'])"
   ]
  },
  {
   "cell_type": "code",
   "execution_count": 18,
   "metadata": {},
   "outputs": [
    {
     "data": {
      "text/plain": [
       "0         True\n",
       "1         True\n",
       "2         True\n",
       "3         True\n",
       "4         True\n",
       "         ...  \n",
       "37583    False\n",
       "37584    False\n",
       "37585     True\n",
       "37586    False\n",
       "37587    False\n",
       "Name: symbol, Length: 37588, dtype: bool"
      ]
     },
     "execution_count": 18,
     "metadata": {},
     "output_type": "execute_result"
    }
   ],
   "source": [
    "# symbol contains 'C'\n",
    "coins['symbol'].str.contains('C')"
   ]
  },
  {
   "cell_type": "code",
   "execution_count": 19,
   "metadata": {},
   "outputs": [
    {
     "data": {
      "text/plain": [
       "0         True\n",
       "1        False\n",
       "2         True\n",
       "3        False\n",
       "4         True\n",
       "         ...  \n",
       "37583    False\n",
       "37584    False\n",
       "37585    False\n",
       "37586    False\n",
       "37587    False\n",
       "Length: 37588, dtype: bool"
      ]
     },
     "execution_count": 19,
     "metadata": {},
     "output_type": "execute_result"
    }
   ],
   "source": [
    "# Complex conditions (brackets are mandatory!)\n",
    "((coins['price'] > 18000) | (coins['market'] > 200000)) & (coins['symbol'] == 'BTC')"
   ]
  },
  {
   "cell_type": "markdown",
   "metadata": {},
   "source": [
    "The main purpose of the resulting boolean columns is that they can be used as an indexing object. A kind of advanced slicing for columns and tables"
   ]
  },
  {
   "cell_type": "code",
   "execution_count": 20,
   "metadata": {},
   "outputs": [
    {
     "data": {
      "text/html": [
       "<div>\n",
       "<style scoped>\n",
       "    .dataframe tbody tr th:only-of-type {\n",
       "        vertical-align: middle;\n",
       "    }\n",
       "\n",
       "    .dataframe tbody tr th {\n",
       "        vertical-align: top;\n",
       "    }\n",
       "\n",
       "    .dataframe thead th {\n",
       "        text-align: right;\n",
       "    }\n",
       "</style>\n",
       "<table border=\"1\" class=\"dataframe\">\n",
       "  <thead>\n",
       "    <tr style=\"text-align: right;\">\n",
       "      <th></th>\n",
       "      <th>date</th>\n",
       "      <th>price</th>\n",
       "      <th>txCount</th>\n",
       "      <th>txVolume</th>\n",
       "      <th>activeAddresses</th>\n",
       "      <th>symbol</th>\n",
       "      <th>name</th>\n",
       "      <th>open</th>\n",
       "      <th>high</th>\n",
       "      <th>low</th>\n",
       "      <th>close</th>\n",
       "      <th>volume</th>\n",
       "      <th>market</th>\n",
       "    </tr>\n",
       "  </thead>\n",
       "  <tbody>\n",
       "    <tr>\n",
       "      <th>12</th>\n",
       "      <td>2013-05-04</td>\n",
       "      <td>98.10</td>\n",
       "      <td>50102.0</td>\n",
       "      <td>3.896570e+07</td>\n",
       "      <td>69959.0</td>\n",
       "      <td>BTC</td>\n",
       "      <td>Bitcoin</td>\n",
       "      <td>98.10</td>\n",
       "      <td>115.00</td>\n",
       "      <td>92.50</td>\n",
       "      <td>112.50</td>\n",
       "      <td>0.0</td>\n",
       "      <td>1.089890e+09</td>\n",
       "    </tr>\n",
       "    <tr>\n",
       "      <th>98</th>\n",
       "      <td>2013-06-16</td>\n",
       "      <td>99.80</td>\n",
       "      <td>42781.0</td>\n",
       "      <td>4.696943e+07</td>\n",
       "      <td>48785.0</td>\n",
       "      <td>BTC</td>\n",
       "      <td>Bitcoin</td>\n",
       "      <td>99.80</td>\n",
       "      <td>101.60</td>\n",
       "      <td>98.95</td>\n",
       "      <td>99.51</td>\n",
       "      <td>0.0</td>\n",
       "      <td>1.127120e+09</td>\n",
       "    </tr>\n",
       "    <tr>\n",
       "      <th>100</th>\n",
       "      <td>2013-06-17</td>\n",
       "      <td>99.90</td>\n",
       "      <td>45798.0</td>\n",
       "      <td>5.455223e+07</td>\n",
       "      <td>56902.0</td>\n",
       "      <td>BTC</td>\n",
       "      <td>Bitcoin</td>\n",
       "      <td>99.90</td>\n",
       "      <td>102.21</td>\n",
       "      <td>99.00</td>\n",
       "      <td>101.70</td>\n",
       "      <td>0.0</td>\n",
       "      <td>1.128720e+09</td>\n",
       "    </tr>\n",
       "    <tr>\n",
       "      <th>124</th>\n",
       "      <td>2013-06-29</td>\n",
       "      <td>94.66</td>\n",
       "      <td>36376.0</td>\n",
       "      <td>4.519440e+07</td>\n",
       "      <td>60980.0</td>\n",
       "      <td>BTC</td>\n",
       "      <td>Bitcoin</td>\n",
       "      <td>94.66</td>\n",
       "      <td>99.99</td>\n",
       "      <td>93.00</td>\n",
       "      <td>94.99</td>\n",
       "      <td>0.0</td>\n",
       "      <td>1.074010e+09</td>\n",
       "    </tr>\n",
       "    <tr>\n",
       "      <th>126</th>\n",
       "      <td>2013-06-30</td>\n",
       "      <td>95.00</td>\n",
       "      <td>30800.0</td>\n",
       "      <td>3.584930e+07</td>\n",
       "      <td>50485.0</td>\n",
       "      <td>BTC</td>\n",
       "      <td>Bitcoin</td>\n",
       "      <td>95.00</td>\n",
       "      <td>98.12</td>\n",
       "      <td>94.22</td>\n",
       "      <td>96.61</td>\n",
       "      <td>0.0</td>\n",
       "      <td>1.078260e+09</td>\n",
       "    </tr>\n",
       "    <tr>\n",
       "      <th>...</th>\n",
       "      <td>...</td>\n",
       "      <td>...</td>\n",
       "      <td>...</td>\n",
       "      <td>...</td>\n",
       "      <td>...</td>\n",
       "      <td>...</td>\n",
       "      <td>...</td>\n",
       "      <td>...</td>\n",
       "      <td>...</td>\n",
       "      <td>...</td>\n",
       "      <td>...</td>\n",
       "      <td>...</td>\n",
       "      <td>...</td>\n",
       "    </tr>\n",
       "    <tr>\n",
       "      <th>176</th>\n",
       "      <td>2013-07-25</td>\n",
       "      <td>94.50</td>\n",
       "      <td>42384.0</td>\n",
       "      <td>7.153660e+07</td>\n",
       "      <td>66440.0</td>\n",
       "      <td>BTC</td>\n",
       "      <td>Bitcoin</td>\n",
       "      <td>94.50</td>\n",
       "      <td>97.33</td>\n",
       "      <td>93.87</td>\n",
       "      <td>96.90</td>\n",
       "      <td>0.0</td>\n",
       "      <td>1.082800e+09</td>\n",
       "    </tr>\n",
       "    <tr>\n",
       "      <th>178</th>\n",
       "      <td>2013-07-26</td>\n",
       "      <td>96.95</td>\n",
       "      <td>37209.0</td>\n",
       "      <td>7.056459e+07</td>\n",
       "      <td>62558.0</td>\n",
       "      <td>BTC</td>\n",
       "      <td>Bitcoin</td>\n",
       "      <td>96.95</td>\n",
       "      <td>97.47</td>\n",
       "      <td>96.00</td>\n",
       "      <td>96.02</td>\n",
       "      <td>0.0</td>\n",
       "      <td>1.111160e+09</td>\n",
       "    </tr>\n",
       "    <tr>\n",
       "      <th>180</th>\n",
       "      <td>2013-07-27</td>\n",
       "      <td>96.02</td>\n",
       "      <td>36711.0</td>\n",
       "      <td>4.158844e+07</td>\n",
       "      <td>52438.0</td>\n",
       "      <td>BTC</td>\n",
       "      <td>Bitcoin</td>\n",
       "      <td>96.02</td>\n",
       "      <td>97.00</td>\n",
       "      <td>93.00</td>\n",
       "      <td>94.12</td>\n",
       "      <td>0.0</td>\n",
       "      <td>1.100900e+09</td>\n",
       "    </tr>\n",
       "    <tr>\n",
       "      <th>182</th>\n",
       "      <td>2013-07-28</td>\n",
       "      <td>94.40</td>\n",
       "      <td>37134.0</td>\n",
       "      <td>5.463939e+07</td>\n",
       "      <td>49179.0</td>\n",
       "      <td>BTC</td>\n",
       "      <td>Bitcoin</td>\n",
       "      <td>94.40</td>\n",
       "      <td>100.58</td>\n",
       "      <td>94.00</td>\n",
       "      <td>99.76</td>\n",
       "      <td>0.0</td>\n",
       "      <td>1.082750e+09</td>\n",
       "    </tr>\n",
       "    <tr>\n",
       "      <th>184</th>\n",
       "      <td>2013-07-29</td>\n",
       "      <td>98.60</td>\n",
       "      <td>41634.0</td>\n",
       "      <td>7.030931e+07</td>\n",
       "      <td>67473.0</td>\n",
       "      <td>BTC</td>\n",
       "      <td>Bitcoin</td>\n",
       "      <td>98.60</td>\n",
       "      <td>102.50</td>\n",
       "      <td>98.45</td>\n",
       "      <td>101.20</td>\n",
       "      <td>0.0</td>\n",
       "      <td>1.131340e+09</td>\n",
       "    </tr>\n",
       "  </tbody>\n",
       "</table>\n",
       "<p>34 rows × 13 columns</p>\n",
       "</div>"
      ],
      "text/plain": [
       "           date  price  txCount      txVolume  activeAddresses symbol  \\\n",
       "12   2013-05-04  98.10  50102.0  3.896570e+07          69959.0    BTC   \n",
       "98   2013-06-16  99.80  42781.0  4.696943e+07          48785.0    BTC   \n",
       "100  2013-06-17  99.90  45798.0  5.455223e+07          56902.0    BTC   \n",
       "124  2013-06-29  94.66  36376.0  4.519440e+07          60980.0    BTC   \n",
       "126  2013-06-30  95.00  30800.0  3.584930e+07          50485.0    BTC   \n",
       "..          ...    ...      ...           ...              ...    ...   \n",
       "176  2013-07-25  94.50  42384.0  7.153660e+07          66440.0    BTC   \n",
       "178  2013-07-26  96.95  37209.0  7.056459e+07          62558.0    BTC   \n",
       "180  2013-07-27  96.02  36711.0  4.158844e+07          52438.0    BTC   \n",
       "182  2013-07-28  94.40  37134.0  5.463939e+07          49179.0    BTC   \n",
       "184  2013-07-29  98.60  41634.0  7.030931e+07          67473.0    BTC   \n",
       "\n",
       "        name   open    high    low   close  volume        market  \n",
       "12   Bitcoin  98.10  115.00  92.50  112.50     0.0  1.089890e+09  \n",
       "98   Bitcoin  99.80  101.60  98.95   99.51     0.0  1.127120e+09  \n",
       "100  Bitcoin  99.90  102.21  99.00  101.70     0.0  1.128720e+09  \n",
       "124  Bitcoin  94.66   99.99  93.00   94.99     0.0  1.074010e+09  \n",
       "126  Bitcoin  95.00   98.12  94.22   96.61     0.0  1.078260e+09  \n",
       "..       ...    ...     ...    ...     ...     ...           ...  \n",
       "176  Bitcoin  94.50   97.33  93.87   96.90     0.0  1.082800e+09  \n",
       "178  Bitcoin  96.95   97.47  96.00   96.02     0.0  1.111160e+09  \n",
       "180  Bitcoin  96.02   97.00  93.00   94.12     0.0  1.100900e+09  \n",
       "182  Bitcoin  94.40  100.58  94.00   99.76     0.0  1.082750e+09  \n",
       "184  Bitcoin  98.60  102.50  98.45  101.20     0.0  1.131340e+09  \n",
       "\n",
       "[34 rows x 13 columns]"
      ]
     },
     "execution_count": 20,
     "metadata": {},
     "output_type": "execute_result"
    }
   ],
   "source": [
    "# Rows with BTC priced less than 100 USD\n",
    "coins[(coins['price'] < 100) & (coins['symbol'] == 'BTC')]"
   ]
  },
  {
   "cell_type": "code",
   "execution_count": 21,
   "metadata": {},
   "outputs": [
    {
     "data": {
      "text/plain": [
       "1         9174.0\n",
       "3         9275.0\n",
       "5         9099.0\n",
       "7         8990.0\n",
       "9         8031.0\n",
       "          ...   \n",
       "37277    22879.0\n",
       "37347    22155.0\n",
       "37417    24326.0\n",
       "37487    25172.0\n",
       "37557    25346.0\n",
       "Name: txCount, Length: 1866, dtype: float64"
      ]
     },
     "execution_count": 21,
     "metadata": {},
     "output_type": "execute_result"
    }
   ],
   "source": [
    "# Transactions count for litecoin\n",
    "coins['txCount'][coins['symbol'] == 'LTC']"
   ]
  },
  {
   "cell_type": "markdown",
   "metadata": {},
   "source": [
    "**Task**: What coin has the maximum price?"
   ]
  },
  {
   "cell_type": "code",
   "execution_count": 22,
   "metadata": {
    "collapsed": true
   },
   "outputs": [],
   "source": [
    "# your code here"
   ]
  },
  {
   "cell_type": "markdown",
   "metadata": {},
   "source": [
    "Table indexing works both for rows and columns"
   ]
  },
  {
   "cell_type": "code",
   "execution_count": 22,
   "metadata": {},
   "outputs": [
    {
     "data": {
      "text/html": [
       "<div>\n",
       "<style scoped>\n",
       "    .dataframe tbody tr th:only-of-type {\n",
       "        vertical-align: middle;\n",
       "    }\n",
       "\n",
       "    .dataframe tbody tr th {\n",
       "        vertical-align: top;\n",
       "    }\n",
       "\n",
       "    .dataframe thead th {\n",
       "        text-align: right;\n",
       "    }\n",
       "</style>\n",
       "<table border=\"1\" class=\"dataframe\">\n",
       "  <thead>\n",
       "    <tr style=\"text-align: right;\">\n",
       "      <th></th>\n",
       "      <th>high</th>\n",
       "      <th>volume</th>\n",
       "    </tr>\n",
       "  </thead>\n",
       "  <tbody>\n",
       "    <tr>\n",
       "      <th>27257</th>\n",
       "      <td>0.015788</td>\n",
       "      <td>283717000.0</td>\n",
       "    </tr>\n",
       "    <tr>\n",
       "      <th>27322</th>\n",
       "      <td>0.018773</td>\n",
       "      <td>288184000.0</td>\n",
       "    </tr>\n",
       "    <tr>\n",
       "      <th>27387</th>\n",
       "      <td>0.017664</td>\n",
       "      <td>235114000.0</td>\n",
       "    </tr>\n",
       "    <tr>\n",
       "      <th>27452</th>\n",
       "      <td>0.015569</td>\n",
       "      <td>115255000.0</td>\n",
       "    </tr>\n",
       "    <tr>\n",
       "      <th>27517</th>\n",
       "      <td>0.013560</td>\n",
       "      <td>100243000.0</td>\n",
       "    </tr>\n",
       "    <tr>\n",
       "      <th>27582</th>\n",
       "      <td>0.013153</td>\n",
       "      <td>62722000.0</td>\n",
       "    </tr>\n",
       "    <tr>\n",
       "      <th>27647</th>\n",
       "      <td>0.013339</td>\n",
       "      <td>56971300.0</td>\n",
       "    </tr>\n",
       "    <tr>\n",
       "      <th>27712</th>\n",
       "      <td>0.013653</td>\n",
       "      <td>55890600.0</td>\n",
       "    </tr>\n",
       "    <tr>\n",
       "      <th>27777</th>\n",
       "      <td>0.013187</td>\n",
       "      <td>65899000.0</td>\n",
       "    </tr>\n",
       "    <tr>\n",
       "      <th>27842</th>\n",
       "      <td>0.011779</td>\n",
       "      <td>62765500.0</td>\n",
       "    </tr>\n",
       "  </tbody>\n",
       "</table>\n",
       "</div>"
      ],
      "text/plain": [
       "           high       volume\n",
       "27257  0.015788  283717000.0\n",
       "27322  0.018773  288184000.0\n",
       "27387  0.017664  235114000.0\n",
       "27452  0.015569  115255000.0\n",
       "27517  0.013560  100243000.0\n",
       "27582  0.013153   62722000.0\n",
       "27647  0.013339   56971300.0\n",
       "27712  0.013653   55890600.0\n",
       "27777  0.013187   65899000.0\n",
       "27842  0.011779   62765500.0"
      ]
     },
     "execution_count": 22,
     "metadata": {},
     "output_type": "execute_result"
    }
   ],
   "source": [
    "# highest price and volume for days when DOGE has been priced greater than 1 cent\n",
    "coins.loc[\n",
    "    (coins['symbol'] == 'DOGE') & (coins['price'] > 0.01),\n",
    "    ['high', 'volume']\n",
    "]"
   ]
  },
  {
   "cell_type": "code",
   "execution_count": null,
   "metadata": {
    "collapsed": true
   },
   "outputs": [],
   "source": [
    "# TAB-completions!!!\n",
    "list."
   ]
  },
  {
   "cell_type": "markdown",
   "metadata": {},
   "source": [
    "From now on, you can already make simple sets from the data and transform them a bit. Of course, remember to use help() and tab-completion to learn more about the features of pandas. It’s worth keeping this rule in mind: if you really want to use a loop to iterate through the table and do something with the data, it is very likely that you are doing something wrong and, most likely, pandas has a tool for your task. The rest of this notebook is dedicated to pandas features, and it may seem boring, but without knowing these features you will be reinventing the wheel each time."
   ]
  },
  {
   "cell_type": "markdown",
   "metadata": {},
   "source": [
    "### 2. Global settings"
   ]
  },
  {
   "cell_type": "markdown",
   "metadata": {},
   "source": [
    "You might want to configure pandas. Most global settings relate to displaying a table or data."
   ]
  },
  {
   "cell_type": "code",
   "execution_count": 23,
   "metadata": {},
   "outputs": [
    {
     "data": {
      "text/plain": [
       "20"
      ]
     },
     "execution_count": 23,
     "metadata": {},
     "output_type": "execute_result"
    }
   ],
   "source": [
    "# get the maximum number of columns being displayed\n",
    "pd.get_option('display.max_columns')"
   ]
  },
  {
   "cell_type": "code",
   "execution_count": 24,
   "metadata": {},
   "outputs": [
    {
     "name": "stdout",
     "output_type": "stream",
     "text": [
      "display.max_columns : int\n",
      "    If max_cols is exceeded, switch to truncate view. Depending on\n",
      "    `large_repr`, objects are either centrally truncated or printed as\n",
      "    a summary view. 'None' value means unlimited.\n",
      "\n",
      "    In case python/IPython is running in a terminal and `large_repr`\n",
      "    equals 'truncate' this can be set to 0 and pandas will auto-detect\n",
      "    the width of the terminal and print a truncated object which fits\n",
      "    the screen width. The IPython notebook, IPython qtconsole, or IDLE\n",
      "    do not run in a terminal and hence it is not possible to do\n",
      "    correct auto-detection.\n",
      "    [default: 20] [currently: 20]\n"
     ]
    }
   ],
   "source": [
    "# To find out more about an option.  \n",
    "# The full list of options: https://pandas.pydata.org/pandas-docs/version/0.23.4/options.html#available-options\n",
    "pd.describe_option('display.max_columns')"
   ]
  },
  {
   "cell_type": "code",
   "execution_count": 25,
   "metadata": {},
   "outputs": [],
   "source": [
    "# set the maximum number of columns being displayed\n",
    "pd.set_option('display.max_columns', 15)"
   ]
  },
  {
   "cell_type": "markdown",
   "metadata": {},
   "source": [
    "### 3. Data types in pandas"
   ]
  },
  {
   "cell_type": "markdown",
   "metadata": {},
   "source": [
    "There are two main types of data in pandas - pandas.Series and pandas.DataFrame."
   ]
  },
  {
   "cell_type": "markdown",
   "metadata": {},
   "source": [
    "#### 3.1 pandas.Series"
   ]
  },
  {
   "cell_type": "markdown",
   "metadata": {},
   "source": [
    "Pandas.Series should be thought of as a one-dimensional array of a fixed size with data of the same type. Unlike arrays, access to elements can be at a non-numeric index. An index should be understood as row name.\n",
    "\n",
    "pandas.Series objects are very often used as return values in pandas."
   ]
  },
  {
   "cell_type": "code",
   "execution_count": 26,
   "metadata": {},
   "outputs": [
    {
     "data": {
      "text/plain": [
       "0     BTC\n",
       "1     LTC\n",
       "2    DOGE\n",
       "3    DASH\n",
       "dtype: object"
      ]
     },
     "execution_count": 26,
     "metadata": {},
     "output_type": "execute_result"
    }
   ],
   "source": [
    "# pandas.Series with standard indexes\n",
    "pd.Series(data=['BTC', 'LTC', 'DOGE', 'DASH'])"
   ]
  },
  {
   "cell_type": "code",
   "execution_count": 27,
   "metadata": {},
   "outputs": [
    {
     "data": {
      "text/plain": [
       "first_coin     BTC\n",
       "second_coin    ETH\n",
       "third_coin     XRP\n",
       "dtype: object"
      ]
     },
     "execution_count": 27,
     "metadata": {},
     "output_type": "execute_result"
    }
   ],
   "source": [
    "# pandas.Series with str indexes\n",
    "pd.Series(data=['BTC', 'ETH', 'XRP'], \n",
    "          index=['first_coin', 'second_coin', 'third_coin'], dtype=str)"
   ]
  },
  {
   "cell_type": "code",
   "execution_count": 28,
   "metadata": {},
   "outputs": [
    {
     "data": {
      "text/plain": [
       "first_coin     BTC\n",
       "second_coin    ETH\n",
       "third_coin     XRP\n",
       "dtype: object"
      ]
     },
     "execution_count": 28,
     "metadata": {},
     "output_type": "execute_result"
    }
   ],
   "source": [
    "# casting a dictionary\n",
    "pd.Series({'first_coin': 'BTC', 'second_coin': 'ETH', 'third_coin': 'XRP'})"
   ]
  },
  {
   "cell_type": "code",
   "execution_count": 29,
   "metadata": {},
   "outputs": [
    {
     "data": {
      "text/plain": [
       "3      To\n",
       "1     the\n",
       "2    Moon\n",
       "0       !\n",
       "0       !\n",
       "0       !\n",
       "dtype: object"
      ]
     },
     "execution_count": 29,
     "metadata": {},
     "output_type": "execute_result"
    }
   ],
   "source": [
    "sequence = pd.Series(data=['!', 'the', 'Moon', 'To'])\n",
    "sequence[[3, 1, 2, 0, 0, 0]]  # Access elements by indexes"
   ]
  },
  {
   "cell_type": "code",
   "execution_count": 30,
   "metadata": {},
   "outputs": [
    {
     "data": {
      "text/plain": [
       "'To'"
      ]
     },
     "execution_count": 30,
     "metadata": {},
     "output_type": "execute_result"
    }
   ],
   "source": [
    "sequence[3]  # Getting an element by its index"
   ]
  },
  {
   "cell_type": "code",
   "execution_count": 31,
   "metadata": {},
   "outputs": [],
   "source": [
    "# Works with non-standard indexes too\n",
    "sequence = pd.Series(data=['!', 'the', 'Moon', 'To'], \n",
    "                     index=['04-11-2018', '02-11-2018', '03-11-2018', '01-11-2018'])"
   ]
  },
  {
   "cell_type": "code",
   "execution_count": 32,
   "metadata": {},
   "outputs": [
    {
     "data": {
      "text/plain": [
       "01-11-2018      To\n",
       "02-11-2018     the\n",
       "03-11-2018    Moon\n",
       "04-11-2018       !\n",
       "dtype: object"
      ]
     },
     "execution_count": 32,
     "metadata": {},
     "output_type": "execute_result"
    }
   ],
   "source": [
    "sequence[['01-11-2018', '02-11-2018', '03-11-2018', '04-11-2018']] "
   ]
  },
  {
   "cell_type": "code",
   "execution_count": 33,
   "metadata": {},
   "outputs": [
    {
     "data": {
      "text/plain": [
       "'To'"
      ]
     },
     "execution_count": 33,
     "metadata": {},
     "output_type": "execute_result"
    }
   ],
   "source": [
    "sequence['01-11-2018'] "
   ]
  },
  {
   "cell_type": "code",
   "execution_count": 34,
   "metadata": {},
   "outputs": [],
   "source": [
    "# Remove an object\n",
    "del sequence"
   ]
  },
  {
   "cell_type": "markdown",
   "metadata": {},
   "source": [
    "#### 3.2 pandas.DataFrame"
   ]
  },
  {
   "cell_type": "markdown",
   "metadata": {},
   "source": [
    "pandas.DataFrame is a two-dimensional array of variable size with heterogeneous data (but of the same type within each column). It’s better to think of pandas.DataFrame as a set of columns, where each column is of pandas.Series type."
   ]
  },
  {
   "cell_type": "code",
   "execution_count": 35,
   "metadata": {},
   "outputs": [
    {
     "data": {
      "text/html": [
       "<div>\n",
       "<style scoped>\n",
       "    .dataframe tbody tr th:only-of-type {\n",
       "        vertical-align: middle;\n",
       "    }\n",
       "\n",
       "    .dataframe tbody tr th {\n",
       "        vertical-align: top;\n",
       "    }\n",
       "\n",
       "    .dataframe thead th {\n",
       "        text-align: right;\n",
       "    }\n",
       "</style>\n",
       "<table border=\"1\" class=\"dataframe\">\n",
       "  <thead>\n",
       "    <tr style=\"text-align: right;\">\n",
       "      <th></th>\n",
       "      <th>0</th>\n",
       "    </tr>\n",
       "  </thead>\n",
       "  <tbody>\n",
       "    <tr>\n",
       "      <th>0</th>\n",
       "      <td>BTC</td>\n",
       "    </tr>\n",
       "    <tr>\n",
       "      <th>1</th>\n",
       "      <td>LTC</td>\n",
       "    </tr>\n",
       "    <tr>\n",
       "      <th>2</th>\n",
       "      <td>XRP</td>\n",
       "    </tr>\n",
       "  </tbody>\n",
       "</table>\n",
       "</div>"
      ],
      "text/plain": [
       "     0\n",
       "0  BTC\n",
       "1  LTC\n",
       "2  XRP"
      ]
     },
     "execution_count": 35,
     "metadata": {},
     "output_type": "execute_result"
    }
   ],
   "source": [
    "# Create a table\n",
    "pd.DataFrame(data=['BTC', 'LTC', 'XRP'])"
   ]
  },
  {
   "cell_type": "code",
   "execution_count": 36,
   "metadata": {},
   "outputs": [
    {
     "data": {
      "text/html": [
       "<div>\n",
       "<style scoped>\n",
       "    .dataframe tbody tr th:only-of-type {\n",
       "        vertical-align: middle;\n",
       "    }\n",
       "\n",
       "    .dataframe tbody tr th {\n",
       "        vertical-align: top;\n",
       "    }\n",
       "\n",
       "    .dataframe thead th {\n",
       "        text-align: right;\n",
       "    }\n",
       "</style>\n",
       "<table border=\"1\" class=\"dataframe\">\n",
       "  <thead>\n",
       "    <tr style=\"text-align: right;\">\n",
       "      <th></th>\n",
       "      <th>symbol</th>\n",
       "      <th>price</th>\n",
       "    </tr>\n",
       "  </thead>\n",
       "  <tbody>\n",
       "    <tr>\n",
       "      <th>0</th>\n",
       "      <td>BTC</td>\n",
       "      <td>10000</td>\n",
       "    </tr>\n",
       "    <tr>\n",
       "      <th>1</th>\n",
       "      <td>LTC</td>\n",
       "      <td>200</td>\n",
       "    </tr>\n",
       "    <tr>\n",
       "      <th>2</th>\n",
       "      <td>XRP</td>\n",
       "      <td>1</td>\n",
       "    </tr>\n",
       "  </tbody>\n",
       "</table>\n",
       "</div>"
      ],
      "text/plain": [
       "  symbol  price\n",
       "0    BTC  10000\n",
       "1    LTC    200\n",
       "2    XRP      1"
      ]
     },
     "execution_count": 36,
     "metadata": {},
     "output_type": "execute_result"
    }
   ],
   "source": [
    "# Create a table with specified names of columns  \n",
    "pd.DataFrame(data=[['BTC', 10000],['LTC', 200],['XRP', 1]], \n",
    "             columns=['symbol', 'price'])"
   ]
  },
  {
   "cell_type": "code",
   "execution_count": 37,
   "metadata": {},
   "outputs": [
    {
     "name": "stderr",
     "output_type": "stream",
     "text": [
      "/usr/local/lib/python3.8/dist-packages/pandas/core/indexes/datetimes.py:327: UserWarning: Parsing '23-08-2018' in DD/MM/YYYY format. Provide format or specify infer_datetime_format=True for consistent parsing.\n",
      "  dtarr = DatetimeArray._from_sequence_not_strict(\n"
     ]
    },
    {
     "data": {
      "text/html": [
       "<div>\n",
       "<style scoped>\n",
       "    .dataframe tbody tr th:only-of-type {\n",
       "        vertical-align: middle;\n",
       "    }\n",
       "\n",
       "    .dataframe tbody tr th {\n",
       "        vertical-align: top;\n",
       "    }\n",
       "\n",
       "    .dataframe thead th {\n",
       "        text-align: right;\n",
       "    }\n",
       "</style>\n",
       "<table border=\"1\" class=\"dataframe\">\n",
       "  <thead>\n",
       "    <tr style=\"text-align: right;\">\n",
       "      <th></th>\n",
       "      <th>symbol</th>\n",
       "      <th>price</th>\n",
       "    </tr>\n",
       "  </thead>\n",
       "  <tbody>\n",
       "    <tr>\n",
       "      <th>2018-01-11</th>\n",
       "      <td>BTC</td>\n",
       "      <td>10000</td>\n",
       "    </tr>\n",
       "    <tr>\n",
       "      <th>2018-03-11</th>\n",
       "      <td>LTC</td>\n",
       "      <td>200</td>\n",
       "    </tr>\n",
       "    <tr>\n",
       "      <th>2018-08-23</th>\n",
       "      <td>XRP</td>\n",
       "      <td>1</td>\n",
       "    </tr>\n",
       "  </tbody>\n",
       "</table>\n",
       "</div>"
      ],
      "text/plain": [
       "           symbol  price\n",
       "2018-01-11    BTC  10000\n",
       "2018-03-11    LTC    200\n",
       "2018-08-23    XRP      1"
      ]
     },
     "execution_count": 37,
     "metadata": {},
     "output_type": "execute_result"
    }
   ],
   "source": [
    "# And now with specific indexes also\n",
    "pd.DataFrame(\n",
    "    data=[['BTC', 10000],['LTC', 200],['XRP', 1]],\n",
    "    columns=['symbol', 'price'],\n",
    "    index=pd.DatetimeIndex(['01-11-2018', '03-11-2018', '23-08-2018'])\n",
    ")"
   ]
  },
  {
   "cell_type": "code",
   "execution_count": 38,
   "metadata": {},
   "outputs": [
    {
     "data": {
      "text/html": [
       "<div>\n",
       "<style scoped>\n",
       "    .dataframe tbody tr th:only-of-type {\n",
       "        vertical-align: middle;\n",
       "    }\n",
       "\n",
       "    .dataframe tbody tr th {\n",
       "        vertical-align: top;\n",
       "    }\n",
       "\n",
       "    .dataframe thead th {\n",
       "        text-align: right;\n",
       "    }\n",
       "</style>\n",
       "<table border=\"1\" class=\"dataframe\">\n",
       "  <thead>\n",
       "    <tr style=\"text-align: right;\">\n",
       "      <th></th>\n",
       "      <th>symbol</th>\n",
       "      <th>price</th>\n",
       "    </tr>\n",
       "  </thead>\n",
       "  <tbody>\n",
       "    <tr>\n",
       "      <th>2018-01-11</th>\n",
       "      <td>BTC</td>\n",
       "      <td>10000</td>\n",
       "    </tr>\n",
       "    <tr>\n",
       "      <th>2018-03-11</th>\n",
       "      <td>LTC</td>\n",
       "      <td>200</td>\n",
       "    </tr>\n",
       "  </tbody>\n",
       "</table>\n",
       "</div>"
      ],
      "text/plain": [
       "           symbol  price\n",
       "2018-01-11    BTC  10000\n",
       "2018-03-11    LTC    200"
      ]
     },
     "execution_count": 38,
     "metadata": {},
     "output_type": "execute_result"
    }
   ],
   "source": [
    "# Create a table from a set of pandas.Series\n",
    "pd.DataFrame({\n",
    "    'symbol': pd.Series(data=['BTC','LTC'], index=pd.DatetimeIndex(['01-11-2018', '03-11-2018'])),\n",
    "    'price': pd.Series(data=[10000, 200], index=pd.DatetimeIndex(['01-11-2018', '03-11-2018']))\n",
    "})"
   ]
  },
  {
   "cell_type": "markdown",
   "metadata": {},
   "source": [
    "### 4. Basic methods of pandas.Series"
   ]
  },
  {
   "cell_type": "code",
   "execution_count": 39,
   "metadata": {},
   "outputs": [],
   "source": [
    "sequence = pd.Series(data=['BTC', 'LTC', 'DOGE', 'DASH'], index=['leader', 'alternative', 'joke', 'bouncer'])"
   ]
  },
  {
   "cell_type": "code",
   "execution_count": 40,
   "metadata": {},
   "outputs": [
    {
     "data": {
      "text/plain": [
       "[Index(['leader', 'alternative', 'joke', 'bouncer'], dtype='object')]"
      ]
     },
     "execution_count": 40,
     "metadata": {},
     "output_type": "execute_result"
    }
   ],
   "source": [
    "# Get indexes\n",
    "sequence.axes"
   ]
  },
  {
   "cell_type": "code",
   "execution_count": 41,
   "metadata": {},
   "outputs": [
    {
     "data": {
      "text/plain": [
       "dtype('O')"
      ]
     },
     "execution_count": 41,
     "metadata": {},
     "output_type": "execute_result"
    }
   ],
   "source": [
    "# Get type of the data\n",
    "sequence.dtype"
   ]
  },
  {
   "cell_type": "code",
   "execution_count": 42,
   "metadata": {},
   "outputs": [
    {
     "data": {
      "text/plain": [
       "False"
      ]
     },
     "execution_count": 42,
     "metadata": {},
     "output_type": "execute_result"
    }
   ],
   "source": [
    "# Check if empty\n",
    "sequence.empty"
   ]
  },
  {
   "cell_type": "code",
   "execution_count": 43,
   "metadata": {},
   "outputs": [
    {
     "data": {
      "text/plain": [
       "1"
      ]
     },
     "execution_count": 43,
     "metadata": {},
     "output_type": "execute_result"
    }
   ],
   "source": [
    "# Number of dimensions. Always 1 for pandas.Series\n",
    "sequence.ndim"
   ]
  },
  {
   "cell_type": "code",
   "execution_count": 44,
   "metadata": {},
   "outputs": [
    {
     "data": {
      "text/plain": [
       "4"
      ]
     },
     "execution_count": 44,
     "metadata": {},
     "output_type": "execute_result"
    }
   ],
   "source": [
    "# Number of elements\n",
    "sequence.size"
   ]
  },
  {
   "cell_type": "code",
   "execution_count": 45,
   "metadata": {},
   "outputs": [
    {
     "data": {
      "text/plain": [
       "(4,)"
      ]
     },
     "execution_count": 45,
     "metadata": {},
     "output_type": "execute_result"
    }
   ],
   "source": [
    "# Sizes\n",
    "sequence.shape"
   ]
  },
  {
   "cell_type": "code",
   "execution_count": 46,
   "metadata": {},
   "outputs": [
    {
     "data": {
      "text/plain": [
       "array(['BTC', 'LTC', 'DOGE', 'DASH'], dtype=object)"
      ]
     },
     "execution_count": 46,
     "metadata": {},
     "output_type": "execute_result"
    }
   ],
   "source": [
    "# Cast to numpy array\n",
    "sequence.values"
   ]
  },
  {
   "cell_type": "code",
   "execution_count": 47,
   "metadata": {},
   "outputs": [
    {
     "data": {
      "text/plain": [
       "leader          BTC\n",
       "alternative     LTC\n",
       "joke           DOGE\n",
       "dtype: object"
      ]
     },
     "execution_count": 47,
     "metadata": {},
     "output_type": "execute_result"
    }
   ],
   "source": [
    "# Get first three elements\n",
    "sequence.head(3)"
   ]
  },
  {
   "cell_type": "code",
   "execution_count": 48,
   "metadata": {},
   "outputs": [
    {
     "data": {
      "text/plain": [
       "joke       DOGE\n",
       "bouncer    DASH\n",
       "dtype: object"
      ]
     },
     "execution_count": 48,
     "metadata": {},
     "output_type": "execute_result"
    }
   ],
   "source": [
    "# Get last two elements\n",
    "sequence.tail(2)"
   ]
  },
  {
   "cell_type": "code",
   "execution_count": 49,
   "metadata": {},
   "outputs": [],
   "source": [
    "del sequence"
   ]
  },
  {
   "cell_type": "markdown",
   "metadata": {},
   "source": [
    "### 5. Basic methods of pandas.DataFrame"
   ]
  },
  {
   "cell_type": "markdown",
   "metadata": {},
   "source": [
    "DataFrame is huge so we will look only at the most frequently used methods\n"
   ]
  },
  {
   "cell_type": "code",
   "execution_count": 50,
   "metadata": {},
   "outputs": [
    {
     "name": "stderr",
     "output_type": "stream",
     "text": [
      "/usr/local/lib/python3.8/dist-packages/pandas/core/indexes/datetimes.py:327: UserWarning: Parsing '23-08-2018' in DD/MM/YYYY format. Provide format or specify infer_datetime_format=True for consistent parsing.\n",
      "  dtarr = DatetimeArray._from_sequence_not_strict(\n"
     ]
    }
   ],
   "source": [
    "table = pd.DataFrame(\n",
    "    data=[['BTC', 10000],['LTC', 200],['XRP', 1]],\n",
    "    columns=['symbol', 'price'],\n",
    "    index=pd.DatetimeIndex(['01-11-2018', '03-11-2018', '23-08-2018'])\n",
    ")"
   ]
  },
  {
   "cell_type": "code",
   "execution_count": 51,
   "metadata": {},
   "outputs": [
    {
     "data": {
      "text/html": [
       "<div>\n",
       "<style scoped>\n",
       "    .dataframe tbody tr th:only-of-type {\n",
       "        vertical-align: middle;\n",
       "    }\n",
       "\n",
       "    .dataframe tbody tr th {\n",
       "        vertical-align: top;\n",
       "    }\n",
       "\n",
       "    .dataframe thead th {\n",
       "        text-align: right;\n",
       "    }\n",
       "</style>\n",
       "<table border=\"1\" class=\"dataframe\">\n",
       "  <thead>\n",
       "    <tr style=\"text-align: right;\">\n",
       "      <th></th>\n",
       "      <th>2018-01-11</th>\n",
       "      <th>2018-03-11</th>\n",
       "      <th>2018-08-23</th>\n",
       "    </tr>\n",
       "  </thead>\n",
       "  <tbody>\n",
       "    <tr>\n",
       "      <th>symbol</th>\n",
       "      <td>BTC</td>\n",
       "      <td>LTC</td>\n",
       "      <td>XRP</td>\n",
       "    </tr>\n",
       "    <tr>\n",
       "      <th>price</th>\n",
       "      <td>10000</td>\n",
       "      <td>200</td>\n",
       "      <td>1</td>\n",
       "    </tr>\n",
       "  </tbody>\n",
       "</table>\n",
       "</div>"
      ],
      "text/plain": [
       "       2018-01-11 2018-03-11 2018-08-23\n",
       "symbol        BTC        LTC        XRP\n",
       "price       10000        200          1"
      ]
     },
     "execution_count": 51,
     "metadata": {},
     "output_type": "execute_result"
    }
   ],
   "source": [
    "# Transpose table\n",
    "table.T"
   ]
  },
  {
   "cell_type": "code",
   "execution_count": 52,
   "metadata": {},
   "outputs": [
    {
     "data": {
      "text/plain": [
       "[DatetimeIndex(['2018-01-11', '2018-03-11', '2018-08-23'], dtype='datetime64[ns]', freq=None),\n",
       " Index(['symbol', 'price'], dtype='object')]"
      ]
     },
     "execution_count": 52,
     "metadata": {},
     "output_type": "execute_result"
    }
   ],
   "source": [
    "# Get indexes\n",
    "table.axes"
   ]
  },
  {
   "cell_type": "code",
   "execution_count": 53,
   "metadata": {},
   "outputs": [
    {
     "data": {
      "text/plain": [
       "symbol    object\n",
       "price      int64\n",
       "dtype: object"
      ]
     },
     "execution_count": 53,
     "metadata": {},
     "output_type": "execute_result"
    }
   ],
   "source": [
    "# Get data types\n",
    "table.dtypes"
   ]
  },
  {
   "cell_type": "code",
   "execution_count": 54,
   "metadata": {},
   "outputs": [
    {
     "data": {
      "text/plain": [
       "False"
      ]
     },
     "execution_count": 54,
     "metadata": {},
     "output_type": "execute_result"
    }
   ],
   "source": [
    "# Check if empty\n",
    "table.empty"
   ]
  },
  {
   "cell_type": "code",
   "execution_count": 55,
   "metadata": {},
   "outputs": [
    {
     "data": {
      "text/plain": [
       "(3, 2)"
      ]
     },
     "execution_count": 55,
     "metadata": {},
     "output_type": "execute_result"
    }
   ],
   "source": [
    "# Sizes\n",
    "table.shape"
   ]
  },
  {
   "cell_type": "code",
   "execution_count": 56,
   "metadata": {},
   "outputs": [
    {
     "data": {
      "text/plain": [
       "6"
      ]
     },
     "execution_count": 56,
     "metadata": {},
     "output_type": "execute_result"
    }
   ],
   "source": [
    "# Number of cells\n",
    "table.size"
   ]
  },
  {
   "cell_type": "code",
   "execution_count": 57,
   "metadata": {},
   "outputs": [
    {
     "data": {
      "text/plain": [
       "array([['BTC', 10000],\n",
       "       ['LTC', 200],\n",
       "       ['XRP', 1]], dtype=object)"
      ]
     },
     "execution_count": 57,
     "metadata": {},
     "output_type": "execute_result"
    }
   ],
   "source": [
    "# Cast to numpy ndarray\n",
    "table.values"
   ]
  },
  {
   "cell_type": "code",
   "execution_count": 58,
   "metadata": {},
   "outputs": [
    {
     "data": {
      "text/html": [
       "<div>\n",
       "<style scoped>\n",
       "    .dataframe tbody tr th:only-of-type {\n",
       "        vertical-align: middle;\n",
       "    }\n",
       "\n",
       "    .dataframe tbody tr th {\n",
       "        vertical-align: top;\n",
       "    }\n",
       "\n",
       "    .dataframe thead th {\n",
       "        text-align: right;\n",
       "    }\n",
       "</style>\n",
       "<table border=\"1\" class=\"dataframe\">\n",
       "  <thead>\n",
       "    <tr style=\"text-align: right;\">\n",
       "      <th></th>\n",
       "      <th>symbol</th>\n",
       "      <th>price</th>\n",
       "    </tr>\n",
       "  </thead>\n",
       "  <tbody>\n",
       "    <tr>\n",
       "      <th>2018-01-11</th>\n",
       "      <td>BTC</td>\n",
       "      <td>10000</td>\n",
       "    </tr>\n",
       "    <tr>\n",
       "      <th>2018-03-11</th>\n",
       "      <td>LTC</td>\n",
       "      <td>200</td>\n",
       "    </tr>\n",
       "    <tr>\n",
       "      <th>2018-08-23</th>\n",
       "      <td>XRP</td>\n",
       "      <td>1</td>\n",
       "    </tr>\n",
       "  </tbody>\n",
       "</table>\n",
       "</div>"
      ],
      "text/plain": [
       "           symbol  price\n",
       "2018-01-11    BTC  10000\n",
       "2018-03-11    LTC    200\n",
       "2018-08-23    XRP      1"
      ]
     },
     "execution_count": 58,
     "metadata": {},
     "output_type": "execute_result"
    }
   ],
   "source": [
    "# Get first three rows\n",
    "table.head(3)"
   ]
  },
  {
   "cell_type": "code",
   "execution_count": 59,
   "metadata": {},
   "outputs": [
    {
     "data": {
      "text/html": [
       "<div>\n",
       "<style scoped>\n",
       "    .dataframe tbody tr th:only-of-type {\n",
       "        vertical-align: middle;\n",
       "    }\n",
       "\n",
       "    .dataframe tbody tr th {\n",
       "        vertical-align: top;\n",
       "    }\n",
       "\n",
       "    .dataframe thead th {\n",
       "        text-align: right;\n",
       "    }\n",
       "</style>\n",
       "<table border=\"1\" class=\"dataframe\">\n",
       "  <thead>\n",
       "    <tr style=\"text-align: right;\">\n",
       "      <th></th>\n",
       "      <th>symbol</th>\n",
       "      <th>price</th>\n",
       "    </tr>\n",
       "  </thead>\n",
       "  <tbody>\n",
       "    <tr>\n",
       "      <th>2018-03-11</th>\n",
       "      <td>LTC</td>\n",
       "      <td>200</td>\n",
       "    </tr>\n",
       "    <tr>\n",
       "      <th>2018-08-23</th>\n",
       "      <td>XRP</td>\n",
       "      <td>1</td>\n",
       "    </tr>\n",
       "  </tbody>\n",
       "</table>\n",
       "</div>"
      ],
      "text/plain": [
       "           symbol  price\n",
       "2018-03-11    LTC    200\n",
       "2018-08-23    XRP      1"
      ]
     },
     "execution_count": 59,
     "metadata": {},
     "output_type": "execute_result"
    }
   ],
   "source": [
    "# Get last two rows\n",
    "table.tail(2)"
   ]
  },
  {
   "cell_type": "code",
   "execution_count": 60,
   "metadata": {},
   "outputs": [],
   "source": [
    "del table"
   ]
  },
  {
   "cell_type": "markdown",
   "metadata": {},
   "source": [
    "### 6. Working with rows and columns"
   ]
  },
  {
   "cell_type": "markdown",
   "metadata": {},
   "source": [
    "We can get rows either by indexes or by ordinal numbers"
   ]
  },
  {
   "cell_type": "code",
   "execution_count": 61,
   "metadata": {},
   "outputs": [
    {
     "name": "stderr",
     "output_type": "stream",
     "text": [
      "/usr/local/lib/python3.8/dist-packages/pandas/core/indexes/datetimes.py:327: UserWarning: Parsing '23-08-2018' in DD/MM/YYYY format. Provide format or specify infer_datetime_format=True for consistent parsing.\n",
      "  dtarr = DatetimeArray._from_sequence_not_strict(\n"
     ]
    },
    {
     "data": {
      "text/html": [
       "<div>\n",
       "<style scoped>\n",
       "    .dataframe tbody tr th:only-of-type {\n",
       "        vertical-align: middle;\n",
       "    }\n",
       "\n",
       "    .dataframe tbody tr th {\n",
       "        vertical-align: top;\n",
       "    }\n",
       "\n",
       "    .dataframe thead th {\n",
       "        text-align: right;\n",
       "    }\n",
       "</style>\n",
       "<table border=\"1\" class=\"dataframe\">\n",
       "  <thead>\n",
       "    <tr style=\"text-align: right;\">\n",
       "      <th></th>\n",
       "      <th>symbol</th>\n",
       "      <th>price</th>\n",
       "    </tr>\n",
       "  </thead>\n",
       "  <tbody>\n",
       "    <tr>\n",
       "      <th>2018-01-11</th>\n",
       "      <td>BTC</td>\n",
       "      <td>10000</td>\n",
       "    </tr>\n",
       "    <tr>\n",
       "      <th>2018-03-11</th>\n",
       "      <td>LTC</td>\n",
       "      <td>200</td>\n",
       "    </tr>\n",
       "    <tr>\n",
       "      <th>2018-08-23</th>\n",
       "      <td>XRP</td>\n",
       "      <td>1</td>\n",
       "    </tr>\n",
       "    <tr>\n",
       "      <th>2018-02-11</th>\n",
       "      <td>BTC</td>\n",
       "      <td>9000</td>\n",
       "    </tr>\n",
       "  </tbody>\n",
       "</table>\n",
       "</div>"
      ],
      "text/plain": [
       "           symbol  price\n",
       "2018-01-11    BTC  10000\n",
       "2018-03-11    LTC    200\n",
       "2018-08-23    XRP      1\n",
       "2018-02-11    BTC   9000"
      ]
     },
     "execution_count": 61,
     "metadata": {},
     "output_type": "execute_result"
    }
   ],
   "source": [
    "table = pd.DataFrame(\n",
    "    data=[['BTC', 10000],['LTC', 200],['XRP', 1], ['BTC', 9000]],\n",
    "    columns=['symbol', 'price'],\n",
    "    index=pd.DatetimeIndex(['01-11-2018', '03-11-2018', '23-08-2018', '02-11-2018'])\n",
    ")\n",
    "table"
   ]
  },
  {
   "cell_type": "markdown",
   "metadata": {},
   "source": [
    "#### 6.1. Getting rows"
   ]
  },
  {
   "cell_type": "code",
   "execution_count": 64,
   "metadata": {},
   "outputs": [
    {
     "data": {
      "text/plain": [
       "symbol    XRP\n",
       "price       1\n",
       "Name: 2018-08-23 00:00:00, dtype: object"
      ]
     },
     "execution_count": 64,
     "metadata": {},
     "output_type": "execute_result"
    }
   ],
   "source": [
    "# By ordinal number\n",
    "table.iloc[2]"
   ]
  },
  {
   "cell_type": "code",
   "execution_count": 68,
   "metadata": {},
   "outputs": [
    {
     "data": {
      "text/html": [
       "<div>\n",
       "<style scoped>\n",
       "    .dataframe tbody tr th:only-of-type {\n",
       "        vertical-align: middle;\n",
       "    }\n",
       "\n",
       "    .dataframe tbody tr th {\n",
       "        vertical-align: top;\n",
       "    }\n",
       "\n",
       "    .dataframe thead th {\n",
       "        text-align: right;\n",
       "    }\n",
       "</style>\n",
       "<table border=\"1\" class=\"dataframe\">\n",
       "  <thead>\n",
       "    <tr style=\"text-align: right;\">\n",
       "      <th></th>\n",
       "      <th>symbol</th>\n",
       "      <th>price</th>\n",
       "    </tr>\n",
       "  </thead>\n",
       "  <tbody>\n",
       "    <tr>\n",
       "      <th>2018-03-11</th>\n",
       "      <td>LTC</td>\n",
       "      <td>200</td>\n",
       "    </tr>\n",
       "    <tr>\n",
       "      <th>2018-08-23</th>\n",
       "      <td>XRP</td>\n",
       "      <td>1</td>\n",
       "    </tr>\n",
       "  </tbody>\n",
       "</table>\n",
       "</div>"
      ],
      "text/plain": [
       "           symbol  price\n",
       "2018-03-11    LTC    200\n",
       "2018-08-23    XRP      1"
      ]
     },
     "execution_count": 68,
     "metadata": {},
     "output_type": "execute_result"
    }
   ],
   "source": [
    "# By range of numbers\n",
    "table[1:3]"
   ]
  },
  {
   "cell_type": "code",
   "execution_count": 69,
   "metadata": {},
   "outputs": [
    {
     "data": {
      "text/plain": [
       "symbol      BTC\n",
       "price     10000\n",
       "Name: 2018-01-11 00:00:00, dtype: object"
      ]
     },
     "execution_count": 69,
     "metadata": {},
     "output_type": "execute_result"
    }
   ],
   "source": [
    "# By index\n",
    "table.loc[pd.Timestamp('01-11-2018')]"
   ]
  },
  {
   "cell_type": "code",
   "execution_count": 70,
   "metadata": {},
   "outputs": [
    {
     "data": {
      "text/html": [
       "<div>\n",
       "<style scoped>\n",
       "    .dataframe tbody tr th:only-of-type {\n",
       "        vertical-align: middle;\n",
       "    }\n",
       "\n",
       "    .dataframe tbody tr th {\n",
       "        vertical-align: top;\n",
       "    }\n",
       "\n",
       "    .dataframe thead th {\n",
       "        text-align: right;\n",
       "    }\n",
       "</style>\n",
       "<table border=\"1\" class=\"dataframe\">\n",
       "  <thead>\n",
       "    <tr style=\"text-align: right;\">\n",
       "      <th></th>\n",
       "      <th>symbol</th>\n",
       "      <th>price</th>\n",
       "    </tr>\n",
       "  </thead>\n",
       "  <tbody>\n",
       "    <tr>\n",
       "      <th>2018-01-11</th>\n",
       "      <td>BTC</td>\n",
       "      <td>10000</td>\n",
       "    </tr>\n",
       "    <tr>\n",
       "      <th>2018-03-11</th>\n",
       "      <td>LTC</td>\n",
       "      <td>200</td>\n",
       "    </tr>\n",
       "    <tr>\n",
       "      <th>2018-08-23</th>\n",
       "      <td>XRP</td>\n",
       "      <td>1</td>\n",
       "    </tr>\n",
       "    <tr>\n",
       "      <th>2018-02-11</th>\n",
       "      <td>BTC</td>\n",
       "      <td>9000</td>\n",
       "    </tr>\n",
       "  </tbody>\n",
       "</table>\n",
       "</div>"
      ],
      "text/plain": [
       "           symbol  price\n",
       "2018-01-11    BTC  10000\n",
       "2018-03-11    LTC    200\n",
       "2018-08-23    XRP      1\n",
       "2018-02-11    BTC   9000"
      ]
     },
     "execution_count": 70,
     "metadata": {},
     "output_type": "execute_result"
    }
   ],
   "source": [
    "# By range of indexes\n",
    "table.loc['01-11-2018':'03-11-2019']"
   ]
  },
  {
   "cell_type": "markdown",
   "metadata": {},
   "source": [
    "#### 6.2. Adding, removing and renaming rows and columns"
   ]
  },
  {
   "cell_type": "code",
   "execution_count": 71,
   "metadata": {},
   "outputs": [
    {
     "data": {
      "text/html": [
       "<div>\n",
       "<style scoped>\n",
       "    .dataframe tbody tr th:only-of-type {\n",
       "        vertical-align: middle;\n",
       "    }\n",
       "\n",
       "    .dataframe tbody tr th {\n",
       "        vertical-align: top;\n",
       "    }\n",
       "\n",
       "    .dataframe thead th {\n",
       "        text-align: right;\n",
       "    }\n",
       "</style>\n",
       "<table border=\"1\" class=\"dataframe\">\n",
       "  <thead>\n",
       "    <tr style=\"text-align: right;\">\n",
       "      <th></th>\n",
       "      <th>symbol</th>\n",
       "      <th>price</th>\n",
       "    </tr>\n",
       "  </thead>\n",
       "  <tbody>\n",
       "    <tr>\n",
       "      <th>2018-03-11</th>\n",
       "      <td>LTC</td>\n",
       "      <td>200</td>\n",
       "    </tr>\n",
       "    <tr>\n",
       "      <th>2018-02-11</th>\n",
       "      <td>BTC</td>\n",
       "      <td>9000</td>\n",
       "    </tr>\n",
       "  </tbody>\n",
       "</table>\n",
       "</div>"
      ],
      "text/plain": [
       "           symbol  price\n",
       "2018-03-11    LTC    200\n",
       "2018-02-11    BTC   9000"
      ]
     },
     "execution_count": 71,
     "metadata": {},
     "output_type": "execute_result"
    }
   ],
   "source": [
    "# Remove rows by indexes.  Can be used for column removal with axis=1 parameter.\n",
    "# See also drop_duplicates and dropna\n",
    "table.drop([pd.Timestamp('2018-08-23'), pd.Timestamp('2018-01-11')])"
   ]
  },
  {
   "cell_type": "code",
   "execution_count": 72,
   "metadata": {},
   "outputs": [
    {
     "data": {
      "text/html": [
       "<div>\n",
       "<style scoped>\n",
       "    .dataframe tbody tr th:only-of-type {\n",
       "        vertical-align: middle;\n",
       "    }\n",
       "\n",
       "    .dataframe tbody tr th {\n",
       "        vertical-align: top;\n",
       "    }\n",
       "\n",
       "    .dataframe thead th {\n",
       "        text-align: right;\n",
       "    }\n",
       "</style>\n",
       "<table border=\"1\" class=\"dataframe\">\n",
       "  <thead>\n",
       "    <tr style=\"text-align: right;\">\n",
       "      <th></th>\n",
       "      <th>symbol</th>\n",
       "      <th>price</th>\n",
       "      <th>volume</th>\n",
       "    </tr>\n",
       "  </thead>\n",
       "  <tbody>\n",
       "    <tr>\n",
       "      <th>2018-01-11</th>\n",
       "      <td>BTC</td>\n",
       "      <td>10000</td>\n",
       "      <td>1.000000e+09</td>\n",
       "    </tr>\n",
       "    <tr>\n",
       "      <th>2018-03-11</th>\n",
       "      <td>LTC</td>\n",
       "      <td>200</td>\n",
       "      <td>1.000000e+06</td>\n",
       "    </tr>\n",
       "    <tr>\n",
       "      <th>2018-08-23</th>\n",
       "      <td>XRP</td>\n",
       "      <td>1</td>\n",
       "      <td>1.000000e+04</td>\n",
       "    </tr>\n",
       "    <tr>\n",
       "      <th>2018-02-11</th>\n",
       "      <td>BTC</td>\n",
       "      <td>9000</td>\n",
       "      <td>1.000000e+09</td>\n",
       "    </tr>\n",
       "  </tbody>\n",
       "</table>\n",
       "</div>"
      ],
      "text/plain": [
       "           symbol  price        volume\n",
       "2018-01-11    BTC  10000  1.000000e+09\n",
       "2018-03-11    LTC    200  1.000000e+06\n",
       "2018-08-23    XRP      1  1.000000e+04\n",
       "2018-02-11    BTC   9000  1.000000e+09"
      ]
     },
     "execution_count": 72,
     "metadata": {},
     "output_type": "execute_result"
    }
   ],
   "source": [
    "# Add new column\n",
    "table['volume'] = [1e9, 1e6, 1e4, 1e9]\n",
    "table"
   ]
  },
  {
   "cell_type": "code",
   "execution_count": 73,
   "metadata": {},
   "outputs": [],
   "source": [
    "# Remove a column\n",
    "del table['volume']"
   ]
  },
  {
   "cell_type": "code",
   "execution_count": 74,
   "metadata": {},
   "outputs": [
    {
     "data": {
      "text/html": [
       "<div>\n",
       "<style scoped>\n",
       "    .dataframe tbody tr th:only-of-type {\n",
       "        vertical-align: middle;\n",
       "    }\n",
       "\n",
       "    .dataframe tbody tr th {\n",
       "        vertical-align: top;\n",
       "    }\n",
       "\n",
       "    .dataframe thead th {\n",
       "        text-align: right;\n",
       "    }\n",
       "</style>\n",
       "<table border=\"1\" class=\"dataframe\">\n",
       "  <thead>\n",
       "    <tr style=\"text-align: right;\">\n",
       "      <th></th>\n",
       "      <th>Symbol</th>\n",
       "      <th>Price</th>\n",
       "    </tr>\n",
       "  </thead>\n",
       "  <tbody>\n",
       "    <tr>\n",
       "      <th>2018-01-11</th>\n",
       "      <td>BTC</td>\n",
       "      <td>10000</td>\n",
       "    </tr>\n",
       "    <tr>\n",
       "      <th>2018-03-11</th>\n",
       "      <td>LTC</td>\n",
       "      <td>200</td>\n",
       "    </tr>\n",
       "    <tr>\n",
       "      <th>2018-08-23</th>\n",
       "      <td>XRP</td>\n",
       "      <td>1</td>\n",
       "    </tr>\n",
       "    <tr>\n",
       "      <th>2018-02-11</th>\n",
       "      <td>BTC</td>\n",
       "      <td>9000</td>\n",
       "    </tr>\n",
       "  </tbody>\n",
       "</table>\n",
       "</div>"
      ],
      "text/plain": [
       "           Symbol  Price\n",
       "2018-01-11    BTC  10000\n",
       "2018-03-11    LTC    200\n",
       "2018-08-23    XRP      1\n",
       "2018-02-11    BTC   9000"
      ]
     },
     "execution_count": 74,
     "metadata": {},
     "output_type": "execute_result"
    }
   ],
   "source": [
    "# Rename columns\n",
    "table.rename(columns={'symbol': 'Symbol', 'price': 'Price'})"
   ]
  },
  {
   "cell_type": "markdown",
   "metadata": {},
   "source": [
    "#### 6.3. Iterating"
   ]
  },
  {
   "cell_type": "markdown",
   "metadata": {},
   "source": [
    "Iterating through a table can be done in a number of ways. But better not to use loops at all, use pandas methods instead. "
   ]
  },
  {
   "cell_type": "code",
   "execution_count": 75,
   "metadata": {},
   "outputs": [
    {
     "name": "stdout",
     "output_type": "stream",
     "text": [
      "symbol\n",
      "price\n"
     ]
    }
   ],
   "source": [
    "# By columns\n",
    "for column in table:\n",
    "    print(column)"
   ]
  },
  {
   "cell_type": "code",
   "execution_count": 76,
   "metadata": {},
   "outputs": [
    {
     "name": "stdout",
     "output_type": "stream",
     "text": [
      "symbol\n",
      "2018-01-11    BTC\n",
      "2018-03-11    LTC\n",
      "2018-08-23    XRP\n",
      "2018-02-11    BTC\n",
      "Name: symbol, dtype: object\n",
      "price\n",
      "2018-01-11    10000\n",
      "2018-03-11      200\n",
      "2018-08-23        1\n",
      "2018-02-11     9000\n",
      "Name: price, dtype: int64\n"
     ]
    }
   ],
   "source": [
    "# By columns as dictionaries\n",
    "for column, series in table.iteritems():\n",
    "    print(column)\n",
    "    print(series)"
   ]
  },
  {
   "cell_type": "code",
   "execution_count": 77,
   "metadata": {},
   "outputs": [
    {
     "name": "stdout",
     "output_type": "stream",
     "text": [
      "2018-01-11 00:00:00\n",
      "symbol      BTC\n",
      "price     10000\n",
      "Name: 2018-01-11 00:00:00, dtype: object\n",
      "2018-03-11 00:00:00\n",
      "symbol    LTC\n",
      "price     200\n",
      "Name: 2018-03-11 00:00:00, dtype: object\n",
      "2018-08-23 00:00:00\n",
      "symbol    XRP\n",
      "price       1\n",
      "Name: 2018-08-23 00:00:00, dtype: object\n",
      "2018-02-11 00:00:00\n",
      "symbol     BTC\n",
      "price     9000\n",
      "Name: 2018-02-11 00:00:00, dtype: object\n"
     ]
    }
   ],
   "source": [
    "# By rows as dictionaries\n",
    "for index, row in table.iterrows():\n",
    "    print(index)\n",
    "    print(row)"
   ]
  },
  {
   "cell_type": "markdown",
   "metadata": {},
   "source": [
    "#### 6.4. Sorting"
   ]
  },
  {
   "cell_type": "markdown",
   "metadata": {},
   "source": [
    "Rows and columns of the table can be sorted. Sorting methods return a new table!"
   ]
  },
  {
   "cell_type": "code",
   "execution_count": 78,
   "metadata": {},
   "outputs": [
    {
     "data": {
      "text/html": [
       "<div>\n",
       "<style scoped>\n",
       "    .dataframe tbody tr th:only-of-type {\n",
       "        vertical-align: middle;\n",
       "    }\n",
       "\n",
       "    .dataframe tbody tr th {\n",
       "        vertical-align: top;\n",
       "    }\n",
       "\n",
       "    .dataframe thead th {\n",
       "        text-align: right;\n",
       "    }\n",
       "</style>\n",
       "<table border=\"1\" class=\"dataframe\">\n",
       "  <thead>\n",
       "    <tr style=\"text-align: right;\">\n",
       "      <th></th>\n",
       "      <th>symbol</th>\n",
       "      <th>price</th>\n",
       "    </tr>\n",
       "  </thead>\n",
       "  <tbody>\n",
       "    <tr>\n",
       "      <th>2018-08-23</th>\n",
       "      <td>XRP</td>\n",
       "      <td>1</td>\n",
       "    </tr>\n",
       "    <tr>\n",
       "      <th>2018-03-11</th>\n",
       "      <td>LTC</td>\n",
       "      <td>200</td>\n",
       "    </tr>\n",
       "    <tr>\n",
       "      <th>2018-02-11</th>\n",
       "      <td>BTC</td>\n",
       "      <td>9000</td>\n",
       "    </tr>\n",
       "    <tr>\n",
       "      <th>2018-01-11</th>\n",
       "      <td>BTC</td>\n",
       "      <td>10000</td>\n",
       "    </tr>\n",
       "  </tbody>\n",
       "</table>\n",
       "</div>"
      ],
      "text/plain": [
       "           symbol  price\n",
       "2018-08-23    XRP      1\n",
       "2018-03-11    LTC    200\n",
       "2018-02-11    BTC   9000\n",
       "2018-01-11    BTC  10000"
      ]
     },
     "execution_count": 78,
     "metadata": {},
     "output_type": "execute_result"
    }
   ],
   "source": [
    "# Sort rows in decreasing order of index\n",
    "table.sort_index(ascending=False)"
   ]
  },
  {
   "cell_type": "code",
   "execution_count": 79,
   "metadata": {},
   "outputs": [
    {
     "data": {
      "text/html": [
       "<div>\n",
       "<style scoped>\n",
       "    .dataframe tbody tr th:only-of-type {\n",
       "        vertical-align: middle;\n",
       "    }\n",
       "\n",
       "    .dataframe tbody tr th {\n",
       "        vertical-align: top;\n",
       "    }\n",
       "\n",
       "    .dataframe thead th {\n",
       "        text-align: right;\n",
       "    }\n",
       "</style>\n",
       "<table border=\"1\" class=\"dataframe\">\n",
       "  <thead>\n",
       "    <tr style=\"text-align: right;\">\n",
       "      <th></th>\n",
       "      <th>price</th>\n",
       "      <th>symbol</th>\n",
       "    </tr>\n",
       "  </thead>\n",
       "  <tbody>\n",
       "    <tr>\n",
       "      <th>2018-01-11</th>\n",
       "      <td>10000</td>\n",
       "      <td>BTC</td>\n",
       "    </tr>\n",
       "    <tr>\n",
       "      <th>2018-03-11</th>\n",
       "      <td>200</td>\n",
       "      <td>LTC</td>\n",
       "    </tr>\n",
       "    <tr>\n",
       "      <th>2018-08-23</th>\n",
       "      <td>1</td>\n",
       "      <td>XRP</td>\n",
       "    </tr>\n",
       "    <tr>\n",
       "      <th>2018-02-11</th>\n",
       "      <td>9000</td>\n",
       "      <td>BTC</td>\n",
       "    </tr>\n",
       "  </tbody>\n",
       "</table>\n",
       "</div>"
      ],
      "text/plain": [
       "            price symbol\n",
       "2018-01-11  10000    BTC\n",
       "2018-03-11    200    LTC\n",
       "2018-08-23      1    XRP\n",
       "2018-02-11   9000    BTC"
      ]
     },
     "execution_count": 79,
     "metadata": {},
     "output_type": "execute_result"
    }
   ],
   "source": [
    "# Sort columns in increasing order of names\n",
    "table.sort_index(axis=1, ascending=True)"
   ]
  },
  {
   "cell_type": "code",
   "execution_count": 80,
   "metadata": {},
   "outputs": [
    {
     "data": {
      "text/html": [
       "<div>\n",
       "<style scoped>\n",
       "    .dataframe tbody tr th:only-of-type {\n",
       "        vertical-align: middle;\n",
       "    }\n",
       "\n",
       "    .dataframe tbody tr th {\n",
       "        vertical-align: top;\n",
       "    }\n",
       "\n",
       "    .dataframe thead th {\n",
       "        text-align: right;\n",
       "    }\n",
       "</style>\n",
       "<table border=\"1\" class=\"dataframe\">\n",
       "  <thead>\n",
       "    <tr style=\"text-align: right;\">\n",
       "      <th></th>\n",
       "      <th>symbol</th>\n",
       "      <th>price</th>\n",
       "    </tr>\n",
       "  </thead>\n",
       "  <tbody>\n",
       "    <tr>\n",
       "      <th>2018-02-11</th>\n",
       "      <td>BTC</td>\n",
       "      <td>9000</td>\n",
       "    </tr>\n",
       "    <tr>\n",
       "      <th>2018-01-11</th>\n",
       "      <td>BTC</td>\n",
       "      <td>10000</td>\n",
       "    </tr>\n",
       "    <tr>\n",
       "      <th>2018-03-11</th>\n",
       "      <td>LTC</td>\n",
       "      <td>200</td>\n",
       "    </tr>\n",
       "    <tr>\n",
       "      <th>2018-08-23</th>\n",
       "      <td>XRP</td>\n",
       "      <td>1</td>\n",
       "    </tr>\n",
       "  </tbody>\n",
       "</table>\n",
       "</div>"
      ],
      "text/plain": [
       "           symbol  price\n",
       "2018-02-11    BTC   9000\n",
       "2018-01-11    BTC  10000\n",
       "2018-03-11    LTC    200\n",
       "2018-08-23    XRP      1"
      ]
     },
     "execution_count": 80,
     "metadata": {},
     "output_type": "execute_result"
    }
   ],
   "source": [
    "# Sort rows by symbol, price using quicksort algorithm\n",
    "table.sort_values(by=['symbol', 'price'], kind='quicksort')"
   ]
  },
  {
   "cell_type": "markdown",
   "metadata": {},
   "source": [
    "### 7. Stat functions"
   ]
  },
  {
   "cell_type": "markdown",
   "metadata": {},
   "source": [
    "Let's see how pandas allows you to calculate the simplest statistics for datasets. The methods that we list below have the axis argument, which indicates along which axis statistics should be calculated. By default axis = 0, which corresponds to row-based calculations. If there are gaps in the data, then they are not taken into account when calculating statistics!"
   ]
  },
  {
   "cell_type": "code",
   "execution_count": 81,
   "metadata": {},
   "outputs": [
    {
     "data": {
      "text/html": [
       "<div>\n",
       "<style scoped>\n",
       "    .dataframe tbody tr th:only-of-type {\n",
       "        vertical-align: middle;\n",
       "    }\n",
       "\n",
       "    .dataframe tbody tr th {\n",
       "        vertical-align: top;\n",
       "    }\n",
       "\n",
       "    .dataframe thead th {\n",
       "        text-align: right;\n",
       "    }\n",
       "</style>\n",
       "<table border=\"1\" class=\"dataframe\">\n",
       "  <thead>\n",
       "    <tr style=\"text-align: right;\">\n",
       "      <th></th>\n",
       "      <th>BTC</th>\n",
       "      <th>DOGE</th>\n",
       "      <th>ADA</th>\n",
       "      <th>ETH</th>\n",
       "    </tr>\n",
       "  </thead>\n",
       "  <tbody>\n",
       "    <tr>\n",
       "      <th>yesterday</th>\n",
       "      <td>7629.39</td>\n",
       "      <td>-9357.49</td>\n",
       "      <td>-1661.30</td>\n",
       "      <td>8597.23</td>\n",
       "    </tr>\n",
       "    <tr>\n",
       "      <th>today</th>\n",
       "      <td>560.68</td>\n",
       "      <td>NaN</td>\n",
       "      <td>10.46</td>\n",
       "      <td>3578.50</td>\n",
       "    </tr>\n",
       "    <tr>\n",
       "      <th>tomorrow</th>\n",
       "      <td>487.38</td>\n",
       "      <td>7560.38</td>\n",
       "      <td>1090.87</td>\n",
       "      <td>-5164.93</td>\n",
       "    </tr>\n",
       "  </tbody>\n",
       "</table>\n",
       "</div>"
      ],
      "text/plain": [
       "               BTC     DOGE      ADA      ETH\n",
       "yesterday  7629.39 -9357.49 -1661.30  8597.23\n",
       "today       560.68      NaN    10.46  3578.50\n",
       "tomorrow    487.38  7560.38  1090.87 -5164.93"
      ]
     },
     "execution_count": 81,
     "metadata": {},
     "output_type": "execute_result"
    }
   ],
   "source": [
    "earnings = pd.DataFrame(\n",
    "    data=[[7629.39, -9357.49, -1661.3, 8597.23],\n",
    "          [560.68, None, 10.46, 3578.5],\n",
    "          [487.38, 7560.38, 1090.87, -5164.93]],\n",
    "    columns=['BTC', 'DOGE', 'ADA', 'ETH'],\n",
    "    index=['yesterday', 'today', 'tomorrow']\n",
    ")\n",
    "earnings"
   ]
  },
  {
   "cell_type": "code",
   "execution_count": 82,
   "metadata": {},
   "outputs": [
    {
     "data": {
      "text/plain": [
       "BTC     3\n",
       "DOGE    2\n",
       "ADA     3\n",
       "ETH     3\n",
       "dtype: int64"
      ]
     },
     "execution_count": 82,
     "metadata": {},
     "output_type": "execute_result"
    }
   ],
   "source": [
    "# Count non-NaN values for each column\n",
    "earnings.count()"
   ]
  },
  {
   "cell_type": "code",
   "execution_count": 83,
   "metadata": {},
   "outputs": [
    {
     "data": {
      "text/plain": [
       "yesterday    5207.83\n",
       "today        4149.64\n",
       "tomorrow     3973.70\n",
       "dtype: float64"
      ]
     },
     "execution_count": 83,
     "metadata": {},
     "output_type": "execute_result"
    }
   ],
   "source": [
    "# earnings by day\n",
    "earnings.sum(axis=1)"
   ]
  },
  {
   "cell_type": "code",
   "execution_count": 84,
   "metadata": {},
   "outputs": [
    {
     "data": {
      "text/plain": [
       "BTC     2892.483333\n",
       "DOGE    -898.555000\n",
       "ADA     -186.656667\n",
       "ETH     2336.933333\n",
       "dtype: float64"
      ]
     },
     "execution_count": 84,
     "metadata": {},
     "output_type": "execute_result"
    }
   ],
   "source": [
    "# Mean values\n",
    "earnings.mean()"
   ]
  },
  {
   "cell_type": "code",
   "execution_count": 85,
   "metadata": {},
   "outputs": [
    {
     "data": {
      "text/plain": [
       "BTC      560.680\n",
       "DOGE    -898.555\n",
       "ADA       10.460\n",
       "ETH     3578.500\n",
       "dtype: float64"
      ]
     },
     "execution_count": 85,
     "metadata": {},
     "output_type": "execute_result"
    }
   ],
   "source": [
    "# Median values\n",
    "earnings.median()"
   ]
  },
  {
   "cell_type": "code",
   "execution_count": 86,
   "metadata": {},
   "outputs": [
    {
     "data": {
      "text/html": [
       "<div>\n",
       "<style scoped>\n",
       "    .dataframe tbody tr th:only-of-type {\n",
       "        vertical-align: middle;\n",
       "    }\n",
       "\n",
       "    .dataframe tbody tr th {\n",
       "        vertical-align: top;\n",
       "    }\n",
       "\n",
       "    .dataframe thead th {\n",
       "        text-align: right;\n",
       "    }\n",
       "</style>\n",
       "<table border=\"1\" class=\"dataframe\">\n",
       "  <thead>\n",
       "    <tr style=\"text-align: right;\">\n",
       "      <th></th>\n",
       "      <th>BTC</th>\n",
       "      <th>DOGE</th>\n",
       "      <th>ADA</th>\n",
       "      <th>ETH</th>\n",
       "    </tr>\n",
       "  </thead>\n",
       "  <tbody>\n",
       "    <tr>\n",
       "      <th>0</th>\n",
       "      <td>487.38</td>\n",
       "      <td>-9357.49</td>\n",
       "      <td>-1661.30</td>\n",
       "      <td>-5164.93</td>\n",
       "    </tr>\n",
       "    <tr>\n",
       "      <th>1</th>\n",
       "      <td>560.68</td>\n",
       "      <td>7560.38</td>\n",
       "      <td>10.46</td>\n",
       "      <td>3578.50</td>\n",
       "    </tr>\n",
       "    <tr>\n",
       "      <th>2</th>\n",
       "      <td>7629.39</td>\n",
       "      <td>NaN</td>\n",
       "      <td>1090.87</td>\n",
       "      <td>8597.23</td>\n",
       "    </tr>\n",
       "  </tbody>\n",
       "</table>\n",
       "</div>"
      ],
      "text/plain": [
       "       BTC     DOGE      ADA      ETH\n",
       "0   487.38 -9357.49 -1661.30 -5164.93\n",
       "1   560.68  7560.38    10.46  3578.50\n",
       "2  7629.39      NaN  1090.87  8597.23"
      ]
     },
     "execution_count": 86,
     "metadata": {},
     "output_type": "execute_result"
    }
   ],
   "source": [
    "# Modes\n",
    "earnings.mode()"
   ]
  },
  {
   "cell_type": "code",
   "execution_count": 87,
   "metadata": {},
   "outputs": [
    {
     "data": {
      "text/plain": [
       "BTC      4102.445222\n",
       "DOGE    11962.740600\n",
       "ADA      1386.633031\n",
       "ETH      6964.580232\n",
       "dtype: float64"
      ]
     },
     "execution_count": 87,
     "metadata": {},
     "output_type": "execute_result"
    }
   ],
   "source": [
    "# Standard deviations\n",
    "earnings.std()"
   ]
  },
  {
   "cell_type": "code",
   "execution_count": 88,
   "metadata": {},
   "outputs": [
    {
     "data": {
      "text/html": [
       "<div>\n",
       "<style scoped>\n",
       "    .dataframe tbody tr th:only-of-type {\n",
       "        vertical-align: middle;\n",
       "    }\n",
       "\n",
       "    .dataframe tbody tr th {\n",
       "        vertical-align: top;\n",
       "    }\n",
       "\n",
       "    .dataframe thead th {\n",
       "        text-align: right;\n",
       "    }\n",
       "</style>\n",
       "<table border=\"1\" class=\"dataframe\">\n",
       "  <thead>\n",
       "    <tr style=\"text-align: right;\">\n",
       "      <th></th>\n",
       "      <th>BTC</th>\n",
       "      <th>DOGE</th>\n",
       "      <th>ADA</th>\n",
       "      <th>ETH</th>\n",
       "    </tr>\n",
       "  </thead>\n",
       "  <tbody>\n",
       "    <tr>\n",
       "      <th>0.25</th>\n",
       "      <td>524.030</td>\n",
       "      <td>-5128.0225</td>\n",
       "      <td>-825.420</td>\n",
       "      <td>-793.215</td>\n",
       "    </tr>\n",
       "    <tr>\n",
       "      <th>0.50</th>\n",
       "      <td>560.680</td>\n",
       "      <td>-898.5550</td>\n",
       "      <td>10.460</td>\n",
       "      <td>3578.500</td>\n",
       "    </tr>\n",
       "    <tr>\n",
       "      <th>0.75</th>\n",
       "      <td>4095.035</td>\n",
       "      <td>3330.9125</td>\n",
       "      <td>550.665</td>\n",
       "      <td>6087.865</td>\n",
       "    </tr>\n",
       "  </tbody>\n",
       "</table>\n",
       "</div>"
      ],
      "text/plain": [
       "           BTC       DOGE      ADA       ETH\n",
       "0.25   524.030 -5128.0225 -825.420  -793.215\n",
       "0.50   560.680  -898.5550   10.460  3578.500\n",
       "0.75  4095.035  3330.9125  550.665  6087.865"
      ]
     },
     "execution_count": 88,
     "metadata": {},
     "output_type": "execute_result"
    }
   ],
   "source": [
    "# Quantiles\n",
    "earnings.quantile(q=(0.25, 0.5, 0.75))"
   ]
  },
  {
   "cell_type": "code",
   "execution_count": 89,
   "metadata": {},
   "outputs": [
    {
     "data": {
      "text/plain": [
       "BTC      487.38\n",
       "DOGE   -9357.49\n",
       "ADA    -1661.30\n",
       "ETH    -5164.93\n",
       "dtype: float64"
      ]
     },
     "execution_count": 89,
     "metadata": {},
     "output_type": "execute_result"
    }
   ],
   "source": [
    "# Minimum values\n",
    "earnings.min()"
   ]
  },
  {
   "cell_type": "code",
   "execution_count": 90,
   "metadata": {},
   "outputs": [
    {
     "data": {
      "text/plain": [
       "BTC     7629.39\n",
       "DOGE    7560.38\n",
       "ADA     1090.87\n",
       "ETH     8597.23\n",
       "dtype: float64"
      ]
     },
     "execution_count": 90,
     "metadata": {},
     "output_type": "execute_result"
    }
   ],
   "source": [
    "# Maximum values\n",
    "earnings.max()"
   ]
  },
  {
   "cell_type": "code",
   "execution_count": 91,
   "metadata": {},
   "outputs": [
    {
     "data": {
      "text/html": [
       "<div>\n",
       "<style scoped>\n",
       "    .dataframe tbody tr th:only-of-type {\n",
       "        vertical-align: middle;\n",
       "    }\n",
       "\n",
       "    .dataframe tbody tr th {\n",
       "        vertical-align: top;\n",
       "    }\n",
       "\n",
       "    .dataframe thead th {\n",
       "        text-align: right;\n",
       "    }\n",
       "</style>\n",
       "<table border=\"1\" class=\"dataframe\">\n",
       "  <thead>\n",
       "    <tr style=\"text-align: right;\">\n",
       "      <th></th>\n",
       "      <th>BTC</th>\n",
       "      <th>DOGE</th>\n",
       "      <th>ADA</th>\n",
       "      <th>ETH</th>\n",
       "    </tr>\n",
       "  </thead>\n",
       "  <tbody>\n",
       "    <tr>\n",
       "      <th>yesterday</th>\n",
       "      <td>7629.39</td>\n",
       "      <td>9357.49</td>\n",
       "      <td>1661.30</td>\n",
       "      <td>8597.23</td>\n",
       "    </tr>\n",
       "    <tr>\n",
       "      <th>today</th>\n",
       "      <td>560.68</td>\n",
       "      <td>NaN</td>\n",
       "      <td>10.46</td>\n",
       "      <td>3578.50</td>\n",
       "    </tr>\n",
       "    <tr>\n",
       "      <th>tomorrow</th>\n",
       "      <td>487.38</td>\n",
       "      <td>7560.38</td>\n",
       "      <td>1090.87</td>\n",
       "      <td>5164.93</td>\n",
       "    </tr>\n",
       "  </tbody>\n",
       "</table>\n",
       "</div>"
      ],
      "text/plain": [
       "               BTC     DOGE      ADA      ETH\n",
       "yesterday  7629.39  9357.49  1661.30  8597.23\n",
       "today       560.68      NaN    10.46  3578.50\n",
       "tomorrow    487.38  7560.38  1090.87  5164.93"
      ]
     },
     "execution_count": 91,
     "metadata": {},
     "output_type": "execute_result"
    }
   ],
   "source": [
    "# Absolute values\n",
    "earnings.abs()"
   ]
  },
  {
   "cell_type": "code",
   "execution_count": 92,
   "metadata": {},
   "outputs": [
    {
     "data": {
      "text/plain": [
       "BTC     2.084839e+09\n",
       "DOGE   -7.074618e+07\n",
       "ADA    -1.895626e+07\n",
       "ETH    -1.589000e+11\n",
       "dtype: float64"
      ]
     },
     "execution_count": 92,
     "metadata": {},
     "output_type": "execute_result"
    }
   ],
   "source": [
    "# Productions of all values within each column. I know it makes no sense here\n",
    "earnings.prod()"
   ]
  },
  {
   "cell_type": "code",
   "execution_count": 93,
   "metadata": {},
   "outputs": [
    {
     "data": {
      "text/html": [
       "<div>\n",
       "<style scoped>\n",
       "    .dataframe tbody tr th:only-of-type {\n",
       "        vertical-align: middle;\n",
       "    }\n",
       "\n",
       "    .dataframe tbody tr th {\n",
       "        vertical-align: top;\n",
       "    }\n",
       "\n",
       "    .dataframe thead th {\n",
       "        text-align: right;\n",
       "    }\n",
       "</style>\n",
       "<table border=\"1\" class=\"dataframe\">\n",
       "  <thead>\n",
       "    <tr style=\"text-align: right;\">\n",
       "      <th></th>\n",
       "      <th>BTC</th>\n",
       "      <th>DOGE</th>\n",
       "      <th>ADA</th>\n",
       "      <th>ETH</th>\n",
       "    </tr>\n",
       "  </thead>\n",
       "  <tbody>\n",
       "    <tr>\n",
       "      <th>yesterday</th>\n",
       "      <td>7.629390e+03</td>\n",
       "      <td>-9.357490e+03</td>\n",
       "      <td>-1.661300e+03</td>\n",
       "      <td>8.597230e+03</td>\n",
       "    </tr>\n",
       "    <tr>\n",
       "      <th>today</th>\n",
       "      <td>4.277646e+06</td>\n",
       "      <td>NaN</td>\n",
       "      <td>-1.737720e+04</td>\n",
       "      <td>3.076519e+07</td>\n",
       "    </tr>\n",
       "    <tr>\n",
       "      <th>tomorrow</th>\n",
       "      <td>2.084839e+09</td>\n",
       "      <td>-7.074618e+07</td>\n",
       "      <td>-1.895626e+07</td>\n",
       "      <td>-1.589000e+11</td>\n",
       "    </tr>\n",
       "  </tbody>\n",
       "</table>\n",
       "</div>"
      ],
      "text/plain": [
       "                    BTC          DOGE           ADA           ETH\n",
       "yesterday  7.629390e+03 -9.357490e+03 -1.661300e+03  8.597230e+03\n",
       "today      4.277646e+06           NaN -1.737720e+04  3.076519e+07\n",
       "tomorrow   2.084839e+09 -7.074618e+07 -1.895626e+07 -1.589000e+11"
      ]
     },
     "execution_count": 93,
     "metadata": {},
     "output_type": "execute_result"
    }
   ],
   "source": [
    "# Cumulative productions\n",
    "earnings.cumprod()"
   ]
  },
  {
   "cell_type": "code",
   "execution_count": 94,
   "metadata": {},
   "outputs": [
    {
     "data": {
      "text/html": [
       "<div>\n",
       "<style scoped>\n",
       "    .dataframe tbody tr th:only-of-type {\n",
       "        vertical-align: middle;\n",
       "    }\n",
       "\n",
       "    .dataframe tbody tr th {\n",
       "        vertical-align: top;\n",
       "    }\n",
       "\n",
       "    .dataframe thead th {\n",
       "        text-align: right;\n",
       "    }\n",
       "</style>\n",
       "<table border=\"1\" class=\"dataframe\">\n",
       "  <thead>\n",
       "    <tr style=\"text-align: right;\">\n",
       "      <th></th>\n",
       "      <th>BTC</th>\n",
       "      <th>DOGE</th>\n",
       "      <th>ADA</th>\n",
       "      <th>ETH</th>\n",
       "    </tr>\n",
       "  </thead>\n",
       "  <tbody>\n",
       "    <tr>\n",
       "      <th>yesterday</th>\n",
       "      <td>7629.39</td>\n",
       "      <td>-9357.49</td>\n",
       "      <td>-1661.30</td>\n",
       "      <td>8597.23</td>\n",
       "    </tr>\n",
       "    <tr>\n",
       "      <th>today</th>\n",
       "      <td>8190.07</td>\n",
       "      <td>NaN</td>\n",
       "      <td>-1650.84</td>\n",
       "      <td>12175.73</td>\n",
       "    </tr>\n",
       "    <tr>\n",
       "      <th>tomorrow</th>\n",
       "      <td>8677.45</td>\n",
       "      <td>-1797.11</td>\n",
       "      <td>-559.97</td>\n",
       "      <td>7010.80</td>\n",
       "    </tr>\n",
       "  </tbody>\n",
       "</table>\n",
       "</div>"
      ],
      "text/plain": [
       "               BTC     DOGE      ADA       ETH\n",
       "yesterday  7629.39 -9357.49 -1661.30   8597.23\n",
       "today      8190.07      NaN -1650.84  12175.73\n",
       "tomorrow   8677.45 -1797.11  -559.97   7010.80"
      ]
     },
     "execution_count": 94,
     "metadata": {},
     "output_type": "execute_result"
    }
   ],
   "source": [
    "# Cumulative sums\n",
    "earnings.cumsum()"
   ]
  },
  {
   "cell_type": "code",
   "execution_count": 95,
   "metadata": {},
   "outputs": [
    {
     "data": {
      "text/html": [
       "<div>\n",
       "<style scoped>\n",
       "    .dataframe tbody tr th:only-of-type {\n",
       "        vertical-align: middle;\n",
       "    }\n",
       "\n",
       "    .dataframe tbody tr th {\n",
       "        vertical-align: top;\n",
       "    }\n",
       "\n",
       "    .dataframe thead th {\n",
       "        text-align: right;\n",
       "    }\n",
       "</style>\n",
       "<table border=\"1\" class=\"dataframe\">\n",
       "  <thead>\n",
       "    <tr style=\"text-align: right;\">\n",
       "      <th></th>\n",
       "      <th>BTC</th>\n",
       "      <th>DOGE</th>\n",
       "      <th>ADA</th>\n",
       "      <th>ETH</th>\n",
       "    </tr>\n",
       "  </thead>\n",
       "  <tbody>\n",
       "    <tr>\n",
       "      <th>yesterday</th>\n",
       "      <td>7629.39</td>\n",
       "      <td>-9357.49</td>\n",
       "      <td>-1661.30</td>\n",
       "      <td>8597.23</td>\n",
       "    </tr>\n",
       "    <tr>\n",
       "      <th>today</th>\n",
       "      <td>560.68</td>\n",
       "      <td>NaN</td>\n",
       "      <td>10.46</td>\n",
       "      <td>3578.50</td>\n",
       "    </tr>\n",
       "    <tr>\n",
       "      <th>tomorrow</th>\n",
       "      <td>487.38</td>\n",
       "      <td>7560.38</td>\n",
       "      <td>1090.87</td>\n",
       "      <td>-5164.93</td>\n",
       "    </tr>\n",
       "  </tbody>\n",
       "</table>\n",
       "</div>"
      ],
      "text/plain": [
       "               BTC     DOGE      ADA      ETH\n",
       "yesterday  7629.39 -9357.49 -1661.30  8597.23\n",
       "today       560.68      NaN    10.46  3578.50\n",
       "tomorrow    487.38  7560.38  1090.87 -5164.93"
      ]
     },
     "execution_count": 95,
     "metadata": {},
     "output_type": "execute_result"
    }
   ],
   "source": [
    "earnings"
   ]
  },
  {
   "cell_type": "code",
   "execution_count": 96,
   "metadata": {},
   "outputs": [
    {
     "data": {
      "text/html": [
       "<div>\n",
       "<style scoped>\n",
       "    .dataframe tbody tr th:only-of-type {\n",
       "        vertical-align: middle;\n",
       "    }\n",
       "\n",
       "    .dataframe tbody tr th {\n",
       "        vertical-align: top;\n",
       "    }\n",
       "\n",
       "    .dataframe thead th {\n",
       "        text-align: right;\n",
       "    }\n",
       "</style>\n",
       "<table border=\"1\" class=\"dataframe\">\n",
       "  <thead>\n",
       "    <tr style=\"text-align: right;\">\n",
       "      <th></th>\n",
       "      <th>BTC</th>\n",
       "      <th>DOGE</th>\n",
       "      <th>ADA</th>\n",
       "      <th>ETH</th>\n",
       "    </tr>\n",
       "  </thead>\n",
       "  <tbody>\n",
       "    <tr>\n",
       "      <th>yesterday</th>\n",
       "      <td>NaN</td>\n",
       "      <td>NaN</td>\n",
       "      <td>NaN</td>\n",
       "      <td>NaN</td>\n",
       "    </tr>\n",
       "    <tr>\n",
       "      <th>today</th>\n",
       "      <td>-0.926511</td>\n",
       "      <td>0.00000</td>\n",
       "      <td>-1.006296</td>\n",
       "      <td>-0.583761</td>\n",
       "    </tr>\n",
       "    <tr>\n",
       "      <th>tomorrow</th>\n",
       "      <td>-0.130734</td>\n",
       "      <td>-1.80795</td>\n",
       "      <td>103.289675</td>\n",
       "      <td>-2.443323</td>\n",
       "    </tr>\n",
       "  </tbody>\n",
       "</table>\n",
       "</div>"
      ],
      "text/plain": [
       "                BTC     DOGE         ADA       ETH\n",
       "yesterday       NaN      NaN         NaN       NaN\n",
       "today     -0.926511  0.00000   -1.006296 -0.583761\n",
       "tomorrow  -0.130734 -1.80795  103.289675 -2.443323"
      ]
     },
     "execution_count": 96,
     "metadata": {},
     "output_type": "execute_result"
    }
   ],
   "source": [
    "# Percent changes comparing with previous row\n",
    "earnings.pct_change()"
   ]
  },
  {
   "cell_type": "code",
   "execution_count": 97,
   "metadata": {},
   "outputs": [
    {
     "data": {
      "text/plain": [
       "-60413798.359349996"
      ]
     },
     "execution_count": 97,
     "metadata": {},
     "output_type": "execute_result"
    }
   ],
   "source": [
    "# Covariance between BTC and DOGE\n",
    "earnings['BTC'].cov(earnings['DOGE'])"
   ]
  },
  {
   "cell_type": "code",
   "execution_count": 98,
   "metadata": {},
   "outputs": [
    {
     "data": {
      "text/plain": [
       "-1.0"
      ]
     },
     "execution_count": 98,
     "metadata": {},
     "output_type": "execute_result"
    }
   ],
   "source": [
    "# Correlation between BTC and DOGE\n",
    "earnings['BTC'].corr(earnings['DOGE'])"
   ]
  },
  {
   "cell_type": "markdown",
   "metadata": {},
   "source": [
    "One describe() to rule them all"
   ]
  },
  {
   "cell_type": "code",
   "execution_count": 99,
   "metadata": {},
   "outputs": [
    {
     "data": {
      "text/html": [
       "<div>\n",
       "<style scoped>\n",
       "    .dataframe tbody tr th:only-of-type {\n",
       "        vertical-align: middle;\n",
       "    }\n",
       "\n",
       "    .dataframe tbody tr th {\n",
       "        vertical-align: top;\n",
       "    }\n",
       "\n",
       "    .dataframe thead th {\n",
       "        text-align: right;\n",
       "    }\n",
       "</style>\n",
       "<table border=\"1\" class=\"dataframe\">\n",
       "  <thead>\n",
       "    <tr style=\"text-align: right;\">\n",
       "      <th></th>\n",
       "      <th>BTC</th>\n",
       "      <th>DOGE</th>\n",
       "      <th>ADA</th>\n",
       "      <th>ETH</th>\n",
       "    </tr>\n",
       "  </thead>\n",
       "  <tbody>\n",
       "    <tr>\n",
       "      <th>count</th>\n",
       "      <td>3.000000</td>\n",
       "      <td>2.0000</td>\n",
       "      <td>3.000000</td>\n",
       "      <td>3.000000</td>\n",
       "    </tr>\n",
       "    <tr>\n",
       "      <th>mean</th>\n",
       "      <td>2892.483333</td>\n",
       "      <td>-898.5550</td>\n",
       "      <td>-186.656667</td>\n",
       "      <td>2336.933333</td>\n",
       "    </tr>\n",
       "    <tr>\n",
       "      <th>std</th>\n",
       "      <td>4102.445222</td>\n",
       "      <td>11962.7406</td>\n",
       "      <td>1386.633031</td>\n",
       "      <td>6964.580232</td>\n",
       "    </tr>\n",
       "    <tr>\n",
       "      <th>min</th>\n",
       "      <td>487.380000</td>\n",
       "      <td>-9357.4900</td>\n",
       "      <td>-1661.300000</td>\n",
       "      <td>-5164.930000</td>\n",
       "    </tr>\n",
       "    <tr>\n",
       "      <th>25%</th>\n",
       "      <td>524.030000</td>\n",
       "      <td>-5128.0225</td>\n",
       "      <td>-825.420000</td>\n",
       "      <td>-793.215000</td>\n",
       "    </tr>\n",
       "    <tr>\n",
       "      <th>50%</th>\n",
       "      <td>560.680000</td>\n",
       "      <td>-898.5550</td>\n",
       "      <td>10.460000</td>\n",
       "      <td>3578.500000</td>\n",
       "    </tr>\n",
       "    <tr>\n",
       "      <th>75%</th>\n",
       "      <td>4095.035000</td>\n",
       "      <td>3330.9125</td>\n",
       "      <td>550.665000</td>\n",
       "      <td>6087.865000</td>\n",
       "    </tr>\n",
       "    <tr>\n",
       "      <th>max</th>\n",
       "      <td>7629.390000</td>\n",
       "      <td>7560.3800</td>\n",
       "      <td>1090.870000</td>\n",
       "      <td>8597.230000</td>\n",
       "    </tr>\n",
       "  </tbody>\n",
       "</table>\n",
       "</div>"
      ],
      "text/plain": [
       "               BTC        DOGE          ADA          ETH\n",
       "count     3.000000      2.0000     3.000000     3.000000\n",
       "mean   2892.483333   -898.5550  -186.656667  2336.933333\n",
       "std    4102.445222  11962.7406  1386.633031  6964.580232\n",
       "min     487.380000  -9357.4900 -1661.300000 -5164.930000\n",
       "25%     524.030000  -5128.0225  -825.420000  -793.215000\n",
       "50%     560.680000   -898.5550    10.460000  3578.500000\n",
       "75%    4095.035000   3330.9125   550.665000  6087.865000\n",
       "max    7629.390000   7560.3800  1090.870000  8597.230000"
      ]
     },
     "execution_count": 99,
     "metadata": {},
     "output_type": "execute_result"
    }
   ],
   "source": [
    "earnings.describe()"
   ]
  },
  {
   "cell_type": "code",
   "execution_count": 100,
   "metadata": {},
   "outputs": [],
   "source": [
    "del earnings"
   ]
  },
  {
   "cell_type": "markdown",
   "metadata": {},
   "source": [
    "### 8. Applying custom functions"
   ]
  },
  {
   "cell_type": "markdown",
   "metadata": {},
   "source": [
    "Sometimes you want to apply a function to a dataset or one of its columns. You can apply them to the entire table, element-wise, column-wise or row-wise"
   ]
  },
  {
   "cell_type": "code",
   "execution_count": 101,
   "metadata": {},
   "outputs": [],
   "source": [
    "earnings = pd.DataFrame(\n",
    "    data=[[7629.39, -9357.49, -1661.3, 8597.23],\n",
    "          [560.68, None, 10.46, 3578.5],\n",
    "          [487.38, 7560.38, 1090.87, -5164.93]],\n",
    "    columns=['BTC', 'DOGE', 'ADA', 'ETH'],\n",
    "    index=['yesterday', 'today', 'tomorrow']\n",
    ")"
   ]
  },
  {
   "cell_type": "markdown",
   "metadata": {},
   "source": [
    "To apply in row-based way, use the apply function. If you want column-based way add axis = 1"
   ]
  },
  {
   "cell_type": "code",
   "execution_count": 152,
   "metadata": {},
   "outputs": [
    {
     "data": {
      "text/plain": [
       "BTC     1.683006e+07\n",
       "DOGE    1.431072e+08\n",
       "ADA     1.922751e+06\n",
       "ETH     4.850538e+07\n",
       "dtype: float64"
      ]
     },
     "execution_count": 152,
     "metadata": {},
     "output_type": "execute_result"
    }
   ],
   "source": [
    "# Calculate dispersions. Lambda takes pandas.Series of each column\n",
    "earnings.apply(lambda money: money.std() ** 2)"
   ]
  },
  {
   "cell_type": "markdown",
   "metadata": {},
   "source": [
    "To apply a function element by element use applymap"
   ]
  },
  {
   "cell_type": "code",
   "execution_count": 102,
   "metadata": {},
   "outputs": [
    {
     "data": {
      "text/html": [
       "<div>\n",
       "<style scoped>\n",
       "    .dataframe tbody tr th:only-of-type {\n",
       "        vertical-align: middle;\n",
       "    }\n",
       "\n",
       "    .dataframe tbody tr th {\n",
       "        vertical-align: top;\n",
       "    }\n",
       "\n",
       "    .dataframe thead th {\n",
       "        text-align: right;\n",
       "    }\n",
       "</style>\n",
       "<table border=\"1\" class=\"dataframe\">\n",
       "  <thead>\n",
       "    <tr style=\"text-align: right;\">\n",
       "      <th></th>\n",
       "      <th>BTC</th>\n",
       "      <th>DOGE</th>\n",
       "      <th>ADA</th>\n",
       "      <th>ETH</th>\n",
       "    </tr>\n",
       "  </thead>\n",
       "  <tbody>\n",
       "    <tr>\n",
       "      <th>yesterday</th>\n",
       "      <td>7629.39</td>\n",
       "      <td>9357.49</td>\n",
       "      <td>1661.30</td>\n",
       "      <td>8597.23</td>\n",
       "    </tr>\n",
       "    <tr>\n",
       "      <th>today</th>\n",
       "      <td>560.68</td>\n",
       "      <td>NaN</td>\n",
       "      <td>10.46</td>\n",
       "      <td>3578.50</td>\n",
       "    </tr>\n",
       "    <tr>\n",
       "      <th>tomorrow</th>\n",
       "      <td>487.38</td>\n",
       "      <td>7560.38</td>\n",
       "      <td>1090.87</td>\n",
       "      <td>5164.93</td>\n",
       "    </tr>\n",
       "  </tbody>\n",
       "</table>\n",
       "</div>"
      ],
      "text/plain": [
       "               BTC     DOGE      ADA      ETH\n",
       "yesterday  7629.39  9357.49  1661.30  8597.23\n",
       "today       560.68      NaN    10.46  3578.50\n",
       "tomorrow    487.38  7560.38  1090.87  5164.93"
      ]
     },
     "execution_count": 102,
     "metadata": {},
     "output_type": "execute_result"
    }
   ],
   "source": [
    "# Let's pretend that the losses turned into a profit\n",
    "earnings.applymap(abs)"
   ]
  },
  {
   "cell_type": "code",
   "execution_count": 103,
   "metadata": {},
   "outputs": [
    {
     "data": {
      "text/plain": [
       "yesterday    108129.39\n",
       "today        101060.68\n",
       "tomorrow     100987.38\n",
       "Name: BTC, dtype: float64"
      ]
     },
     "execution_count": 103,
     "metadata": {},
     "output_type": "execute_result"
    }
   ],
   "source": [
    "# Apply to one column\n",
    "earnings['BTC'].apply(lambda money: money + 100500)"
   ]
  },
  {
   "cell_type": "code",
   "execution_count": null,
   "metadata": {},
   "outputs": [],
   "source": [
    "earnings.pipe() # Figure it out by yourself"
   ]
  },
  {
   "cell_type": "code",
   "execution_count": 105,
   "metadata": {},
   "outputs": [],
   "source": [
    "del earnings"
   ]
  },
  {
   "cell_type": "markdown",
   "metadata": {},
   "source": [
    "### 9. Working with string columns"
   ]
  },
  {
   "cell_type": "markdown",
   "metadata": {},
   "source": [
    "At the moment, to work with string columns, we would have to constantly use the apply method. This is inconvenient and therefore pandas has convenient string manipulation tools"
   ]
  },
  {
   "cell_type": "code",
   "execution_count": 106,
   "metadata": {},
   "outputs": [
    {
     "data": {
      "text/html": [
       "<div>\n",
       "<style scoped>\n",
       "    .dataframe tbody tr th:only-of-type {\n",
       "        vertical-align: middle;\n",
       "    }\n",
       "\n",
       "    .dataframe tbody tr th {\n",
       "        vertical-align: top;\n",
       "    }\n",
       "\n",
       "    .dataframe thead th {\n",
       "        text-align: right;\n",
       "    }\n",
       "</style>\n",
       "<table border=\"1\" class=\"dataframe\">\n",
       "  <thead>\n",
       "    <tr style=\"text-align: right;\">\n",
       "      <th></th>\n",
       "      <th>symbol</th>\n",
       "      <th>name</th>\n",
       "    </tr>\n",
       "  </thead>\n",
       "  <tbody>\n",
       "    <tr>\n",
       "      <th>0</th>\n",
       "      <td>BTC</td>\n",
       "      <td>Bitcoin</td>\n",
       "    </tr>\n",
       "    <tr>\n",
       "      <th>1</th>\n",
       "      <td>LTC</td>\n",
       "      <td>Litecoin</td>\n",
       "    </tr>\n",
       "    <tr>\n",
       "      <th>2</th>\n",
       "      <td>ETC</td>\n",
       "      <td>Etherium</td>\n",
       "    </tr>\n",
       "    <tr>\n",
       "      <th>3</th>\n",
       "      <td>DOGE</td>\n",
       "      <td>Doge coin</td>\n",
       "    </tr>\n",
       "  </tbody>\n",
       "</table>\n",
       "</div>"
      ],
      "text/plain": [
       "  symbol       name\n",
       "0    BTC    Bitcoin\n",
       "1    LTC   Litecoin\n",
       "2    ETC   Etherium\n",
       "3   DOGE  Doge coin"
      ]
     },
     "execution_count": 106,
     "metadata": {},
     "output_type": "execute_result"
    }
   ],
   "source": [
    "taxonomy = pd.DataFrame(\n",
    "    data=[['BTC', 'Bitcoin'],['LTC', 'Litecoin'], ['ETC', 'Etherium'], ['DOGE', 'Doge coin']],\n",
    "    columns=['symbol', 'name']\n",
    ")\n",
    "taxonomy"
   ]
  },
  {
   "cell_type": "markdown",
   "metadata": {},
   "source": [
    "To apply string functions to a column, you need to refer to the .str property."
   ]
  },
  {
   "cell_type": "code",
   "execution_count": 107,
   "metadata": {},
   "outputs": [
    {
     "data": {
      "text/plain": [
       "0     btc\n",
       "1     ltc\n",
       "2     etc\n",
       "3    doge\n",
       "Name: symbol, dtype: object"
      ]
     },
     "execution_count": 107,
     "metadata": {},
     "output_type": "execute_result"
    }
   ],
   "source": [
    "# To lowercase\n",
    "taxonomy['symbol'].str.lower()"
   ]
  },
  {
   "cell_type": "code",
   "execution_count": 108,
   "metadata": {},
   "outputs": [
    {
     "data": {
      "text/plain": [
       "0      BITCOIN\n",
       "1     LITECOIN\n",
       "2     ETHERIUM\n",
       "3    DOGE COIN\n",
       "Name: name, dtype: object"
      ]
     },
     "execution_count": 108,
     "metadata": {},
     "output_type": "execute_result"
    }
   ],
   "source": [
    "# To uppercase\n",
    "taxonomy['name'].str.upper()"
   ]
  },
  {
   "cell_type": "code",
   "execution_count": 109,
   "metadata": {},
   "outputs": [
    {
     "data": {
      "text/plain": [
       "0    3\n",
       "1    3\n",
       "2    3\n",
       "3    4\n",
       "Name: symbol, dtype: int64"
      ]
     },
     "execution_count": 109,
     "metadata": {},
     "output_type": "execute_result"
    }
   ],
   "source": [
    "# String lengths\n",
    "taxonomy['symbol'].str.len()"
   ]
  },
  {
   "cell_type": "code",
   "execution_count": 110,
   "metadata": {},
   "outputs": [
    {
     "data": {
      "text/plain": [
       "0      Bitcoin\n",
       "1     Litecoin\n",
       "2     Etherium\n",
       "3    Doge coin\n",
       "Name: name, dtype: object"
      ]
     },
     "execution_count": 110,
     "metadata": {},
     "output_type": "execute_result"
    }
   ],
   "source": [
    "# Strip strings\n",
    "taxonomy['name'].str.strip()"
   ]
  },
  {
   "cell_type": "code",
   "execution_count": 111,
   "metadata": {},
   "outputs": [
    {
     "data": {
      "text/plain": [
       "0       [Bitcoin]\n",
       "1      [Litecoin]\n",
       "2      [Etherium]\n",
       "3    [Doge, coin]\n",
       "Name: name, dtype: object"
      ]
     },
     "execution_count": 111,
     "metadata": {},
     "output_type": "execute_result"
    }
   ],
   "source": [
    "# Split strings\n",
    "taxonomy['name'].str.split(' ')"
   ]
  },
  {
   "cell_type": "code",
   "execution_count": 112,
   "metadata": {},
   "outputs": [
    {
     "data": {
      "text/plain": [
       "'BTC $$$ LTC $$$ ETC $$$ DOGE'"
      ]
     },
     "execution_count": 112,
     "metadata": {},
     "output_type": "execute_result"
    }
   ],
   "source": [
    "# Concatenate (analogous to str.join)\n",
    "taxonomy['symbol'].str.cat(sep=' $$$ ')"
   ]
  },
  {
   "cell_type": "code",
   "execution_count": 113,
   "metadata": {},
   "outputs": [
    {
     "data": {
      "text/plain": [
       "0     True\n",
       "1     True\n",
       "2    False\n",
       "3     True\n",
       "Name: name, dtype: bool"
      ]
     },
     "execution_count": 113,
     "metadata": {},
     "output_type": "execute_result"
    }
   ],
   "source": [
    "# Find substring\n",
    "taxonomy['name'].str.contains('coin')"
   ]
  },
  {
   "cell_type": "code",
   "execution_count": 114,
   "metadata": {},
   "outputs": [
    {
     "data": {
      "text/plain": [
       "0      Bitdough\n",
       "1     Litedough\n",
       "2      Etherium\n",
       "3    Doge dough\n",
       "Name: name, dtype: object"
      ]
     },
     "execution_count": 114,
     "metadata": {},
     "output_type": "execute_result"
    }
   ],
   "source": [
    "# Replace substring by another substring\n",
    "taxonomy['name'].str.replace('coin', 'dough')"
   ]
  },
  {
   "cell_type": "code",
   "execution_count": 115,
   "metadata": {},
   "outputs": [
    {
     "data": {
      "text/plain": [
       "0        BitcoinBitcoin\n",
       "1      LitecoinLitecoin\n",
       "2      EtheriumEtherium\n",
       "3    Doge coinDoge coin\n",
       "Name: name, dtype: object"
      ]
     },
     "execution_count": 115,
     "metadata": {},
     "output_type": "execute_result"
    }
   ],
   "source": [
    "# Repeat string N times\n",
    "taxonomy['name'].str.repeat(2)"
   ]
  },
  {
   "cell_type": "code",
   "execution_count": 116,
   "metadata": {},
   "outputs": [
    {
     "data": {
      "text/plain": [
       "0    1\n",
       "1    1\n",
       "2    0\n",
       "3    1\n",
       "Name: name, dtype: int64"
      ]
     },
     "execution_count": 116,
     "metadata": {},
     "output_type": "execute_result"
    }
   ],
   "source": [
    "# Count substring occurences\n",
    "taxonomy['name'].str.count('coin')"
   ]
  },
  {
   "cell_type": "code",
   "execution_count": 117,
   "metadata": {},
   "outputs": [
    {
     "data": {
      "text/plain": [
       "0     True\n",
       "1    False\n",
       "2    False\n",
       "3    False\n",
       "Name: symbol, dtype: bool"
      ]
     },
     "execution_count": 117,
     "metadata": {},
     "output_type": "execute_result"
    }
   ],
   "source": [
    "# Check prefix\n",
    "taxonomy['symbol'].str.startswith('B')"
   ]
  },
  {
   "cell_type": "code",
   "execution_count": 118,
   "metadata": {},
   "outputs": [
    {
     "data": {
      "text/plain": [
       "0     True\n",
       "1     True\n",
       "2     True\n",
       "3    False\n",
       "Name: symbol, dtype: bool"
      ]
     },
     "execution_count": 118,
     "metadata": {},
     "output_type": "execute_result"
    }
   ],
   "source": [
    "# Check suffix\n",
    "taxonomy['symbol'].str.endswith('C')"
   ]
  },
  {
   "cell_type": "code",
   "execution_count": 119,
   "metadata": {},
   "outputs": [
    {
     "data": {
      "text/plain": [
       "0    3\n",
       "1    4\n",
       "2   -1\n",
       "3    5\n",
       "Name: name, dtype: int64"
      ]
     },
     "execution_count": 119,
     "metadata": {},
     "output_type": "execute_result"
    }
   ],
   "source": [
    "# Index of substring leftmost occurence\n",
    "taxonomy['name'].str.find('coin')"
   ]
  },
  {
   "cell_type": "code",
   "execution_count": 120,
   "metadata": {},
   "outputs": [
    {
     "data": {
      "text/plain": [
       "0    True\n",
       "1    True\n",
       "2    True\n",
       "3    True\n",
       "Name: symbol, dtype: bool"
      ]
     },
     "execution_count": 120,
     "metadata": {},
     "output_type": "execute_result"
    }
   ],
   "source": [
    "# Check if all in uppercase\n",
    "taxonomy['symbol'].str.isupper()"
   ]
  },
  {
   "cell_type": "code",
   "execution_count": 121,
   "metadata": {},
   "outputs": [
    {
     "data": {
      "text/plain": [
       "0    False\n",
       "1    False\n",
       "2    False\n",
       "3    False\n",
       "Name: symbol, dtype: bool"
      ]
     },
     "execution_count": 121,
     "metadata": {},
     "output_type": "execute_result"
    }
   ],
   "source": [
    "# Check if all in lowercase\n",
    "taxonomy['symbol'].str.islower()"
   ]
  },
  {
   "cell_type": "code",
   "execution_count": 122,
   "metadata": {},
   "outputs": [
    {
     "data": {
      "text/plain": [
       "0    False\n",
       "1    False\n",
       "2    False\n",
       "3    False\n",
       "Name: name, dtype: bool"
      ]
     },
     "execution_count": 122,
     "metadata": {},
     "output_type": "execute_result"
    }
   ],
   "source": [
    "# Check if numeric\n",
    "taxonomy['name'].str.isnumeric()"
   ]
  },
  {
   "cell_type": "markdown",
   "metadata": {},
   "source": [
    "### 10. Aggregations, transformations, and filtration"
   ]
  },
  {
   "cell_type": "markdown",
   "metadata": {},
   "source": [
    "#### 10.1. Rolling windows"
   ]
  },
  {
   "cell_type": "code",
   "execution_count": 123,
   "metadata": {},
   "outputs": [],
   "source": [
    "price = pd.DataFrame(\n",
    "    data=[\n",
    "        [0.1, 0.2],\n",
    "        [0.2, 0.3],\n",
    "        [0.3, 0.4],\n",
    "        [0.4, 0.5],\n",
    "        [0.5, None],\n",
    "        [0.6, 0.7]],\n",
    "    columns=['ADA', 'DOGE'],\n",
    "    # Date range of 6 days starting at 2018-11-01 \n",
    "    index=pd.date_range('2018-11-01', periods=6)\n",
    ")"
   ]
  },
  {
   "cell_type": "code",
   "execution_count": 124,
   "metadata": {},
   "outputs": [
    {
     "data": {
      "text/html": [
       "<div>\n",
       "<style scoped>\n",
       "    .dataframe tbody tr th:only-of-type {\n",
       "        vertical-align: middle;\n",
       "    }\n",
       "\n",
       "    .dataframe tbody tr th {\n",
       "        vertical-align: top;\n",
       "    }\n",
       "\n",
       "    .dataframe thead th {\n",
       "        text-align: right;\n",
       "    }\n",
       "</style>\n",
       "<table border=\"1\" class=\"dataframe\">\n",
       "  <thead>\n",
       "    <tr style=\"text-align: right;\">\n",
       "      <th></th>\n",
       "      <th>ADA</th>\n",
       "      <th>DOGE</th>\n",
       "    </tr>\n",
       "  </thead>\n",
       "  <tbody>\n",
       "    <tr>\n",
       "      <th>2018-11-01</th>\n",
       "      <td>0.1</td>\n",
       "      <td>0.2</td>\n",
       "    </tr>\n",
       "    <tr>\n",
       "      <th>2018-11-02</th>\n",
       "      <td>0.2</td>\n",
       "      <td>0.3</td>\n",
       "    </tr>\n",
       "    <tr>\n",
       "      <th>2018-11-03</th>\n",
       "      <td>0.3</td>\n",
       "      <td>0.4</td>\n",
       "    </tr>\n",
       "    <tr>\n",
       "      <th>2018-11-04</th>\n",
       "      <td>0.4</td>\n",
       "      <td>0.5</td>\n",
       "    </tr>\n",
       "    <tr>\n",
       "      <th>2018-11-05</th>\n",
       "      <td>0.5</td>\n",
       "      <td>NaN</td>\n",
       "    </tr>\n",
       "    <tr>\n",
       "      <th>2018-11-06</th>\n",
       "      <td>0.6</td>\n",
       "      <td>0.7</td>\n",
       "    </tr>\n",
       "  </tbody>\n",
       "</table>\n",
       "</div>"
      ],
      "text/plain": [
       "            ADA  DOGE\n",
       "2018-11-01  0.1   0.2\n",
       "2018-11-02  0.2   0.3\n",
       "2018-11-03  0.3   0.4\n",
       "2018-11-04  0.4   0.5\n",
       "2018-11-05  0.5   NaN\n",
       "2018-11-06  0.6   0.7"
      ]
     },
     "execution_count": 124,
     "metadata": {},
     "output_type": "execute_result"
    }
   ],
   "source": [
    "price"
   ]
  },
  {
   "cell_type": "markdown",
   "metadata": {},
   "source": [
    "If you want to calculate some statistical function (sum, mean, median, std) in a sliding window you can use rolling method (normal window) and ewm (window with exponential weights). They return special objects that can aggregate using a standard or custom function."
   ]
  },
  {
   "cell_type": "code",
   "execution_count": 125,
   "metadata": {},
   "outputs": [
    {
     "data": {
      "text/html": [
       "<div>\n",
       "<style scoped>\n",
       "    .dataframe tbody tr th:only-of-type {\n",
       "        vertical-align: middle;\n",
       "    }\n",
       "\n",
       "    .dataframe tbody tr th {\n",
       "        vertical-align: top;\n",
       "    }\n",
       "\n",
       "    .dataframe thead th {\n",
       "        text-align: right;\n",
       "    }\n",
       "</style>\n",
       "<table border=\"1\" class=\"dataframe\">\n",
       "  <thead>\n",
       "    <tr style=\"text-align: right;\">\n",
       "      <th></th>\n",
       "      <th>ADA</th>\n",
       "      <th>DOGE</th>\n",
       "    </tr>\n",
       "  </thead>\n",
       "  <tbody>\n",
       "    <tr>\n",
       "      <th>2018-11-01</th>\n",
       "      <td>NaN</td>\n",
       "      <td>NaN</td>\n",
       "    </tr>\n",
       "    <tr>\n",
       "      <th>2018-11-02</th>\n",
       "      <td>0.15</td>\n",
       "      <td>0.25</td>\n",
       "    </tr>\n",
       "    <tr>\n",
       "      <th>2018-11-03</th>\n",
       "      <td>0.25</td>\n",
       "      <td>0.35</td>\n",
       "    </tr>\n",
       "    <tr>\n",
       "      <th>2018-11-04</th>\n",
       "      <td>0.35</td>\n",
       "      <td>0.45</td>\n",
       "    </tr>\n",
       "    <tr>\n",
       "      <th>2018-11-05</th>\n",
       "      <td>0.45</td>\n",
       "      <td>NaN</td>\n",
       "    </tr>\n",
       "    <tr>\n",
       "      <th>2018-11-06</th>\n",
       "      <td>0.55</td>\n",
       "      <td>NaN</td>\n",
       "    </tr>\n",
       "  </tbody>\n",
       "</table>\n",
       "</div>"
      ],
      "text/plain": [
       "             ADA  DOGE\n",
       "2018-11-01   NaN   NaN\n",
       "2018-11-02  0.15  0.25\n",
       "2018-11-03  0.25  0.35\n",
       "2018-11-04  0.35  0.45\n",
       "2018-11-05  0.45   NaN\n",
       "2018-11-06  0.55   NaN"
      ]
     },
     "execution_count": 125,
     "metadata": {},
     "output_type": "execute_result"
    }
   ],
   "source": [
    "# Rolling mean\n",
    "price.rolling(window=2).mean()"
   ]
  },
  {
   "cell_type": "code",
   "execution_count": 126,
   "metadata": {},
   "outputs": [
    {
     "data": {
      "text/html": [
       "<div>\n",
       "<style scoped>\n",
       "    .dataframe tbody tr th:only-of-type {\n",
       "        vertical-align: middle;\n",
       "    }\n",
       "\n",
       "    .dataframe tbody tr th {\n",
       "        vertical-align: top;\n",
       "    }\n",
       "\n",
       "    .dataframe thead th {\n",
       "        text-align: right;\n",
       "    }\n",
       "</style>\n",
       "<table border=\"1\" class=\"dataframe\">\n",
       "  <thead>\n",
       "    <tr style=\"text-align: right;\">\n",
       "      <th></th>\n",
       "      <th>ADA</th>\n",
       "      <th>DOGE</th>\n",
       "    </tr>\n",
       "  </thead>\n",
       "  <tbody>\n",
       "    <tr>\n",
       "      <th>2018-11-01</th>\n",
       "      <td>0.10</td>\n",
       "      <td>0.20</td>\n",
       "    </tr>\n",
       "    <tr>\n",
       "      <th>2018-11-02</th>\n",
       "      <td>0.15</td>\n",
       "      <td>0.25</td>\n",
       "    </tr>\n",
       "    <tr>\n",
       "      <th>2018-11-03</th>\n",
       "      <td>0.20</td>\n",
       "      <td>0.30</td>\n",
       "    </tr>\n",
       "    <tr>\n",
       "      <th>2018-11-04</th>\n",
       "      <td>0.25</td>\n",
       "      <td>0.35</td>\n",
       "    </tr>\n",
       "    <tr>\n",
       "      <th>2018-11-05</th>\n",
       "      <td>0.30</td>\n",
       "      <td>0.35</td>\n",
       "    </tr>\n",
       "    <tr>\n",
       "      <th>2018-11-06</th>\n",
       "      <td>0.35</td>\n",
       "      <td>0.42</td>\n",
       "    </tr>\n",
       "  </tbody>\n",
       "</table>\n",
       "</div>"
      ],
      "text/plain": [
       "             ADA  DOGE\n",
       "2018-11-01  0.10  0.20\n",
       "2018-11-02  0.15  0.25\n",
       "2018-11-03  0.20  0.30\n",
       "2018-11-04  0.25  0.35\n",
       "2018-11-05  0.30  0.35\n",
       "2018-11-06  0.35  0.42"
      ]
     },
     "execution_count": 126,
     "metadata": {},
     "output_type": "execute_result"
    }
   ],
   "source": [
    "#Expanding mean\n",
    "price.expanding().mean()"
   ]
  },
  {
   "cell_type": "code",
   "execution_count": 127,
   "metadata": {},
   "outputs": [
    {
     "data": {
      "text/html": [
       "<div>\n",
       "<style scoped>\n",
       "    .dataframe tbody tr th:only-of-type {\n",
       "        vertical-align: middle;\n",
       "    }\n",
       "\n",
       "    .dataframe tbody tr th {\n",
       "        vertical-align: top;\n",
       "    }\n",
       "\n",
       "    .dataframe thead th {\n",
       "        text-align: right;\n",
       "    }\n",
       "</style>\n",
       "<table border=\"1\" class=\"dataframe\">\n",
       "  <thead>\n",
       "    <tr style=\"text-align: right;\">\n",
       "      <th></th>\n",
       "      <th>ADA</th>\n",
       "      <th>DOGE</th>\n",
       "    </tr>\n",
       "  </thead>\n",
       "  <tbody>\n",
       "    <tr>\n",
       "      <th>2018-11-01</th>\n",
       "      <td>NaN</td>\n",
       "      <td>NaN</td>\n",
       "    </tr>\n",
       "    <tr>\n",
       "      <th>2018-11-02</th>\n",
       "      <td>0.05</td>\n",
       "      <td>0.13</td>\n",
       "    </tr>\n",
       "    <tr>\n",
       "      <th>2018-11-03</th>\n",
       "      <td>0.13</td>\n",
       "      <td>0.25</td>\n",
       "    </tr>\n",
       "    <tr>\n",
       "      <th>2018-11-04</th>\n",
       "      <td>0.25</td>\n",
       "      <td>0.41</td>\n",
       "    </tr>\n",
       "    <tr>\n",
       "      <th>2018-11-05</th>\n",
       "      <td>0.41</td>\n",
       "      <td>NaN</td>\n",
       "    </tr>\n",
       "    <tr>\n",
       "      <th>2018-11-06</th>\n",
       "      <td>0.61</td>\n",
       "      <td>NaN</td>\n",
       "    </tr>\n",
       "  </tbody>\n",
       "</table>\n",
       "</div>"
      ],
      "text/plain": [
       "             ADA  DOGE\n",
       "2018-11-01   NaN   NaN\n",
       "2018-11-02  0.05  0.13\n",
       "2018-11-03  0.13  0.25\n",
       "2018-11-04  0.25  0.41\n",
       "2018-11-05  0.41   NaN\n",
       "2018-11-06  0.61   NaN"
      ]
     },
     "execution_count": 127,
     "metadata": {},
     "output_type": "execute_result"
    }
   ],
   "source": [
    "# And now with custom function\n",
    "price.rolling(window=2).agg(lambda series: sum(series ** 2))"
   ]
  },
  {
   "cell_type": "code",
   "execution_count": 128,
   "metadata": {},
   "outputs": [
    {
     "data": {
      "text/html": [
       "<div>\n",
       "<style scoped>\n",
       "    .dataframe tbody tr th:only-of-type {\n",
       "        vertical-align: middle;\n",
       "    }\n",
       "\n",
       "    .dataframe tbody tr th {\n",
       "        vertical-align: top;\n",
       "    }\n",
       "\n",
       "    .dataframe thead th {\n",
       "        text-align: right;\n",
       "    }\n",
       "</style>\n",
       "<table border=\"1\" class=\"dataframe\">\n",
       "  <thead>\n",
       "    <tr style=\"text-align: right;\">\n",
       "      <th></th>\n",
       "      <th>ADA</th>\n",
       "      <th>DOGE</th>\n",
       "    </tr>\n",
       "  </thead>\n",
       "  <tbody>\n",
       "    <tr>\n",
       "      <th>2018-11-01</th>\n",
       "      <td>NaN</td>\n",
       "      <td>NaN</td>\n",
       "    </tr>\n",
       "    <tr>\n",
       "      <th>2018-11-02</th>\n",
       "      <td>0.2</td>\n",
       "      <td>0.3</td>\n",
       "    </tr>\n",
       "    <tr>\n",
       "      <th>2018-11-03</th>\n",
       "      <td>0.3</td>\n",
       "      <td>0.4</td>\n",
       "    </tr>\n",
       "    <tr>\n",
       "      <th>2018-11-04</th>\n",
       "      <td>0.4</td>\n",
       "      <td>0.5</td>\n",
       "    </tr>\n",
       "    <tr>\n",
       "      <th>2018-11-05</th>\n",
       "      <td>0.5</td>\n",
       "      <td>NaN</td>\n",
       "    </tr>\n",
       "    <tr>\n",
       "      <th>2018-11-06</th>\n",
       "      <td>0.6</td>\n",
       "      <td>NaN</td>\n",
       "    </tr>\n",
       "  </tbody>\n",
       "</table>\n",
       "</div>"
      ],
      "text/plain": [
       "            ADA  DOGE\n",
       "2018-11-01  NaN   NaN\n",
       "2018-11-02  0.2   0.3\n",
       "2018-11-03  0.3   0.4\n",
       "2018-11-04  0.4   0.5\n",
       "2018-11-05  0.5   NaN\n",
       "2018-11-06  0.6   NaN"
      ]
     },
     "execution_count": 128,
     "metadata": {},
     "output_type": "execute_result"
    }
   ],
   "source": [
    "# Aggregation by function's name\n",
    "price.rolling(window=2).agg('max')"
   ]
  },
  {
   "cell_type": "code",
   "execution_count": 129,
   "metadata": {},
   "outputs": [
    {
     "data": {
      "text/html": [
       "<div>\n",
       "<style scoped>\n",
       "    .dataframe tbody tr th:only-of-type {\n",
       "        vertical-align: middle;\n",
       "    }\n",
       "\n",
       "    .dataframe tbody tr th {\n",
       "        vertical-align: top;\n",
       "    }\n",
       "\n",
       "    .dataframe thead tr th {\n",
       "        text-align: left;\n",
       "    }\n",
       "</style>\n",
       "<table border=\"1\" class=\"dataframe\">\n",
       "  <thead>\n",
       "    <tr>\n",
       "      <th></th>\n",
       "      <th colspan=\"3\" halign=\"left\">ADA</th>\n",
       "      <th colspan=\"3\" halign=\"left\">DOGE</th>\n",
       "    </tr>\n",
       "    <tr>\n",
       "      <th></th>\n",
       "      <th>mean</th>\n",
       "      <th>sum</th>\n",
       "      <th>&lt;lambda&gt;</th>\n",
       "      <th>mean</th>\n",
       "      <th>sum</th>\n",
       "      <th>&lt;lambda&gt;</th>\n",
       "    </tr>\n",
       "  </thead>\n",
       "  <tbody>\n",
       "    <tr>\n",
       "      <th>2018-11-01</th>\n",
       "      <td>NaN</td>\n",
       "      <td>NaN</td>\n",
       "      <td>NaN</td>\n",
       "      <td>NaN</td>\n",
       "      <td>NaN</td>\n",
       "      <td>NaN</td>\n",
       "    </tr>\n",
       "    <tr>\n",
       "      <th>2018-11-02</th>\n",
       "      <td>0.15</td>\n",
       "      <td>0.3</td>\n",
       "      <td>0.04</td>\n",
       "      <td>0.25</td>\n",
       "      <td>0.5</td>\n",
       "      <td>0.09</td>\n",
       "    </tr>\n",
       "    <tr>\n",
       "      <th>2018-11-03</th>\n",
       "      <td>0.25</td>\n",
       "      <td>0.5</td>\n",
       "      <td>0.09</td>\n",
       "      <td>0.35</td>\n",
       "      <td>0.7</td>\n",
       "      <td>0.16</td>\n",
       "    </tr>\n",
       "    <tr>\n",
       "      <th>2018-11-04</th>\n",
       "      <td>0.35</td>\n",
       "      <td>0.7</td>\n",
       "      <td>0.16</td>\n",
       "      <td>0.45</td>\n",
       "      <td>0.9</td>\n",
       "      <td>0.25</td>\n",
       "    </tr>\n",
       "    <tr>\n",
       "      <th>2018-11-05</th>\n",
       "      <td>0.45</td>\n",
       "      <td>0.9</td>\n",
       "      <td>0.25</td>\n",
       "      <td>NaN</td>\n",
       "      <td>NaN</td>\n",
       "      <td>NaN</td>\n",
       "    </tr>\n",
       "    <tr>\n",
       "      <th>2018-11-06</th>\n",
       "      <td>0.55</td>\n",
       "      <td>1.1</td>\n",
       "      <td>0.36</td>\n",
       "      <td>NaN</td>\n",
       "      <td>NaN</td>\n",
       "      <td>NaN</td>\n",
       "    </tr>\n",
       "  </tbody>\n",
       "</table>\n",
       "</div>"
      ],
      "text/plain": [
       "             ADA                DOGE              \n",
       "            mean  sum <lambda>  mean  sum <lambda>\n",
       "2018-11-01   NaN  NaN      NaN   NaN  NaN      NaN\n",
       "2018-11-02  0.15  0.3     0.04  0.25  0.5     0.09\n",
       "2018-11-03  0.25  0.5     0.09  0.35  0.7     0.16\n",
       "2018-11-04  0.35  0.7     0.16  0.45  0.9     0.25\n",
       "2018-11-05  0.45  0.9     0.25   NaN  NaN      NaN\n",
       "2018-11-06  0.55  1.1     0.36   NaN  NaN      NaN"
      ]
     },
     "execution_count": 129,
     "metadata": {},
     "output_type": "execute_result"
    }
   ],
   "source": [
    "# Several aggregations\n",
    "price.rolling(window=2).agg(['mean', sum, lambda series: max(series ** 2)])"
   ]
  },
  {
   "cell_type": "code",
   "execution_count": 130,
   "metadata": {},
   "outputs": [
    {
     "data": {
      "text/html": [
       "<div>\n",
       "<style scoped>\n",
       "    .dataframe tbody tr th:only-of-type {\n",
       "        vertical-align: middle;\n",
       "    }\n",
       "\n",
       "    .dataframe tbody tr th {\n",
       "        vertical-align: top;\n",
       "    }\n",
       "\n",
       "    .dataframe thead tr th {\n",
       "        text-align: left;\n",
       "    }\n",
       "</style>\n",
       "<table border=\"1\" class=\"dataframe\">\n",
       "  <thead>\n",
       "    <tr>\n",
       "      <th></th>\n",
       "      <th colspan=\"2\" halign=\"left\">ADA</th>\n",
       "      <th>DOGE</th>\n",
       "    </tr>\n",
       "    <tr>\n",
       "      <th></th>\n",
       "      <th>sum</th>\n",
       "      <th>max</th>\n",
       "      <th>&lt;lambda&gt;</th>\n",
       "    </tr>\n",
       "  </thead>\n",
       "  <tbody>\n",
       "    <tr>\n",
       "      <th>2018-11-01</th>\n",
       "      <td>NaN</td>\n",
       "      <td>NaN</td>\n",
       "      <td>NaN</td>\n",
       "    </tr>\n",
       "    <tr>\n",
       "      <th>2018-11-02</th>\n",
       "      <td>0.3</td>\n",
       "      <td>0.2</td>\n",
       "      <td>0.09</td>\n",
       "    </tr>\n",
       "    <tr>\n",
       "      <th>2018-11-03</th>\n",
       "      <td>0.5</td>\n",
       "      <td>0.3</td>\n",
       "      <td>0.16</td>\n",
       "    </tr>\n",
       "    <tr>\n",
       "      <th>2018-11-04</th>\n",
       "      <td>0.7</td>\n",
       "      <td>0.4</td>\n",
       "      <td>0.25</td>\n",
       "    </tr>\n",
       "    <tr>\n",
       "      <th>2018-11-05</th>\n",
       "      <td>0.9</td>\n",
       "      <td>0.5</td>\n",
       "      <td>NaN</td>\n",
       "    </tr>\n",
       "    <tr>\n",
       "      <th>2018-11-06</th>\n",
       "      <td>1.1</td>\n",
       "      <td>0.6</td>\n",
       "      <td>NaN</td>\n",
       "    </tr>\n",
       "  </tbody>\n",
       "</table>\n",
       "</div>"
      ],
      "text/plain": [
       "            ADA          DOGE\n",
       "            sum  max <lambda>\n",
       "2018-11-01  NaN  NaN      NaN\n",
       "2018-11-02  0.3  0.2     0.09\n",
       "2018-11-03  0.5  0.3     0.16\n",
       "2018-11-04  0.7  0.4     0.25\n",
       "2018-11-05  0.9  0.5      NaN\n",
       "2018-11-06  1.1  0.6      NaN"
      ]
     },
     "execution_count": 130,
     "metadata": {},
     "output_type": "execute_result"
    }
   ],
   "source": [
    "# Several aggregations different for each column\n",
    "price.rolling(window=2).agg({'ADA': [sum, max], 'DOGE': lambda series: max(series ** 2)})"
   ]
  },
  {
   "cell_type": "markdown",
   "metadata": {},
   "source": [
    "The ewm object works similarly to rolling, with the only difference being that it assigns weights. Values $x_0,\\ldots,x_t$ will be assigned with weights $(1-\\alpha)^t, (1-\\alpha)^{t-1}, \\ldots, 1$, where $\\alpha$ - smoothing parameter. For example, exponential weighted moving average will be calculated like this:\n",
    "\n",
    "$$\n",
    "ewm_{\\alpha}(x)=\\frac{\\sum_{i=0}^t (1-\\alpha)^{t-i} x_i}{\\sum_{i=0}^t(1-\\alpha)^i}\n",
    "$$\n",
    "\n",
    "To use simpler form $y_i = \\alpha*x_i + (1-\\alpha)*y_{i-1}$ specify adjust=False"
   ]
  },
  {
   "cell_type": "code",
   "execution_count": 131,
   "metadata": {},
   "outputs": [
    {
     "data": {
      "text/html": [
       "<div>\n",
       "<style scoped>\n",
       "    .dataframe tbody tr th:only-of-type {\n",
       "        vertical-align: middle;\n",
       "    }\n",
       "\n",
       "    .dataframe tbody tr th {\n",
       "        vertical-align: top;\n",
       "    }\n",
       "\n",
       "    .dataframe thead th {\n",
       "        text-align: right;\n",
       "    }\n",
       "</style>\n",
       "<table border=\"1\" class=\"dataframe\">\n",
       "  <thead>\n",
       "    <tr style=\"text-align: right;\">\n",
       "      <th></th>\n",
       "      <th>ADA</th>\n",
       "      <th>DOGE</th>\n",
       "    </tr>\n",
       "  </thead>\n",
       "  <tbody>\n",
       "    <tr>\n",
       "      <th>2018-11-01</th>\n",
       "      <td>0.100000</td>\n",
       "      <td>0.200000</td>\n",
       "    </tr>\n",
       "    <tr>\n",
       "      <th>2018-11-02</th>\n",
       "      <td>0.150000</td>\n",
       "      <td>0.250000</td>\n",
       "    </tr>\n",
       "    <tr>\n",
       "      <th>2018-11-03</th>\n",
       "      <td>0.225000</td>\n",
       "      <td>0.325000</td>\n",
       "    </tr>\n",
       "    <tr>\n",
       "      <th>2018-11-04</th>\n",
       "      <td>0.312500</td>\n",
       "      <td>0.412500</td>\n",
       "    </tr>\n",
       "    <tr>\n",
       "      <th>2018-11-05</th>\n",
       "      <td>0.406250</td>\n",
       "      <td>0.412500</td>\n",
       "    </tr>\n",
       "    <tr>\n",
       "      <th>2018-11-06</th>\n",
       "      <td>0.503125</td>\n",
       "      <td>0.604167</td>\n",
       "    </tr>\n",
       "  </tbody>\n",
       "</table>\n",
       "</div>"
      ],
      "text/plain": [
       "                 ADA      DOGE\n",
       "2018-11-01  0.100000  0.200000\n",
       "2018-11-02  0.150000  0.250000\n",
       "2018-11-03  0.225000  0.325000\n",
       "2018-11-04  0.312500  0.412500\n",
       "2018-11-05  0.406250  0.412500\n",
       "2018-11-06  0.503125  0.604167"
      ]
     },
     "execution_count": 131,
     "metadata": {},
     "output_type": "execute_result"
    }
   ],
   "source": [
    "# EWM mean\n",
    "price.ewm(alpha=0.5, adjust=False).mean()"
   ]
  },
  {
   "cell_type": "code",
   "execution_count": 132,
   "metadata": {},
   "outputs": [],
   "source": [
    "del price"
   ]
  },
  {
   "cell_type": "markdown",
   "metadata": {},
   "source": [
    "#### 10.2. Grouping"
   ]
  },
  {
   "cell_type": "markdown",
   "metadata": {},
   "source": [
    "Sometimes you want to break the data down into groups and calculate statistics or filter. There is a groupby method for this. It returns a special object for working with grouped data."
   ]
  },
  {
   "cell_type": "code",
   "execution_count": 133,
   "metadata": {},
   "outputs": [],
   "source": [
    "operations = pd.DataFrame(\n",
    "    data=[\n",
    "        ['DOGE', 'buy', 5000, 0.2],\n",
    "        ['BTC', 'buy', 10, 6000],\n",
    "        ['BTC', 'buy', 2.5, 5900],\n",
    "        ['DOGE', 'sell', 3000, 0.1],\n",
    "        ['BTC', 'sell', 4, 6200],\n",
    "        ['ETH', 'sell', 10, 400],\n",
    "        ['BTC', 'buy', 1, 5600],\n",
    "        ['ETH', 'buy', 20, 350],\n",
    "        ['ETH', 'sell', 10, 300],\n",
    "        ['DOGE', 'sell', 3000, 0.15]\n",
    "    ],\n",
    "    columns=['symbol', 'type', 'amount', 'price'],\n",
    "    index=pd.date_range('2018-01-01', periods=10)\n",
    ")"
   ]
  },
  {
   "cell_type": "code",
   "execution_count": 134,
   "metadata": {},
   "outputs": [
    {
     "data": {
      "text/html": [
       "<div>\n",
       "<style scoped>\n",
       "    .dataframe tbody tr th:only-of-type {\n",
       "        vertical-align: middle;\n",
       "    }\n",
       "\n",
       "    .dataframe tbody tr th {\n",
       "        vertical-align: top;\n",
       "    }\n",
       "\n",
       "    .dataframe thead th {\n",
       "        text-align: right;\n",
       "    }\n",
       "</style>\n",
       "<table border=\"1\" class=\"dataframe\">\n",
       "  <thead>\n",
       "    <tr style=\"text-align: right;\">\n",
       "      <th></th>\n",
       "      <th>symbol</th>\n",
       "      <th>type</th>\n",
       "      <th>amount</th>\n",
       "      <th>price</th>\n",
       "    </tr>\n",
       "  </thead>\n",
       "  <tbody>\n",
       "    <tr>\n",
       "      <th>2018-01-01</th>\n",
       "      <td>DOGE</td>\n",
       "      <td>buy</td>\n",
       "      <td>5000.0</td>\n",
       "      <td>0.20</td>\n",
       "    </tr>\n",
       "    <tr>\n",
       "      <th>2018-01-02</th>\n",
       "      <td>BTC</td>\n",
       "      <td>buy</td>\n",
       "      <td>10.0</td>\n",
       "      <td>6000.00</td>\n",
       "    </tr>\n",
       "    <tr>\n",
       "      <th>2018-01-03</th>\n",
       "      <td>BTC</td>\n",
       "      <td>buy</td>\n",
       "      <td>2.5</td>\n",
       "      <td>5900.00</td>\n",
       "    </tr>\n",
       "    <tr>\n",
       "      <th>2018-01-04</th>\n",
       "      <td>DOGE</td>\n",
       "      <td>sell</td>\n",
       "      <td>3000.0</td>\n",
       "      <td>0.10</td>\n",
       "    </tr>\n",
       "    <tr>\n",
       "      <th>2018-01-05</th>\n",
       "      <td>BTC</td>\n",
       "      <td>sell</td>\n",
       "      <td>4.0</td>\n",
       "      <td>6200.00</td>\n",
       "    </tr>\n",
       "    <tr>\n",
       "      <th>2018-01-06</th>\n",
       "      <td>ETH</td>\n",
       "      <td>sell</td>\n",
       "      <td>10.0</td>\n",
       "      <td>400.00</td>\n",
       "    </tr>\n",
       "    <tr>\n",
       "      <th>2018-01-07</th>\n",
       "      <td>BTC</td>\n",
       "      <td>buy</td>\n",
       "      <td>1.0</td>\n",
       "      <td>5600.00</td>\n",
       "    </tr>\n",
       "    <tr>\n",
       "      <th>2018-01-08</th>\n",
       "      <td>ETH</td>\n",
       "      <td>buy</td>\n",
       "      <td>20.0</td>\n",
       "      <td>350.00</td>\n",
       "    </tr>\n",
       "    <tr>\n",
       "      <th>2018-01-09</th>\n",
       "      <td>ETH</td>\n",
       "      <td>sell</td>\n",
       "      <td>10.0</td>\n",
       "      <td>300.00</td>\n",
       "    </tr>\n",
       "    <tr>\n",
       "      <th>2018-01-10</th>\n",
       "      <td>DOGE</td>\n",
       "      <td>sell</td>\n",
       "      <td>3000.0</td>\n",
       "      <td>0.15</td>\n",
       "    </tr>\n",
       "  </tbody>\n",
       "</table>\n",
       "</div>"
      ],
      "text/plain": [
       "           symbol  type  amount    price\n",
       "2018-01-01   DOGE   buy  5000.0     0.20\n",
       "2018-01-02    BTC   buy    10.0  6000.00\n",
       "2018-01-03    BTC   buy     2.5  5900.00\n",
       "2018-01-04   DOGE  sell  3000.0     0.10\n",
       "2018-01-05    BTC  sell     4.0  6200.00\n",
       "2018-01-06    ETH  sell    10.0   400.00\n",
       "2018-01-07    BTC   buy     1.0  5600.00\n",
       "2018-01-08    ETH   buy    20.0   350.00\n",
       "2018-01-09    ETH  sell    10.0   300.00\n",
       "2018-01-10   DOGE  sell  3000.0     0.15"
      ]
     },
     "execution_count": 134,
     "metadata": {},
     "output_type": "execute_result"
    }
   ],
   "source": [
    "operations"
   ]
  },
  {
   "cell_type": "code",
   "execution_count": 135,
   "metadata": {},
   "outputs": [
    {
     "data": {
      "text/plain": [
       "<pandas.core.groupby.generic.DataFrameGroupBy object at 0x7f149b64e100>"
      ]
     },
     "execution_count": 135,
     "metadata": {},
     "output_type": "execute_result"
    }
   ],
   "source": [
    "# Group by symbol\n",
    "operations.groupby('symbol')"
   ]
  },
  {
   "cell_type": "code",
   "execution_count": 136,
   "metadata": {},
   "outputs": [
    {
     "data": {
      "text/plain": [
       "<pandas.core.groupby.generic.DataFrameGroupBy object at 0x7f149b60e850>"
      ]
     },
     "execution_count": 136,
     "metadata": {},
     "output_type": "execute_result"
    }
   ],
   "source": [
    "# Group by symbol and type\n",
    "operations.groupby(['symbol', 'type'])"
   ]
  },
  {
   "cell_type": "code",
   "execution_count": 137,
   "metadata": {},
   "outputs": [
    {
     "data": {
      "text/plain": [
       "{('BTC', 'buy'): [2018-01-02 00:00:00, 2018-01-03 00:00:00, 2018-01-07 00:00:00], ('BTC', 'sell'): [2018-01-05 00:00:00], ('DOGE', 'buy'): [2018-01-01 00:00:00], ('DOGE', 'sell'): [2018-01-04 00:00:00, 2018-01-10 00:00:00], ('ETH', 'buy'): [2018-01-08 00:00:00], ('ETH', 'sell'): [2018-01-06 00:00:00, 2018-01-09 00:00:00]}"
      ]
     },
     "execution_count": 137,
     "metadata": {},
     "output_type": "execute_result"
    }
   ],
   "source": [
    "# Get indexes for each group\n",
    "operations.groupby(['symbol', 'type']).groups"
   ]
  },
  {
   "cell_type": "code",
   "execution_count": 138,
   "metadata": {},
   "outputs": [
    {
     "name": "stdout",
     "output_type": "stream",
     "text": [
      "('BTC', 'buy')\n",
      "           symbol type  amount   price\n",
      "2018-01-02    BTC  buy    10.0  6000.0\n",
      "2018-01-03    BTC  buy     2.5  5900.0\n",
      "2018-01-07    BTC  buy     1.0  5600.0\n",
      "('BTC', 'sell')\n",
      "           symbol  type  amount   price\n",
      "2018-01-05    BTC  sell     4.0  6200.0\n",
      "('DOGE', 'buy')\n",
      "           symbol type  amount  price\n",
      "2018-01-01   DOGE  buy  5000.0    0.2\n",
      "('DOGE', 'sell')\n",
      "           symbol  type  amount  price\n",
      "2018-01-04   DOGE  sell  3000.0   0.10\n",
      "2018-01-10   DOGE  sell  3000.0   0.15\n",
      "('ETH', 'buy')\n",
      "           symbol type  amount  price\n",
      "2018-01-08    ETH  buy    20.0  350.0\n",
      "('ETH', 'sell')\n",
      "           symbol  type  amount  price\n",
      "2018-01-06    ETH  sell    10.0  400.0\n",
      "2018-01-09    ETH  sell    10.0  300.0\n"
     ]
    }
   ],
   "source": [
    "# get each group\n",
    "for name, group in operations.groupby(['symbol', 'type']):\n",
    "    print(name)\n",
    "    print(group)"
   ]
  },
  {
   "cell_type": "code",
   "execution_count": 139,
   "metadata": {},
   "outputs": [
    {
     "data": {
      "text/html": [
       "<div>\n",
       "<style scoped>\n",
       "    .dataframe tbody tr th:only-of-type {\n",
       "        vertical-align: middle;\n",
       "    }\n",
       "\n",
       "    .dataframe tbody tr th {\n",
       "        vertical-align: top;\n",
       "    }\n",
       "\n",
       "    .dataframe thead th {\n",
       "        text-align: right;\n",
       "    }\n",
       "</style>\n",
       "<table border=\"1\" class=\"dataframe\">\n",
       "  <thead>\n",
       "    <tr style=\"text-align: right;\">\n",
       "      <th></th>\n",
       "      <th>symbol</th>\n",
       "      <th>type</th>\n",
       "      <th>amount</th>\n",
       "      <th>price</th>\n",
       "    </tr>\n",
       "  </thead>\n",
       "  <tbody>\n",
       "    <tr>\n",
       "      <th>2018-01-02</th>\n",
       "      <td>BTC</td>\n",
       "      <td>buy</td>\n",
       "      <td>10.0</td>\n",
       "      <td>6000.0</td>\n",
       "    </tr>\n",
       "    <tr>\n",
       "      <th>2018-01-03</th>\n",
       "      <td>BTC</td>\n",
       "      <td>buy</td>\n",
       "      <td>2.5</td>\n",
       "      <td>5900.0</td>\n",
       "    </tr>\n",
       "    <tr>\n",
       "      <th>2018-01-07</th>\n",
       "      <td>BTC</td>\n",
       "      <td>buy</td>\n",
       "      <td>1.0</td>\n",
       "      <td>5600.0</td>\n",
       "    </tr>\n",
       "  </tbody>\n",
       "</table>\n",
       "</div>"
      ],
      "text/plain": [
       "           symbol type  amount   price\n",
       "2018-01-02    BTC  buy    10.0  6000.0\n",
       "2018-01-03    BTC  buy     2.5  5900.0\n",
       "2018-01-07    BTC  buy     1.0  5600.0"
      ]
     },
     "execution_count": 139,
     "metadata": {},
     "output_type": "execute_result"
    }
   ],
   "source": [
    "# get a group\n",
    "operations.groupby(['symbol', 'type']).get_group(('BTC', 'buy'))"
   ]
  },
  {
   "cell_type": "markdown",
   "metadata": {},
   "source": [
    "And now we will aggregate"
   ]
  },
  {
   "cell_type": "code",
   "execution_count": 140,
   "metadata": {},
   "outputs": [
    {
     "data": {
      "text/plain": [
       "symbol  type\n",
       "BTC     buy       13.5\n",
       "        sell       4.0\n",
       "DOGE    buy     5000.0\n",
       "        sell    6000.0\n",
       "ETH     buy       20.0\n",
       "        sell      20.0\n",
       "Name: amount, dtype: float64"
      ]
     },
     "execution_count": 140,
     "metadata": {},
     "output_type": "execute_result"
    }
   ],
   "source": [
    "# Get buy and sell volumes for each coin\n",
    "grouper = operations.groupby(['symbol', 'type'])\n",
    "grouper['amount'].agg(sum)"
   ]
  },
  {
   "cell_type": "code",
   "execution_count": 141,
   "metadata": {},
   "outputs": [
    {
     "data": {
      "text/html": [
       "<div>\n",
       "<style scoped>\n",
       "    .dataframe tbody tr th:only-of-type {\n",
       "        vertical-align: middle;\n",
       "    }\n",
       "\n",
       "    .dataframe tbody tr th {\n",
       "        vertical-align: top;\n",
       "    }\n",
       "\n",
       "    .dataframe thead th {\n",
       "        text-align: right;\n",
       "    }\n",
       "</style>\n",
       "<table border=\"1\" class=\"dataframe\">\n",
       "  <thead>\n",
       "    <tr style=\"text-align: right;\">\n",
       "      <th></th>\n",
       "      <th></th>\n",
       "      <th>sum</th>\n",
       "      <th>max</th>\n",
       "    </tr>\n",
       "    <tr>\n",
       "      <th>symbol</th>\n",
       "      <th>type</th>\n",
       "      <th></th>\n",
       "      <th></th>\n",
       "    </tr>\n",
       "  </thead>\n",
       "  <tbody>\n",
       "    <tr>\n",
       "      <th rowspan=\"2\" valign=\"top\">BTC</th>\n",
       "      <th>buy</th>\n",
       "      <td>13.5</td>\n",
       "      <td>10.0</td>\n",
       "    </tr>\n",
       "    <tr>\n",
       "      <th>sell</th>\n",
       "      <td>4.0</td>\n",
       "      <td>4.0</td>\n",
       "    </tr>\n",
       "    <tr>\n",
       "      <th rowspan=\"2\" valign=\"top\">DOGE</th>\n",
       "      <th>buy</th>\n",
       "      <td>5000.0</td>\n",
       "      <td>5000.0</td>\n",
       "    </tr>\n",
       "    <tr>\n",
       "      <th>sell</th>\n",
       "      <td>6000.0</td>\n",
       "      <td>3000.0</td>\n",
       "    </tr>\n",
       "    <tr>\n",
       "      <th rowspan=\"2\" valign=\"top\">ETH</th>\n",
       "      <th>buy</th>\n",
       "      <td>20.0</td>\n",
       "      <td>20.0</td>\n",
       "    </tr>\n",
       "    <tr>\n",
       "      <th>sell</th>\n",
       "      <td>20.0</td>\n",
       "      <td>10.0</td>\n",
       "    </tr>\n",
       "  </tbody>\n",
       "</table>\n",
       "</div>"
      ],
      "text/plain": [
       "                sum     max\n",
       "symbol type                \n",
       "BTC    buy     13.5    10.0\n",
       "       sell     4.0     4.0\n",
       "DOGE   buy   5000.0  5000.0\n",
       "       sell  6000.0  3000.0\n",
       "ETH    buy     20.0    20.0\n",
       "       sell    20.0    10.0"
      ]
     },
     "execution_count": 141,
     "metadata": {},
     "output_type": "execute_result"
    }
   ],
   "source": [
    "# Get buy and sell volumes and biggest deals for each coin\n",
    "grouper = operations.groupby(['symbol', 'type'])\n",
    "grouper['amount'].agg([sum, max])"
   ]
  },
  {
   "cell_type": "code",
   "execution_count": 142,
   "metadata": {},
   "outputs": [
    {
     "data": {
      "text/html": [
       "<div>\n",
       "<style scoped>\n",
       "    .dataframe tbody tr th:only-of-type {\n",
       "        vertical-align: middle;\n",
       "    }\n",
       "\n",
       "    .dataframe tbody tr th {\n",
       "        vertical-align: top;\n",
       "    }\n",
       "\n",
       "    .dataframe thead th {\n",
       "        text-align: right;\n",
       "    }\n",
       "</style>\n",
       "<table border=\"1\" class=\"dataframe\">\n",
       "  <thead>\n",
       "    <tr style=\"text-align: right;\">\n",
       "      <th></th>\n",
       "      <th></th>\n",
       "      <th>amount</th>\n",
       "      <th>price</th>\n",
       "    </tr>\n",
       "    <tr>\n",
       "      <th>symbol</th>\n",
       "      <th>type</th>\n",
       "      <th></th>\n",
       "      <th></th>\n",
       "    </tr>\n",
       "  </thead>\n",
       "  <tbody>\n",
       "    <tr>\n",
       "      <th rowspan=\"2\" valign=\"top\">BTC</th>\n",
       "      <th>buy</th>\n",
       "      <td>13.5</td>\n",
       "      <td>5833.333333</td>\n",
       "    </tr>\n",
       "    <tr>\n",
       "      <th>sell</th>\n",
       "      <td>4.0</td>\n",
       "      <td>6200.000000</td>\n",
       "    </tr>\n",
       "    <tr>\n",
       "      <th rowspan=\"2\" valign=\"top\">DOGE</th>\n",
       "      <th>buy</th>\n",
       "      <td>5000.0</td>\n",
       "      <td>0.200000</td>\n",
       "    </tr>\n",
       "    <tr>\n",
       "      <th>sell</th>\n",
       "      <td>6000.0</td>\n",
       "      <td>0.125000</td>\n",
       "    </tr>\n",
       "    <tr>\n",
       "      <th rowspan=\"2\" valign=\"top\">ETH</th>\n",
       "      <th>buy</th>\n",
       "      <td>20.0</td>\n",
       "      <td>350.000000</td>\n",
       "    </tr>\n",
       "    <tr>\n",
       "      <th>sell</th>\n",
       "      <td>20.0</td>\n",
       "      <td>350.000000</td>\n",
       "    </tr>\n",
       "  </tbody>\n",
       "</table>\n",
       "</div>"
      ],
      "text/plain": [
       "             amount        price\n",
       "symbol type                     \n",
       "BTC    buy     13.5  5833.333333\n",
       "       sell     4.0  6200.000000\n",
       "DOGE   buy   5000.0     0.200000\n",
       "       sell  6000.0     0.125000\n",
       "ETH    buy     20.0   350.000000\n",
       "       sell    20.0   350.000000"
      ]
     },
     "execution_count": 142,
     "metadata": {},
     "output_type": "execute_result"
    }
   ],
   "source": [
    "# Get buy and sell volumes and mean price for each coin\n",
    "grouper = operations.groupby(['symbol', 'type'])\n",
    "grouper.agg({'amount': sum, 'price': lambda series: series.mean()})"
   ]
  },
  {
   "cell_type": "markdown",
   "metadata": {},
   "source": [
    "Grouped data can not only be aggregated but also transformed."
   ]
  },
  {
   "cell_type": "code",
   "execution_count": 144,
   "metadata": {},
   "outputs": [
    {
     "data": {
      "text/html": [
       "<div>\n",
       "<style scoped>\n",
       "    .dataframe tbody tr th:only-of-type {\n",
       "        vertical-align: middle;\n",
       "    }\n",
       "\n",
       "    .dataframe tbody tr th {\n",
       "        vertical-align: top;\n",
       "    }\n",
       "\n",
       "    .dataframe thead th {\n",
       "        text-align: right;\n",
       "    }\n",
       "</style>\n",
       "<table border=\"1\" class=\"dataframe\">\n",
       "  <thead>\n",
       "    <tr style=\"text-align: right;\">\n",
       "      <th></th>\n",
       "      <th>amount</th>\n",
       "      <th>price</th>\n",
       "    </tr>\n",
       "  </thead>\n",
       "  <tbody>\n",
       "    <tr>\n",
       "      <th>2018-01-01</th>\n",
       "      <td>1</td>\n",
       "      <td>1</td>\n",
       "    </tr>\n",
       "    <tr>\n",
       "      <th>2018-01-02</th>\n",
       "      <td>3</td>\n",
       "      <td>3</td>\n",
       "    </tr>\n",
       "    <tr>\n",
       "      <th>2018-01-03</th>\n",
       "      <td>3</td>\n",
       "      <td>3</td>\n",
       "    </tr>\n",
       "    <tr>\n",
       "      <th>2018-01-04</th>\n",
       "      <td>2</td>\n",
       "      <td>2</td>\n",
       "    </tr>\n",
       "    <tr>\n",
       "      <th>2018-01-05</th>\n",
       "      <td>1</td>\n",
       "      <td>1</td>\n",
       "    </tr>\n",
       "    <tr>\n",
       "      <th>2018-01-06</th>\n",
       "      <td>2</td>\n",
       "      <td>2</td>\n",
       "    </tr>\n",
       "    <tr>\n",
       "      <th>2018-01-07</th>\n",
       "      <td>3</td>\n",
       "      <td>3</td>\n",
       "    </tr>\n",
       "    <tr>\n",
       "      <th>2018-01-08</th>\n",
       "      <td>1</td>\n",
       "      <td>1</td>\n",
       "    </tr>\n",
       "    <tr>\n",
       "      <th>2018-01-09</th>\n",
       "      <td>2</td>\n",
       "      <td>2</td>\n",
       "    </tr>\n",
       "    <tr>\n",
       "      <th>2018-01-10</th>\n",
       "      <td>2</td>\n",
       "      <td>2</td>\n",
       "    </tr>\n",
       "  </tbody>\n",
       "</table>\n",
       "</div>"
      ],
      "text/plain": [
       "            amount  price\n",
       "2018-01-01       1      1\n",
       "2018-01-02       3      3\n",
       "2018-01-03       3      3\n",
       "2018-01-04       2      2\n",
       "2018-01-05       1      1\n",
       "2018-01-06       2      2\n",
       "2018-01-07       3      3\n",
       "2018-01-08       1      1\n",
       "2018-01-09       2      2\n",
       "2018-01-10       2      2"
      ]
     },
     "execution_count": 144,
     "metadata": {},
     "output_type": "execute_result"
    }
   ],
   "source": [
    "# Get group sizes\n",
    "operations.groupby(['symbol', 'type']).transform(lambda series: series.count())"
   ]
  },
  {
   "cell_type": "markdown",
   "metadata": {},
   "source": [
    "Grouped data can be filtered"
   ]
  },
  {
   "cell_type": "code",
   "execution_count": 146,
   "metadata": {},
   "outputs": [
    {
     "data": {
      "text/html": [
       "<div>\n",
       "<style scoped>\n",
       "    .dataframe tbody tr th:only-of-type {\n",
       "        vertical-align: middle;\n",
       "    }\n",
       "\n",
       "    .dataframe tbody tr th {\n",
       "        vertical-align: top;\n",
       "    }\n",
       "\n",
       "    .dataframe thead th {\n",
       "        text-align: right;\n",
       "    }\n",
       "</style>\n",
       "<table border=\"1\" class=\"dataframe\">\n",
       "  <thead>\n",
       "    <tr style=\"text-align: right;\">\n",
       "      <th></th>\n",
       "      <th>symbol</th>\n",
       "      <th>type</th>\n",
       "      <th>amount</th>\n",
       "      <th>price</th>\n",
       "    </tr>\n",
       "  </thead>\n",
       "  <tbody>\n",
       "    <tr>\n",
       "      <th>2018-01-01</th>\n",
       "      <td>DOGE</td>\n",
       "      <td>buy</td>\n",
       "      <td>5000.0</td>\n",
       "      <td>0.20</td>\n",
       "    </tr>\n",
       "    <tr>\n",
       "      <th>2018-01-04</th>\n",
       "      <td>DOGE</td>\n",
       "      <td>sell</td>\n",
       "      <td>3000.0</td>\n",
       "      <td>0.10</td>\n",
       "    </tr>\n",
       "    <tr>\n",
       "      <th>2018-01-10</th>\n",
       "      <td>DOGE</td>\n",
       "      <td>sell</td>\n",
       "      <td>3000.0</td>\n",
       "      <td>0.15</td>\n",
       "    </tr>\n",
       "  </tbody>\n",
       "</table>\n",
       "</div>"
      ],
      "text/plain": [
       "           symbol  type  amount  price\n",
       "2018-01-01   DOGE   buy  5000.0   0.20\n",
       "2018-01-04   DOGE  sell  3000.0   0.10\n",
       "2018-01-10   DOGE  sell  3000.0   0.15"
      ]
     },
     "execution_count": 146,
     "metadata": {},
     "output_type": "execute_result"
    }
   ],
   "source": [
    "# Filter by the volume > 20\n",
    "operations.groupby(['symbol', 'type']).filter(lambda table: table['amount'].sum() > 20)"
   ]
  },
  {
   "cell_type": "code",
   "execution_count": 147,
   "metadata": {},
   "outputs": [],
   "source": [
    "del operations, name, group"
   ]
  },
  {
   "cell_type": "markdown",
   "metadata": {},
   "source": [
    "#### 10.3 Pivot tables"
   ]
  },
  {
   "cell_type": "markdown",
   "metadata": {},
   "source": [
    "Most raw tables look like logs where each row is a record. There is no organization in the data in these tables. There are pivot tables in pandas for this."
   ]
  },
  {
   "cell_type": "code",
   "execution_count": 148,
   "metadata": {},
   "outputs": [],
   "source": [
    "operations = pd.DataFrame(\n",
    "    data=[\n",
    "        ['DOGE', 'buy', 5000, 0.2, 'Joe Doe', 'success'],\n",
    "        ['BTC', 'buy', 10, 6000, 'Elon Musk', 'error'],\n",
    "        ['BTC', 'buy', 2.5, 5900, 'George Bush', 'success'],\n",
    "        ['DOGE', 'sell', 3000, 0.1, 'John Romero', 'success'],\n",
    "        ['BTC', 'sell', 4, 6200, 'Jack Ma', 'success'],\n",
    "        ['ETH', 'sell', 10, 400, 'Satoshi Nakomoto', 'error'],\n",
    "        ['BTC', 'buy', 1, 5600, 'Vladimir Vladimirovich', 'success'],\n",
    "        ['ETH', 'buy', 20, 350, 'George Bush', 'success'],\n",
    "        ['ETH', 'sell', 10, 300, 'Jack Ma', 'error'],\n",
    "        ['DOGE', 'sell', 3000, 0.15, 'Joe Doe', 'success']\n",
    "    ],\n",
    "    columns=['symbol', 'type', 'amount', 'price', 'user', 'status'],\n",
    "    index=pd.date_range('2018-01-01', periods=10)\n",
    ")"
   ]
  },
  {
   "cell_type": "code",
   "execution_count": 149,
   "metadata": {},
   "outputs": [
    {
     "data": {
      "text/html": [
       "<div>\n",
       "<style scoped>\n",
       "    .dataframe tbody tr th:only-of-type {\n",
       "        vertical-align: middle;\n",
       "    }\n",
       "\n",
       "    .dataframe tbody tr th {\n",
       "        vertical-align: top;\n",
       "    }\n",
       "\n",
       "    .dataframe thead th {\n",
       "        text-align: right;\n",
       "    }\n",
       "</style>\n",
       "<table border=\"1\" class=\"dataframe\">\n",
       "  <thead>\n",
       "    <tr style=\"text-align: right;\">\n",
       "      <th></th>\n",
       "      <th>symbol</th>\n",
       "      <th>type</th>\n",
       "      <th>amount</th>\n",
       "      <th>price</th>\n",
       "      <th>user</th>\n",
       "      <th>status</th>\n",
       "    </tr>\n",
       "  </thead>\n",
       "  <tbody>\n",
       "    <tr>\n",
       "      <th>2018-01-01</th>\n",
       "      <td>DOGE</td>\n",
       "      <td>buy</td>\n",
       "      <td>5000.0</td>\n",
       "      <td>0.20</td>\n",
       "      <td>Joe Doe</td>\n",
       "      <td>success</td>\n",
       "    </tr>\n",
       "    <tr>\n",
       "      <th>2018-01-02</th>\n",
       "      <td>BTC</td>\n",
       "      <td>buy</td>\n",
       "      <td>10.0</td>\n",
       "      <td>6000.00</td>\n",
       "      <td>Elon Musk</td>\n",
       "      <td>error</td>\n",
       "    </tr>\n",
       "    <tr>\n",
       "      <th>2018-01-03</th>\n",
       "      <td>BTC</td>\n",
       "      <td>buy</td>\n",
       "      <td>2.5</td>\n",
       "      <td>5900.00</td>\n",
       "      <td>George Bush</td>\n",
       "      <td>success</td>\n",
       "    </tr>\n",
       "    <tr>\n",
       "      <th>2018-01-04</th>\n",
       "      <td>DOGE</td>\n",
       "      <td>sell</td>\n",
       "      <td>3000.0</td>\n",
       "      <td>0.10</td>\n",
       "      <td>John Romero</td>\n",
       "      <td>success</td>\n",
       "    </tr>\n",
       "    <tr>\n",
       "      <th>2018-01-05</th>\n",
       "      <td>BTC</td>\n",
       "      <td>sell</td>\n",
       "      <td>4.0</td>\n",
       "      <td>6200.00</td>\n",
       "      <td>Jack Ma</td>\n",
       "      <td>success</td>\n",
       "    </tr>\n",
       "    <tr>\n",
       "      <th>2018-01-06</th>\n",
       "      <td>ETH</td>\n",
       "      <td>sell</td>\n",
       "      <td>10.0</td>\n",
       "      <td>400.00</td>\n",
       "      <td>Satoshi Nakomoto</td>\n",
       "      <td>error</td>\n",
       "    </tr>\n",
       "    <tr>\n",
       "      <th>2018-01-07</th>\n",
       "      <td>BTC</td>\n",
       "      <td>buy</td>\n",
       "      <td>1.0</td>\n",
       "      <td>5600.00</td>\n",
       "      <td>Vladimir Vladimirovich</td>\n",
       "      <td>success</td>\n",
       "    </tr>\n",
       "    <tr>\n",
       "      <th>2018-01-08</th>\n",
       "      <td>ETH</td>\n",
       "      <td>buy</td>\n",
       "      <td>20.0</td>\n",
       "      <td>350.00</td>\n",
       "      <td>George Bush</td>\n",
       "      <td>success</td>\n",
       "    </tr>\n",
       "    <tr>\n",
       "      <th>2018-01-09</th>\n",
       "      <td>ETH</td>\n",
       "      <td>sell</td>\n",
       "      <td>10.0</td>\n",
       "      <td>300.00</td>\n",
       "      <td>Jack Ma</td>\n",
       "      <td>error</td>\n",
       "    </tr>\n",
       "    <tr>\n",
       "      <th>2018-01-10</th>\n",
       "      <td>DOGE</td>\n",
       "      <td>sell</td>\n",
       "      <td>3000.0</td>\n",
       "      <td>0.15</td>\n",
       "      <td>Joe Doe</td>\n",
       "      <td>success</td>\n",
       "    </tr>\n",
       "  </tbody>\n",
       "</table>\n",
       "</div>"
      ],
      "text/plain": [
       "           symbol  type  amount    price                    user   status\n",
       "2018-01-01   DOGE   buy  5000.0     0.20                 Joe Doe  success\n",
       "2018-01-02    BTC   buy    10.0  6000.00               Elon Musk    error\n",
       "2018-01-03    BTC   buy     2.5  5900.00             George Bush  success\n",
       "2018-01-04   DOGE  sell  3000.0     0.10             John Romero  success\n",
       "2018-01-05    BTC  sell     4.0  6200.00                 Jack Ma  success\n",
       "2018-01-06    ETH  sell    10.0   400.00        Satoshi Nakomoto    error\n",
       "2018-01-07    BTC   buy     1.0  5600.00  Vladimir Vladimirovich  success\n",
       "2018-01-08    ETH   buy    20.0   350.00             George Bush  success\n",
       "2018-01-09    ETH  sell    10.0   300.00                 Jack Ma    error\n",
       "2018-01-10   DOGE  sell  3000.0     0.15                 Joe Doe  success"
      ]
     },
     "execution_count": 149,
     "metadata": {},
     "output_type": "execute_result"
    }
   ],
   "source": [
    "operations"
   ]
  },
  {
   "cell_type": "markdown",
   "metadata": {},
   "source": [
    "The best way to understand how they work is to parse an example. We will find how much in total each type of coin was bought and sold. In the resulting summary table, the index will be the name of the coin, the columns are the types of transactions (i.e., purchases or sales). In the cells themselves there will be a total amount of coins."
   ]
  },
  {
   "cell_type": "code",
   "execution_count": 150,
   "metadata": {},
   "outputs": [
    {
     "data": {
      "text/html": [
       "<div>\n",
       "<style scoped>\n",
       "    .dataframe tbody tr th:only-of-type {\n",
       "        vertical-align: middle;\n",
       "    }\n",
       "\n",
       "    .dataframe tbody tr th {\n",
       "        vertical-align: top;\n",
       "    }\n",
       "\n",
       "    .dataframe thead th {\n",
       "        text-align: right;\n",
       "    }\n",
       "</style>\n",
       "<table border=\"1\" class=\"dataframe\">\n",
       "  <thead>\n",
       "    <tr style=\"text-align: right;\">\n",
       "      <th>type</th>\n",
       "      <th>buy</th>\n",
       "      <th>sell</th>\n",
       "    </tr>\n",
       "    <tr>\n",
       "      <th>symbol</th>\n",
       "      <th></th>\n",
       "      <th></th>\n",
       "    </tr>\n",
       "  </thead>\n",
       "  <tbody>\n",
       "    <tr>\n",
       "      <th>BTC</th>\n",
       "      <td>13.5</td>\n",
       "      <td>4.0</td>\n",
       "    </tr>\n",
       "    <tr>\n",
       "      <th>DOGE</th>\n",
       "      <td>5000.0</td>\n",
       "      <td>6000.0</td>\n",
       "    </tr>\n",
       "    <tr>\n",
       "      <th>ETH</th>\n",
       "      <td>20.0</td>\n",
       "      <td>20.0</td>\n",
       "    </tr>\n",
       "  </tbody>\n",
       "</table>\n",
       "</div>"
      ],
      "text/plain": [
       "type       buy    sell\n",
       "symbol                \n",
       "BTC       13.5     4.0\n",
       "DOGE    5000.0  6000.0\n",
       "ETH       20.0    20.0"
      ]
     },
     "execution_count": 150,
     "metadata": {},
     "output_type": "execute_result"
    }
   ],
   "source": [
    "operations.pivot_table(\n",
    "    values='amount', \n",
    "    index='symbol', \n",
    "    columns='type', \n",
    "    aggfunc='sum'\n",
    ")"
   ]
  },
  {
   "cell_type": "markdown",
   "metadata": {},
   "source": [
    "By default aggfunc is avg. Let's consider more complex example:"
   ]
  },
  {
   "cell_type": "code",
   "execution_count": 151,
   "metadata": {},
   "outputs": [
    {
     "data": {
      "text/html": [
       "<div>\n",
       "<style scoped>\n",
       "    .dataframe tbody tr th:only-of-type {\n",
       "        vertical-align: middle;\n",
       "    }\n",
       "\n",
       "    .dataframe tbody tr th {\n",
       "        vertical-align: top;\n",
       "    }\n",
       "\n",
       "    .dataframe thead tr th {\n",
       "        text-align: left;\n",
       "    }\n",
       "\n",
       "    .dataframe thead tr:last-of-type th {\n",
       "        text-align: right;\n",
       "    }\n",
       "</style>\n",
       "<table border=\"1\" class=\"dataframe\">\n",
       "  <thead>\n",
       "    <tr>\n",
       "      <th></th>\n",
       "      <th></th>\n",
       "      <th colspan=\"4\" halign=\"left\">mean</th>\n",
       "      <th colspan=\"4\" halign=\"left\">sum</th>\n",
       "    </tr>\n",
       "    <tr>\n",
       "      <th></th>\n",
       "      <th>type</th>\n",
       "      <th colspan=\"2\" halign=\"left\">buy</th>\n",
       "      <th colspan=\"2\" halign=\"left\">sell</th>\n",
       "      <th colspan=\"2\" halign=\"left\">buy</th>\n",
       "      <th colspan=\"2\" halign=\"left\">sell</th>\n",
       "    </tr>\n",
       "    <tr>\n",
       "      <th></th>\n",
       "      <th>status</th>\n",
       "      <th>error</th>\n",
       "      <th>success</th>\n",
       "      <th>error</th>\n",
       "      <th>success</th>\n",
       "      <th>error</th>\n",
       "      <th>success</th>\n",
       "      <th>error</th>\n",
       "      <th>success</th>\n",
       "    </tr>\n",
       "    <tr>\n",
       "      <th>symbol</th>\n",
       "      <th>user</th>\n",
       "      <th></th>\n",
       "      <th></th>\n",
       "      <th></th>\n",
       "      <th></th>\n",
       "      <th></th>\n",
       "      <th></th>\n",
       "      <th></th>\n",
       "      <th></th>\n",
       "    </tr>\n",
       "  </thead>\n",
       "  <tbody>\n",
       "    <tr>\n",
       "      <th rowspan=\"4\" valign=\"top\">BTC</th>\n",
       "      <th>Elon Musk</th>\n",
       "      <td>10.0</td>\n",
       "      <td>NaN</td>\n",
       "      <td>NaN</td>\n",
       "      <td>NaN</td>\n",
       "      <td>10.0</td>\n",
       "      <td>NaN</td>\n",
       "      <td>NaN</td>\n",
       "      <td>NaN</td>\n",
       "    </tr>\n",
       "    <tr>\n",
       "      <th>George Bush</th>\n",
       "      <td>NaN</td>\n",
       "      <td>2.5</td>\n",
       "      <td>NaN</td>\n",
       "      <td>NaN</td>\n",
       "      <td>NaN</td>\n",
       "      <td>2.5</td>\n",
       "      <td>NaN</td>\n",
       "      <td>NaN</td>\n",
       "    </tr>\n",
       "    <tr>\n",
       "      <th>Jack Ma</th>\n",
       "      <td>NaN</td>\n",
       "      <td>NaN</td>\n",
       "      <td>NaN</td>\n",
       "      <td>4.0</td>\n",
       "      <td>NaN</td>\n",
       "      <td>NaN</td>\n",
       "      <td>NaN</td>\n",
       "      <td>4.0</td>\n",
       "    </tr>\n",
       "    <tr>\n",
       "      <th>Vladimir Vladimirovich</th>\n",
       "      <td>NaN</td>\n",
       "      <td>1.0</td>\n",
       "      <td>NaN</td>\n",
       "      <td>NaN</td>\n",
       "      <td>NaN</td>\n",
       "      <td>1.0</td>\n",
       "      <td>NaN</td>\n",
       "      <td>NaN</td>\n",
       "    </tr>\n",
       "    <tr>\n",
       "      <th rowspan=\"2\" valign=\"top\">DOGE</th>\n",
       "      <th>Joe Doe</th>\n",
       "      <td>NaN</td>\n",
       "      <td>5000.0</td>\n",
       "      <td>NaN</td>\n",
       "      <td>3000.0</td>\n",
       "      <td>NaN</td>\n",
       "      <td>5000.0</td>\n",
       "      <td>NaN</td>\n",
       "      <td>3000.0</td>\n",
       "    </tr>\n",
       "    <tr>\n",
       "      <th>John Romero</th>\n",
       "      <td>NaN</td>\n",
       "      <td>NaN</td>\n",
       "      <td>NaN</td>\n",
       "      <td>3000.0</td>\n",
       "      <td>NaN</td>\n",
       "      <td>NaN</td>\n",
       "      <td>NaN</td>\n",
       "      <td>3000.0</td>\n",
       "    </tr>\n",
       "    <tr>\n",
       "      <th rowspan=\"3\" valign=\"top\">ETH</th>\n",
       "      <th>George Bush</th>\n",
       "      <td>NaN</td>\n",
       "      <td>20.0</td>\n",
       "      <td>NaN</td>\n",
       "      <td>NaN</td>\n",
       "      <td>NaN</td>\n",
       "      <td>20.0</td>\n",
       "      <td>NaN</td>\n",
       "      <td>NaN</td>\n",
       "    </tr>\n",
       "    <tr>\n",
       "      <th>Jack Ma</th>\n",
       "      <td>NaN</td>\n",
       "      <td>NaN</td>\n",
       "      <td>10.0</td>\n",
       "      <td>NaN</td>\n",
       "      <td>NaN</td>\n",
       "      <td>NaN</td>\n",
       "      <td>10.0</td>\n",
       "      <td>NaN</td>\n",
       "    </tr>\n",
       "    <tr>\n",
       "      <th>Satoshi Nakomoto</th>\n",
       "      <td>NaN</td>\n",
       "      <td>NaN</td>\n",
       "      <td>10.0</td>\n",
       "      <td>NaN</td>\n",
       "      <td>NaN</td>\n",
       "      <td>NaN</td>\n",
       "      <td>10.0</td>\n",
       "      <td>NaN</td>\n",
       "    </tr>\n",
       "  </tbody>\n",
       "</table>\n",
       "</div>"
      ],
      "text/plain": [
       "                               mean                         sum                \\\n",
       "type                            buy          sell           buy          sell   \n",
       "status                        error success error success error success error   \n",
       "symbol user                                                                     \n",
       "BTC    Elon Musk               10.0     NaN   NaN     NaN  10.0     NaN   NaN   \n",
       "       George Bush              NaN     2.5   NaN     NaN   NaN     2.5   NaN   \n",
       "       Jack Ma                  NaN     NaN   NaN     4.0   NaN     NaN   NaN   \n",
       "       Vladimir Vladimirovich   NaN     1.0   NaN     NaN   NaN     1.0   NaN   \n",
       "DOGE   Joe Doe                  NaN  5000.0   NaN  3000.0   NaN  5000.0   NaN   \n",
       "       John Romero              NaN     NaN   NaN  3000.0   NaN     NaN   NaN   \n",
       "ETH    George Bush              NaN    20.0   NaN     NaN   NaN    20.0   NaN   \n",
       "       Jack Ma                  NaN     NaN  10.0     NaN   NaN     NaN  10.0   \n",
       "       Satoshi Nakomoto         NaN     NaN  10.0     NaN   NaN     NaN  10.0   \n",
       "\n",
       "                                       \n",
       "type                                   \n",
       "status                        success  \n",
       "symbol user                            \n",
       "BTC    Elon Musk                  NaN  \n",
       "       George Bush                NaN  \n",
       "       Jack Ma                    4.0  \n",
       "       Vladimir Vladimirovich     NaN  \n",
       "DOGE   Joe Doe                 3000.0  \n",
       "       John Romero             3000.0  \n",
       "ETH    George Bush                NaN  \n",
       "       Jack Ma                    NaN  \n",
       "       Satoshi Nakomoto           NaN  "
      ]
     },
     "execution_count": 151,
     "metadata": {},
     "output_type": "execute_result"
    }
   ],
   "source": [
    "operations.pivot_table(\n",
    "    values='amount',\n",
    "    index=['symbol', 'user'],  # Index can be multi-columned\n",
    "    columns=['type', 'status'],  # So as columns\n",
    "    aggfunc={'amount': ['sum', 'mean']}  # Several aggregations can be calculated\n",
    ")"
   ]
  },
  {
   "cell_type": "markdown",
   "metadata": {},
   "source": [
    "And the most monstruose example:"
   ]
  },
  {
   "cell_type": "code",
   "execution_count": 152,
   "metadata": {},
   "outputs": [
    {
     "data": {
      "text/html": [
       "<div>\n",
       "<style scoped>\n",
       "    .dataframe tbody tr th:only-of-type {\n",
       "        vertical-align: middle;\n",
       "    }\n",
       "\n",
       "    .dataframe tbody tr th {\n",
       "        vertical-align: top;\n",
       "    }\n",
       "\n",
       "    .dataframe thead tr th {\n",
       "        text-align: left;\n",
       "    }\n",
       "\n",
       "    .dataframe thead tr:last-of-type th {\n",
       "        text-align: right;\n",
       "    }\n",
       "</style>\n",
       "<table border=\"1\" class=\"dataframe\">\n",
       "  <thead>\n",
       "    <tr>\n",
       "      <th></th>\n",
       "      <th></th>\n",
       "      <th colspan=\"8\" halign=\"left\">amount</th>\n",
       "      <th colspan=\"4\" halign=\"left\">price</th>\n",
       "    </tr>\n",
       "    <tr>\n",
       "      <th></th>\n",
       "      <th></th>\n",
       "      <th colspan=\"4\" halign=\"left\">mean</th>\n",
       "      <th colspan=\"4\" halign=\"left\">sum</th>\n",
       "      <th colspan=\"4\" halign=\"left\">max</th>\n",
       "    </tr>\n",
       "    <tr>\n",
       "      <th></th>\n",
       "      <th>type</th>\n",
       "      <th colspan=\"2\" halign=\"left\">buy</th>\n",
       "      <th colspan=\"2\" halign=\"left\">sell</th>\n",
       "      <th colspan=\"2\" halign=\"left\">buy</th>\n",
       "      <th colspan=\"2\" halign=\"left\">sell</th>\n",
       "      <th colspan=\"2\" halign=\"left\">buy</th>\n",
       "      <th colspan=\"2\" halign=\"left\">sell</th>\n",
       "    </tr>\n",
       "    <tr>\n",
       "      <th></th>\n",
       "      <th>status</th>\n",
       "      <th>error</th>\n",
       "      <th>success</th>\n",
       "      <th>error</th>\n",
       "      <th>success</th>\n",
       "      <th>error</th>\n",
       "      <th>success</th>\n",
       "      <th>error</th>\n",
       "      <th>success</th>\n",
       "      <th>error</th>\n",
       "      <th>success</th>\n",
       "      <th>error</th>\n",
       "      <th>success</th>\n",
       "    </tr>\n",
       "    <tr>\n",
       "      <th>symbol</th>\n",
       "      <th>user</th>\n",
       "      <th></th>\n",
       "      <th></th>\n",
       "      <th></th>\n",
       "      <th></th>\n",
       "      <th></th>\n",
       "      <th></th>\n",
       "      <th></th>\n",
       "      <th></th>\n",
       "      <th></th>\n",
       "      <th></th>\n",
       "      <th></th>\n",
       "      <th></th>\n",
       "    </tr>\n",
       "  </thead>\n",
       "  <tbody>\n",
       "    <tr>\n",
       "      <th rowspan=\"4\" valign=\"top\">BTC</th>\n",
       "      <th>Elon Musk</th>\n",
       "      <td>10.0</td>\n",
       "      <td>NaN</td>\n",
       "      <td>NaN</td>\n",
       "      <td>NaN</td>\n",
       "      <td>10.0</td>\n",
       "      <td>NaN</td>\n",
       "      <td>NaN</td>\n",
       "      <td>NaN</td>\n",
       "      <td>6000.0</td>\n",
       "      <td>NaN</td>\n",
       "      <td>NaN</td>\n",
       "      <td>NaN</td>\n",
       "    </tr>\n",
       "    <tr>\n",
       "      <th>George Bush</th>\n",
       "      <td>NaN</td>\n",
       "      <td>2.5</td>\n",
       "      <td>NaN</td>\n",
       "      <td>NaN</td>\n",
       "      <td>NaN</td>\n",
       "      <td>2.5</td>\n",
       "      <td>NaN</td>\n",
       "      <td>NaN</td>\n",
       "      <td>NaN</td>\n",
       "      <td>5900.0</td>\n",
       "      <td>NaN</td>\n",
       "      <td>NaN</td>\n",
       "    </tr>\n",
       "    <tr>\n",
       "      <th>Jack Ma</th>\n",
       "      <td>NaN</td>\n",
       "      <td>NaN</td>\n",
       "      <td>NaN</td>\n",
       "      <td>4.0</td>\n",
       "      <td>NaN</td>\n",
       "      <td>NaN</td>\n",
       "      <td>NaN</td>\n",
       "      <td>4.0</td>\n",
       "      <td>NaN</td>\n",
       "      <td>NaN</td>\n",
       "      <td>NaN</td>\n",
       "      <td>6200.00</td>\n",
       "    </tr>\n",
       "    <tr>\n",
       "      <th>Vladimir Vladimirovich</th>\n",
       "      <td>NaN</td>\n",
       "      <td>1.0</td>\n",
       "      <td>NaN</td>\n",
       "      <td>NaN</td>\n",
       "      <td>NaN</td>\n",
       "      <td>1.0</td>\n",
       "      <td>NaN</td>\n",
       "      <td>NaN</td>\n",
       "      <td>NaN</td>\n",
       "      <td>5600.0</td>\n",
       "      <td>NaN</td>\n",
       "      <td>NaN</td>\n",
       "    </tr>\n",
       "    <tr>\n",
       "      <th rowspan=\"2\" valign=\"top\">DOGE</th>\n",
       "      <th>Joe Doe</th>\n",
       "      <td>NaN</td>\n",
       "      <td>5000.0</td>\n",
       "      <td>NaN</td>\n",
       "      <td>3000.0</td>\n",
       "      <td>NaN</td>\n",
       "      <td>5000.0</td>\n",
       "      <td>NaN</td>\n",
       "      <td>3000.0</td>\n",
       "      <td>NaN</td>\n",
       "      <td>0.2</td>\n",
       "      <td>NaN</td>\n",
       "      <td>0.15</td>\n",
       "    </tr>\n",
       "    <tr>\n",
       "      <th>John Romero</th>\n",
       "      <td>NaN</td>\n",
       "      <td>NaN</td>\n",
       "      <td>NaN</td>\n",
       "      <td>3000.0</td>\n",
       "      <td>NaN</td>\n",
       "      <td>NaN</td>\n",
       "      <td>NaN</td>\n",
       "      <td>3000.0</td>\n",
       "      <td>NaN</td>\n",
       "      <td>NaN</td>\n",
       "      <td>NaN</td>\n",
       "      <td>0.10</td>\n",
       "    </tr>\n",
       "    <tr>\n",
       "      <th rowspan=\"3\" valign=\"top\">ETH</th>\n",
       "      <th>George Bush</th>\n",
       "      <td>NaN</td>\n",
       "      <td>20.0</td>\n",
       "      <td>NaN</td>\n",
       "      <td>NaN</td>\n",
       "      <td>NaN</td>\n",
       "      <td>20.0</td>\n",
       "      <td>NaN</td>\n",
       "      <td>NaN</td>\n",
       "      <td>NaN</td>\n",
       "      <td>350.0</td>\n",
       "      <td>NaN</td>\n",
       "      <td>NaN</td>\n",
       "    </tr>\n",
       "    <tr>\n",
       "      <th>Jack Ma</th>\n",
       "      <td>NaN</td>\n",
       "      <td>NaN</td>\n",
       "      <td>10.0</td>\n",
       "      <td>NaN</td>\n",
       "      <td>NaN</td>\n",
       "      <td>NaN</td>\n",
       "      <td>10.0</td>\n",
       "      <td>NaN</td>\n",
       "      <td>NaN</td>\n",
       "      <td>NaN</td>\n",
       "      <td>300.0</td>\n",
       "      <td>NaN</td>\n",
       "    </tr>\n",
       "    <tr>\n",
       "      <th>Satoshi Nakomoto</th>\n",
       "      <td>NaN</td>\n",
       "      <td>NaN</td>\n",
       "      <td>10.0</td>\n",
       "      <td>NaN</td>\n",
       "      <td>NaN</td>\n",
       "      <td>NaN</td>\n",
       "      <td>10.0</td>\n",
       "      <td>NaN</td>\n",
       "      <td>NaN</td>\n",
       "      <td>NaN</td>\n",
       "      <td>400.0</td>\n",
       "      <td>NaN</td>\n",
       "    </tr>\n",
       "  </tbody>\n",
       "</table>\n",
       "</div>"
      ],
      "text/plain": [
       "                              amount                                      \\\n",
       "                                mean                         sum           \n",
       "type                             buy          sell           buy           \n",
       "status                         error success error success error success   \n",
       "symbol user                                                                \n",
       "BTC    Elon Musk                10.0     NaN   NaN     NaN  10.0     NaN   \n",
       "       George Bush               NaN     2.5   NaN     NaN   NaN     2.5   \n",
       "       Jack Ma                   NaN     NaN   NaN     4.0   NaN     NaN   \n",
       "       Vladimir Vladimirovich    NaN     1.0   NaN     NaN   NaN     1.0   \n",
       "DOGE   Joe Doe                   NaN  5000.0   NaN  3000.0   NaN  5000.0   \n",
       "       John Romero               NaN     NaN   NaN  3000.0   NaN     NaN   \n",
       "ETH    George Bush               NaN    20.0   NaN     NaN   NaN    20.0   \n",
       "       Jack Ma                   NaN     NaN  10.0     NaN   NaN     NaN   \n",
       "       Satoshi Nakomoto          NaN     NaN  10.0     NaN   NaN     NaN   \n",
       "\n",
       "                                              price                          \n",
       "                                                max                          \n",
       "type                           sell             buy           sell           \n",
       "status                        error success   error success  error  success  \n",
       "symbol user                                                                  \n",
       "BTC    Elon Musk                NaN     NaN  6000.0     NaN    NaN      NaN  \n",
       "       George Bush              NaN     NaN     NaN  5900.0    NaN      NaN  \n",
       "       Jack Ma                  NaN     4.0     NaN     NaN    NaN  6200.00  \n",
       "       Vladimir Vladimirovich   NaN     NaN     NaN  5600.0    NaN      NaN  \n",
       "DOGE   Joe Doe                  NaN  3000.0     NaN     0.2    NaN     0.15  \n",
       "       John Romero              NaN  3000.0     NaN     NaN    NaN     0.10  \n",
       "ETH    George Bush              NaN     NaN     NaN   350.0    NaN      NaN  \n",
       "       Jack Ma                 10.0     NaN     NaN     NaN  300.0      NaN  \n",
       "       Satoshi Nakomoto        10.0     NaN     NaN     NaN  400.0      NaN  "
      ]
     },
     "execution_count": 152,
     "metadata": {},
     "output_type": "execute_result"
    }
   ],
   "source": [
    "operations.pivot_table(\n",
    "    values=['amount', 'price'],  # Several values\n",
    "    index=['symbol', 'user'],\n",
    "    columns=['type', 'status'],\n",
    "    aggfunc={\n",
    "        'amount': ['sum', 'mean'], \n",
    "        'price': 'max'}  # with specific aggfuncs\n",
    ")"
   ]
  },
  {
   "cell_type": "markdown",
   "metadata": {},
   "source": [
    "### 11. Gaps, errors and NaNs"
   ]
  },
  {
   "cell_type": "code",
   "execution_count": 153,
   "metadata": {},
   "outputs": [],
   "source": [
    "price = pd.DataFrame(\n",
    "    data=[\n",
    "        [0.547, 0.745],\n",
    "        [-2, -1],\n",
    "        [None, 0.718],\n",
    "        [0.135, 0.845],\n",
    "        [0.53, None],\n",
    "        [None, -1]],\n",
    "    columns=['ADA', 'DOGE'],\n",
    "\n",
    "    index=pd.date_range('2018-11-01', periods=6)\n",
    ")"
   ]
  },
  {
   "cell_type": "code",
   "execution_count": 154,
   "metadata": {},
   "outputs": [
    {
     "data": {
      "text/html": [
       "<div>\n",
       "<style scoped>\n",
       "    .dataframe tbody tr th:only-of-type {\n",
       "        vertical-align: middle;\n",
       "    }\n",
       "\n",
       "    .dataframe tbody tr th {\n",
       "        vertical-align: top;\n",
       "    }\n",
       "\n",
       "    .dataframe thead th {\n",
       "        text-align: right;\n",
       "    }\n",
       "</style>\n",
       "<table border=\"1\" class=\"dataframe\">\n",
       "  <thead>\n",
       "    <tr style=\"text-align: right;\">\n",
       "      <th></th>\n",
       "      <th>ADA</th>\n",
       "      <th>DOGE</th>\n",
       "    </tr>\n",
       "  </thead>\n",
       "  <tbody>\n",
       "    <tr>\n",
       "      <th>2018-11-01</th>\n",
       "      <td>0.547</td>\n",
       "      <td>0.745</td>\n",
       "    </tr>\n",
       "    <tr>\n",
       "      <th>2018-11-02</th>\n",
       "      <td>-2.000</td>\n",
       "      <td>-1.000</td>\n",
       "    </tr>\n",
       "    <tr>\n",
       "      <th>2018-11-03</th>\n",
       "      <td>NaN</td>\n",
       "      <td>0.718</td>\n",
       "    </tr>\n",
       "    <tr>\n",
       "      <th>2018-11-04</th>\n",
       "      <td>0.135</td>\n",
       "      <td>0.845</td>\n",
       "    </tr>\n",
       "    <tr>\n",
       "      <th>2018-11-05</th>\n",
       "      <td>0.530</td>\n",
       "      <td>NaN</td>\n",
       "    </tr>\n",
       "    <tr>\n",
       "      <th>2018-11-06</th>\n",
       "      <td>NaN</td>\n",
       "      <td>-1.000</td>\n",
       "    </tr>\n",
       "  </tbody>\n",
       "</table>\n",
       "</div>"
      ],
      "text/plain": [
       "              ADA   DOGE\n",
       "2018-11-01  0.547  0.745\n",
       "2018-11-02 -2.000 -1.000\n",
       "2018-11-03    NaN  0.718\n",
       "2018-11-04  0.135  0.845\n",
       "2018-11-05  0.530    NaN\n",
       "2018-11-06    NaN -1.000"
      ]
     },
     "execution_count": 154,
     "metadata": {},
     "output_type": "execute_result"
    }
   ],
   "source": [
    "price"
   ]
  },
  {
   "cell_type": "code",
   "execution_count": 155,
   "metadata": {},
   "outputs": [
    {
     "data": {
      "text/html": [
       "<div>\n",
       "<style scoped>\n",
       "    .dataframe tbody tr th:only-of-type {\n",
       "        vertical-align: middle;\n",
       "    }\n",
       "\n",
       "    .dataframe tbody tr th {\n",
       "        vertical-align: top;\n",
       "    }\n",
       "\n",
       "    .dataframe thead th {\n",
       "        text-align: right;\n",
       "    }\n",
       "</style>\n",
       "<table border=\"1\" class=\"dataframe\">\n",
       "  <thead>\n",
       "    <tr style=\"text-align: right;\">\n",
       "      <th></th>\n",
       "      <th>ADA</th>\n",
       "      <th>DOGE</th>\n",
       "    </tr>\n",
       "  </thead>\n",
       "  <tbody>\n",
       "    <tr>\n",
       "      <th>2018-11-01</th>\n",
       "      <td>False</td>\n",
       "      <td>False</td>\n",
       "    </tr>\n",
       "    <tr>\n",
       "      <th>2018-11-02</th>\n",
       "      <td>False</td>\n",
       "      <td>False</td>\n",
       "    </tr>\n",
       "    <tr>\n",
       "      <th>2018-11-03</th>\n",
       "      <td>True</td>\n",
       "      <td>False</td>\n",
       "    </tr>\n",
       "    <tr>\n",
       "      <th>2018-11-04</th>\n",
       "      <td>False</td>\n",
       "      <td>False</td>\n",
       "    </tr>\n",
       "    <tr>\n",
       "      <th>2018-11-05</th>\n",
       "      <td>False</td>\n",
       "      <td>True</td>\n",
       "    </tr>\n",
       "    <tr>\n",
       "      <th>2018-11-06</th>\n",
       "      <td>True</td>\n",
       "      <td>False</td>\n",
       "    </tr>\n",
       "  </tbody>\n",
       "</table>\n",
       "</div>"
      ],
      "text/plain": [
       "              ADA   DOGE\n",
       "2018-11-01  False  False\n",
       "2018-11-02  False  False\n",
       "2018-11-03   True  False\n",
       "2018-11-04  False  False\n",
       "2018-11-05  False   True\n",
       "2018-11-06   True  False"
      ]
     },
     "execution_count": 155,
     "metadata": {},
     "output_type": "execute_result"
    }
   ],
   "source": [
    "# Find all NaNs. There is also notnull()\n",
    "price.isnull()"
   ]
  },
  {
   "cell_type": "code",
   "execution_count": 156,
   "metadata": {},
   "outputs": [
    {
     "data": {
      "text/html": [
       "<div>\n",
       "<style scoped>\n",
       "    .dataframe tbody tr th:only-of-type {\n",
       "        vertical-align: middle;\n",
       "    }\n",
       "\n",
       "    .dataframe tbody tr th {\n",
       "        vertical-align: top;\n",
       "    }\n",
       "\n",
       "    .dataframe thead th {\n",
       "        text-align: right;\n",
       "    }\n",
       "</style>\n",
       "<table border=\"1\" class=\"dataframe\">\n",
       "  <thead>\n",
       "    <tr style=\"text-align: right;\">\n",
       "      <th></th>\n",
       "      <th>ADA</th>\n",
       "      <th>DOGE</th>\n",
       "    </tr>\n",
       "  </thead>\n",
       "  <tbody>\n",
       "    <tr>\n",
       "      <th>2018-11-01</th>\n",
       "      <td>0.547</td>\n",
       "      <td>0.745</td>\n",
       "    </tr>\n",
       "    <tr>\n",
       "      <th>2018-11-02</th>\n",
       "      <td>-2.000</td>\n",
       "      <td>-1.000</td>\n",
       "    </tr>\n",
       "    <tr>\n",
       "      <th>2018-11-03</th>\n",
       "      <td>0.000</td>\n",
       "      <td>0.718</td>\n",
       "    </tr>\n",
       "    <tr>\n",
       "      <th>2018-11-04</th>\n",
       "      <td>0.135</td>\n",
       "      <td>0.845</td>\n",
       "    </tr>\n",
       "    <tr>\n",
       "      <th>2018-11-05</th>\n",
       "      <td>0.530</td>\n",
       "      <td>0.000</td>\n",
       "    </tr>\n",
       "    <tr>\n",
       "      <th>2018-11-06</th>\n",
       "      <td>0.000</td>\n",
       "      <td>-1.000</td>\n",
       "    </tr>\n",
       "  </tbody>\n",
       "</table>\n",
       "</div>"
      ],
      "text/plain": [
       "              ADA   DOGE\n",
       "2018-11-01  0.547  0.745\n",
       "2018-11-02 -2.000 -1.000\n",
       "2018-11-03  0.000  0.718\n",
       "2018-11-04  0.135  0.845\n",
       "2018-11-05  0.530  0.000\n",
       "2018-11-06  0.000 -1.000"
      ]
     },
     "execution_count": 156,
     "metadata": {},
     "output_type": "execute_result"
    }
   ],
   "source": [
    "# Replace NaNs with specified default value\n",
    "price.fillna(0)"
   ]
  },
  {
   "cell_type": "code",
   "execution_count": 157,
   "metadata": {},
   "outputs": [
    {
     "data": {
      "text/html": [
       "<div>\n",
       "<style scoped>\n",
       "    .dataframe tbody tr th:only-of-type {\n",
       "        vertical-align: middle;\n",
       "    }\n",
       "\n",
       "    .dataframe tbody tr th {\n",
       "        vertical-align: top;\n",
       "    }\n",
       "\n",
       "    .dataframe thead th {\n",
       "        text-align: right;\n",
       "    }\n",
       "</style>\n",
       "<table border=\"1\" class=\"dataframe\">\n",
       "  <thead>\n",
       "    <tr style=\"text-align: right;\">\n",
       "      <th></th>\n",
       "      <th>ADA</th>\n",
       "      <th>DOGE</th>\n",
       "    </tr>\n",
       "  </thead>\n",
       "  <tbody>\n",
       "    <tr>\n",
       "      <th>2018-11-01</th>\n",
       "      <td>0.547</td>\n",
       "      <td>0.745</td>\n",
       "    </tr>\n",
       "    <tr>\n",
       "      <th>2018-11-02</th>\n",
       "      <td>-2.000</td>\n",
       "      <td>-1.000</td>\n",
       "    </tr>\n",
       "    <tr>\n",
       "      <th>2018-11-03</th>\n",
       "      <td>0.135</td>\n",
       "      <td>0.718</td>\n",
       "    </tr>\n",
       "    <tr>\n",
       "      <th>2018-11-04</th>\n",
       "      <td>0.135</td>\n",
       "      <td>0.845</td>\n",
       "    </tr>\n",
       "    <tr>\n",
       "      <th>2018-11-05</th>\n",
       "      <td>0.530</td>\n",
       "      <td>-1.000</td>\n",
       "    </tr>\n",
       "    <tr>\n",
       "      <th>2018-11-06</th>\n",
       "      <td>NaN</td>\n",
       "      <td>-1.000</td>\n",
       "    </tr>\n",
       "  </tbody>\n",
       "</table>\n",
       "</div>"
      ],
      "text/plain": [
       "              ADA   DOGE\n",
       "2018-11-01  0.547  0.745\n",
       "2018-11-02 -2.000 -1.000\n",
       "2018-11-03  0.135  0.718\n",
       "2018-11-04  0.135  0.845\n",
       "2018-11-05  0.530 -1.000\n",
       "2018-11-06    NaN -1.000"
      ]
     },
     "execution_count": 157,
     "metadata": {},
     "output_type": "execute_result"
    }
   ],
   "source": [
    "# Replace NaNs with next values (backward fill)\n",
    "price.fillna(method='bfill')"
   ]
  },
  {
   "cell_type": "code",
   "execution_count": 158,
   "metadata": {},
   "outputs": [
    {
     "data": {
      "text/html": [
       "<div>\n",
       "<style scoped>\n",
       "    .dataframe tbody tr th:only-of-type {\n",
       "        vertical-align: middle;\n",
       "    }\n",
       "\n",
       "    .dataframe tbody tr th {\n",
       "        vertical-align: top;\n",
       "    }\n",
       "\n",
       "    .dataframe thead th {\n",
       "        text-align: right;\n",
       "    }\n",
       "</style>\n",
       "<table border=\"1\" class=\"dataframe\">\n",
       "  <thead>\n",
       "    <tr style=\"text-align: right;\">\n",
       "      <th></th>\n",
       "      <th>ADA</th>\n",
       "      <th>DOGE</th>\n",
       "    </tr>\n",
       "  </thead>\n",
       "  <tbody>\n",
       "    <tr>\n",
       "      <th>2018-11-01</th>\n",
       "      <td>0.547</td>\n",
       "      <td>0.745</td>\n",
       "    </tr>\n",
       "    <tr>\n",
       "      <th>2018-11-02</th>\n",
       "      <td>-2.000</td>\n",
       "      <td>-1.000</td>\n",
       "    </tr>\n",
       "    <tr>\n",
       "      <th>2018-11-03</th>\n",
       "      <td>-2.000</td>\n",
       "      <td>0.718</td>\n",
       "    </tr>\n",
       "    <tr>\n",
       "      <th>2018-11-04</th>\n",
       "      <td>0.135</td>\n",
       "      <td>0.845</td>\n",
       "    </tr>\n",
       "    <tr>\n",
       "      <th>2018-11-05</th>\n",
       "      <td>0.530</td>\n",
       "      <td>0.845</td>\n",
       "    </tr>\n",
       "    <tr>\n",
       "      <th>2018-11-06</th>\n",
       "      <td>0.530</td>\n",
       "      <td>-1.000</td>\n",
       "    </tr>\n",
       "  </tbody>\n",
       "</table>\n",
       "</div>"
      ],
      "text/plain": [
       "              ADA   DOGE\n",
       "2018-11-01  0.547  0.745\n",
       "2018-11-02 -2.000 -1.000\n",
       "2018-11-03 -2.000  0.718\n",
       "2018-11-04  0.135  0.845\n",
       "2018-11-05  0.530  0.845\n",
       "2018-11-06  0.530 -1.000"
      ]
     },
     "execution_count": 158,
     "metadata": {},
     "output_type": "execute_result"
    }
   ],
   "source": [
    "# Replace NaNs with previous values (forward fill)\n",
    "price.fillna(method='ffill')"
   ]
  },
  {
   "cell_type": "code",
   "execution_count": 159,
   "metadata": {},
   "outputs": [
    {
     "data": {
      "text/html": [
       "<div>\n",
       "<style scoped>\n",
       "    .dataframe tbody tr th:only-of-type {\n",
       "        vertical-align: middle;\n",
       "    }\n",
       "\n",
       "    .dataframe tbody tr th {\n",
       "        vertical-align: top;\n",
       "    }\n",
       "\n",
       "    .dataframe thead th {\n",
       "        text-align: right;\n",
       "    }\n",
       "</style>\n",
       "<table border=\"1\" class=\"dataframe\">\n",
       "  <thead>\n",
       "    <tr style=\"text-align: right;\">\n",
       "      <th></th>\n",
       "      <th>ADA</th>\n",
       "      <th>DOGE</th>\n",
       "    </tr>\n",
       "  </thead>\n",
       "  <tbody>\n",
       "    <tr>\n",
       "      <th>2018-11-01</th>\n",
       "      <td>0.547</td>\n",
       "      <td>0.745</td>\n",
       "    </tr>\n",
       "    <tr>\n",
       "      <th>2018-11-02</th>\n",
       "      <td>-2.000</td>\n",
       "      <td>-1.000</td>\n",
       "    </tr>\n",
       "    <tr>\n",
       "      <th>2018-11-04</th>\n",
       "      <td>0.135</td>\n",
       "      <td>0.845</td>\n",
       "    </tr>\n",
       "  </tbody>\n",
       "</table>\n",
       "</div>"
      ],
      "text/plain": [
       "              ADA   DOGE\n",
       "2018-11-01  0.547  0.745\n",
       "2018-11-02 -2.000 -1.000\n",
       "2018-11-04  0.135  0.845"
      ]
     },
     "execution_count": 159,
     "metadata": {},
     "output_type": "execute_result"
    }
   ],
   "source": [
    "# Drop rows with NaNs\n",
    "price.dropna()"
   ]
  },
  {
   "cell_type": "code",
   "execution_count": 160,
   "metadata": {},
   "outputs": [
    {
     "data": {
      "text/html": [
       "<div>\n",
       "<style scoped>\n",
       "    .dataframe tbody tr th:only-of-type {\n",
       "        vertical-align: middle;\n",
       "    }\n",
       "\n",
       "    .dataframe tbody tr th {\n",
       "        vertical-align: top;\n",
       "    }\n",
       "\n",
       "    .dataframe thead th {\n",
       "        text-align: right;\n",
       "    }\n",
       "</style>\n",
       "<table border=\"1\" class=\"dataframe\">\n",
       "  <thead>\n",
       "    <tr style=\"text-align: right;\">\n",
       "      <th></th>\n",
       "    </tr>\n",
       "  </thead>\n",
       "  <tbody>\n",
       "    <tr>\n",
       "      <th>2018-11-01</th>\n",
       "    </tr>\n",
       "    <tr>\n",
       "      <th>2018-11-02</th>\n",
       "    </tr>\n",
       "    <tr>\n",
       "      <th>2018-11-03</th>\n",
       "    </tr>\n",
       "    <tr>\n",
       "      <th>2018-11-04</th>\n",
       "    </tr>\n",
       "    <tr>\n",
       "      <th>2018-11-05</th>\n",
       "    </tr>\n",
       "    <tr>\n",
       "      <th>2018-11-06</th>\n",
       "    </tr>\n",
       "  </tbody>\n",
       "</table>\n",
       "</div>"
      ],
      "text/plain": [
       "Empty DataFrame\n",
       "Columns: []\n",
       "Index: [2018-11-01 00:00:00, 2018-11-02 00:00:00, 2018-11-03 00:00:00, 2018-11-04 00:00:00, 2018-11-05 00:00:00, 2018-11-06 00:00:00]"
      ]
     },
     "execution_count": 160,
     "metadata": {},
     "output_type": "execute_result"
    }
   ],
   "source": [
    "# Drop columns with NaNs\n",
    "price.dropna(axis=1)"
   ]
  },
  {
   "cell_type": "code",
   "execution_count": 161,
   "metadata": {},
   "outputs": [
    {
     "data": {
      "text/html": [
       "<div>\n",
       "<style scoped>\n",
       "    .dataframe tbody tr th:only-of-type {\n",
       "        vertical-align: middle;\n",
       "    }\n",
       "\n",
       "    .dataframe tbody tr th {\n",
       "        vertical-align: top;\n",
       "    }\n",
       "\n",
       "    .dataframe thead th {\n",
       "        text-align: right;\n",
       "    }\n",
       "</style>\n",
       "<table border=\"1\" class=\"dataframe\">\n",
       "  <thead>\n",
       "    <tr style=\"text-align: right;\">\n",
       "      <th></th>\n",
       "      <th>ADA</th>\n",
       "      <th>DOGE</th>\n",
       "    </tr>\n",
       "  </thead>\n",
       "  <tbody>\n",
       "    <tr>\n",
       "      <th>2018-11-01</th>\n",
       "      <td>0.547</td>\n",
       "      <td>0.745</td>\n",
       "    </tr>\n",
       "    <tr>\n",
       "      <th>2018-11-02</th>\n",
       "      <td>0.000</td>\n",
       "      <td>0.000</td>\n",
       "    </tr>\n",
       "    <tr>\n",
       "      <th>2018-11-03</th>\n",
       "      <td>NaN</td>\n",
       "      <td>0.718</td>\n",
       "    </tr>\n",
       "    <tr>\n",
       "      <th>2018-11-04</th>\n",
       "      <td>0.135</td>\n",
       "      <td>0.845</td>\n",
       "    </tr>\n",
       "    <tr>\n",
       "      <th>2018-11-05</th>\n",
       "      <td>0.530</td>\n",
       "      <td>NaN</td>\n",
       "    </tr>\n",
       "    <tr>\n",
       "      <th>2018-11-06</th>\n",
       "      <td>NaN</td>\n",
       "      <td>0.000</td>\n",
       "    </tr>\n",
       "  </tbody>\n",
       "</table>\n",
       "</div>"
      ],
      "text/plain": [
       "              ADA   DOGE\n",
       "2018-11-01  0.547  0.745\n",
       "2018-11-02  0.000  0.000\n",
       "2018-11-03    NaN  0.718\n",
       "2018-11-04  0.135  0.845\n",
       "2018-11-05  0.530    NaN\n",
       "2018-11-06    NaN  0.000"
      ]
     },
     "execution_count": 161,
     "metadata": {},
     "output_type": "execute_result"
    }
   ],
   "source": [
    "# Replace values\n",
    "price.replace({-1:0, -2:0})"
   ]
  },
  {
   "cell_type": "code",
   "execution_count": 162,
   "metadata": {},
   "outputs": [],
   "source": [
    "del price"
   ]
  },
  {
   "cell_type": "markdown",
   "metadata": {},
   "source": [
    "### 12. Merging and concatenating"
   ]
  },
  {
   "cell_type": "markdown",
   "metadata": {},
   "source": [
    "If you have two tables, then the information in them can be combined in two ways: concatenation (\"stick a new table from the bottom\") and join (find the union of table entries if they have the same values in the selected columns)."
   ]
  },
  {
   "cell_type": "code",
   "execution_count": 163,
   "metadata": {},
   "outputs": [
    {
     "name": "stdout",
     "output_type": "stream",
     "text": [
      "  symbol  type  amount   price\n",
      "0   DOGE   buy  5000.0     0.2\n",
      "1    BTC   buy    10.0  6000.0\n",
      "2    BTC   buy     2.5  5900.0\n",
      "3   DOGE  sell  3000.0     0.1\n",
      "4    BTC  sell     4.0  6200.0\n",
      "  symbol  type  amount    price\n",
      "0    ETH  sell      10   400.00\n",
      "1    BTC   buy       1  5600.00\n",
      "2    ETH   buy      20   350.00\n",
      "3    ETH  sell      10   300.00\n",
      "4   DOGE  sell    3000     0.15\n"
     ]
    }
   ],
   "source": [
    "operations_old = pd.DataFrame(\n",
    "    data=[\n",
    "        ['DOGE', 'buy', 5000, 0.2],\n",
    "        ['BTC', 'buy', 10, 6000],\n",
    "        ['BTC', 'buy', 2.5, 5900],\n",
    "        ['DOGE', 'sell', 3000, 0.1],\n",
    "        ['BTC', 'sell', 4, 6200],\n",
    "    ],\n",
    "    columns=['symbol', 'type', 'amount', 'price']\n",
    ")\n",
    "\n",
    "operations_new = pd.DataFrame(\n",
    "    data=[\n",
    "        ['ETH', 'sell', 10, 400],\n",
    "        ['BTC', 'buy', 1, 5600],\n",
    "        ['ETH', 'buy', 20, 350],\n",
    "        ['ETH', 'sell', 10, 300],\n",
    "        ['DOGE', 'sell', 3000, 0.15]\n",
    "    ],\n",
    "    columns=['symbol', 'type', 'amount', 'price']\n",
    ")\n",
    "print(operations_old)\n",
    "print(operations_new)"
   ]
  },
  {
   "cell_type": "code",
   "execution_count": 164,
   "metadata": {},
   "outputs": [
    {
     "data": {
      "text/html": [
       "<div>\n",
       "<style scoped>\n",
       "    .dataframe tbody tr th:only-of-type {\n",
       "        vertical-align: middle;\n",
       "    }\n",
       "\n",
       "    .dataframe tbody tr th {\n",
       "        vertical-align: top;\n",
       "    }\n",
       "\n",
       "    .dataframe thead th {\n",
       "        text-align: right;\n",
       "    }\n",
       "</style>\n",
       "<table border=\"1\" class=\"dataframe\">\n",
       "  <thead>\n",
       "    <tr style=\"text-align: right;\">\n",
       "      <th></th>\n",
       "      <th>symbol</th>\n",
       "      <th>type</th>\n",
       "      <th>amount</th>\n",
       "      <th>price</th>\n",
       "    </tr>\n",
       "  </thead>\n",
       "  <tbody>\n",
       "    <tr>\n",
       "      <th>0</th>\n",
       "      <td>DOGE</td>\n",
       "      <td>buy</td>\n",
       "      <td>5000.0</td>\n",
       "      <td>0.20</td>\n",
       "    </tr>\n",
       "    <tr>\n",
       "      <th>1</th>\n",
       "      <td>BTC</td>\n",
       "      <td>buy</td>\n",
       "      <td>10.0</td>\n",
       "      <td>6000.00</td>\n",
       "    </tr>\n",
       "    <tr>\n",
       "      <th>2</th>\n",
       "      <td>BTC</td>\n",
       "      <td>buy</td>\n",
       "      <td>2.5</td>\n",
       "      <td>5900.00</td>\n",
       "    </tr>\n",
       "    <tr>\n",
       "      <th>3</th>\n",
       "      <td>DOGE</td>\n",
       "      <td>sell</td>\n",
       "      <td>3000.0</td>\n",
       "      <td>0.10</td>\n",
       "    </tr>\n",
       "    <tr>\n",
       "      <th>4</th>\n",
       "      <td>BTC</td>\n",
       "      <td>sell</td>\n",
       "      <td>4.0</td>\n",
       "      <td>6200.00</td>\n",
       "    </tr>\n",
       "    <tr>\n",
       "      <th>0</th>\n",
       "      <td>ETH</td>\n",
       "      <td>sell</td>\n",
       "      <td>10.0</td>\n",
       "      <td>400.00</td>\n",
       "    </tr>\n",
       "    <tr>\n",
       "      <th>1</th>\n",
       "      <td>BTC</td>\n",
       "      <td>buy</td>\n",
       "      <td>1.0</td>\n",
       "      <td>5600.00</td>\n",
       "    </tr>\n",
       "    <tr>\n",
       "      <th>2</th>\n",
       "      <td>ETH</td>\n",
       "      <td>buy</td>\n",
       "      <td>20.0</td>\n",
       "      <td>350.00</td>\n",
       "    </tr>\n",
       "    <tr>\n",
       "      <th>3</th>\n",
       "      <td>ETH</td>\n",
       "      <td>sell</td>\n",
       "      <td>10.0</td>\n",
       "      <td>300.00</td>\n",
       "    </tr>\n",
       "    <tr>\n",
       "      <th>4</th>\n",
       "      <td>DOGE</td>\n",
       "      <td>sell</td>\n",
       "      <td>3000.0</td>\n",
       "      <td>0.15</td>\n",
       "    </tr>\n",
       "  </tbody>\n",
       "</table>\n",
       "</div>"
      ],
      "text/plain": [
       "  symbol  type  amount    price\n",
       "0   DOGE   buy  5000.0     0.20\n",
       "1    BTC   buy    10.0  6000.00\n",
       "2    BTC   buy     2.5  5900.00\n",
       "3   DOGE  sell  3000.0     0.10\n",
       "4    BTC  sell     4.0  6200.00\n",
       "0    ETH  sell    10.0   400.00\n",
       "1    BTC   buy     1.0  5600.00\n",
       "2    ETH   buy    20.0   350.00\n",
       "3    ETH  sell    10.0   300.00\n",
       "4   DOGE  sell  3000.0     0.15"
      ]
     },
     "execution_count": 164,
     "metadata": {},
     "output_type": "execute_result"
    }
   ],
   "source": [
    "#  Concatenate in a specified order\n",
    "pd.concat([operations_old, operations_new])"
   ]
  },
  {
   "cell_type": "code",
   "execution_count": 165,
   "metadata": {},
   "outputs": [
    {
     "data": {
      "text/html": [
       "<div>\n",
       "<style scoped>\n",
       "    .dataframe tbody tr th:only-of-type {\n",
       "        vertical-align: middle;\n",
       "    }\n",
       "\n",
       "    .dataframe tbody tr th {\n",
       "        vertical-align: top;\n",
       "    }\n",
       "\n",
       "    .dataframe thead th {\n",
       "        text-align: right;\n",
       "    }\n",
       "</style>\n",
       "<table border=\"1\" class=\"dataframe\">\n",
       "  <thead>\n",
       "    <tr style=\"text-align: right;\">\n",
       "      <th></th>\n",
       "      <th></th>\n",
       "      <th>symbol</th>\n",
       "      <th>type</th>\n",
       "      <th>amount</th>\n",
       "      <th>price</th>\n",
       "    </tr>\n",
       "  </thead>\n",
       "  <tbody>\n",
       "    <tr>\n",
       "      <th rowspan=\"5\" valign=\"top\">old</th>\n",
       "      <th>0</th>\n",
       "      <td>DOGE</td>\n",
       "      <td>buy</td>\n",
       "      <td>5000.0</td>\n",
       "      <td>0.20</td>\n",
       "    </tr>\n",
       "    <tr>\n",
       "      <th>1</th>\n",
       "      <td>BTC</td>\n",
       "      <td>buy</td>\n",
       "      <td>10.0</td>\n",
       "      <td>6000.00</td>\n",
       "    </tr>\n",
       "    <tr>\n",
       "      <th>2</th>\n",
       "      <td>BTC</td>\n",
       "      <td>buy</td>\n",
       "      <td>2.5</td>\n",
       "      <td>5900.00</td>\n",
       "    </tr>\n",
       "    <tr>\n",
       "      <th>3</th>\n",
       "      <td>DOGE</td>\n",
       "      <td>sell</td>\n",
       "      <td>3000.0</td>\n",
       "      <td>0.10</td>\n",
       "    </tr>\n",
       "    <tr>\n",
       "      <th>4</th>\n",
       "      <td>BTC</td>\n",
       "      <td>sell</td>\n",
       "      <td>4.0</td>\n",
       "      <td>6200.00</td>\n",
       "    </tr>\n",
       "    <tr>\n",
       "      <th rowspan=\"5\" valign=\"top\">new</th>\n",
       "      <th>0</th>\n",
       "      <td>ETH</td>\n",
       "      <td>sell</td>\n",
       "      <td>10.0</td>\n",
       "      <td>400.00</td>\n",
       "    </tr>\n",
       "    <tr>\n",
       "      <th>1</th>\n",
       "      <td>BTC</td>\n",
       "      <td>buy</td>\n",
       "      <td>1.0</td>\n",
       "      <td>5600.00</td>\n",
       "    </tr>\n",
       "    <tr>\n",
       "      <th>2</th>\n",
       "      <td>ETH</td>\n",
       "      <td>buy</td>\n",
       "      <td>20.0</td>\n",
       "      <td>350.00</td>\n",
       "    </tr>\n",
       "    <tr>\n",
       "      <th>3</th>\n",
       "      <td>ETH</td>\n",
       "      <td>sell</td>\n",
       "      <td>10.0</td>\n",
       "      <td>300.00</td>\n",
       "    </tr>\n",
       "    <tr>\n",
       "      <th>4</th>\n",
       "      <td>DOGE</td>\n",
       "      <td>sell</td>\n",
       "      <td>3000.0</td>\n",
       "      <td>0.15</td>\n",
       "    </tr>\n",
       "  </tbody>\n",
       "</table>\n",
       "</div>"
      ],
      "text/plain": [
       "      symbol  type  amount    price\n",
       "old 0   DOGE   buy  5000.0     0.20\n",
       "    1    BTC   buy    10.0  6000.00\n",
       "    2    BTC   buy     2.5  5900.00\n",
       "    3   DOGE  sell  3000.0     0.10\n",
       "    4    BTC  sell     4.0  6200.00\n",
       "new 0    ETH  sell    10.0   400.00\n",
       "    1    BTC   buy     1.0  5600.00\n",
       "    2    ETH   buy    20.0   350.00\n",
       "    3    ETH  sell    10.0   300.00\n",
       "    4   DOGE  sell  3000.0     0.15"
      ]
     },
     "execution_count": 165,
     "metadata": {},
     "output_type": "execute_result"
    }
   ],
   "source": [
    "# You can use tags to remember to which table a row belongs\n",
    "pd.concat([operations_old, operations_new], keys=['old', 'new'])"
   ]
  },
  {
   "cell_type": "code",
   "execution_count": 166,
   "metadata": {},
   "outputs": [
    {
     "data": {
      "text/html": [
       "<div>\n",
       "<style scoped>\n",
       "    .dataframe tbody tr th:only-of-type {\n",
       "        vertical-align: middle;\n",
       "    }\n",
       "\n",
       "    .dataframe tbody tr th {\n",
       "        vertical-align: top;\n",
       "    }\n",
       "\n",
       "    .dataframe thead th {\n",
       "        text-align: right;\n",
       "    }\n",
       "</style>\n",
       "<table border=\"1\" class=\"dataframe\">\n",
       "  <thead>\n",
       "    <tr style=\"text-align: right;\">\n",
       "      <th></th>\n",
       "      <th>symbol</th>\n",
       "      <th>type</th>\n",
       "      <th>amount</th>\n",
       "      <th>price</th>\n",
       "    </tr>\n",
       "  </thead>\n",
       "  <tbody>\n",
       "    <tr>\n",
       "      <th>0</th>\n",
       "      <td>ETH</td>\n",
       "      <td>sell</td>\n",
       "      <td>10.0</td>\n",
       "      <td>400.00</td>\n",
       "    </tr>\n",
       "    <tr>\n",
       "      <th>1</th>\n",
       "      <td>BTC</td>\n",
       "      <td>buy</td>\n",
       "      <td>1.0</td>\n",
       "      <td>5600.00</td>\n",
       "    </tr>\n",
       "    <tr>\n",
       "      <th>2</th>\n",
       "      <td>ETH</td>\n",
       "      <td>buy</td>\n",
       "      <td>20.0</td>\n",
       "      <td>350.00</td>\n",
       "    </tr>\n",
       "    <tr>\n",
       "      <th>3</th>\n",
       "      <td>ETH</td>\n",
       "      <td>sell</td>\n",
       "      <td>10.0</td>\n",
       "      <td>300.00</td>\n",
       "    </tr>\n",
       "    <tr>\n",
       "      <th>4</th>\n",
       "      <td>DOGE</td>\n",
       "      <td>sell</td>\n",
       "      <td>3000.0</td>\n",
       "      <td>0.15</td>\n",
       "    </tr>\n",
       "    <tr>\n",
       "      <th>5</th>\n",
       "      <td>DOGE</td>\n",
       "      <td>buy</td>\n",
       "      <td>5000.0</td>\n",
       "      <td>0.20</td>\n",
       "    </tr>\n",
       "    <tr>\n",
       "      <th>6</th>\n",
       "      <td>BTC</td>\n",
       "      <td>buy</td>\n",
       "      <td>10.0</td>\n",
       "      <td>6000.00</td>\n",
       "    </tr>\n",
       "    <tr>\n",
       "      <th>7</th>\n",
       "      <td>BTC</td>\n",
       "      <td>buy</td>\n",
       "      <td>2.5</td>\n",
       "      <td>5900.00</td>\n",
       "    </tr>\n",
       "    <tr>\n",
       "      <th>8</th>\n",
       "      <td>DOGE</td>\n",
       "      <td>sell</td>\n",
       "      <td>3000.0</td>\n",
       "      <td>0.10</td>\n",
       "    </tr>\n",
       "    <tr>\n",
       "      <th>9</th>\n",
       "      <td>BTC</td>\n",
       "      <td>sell</td>\n",
       "      <td>4.0</td>\n",
       "      <td>6200.00</td>\n",
       "    </tr>\n",
       "  </tbody>\n",
       "</table>\n",
       "</div>"
      ],
      "text/plain": [
       "  symbol  type  amount    price\n",
       "0    ETH  sell    10.0   400.00\n",
       "1    BTC   buy     1.0  5600.00\n",
       "2    ETH   buy    20.0   350.00\n",
       "3    ETH  sell    10.0   300.00\n",
       "4   DOGE  sell  3000.0     0.15\n",
       "5   DOGE   buy  5000.0     0.20\n",
       "6    BTC   buy    10.0  6000.00\n",
       "7    BTC   buy     2.5  5900.00\n",
       "8   DOGE  sell  3000.0     0.10\n",
       "9    BTC  sell     4.0  6200.00"
      ]
     },
     "execution_count": 166,
     "metadata": {},
     "output_type": "execute_result"
    }
   ],
   "source": [
    "# to update indexes use ignore_index=True\n",
    "operations = pd.concat([operations_new, operations_old], ignore_index=True)\n",
    "operations"
   ]
  },
  {
   "cell_type": "markdown",
   "metadata": {},
   "source": [
    "Data can be collected together in a smarter way. Namely, you choose which columns you are interested in. Further, if there are records from two tables which have the same values in the selected columns, we \"combine\" them. This is a very simplified explanation. In pandas, this operation is called merge (in SQL it is join). You can do the union in different ways, so several strategies arise: left, right, inner and full."
   ]
  },
  {
   "cell_type": "code",
   "execution_count": 167,
   "metadata": {},
   "outputs": [
    {
     "data": {
      "text/html": [
       "<div>\n",
       "<style scoped>\n",
       "    .dataframe tbody tr th:only-of-type {\n",
       "        vertical-align: middle;\n",
       "    }\n",
       "\n",
       "    .dataframe tbody tr th {\n",
       "        vertical-align: top;\n",
       "    }\n",
       "\n",
       "    .dataframe thead th {\n",
       "        text-align: right;\n",
       "    }\n",
       "</style>\n",
       "<table border=\"1\" class=\"dataframe\">\n",
       "  <thead>\n",
       "    <tr style=\"text-align: right;\">\n",
       "      <th></th>\n",
       "      <th>symbol</th>\n",
       "      <th>type</th>\n",
       "      <th>user</th>\n",
       "    </tr>\n",
       "  </thead>\n",
       "  <tbody>\n",
       "    <tr>\n",
       "      <th>0</th>\n",
       "      <td>DOGE</td>\n",
       "      <td>sell</td>\n",
       "      <td>Rockfeller</td>\n",
       "    </tr>\n",
       "    <tr>\n",
       "      <th>1</th>\n",
       "      <td>DOGE</td>\n",
       "      <td>buy</td>\n",
       "      <td>J.P. Morgan</td>\n",
       "    </tr>\n",
       "    <tr>\n",
       "      <th>2</th>\n",
       "      <td>BTC</td>\n",
       "      <td>buy</td>\n",
       "      <td>John Doe</td>\n",
       "    </tr>\n",
       "    <tr>\n",
       "      <th>3</th>\n",
       "      <td>ADA</td>\n",
       "      <td>sell</td>\n",
       "      <td>Rick</td>\n",
       "    </tr>\n",
       "    <tr>\n",
       "      <th>4</th>\n",
       "      <td>ETH</td>\n",
       "      <td>buy</td>\n",
       "      <td>Morty</td>\n",
       "    </tr>\n",
       "  </tbody>\n",
       "</table>\n",
       "</div>"
      ],
      "text/plain": [
       "  symbol  type         user\n",
       "0   DOGE  sell   Rockfeller\n",
       "1   DOGE   buy  J.P. Morgan\n",
       "2    BTC   buy     John Doe\n",
       "3    ADA  sell         Rick\n",
       "4    ETH   buy        Morty"
      ]
     },
     "execution_count": 167,
     "metadata": {},
     "output_type": "execute_result"
    }
   ],
   "source": [
    "transactions = pd.DataFrame(\n",
    "    data=[\n",
    "        ['DOGE', 'sell', 'Rockfeller'],\n",
    "        ['DOGE', 'buy', 'J.P. Morgan'],\n",
    "        ['BTC', 'buy', 'John Doe'],\n",
    "        ['ADA', 'sell', 'Rick'],\n",
    "        ['ETH', 'buy', 'Morty']\n",
    "    ],\n",
    "    columns=['symbol', 'type', 'user']\n",
    ")\n",
    "transactions"
   ]
  },
  {
   "cell_type": "code",
   "execution_count": 168,
   "metadata": {},
   "outputs": [
    {
     "data": {
      "text/html": [
       "<div>\n",
       "<style scoped>\n",
       "    .dataframe tbody tr th:only-of-type {\n",
       "        vertical-align: middle;\n",
       "    }\n",
       "\n",
       "    .dataframe tbody tr th {\n",
       "        vertical-align: top;\n",
       "    }\n",
       "\n",
       "    .dataframe thead th {\n",
       "        text-align: right;\n",
       "    }\n",
       "</style>\n",
       "<table border=\"1\" class=\"dataframe\">\n",
       "  <thead>\n",
       "    <tr style=\"text-align: right;\">\n",
       "      <th></th>\n",
       "      <th>symbol</th>\n",
       "      <th>type</th>\n",
       "      <th>amount</th>\n",
       "      <th>price</th>\n",
       "      <th>user</th>\n",
       "    </tr>\n",
       "  </thead>\n",
       "  <tbody>\n",
       "    <tr>\n",
       "      <th>0</th>\n",
       "      <td>BTC</td>\n",
       "      <td>buy</td>\n",
       "      <td>1.0</td>\n",
       "      <td>5600.00</td>\n",
       "      <td>John Doe</td>\n",
       "    </tr>\n",
       "    <tr>\n",
       "      <th>1</th>\n",
       "      <td>BTC</td>\n",
       "      <td>buy</td>\n",
       "      <td>10.0</td>\n",
       "      <td>6000.00</td>\n",
       "      <td>John Doe</td>\n",
       "    </tr>\n",
       "    <tr>\n",
       "      <th>2</th>\n",
       "      <td>BTC</td>\n",
       "      <td>buy</td>\n",
       "      <td>2.5</td>\n",
       "      <td>5900.00</td>\n",
       "      <td>John Doe</td>\n",
       "    </tr>\n",
       "    <tr>\n",
       "      <th>3</th>\n",
       "      <td>ETH</td>\n",
       "      <td>buy</td>\n",
       "      <td>20.0</td>\n",
       "      <td>350.00</td>\n",
       "      <td>Morty</td>\n",
       "    </tr>\n",
       "    <tr>\n",
       "      <th>4</th>\n",
       "      <td>DOGE</td>\n",
       "      <td>sell</td>\n",
       "      <td>3000.0</td>\n",
       "      <td>0.15</td>\n",
       "      <td>Rockfeller</td>\n",
       "    </tr>\n",
       "    <tr>\n",
       "      <th>5</th>\n",
       "      <td>DOGE</td>\n",
       "      <td>sell</td>\n",
       "      <td>3000.0</td>\n",
       "      <td>0.10</td>\n",
       "      <td>Rockfeller</td>\n",
       "    </tr>\n",
       "    <tr>\n",
       "      <th>6</th>\n",
       "      <td>DOGE</td>\n",
       "      <td>buy</td>\n",
       "      <td>5000.0</td>\n",
       "      <td>0.20</td>\n",
       "      <td>J.P. Morgan</td>\n",
       "    </tr>\n",
       "  </tbody>\n",
       "</table>\n",
       "</div>"
      ],
      "text/plain": [
       "  symbol  type  amount    price         user\n",
       "0    BTC   buy     1.0  5600.00     John Doe\n",
       "1    BTC   buy    10.0  6000.00     John Doe\n",
       "2    BTC   buy     2.5  5900.00     John Doe\n",
       "3    ETH   buy    20.0   350.00        Morty\n",
       "4   DOGE  sell  3000.0     0.15   Rockfeller\n",
       "5   DOGE  sell  3000.0     0.10   Rockfeller\n",
       "6   DOGE   buy  5000.0     0.20  J.P. Morgan"
      ]
     },
     "execution_count": 168,
     "metadata": {},
     "output_type": "execute_result"
    }
   ],
   "source": [
    "# Merge by symbol and type\n",
    "# By default it's inner join\n",
    "pd.merge(operations, transactions, on=['symbol', 'type'])"
   ]
  },
  {
   "cell_type": "code",
   "execution_count": 169,
   "metadata": {},
   "outputs": [
    {
     "data": {
      "text/html": [
       "<div>\n",
       "<style scoped>\n",
       "    .dataframe tbody tr th:only-of-type {\n",
       "        vertical-align: middle;\n",
       "    }\n",
       "\n",
       "    .dataframe tbody tr th {\n",
       "        vertical-align: top;\n",
       "    }\n",
       "\n",
       "    .dataframe thead th {\n",
       "        text-align: right;\n",
       "    }\n",
       "</style>\n",
       "<table border=\"1\" class=\"dataframe\">\n",
       "  <thead>\n",
       "    <tr style=\"text-align: right;\">\n",
       "      <th></th>\n",
       "      <th>symbol</th>\n",
       "      <th>type</th>\n",
       "      <th>amount</th>\n",
       "      <th>price</th>\n",
       "      <th>user</th>\n",
       "    </tr>\n",
       "  </thead>\n",
       "  <tbody>\n",
       "    <tr>\n",
       "      <th>0</th>\n",
       "      <td>ETH</td>\n",
       "      <td>sell</td>\n",
       "      <td>10.0</td>\n",
       "      <td>400.00</td>\n",
       "      <td>NaN</td>\n",
       "    </tr>\n",
       "    <tr>\n",
       "      <th>1</th>\n",
       "      <td>BTC</td>\n",
       "      <td>buy</td>\n",
       "      <td>1.0</td>\n",
       "      <td>5600.00</td>\n",
       "      <td>John Doe</td>\n",
       "    </tr>\n",
       "    <tr>\n",
       "      <th>2</th>\n",
       "      <td>ETH</td>\n",
       "      <td>buy</td>\n",
       "      <td>20.0</td>\n",
       "      <td>350.00</td>\n",
       "      <td>Morty</td>\n",
       "    </tr>\n",
       "    <tr>\n",
       "      <th>3</th>\n",
       "      <td>ETH</td>\n",
       "      <td>sell</td>\n",
       "      <td>10.0</td>\n",
       "      <td>300.00</td>\n",
       "      <td>NaN</td>\n",
       "    </tr>\n",
       "    <tr>\n",
       "      <th>4</th>\n",
       "      <td>DOGE</td>\n",
       "      <td>sell</td>\n",
       "      <td>3000.0</td>\n",
       "      <td>0.15</td>\n",
       "      <td>Rockfeller</td>\n",
       "    </tr>\n",
       "    <tr>\n",
       "      <th>5</th>\n",
       "      <td>DOGE</td>\n",
       "      <td>buy</td>\n",
       "      <td>5000.0</td>\n",
       "      <td>0.20</td>\n",
       "      <td>J.P. Morgan</td>\n",
       "    </tr>\n",
       "    <tr>\n",
       "      <th>6</th>\n",
       "      <td>BTC</td>\n",
       "      <td>buy</td>\n",
       "      <td>10.0</td>\n",
       "      <td>6000.00</td>\n",
       "      <td>John Doe</td>\n",
       "    </tr>\n",
       "    <tr>\n",
       "      <th>7</th>\n",
       "      <td>BTC</td>\n",
       "      <td>buy</td>\n",
       "      <td>2.5</td>\n",
       "      <td>5900.00</td>\n",
       "      <td>John Doe</td>\n",
       "    </tr>\n",
       "    <tr>\n",
       "      <th>8</th>\n",
       "      <td>DOGE</td>\n",
       "      <td>sell</td>\n",
       "      <td>3000.0</td>\n",
       "      <td>0.10</td>\n",
       "      <td>Rockfeller</td>\n",
       "    </tr>\n",
       "    <tr>\n",
       "      <th>9</th>\n",
       "      <td>BTC</td>\n",
       "      <td>sell</td>\n",
       "      <td>4.0</td>\n",
       "      <td>6200.00</td>\n",
       "      <td>NaN</td>\n",
       "    </tr>\n",
       "  </tbody>\n",
       "</table>\n",
       "</div>"
      ],
      "text/plain": [
       "  symbol  type  amount    price         user\n",
       "0    ETH  sell    10.0   400.00          NaN\n",
       "1    BTC   buy     1.0  5600.00     John Doe\n",
       "2    ETH   buy    20.0   350.00        Morty\n",
       "3    ETH  sell    10.0   300.00          NaN\n",
       "4   DOGE  sell  3000.0     0.15   Rockfeller\n",
       "5   DOGE   buy  5000.0     0.20  J.P. Morgan\n",
       "6    BTC   buy    10.0  6000.00     John Doe\n",
       "7    BTC   buy     2.5  5900.00     John Doe\n",
       "8   DOGE  sell  3000.0     0.10   Rockfeller\n",
       "9    BTC  sell     4.0  6200.00          NaN"
      ]
     },
     "execution_count": 169,
     "metadata": {},
     "output_type": "execute_result"
    }
   ],
   "source": [
    "# Left join\n",
    "# (right join exists also)\n",
    "pd.merge(operations, transactions, on=['symbol', 'type'], how='left')"
   ]
  },
  {
   "cell_type": "code",
   "execution_count": 170,
   "metadata": {},
   "outputs": [
    {
     "data": {
      "text/html": [
       "<div>\n",
       "<style scoped>\n",
       "    .dataframe tbody tr th:only-of-type {\n",
       "        vertical-align: middle;\n",
       "    }\n",
       "\n",
       "    .dataframe tbody tr th {\n",
       "        vertical-align: top;\n",
       "    }\n",
       "\n",
       "    .dataframe thead th {\n",
       "        text-align: right;\n",
       "    }\n",
       "</style>\n",
       "<table border=\"1\" class=\"dataframe\">\n",
       "  <thead>\n",
       "    <tr style=\"text-align: right;\">\n",
       "      <th></th>\n",
       "      <th>symbol</th>\n",
       "      <th>type</th>\n",
       "      <th>amount</th>\n",
       "      <th>price</th>\n",
       "      <th>user</th>\n",
       "    </tr>\n",
       "  </thead>\n",
       "  <tbody>\n",
       "    <tr>\n",
       "      <th>0</th>\n",
       "      <td>ETH</td>\n",
       "      <td>sell</td>\n",
       "      <td>10.0</td>\n",
       "      <td>400.00</td>\n",
       "      <td>NaN</td>\n",
       "    </tr>\n",
       "    <tr>\n",
       "      <th>1</th>\n",
       "      <td>ETH</td>\n",
       "      <td>sell</td>\n",
       "      <td>10.0</td>\n",
       "      <td>300.00</td>\n",
       "      <td>NaN</td>\n",
       "    </tr>\n",
       "    <tr>\n",
       "      <th>2</th>\n",
       "      <td>BTC</td>\n",
       "      <td>buy</td>\n",
       "      <td>1.0</td>\n",
       "      <td>5600.00</td>\n",
       "      <td>John Doe</td>\n",
       "    </tr>\n",
       "    <tr>\n",
       "      <th>3</th>\n",
       "      <td>BTC</td>\n",
       "      <td>buy</td>\n",
       "      <td>10.0</td>\n",
       "      <td>6000.00</td>\n",
       "      <td>John Doe</td>\n",
       "    </tr>\n",
       "    <tr>\n",
       "      <th>4</th>\n",
       "      <td>BTC</td>\n",
       "      <td>buy</td>\n",
       "      <td>2.5</td>\n",
       "      <td>5900.00</td>\n",
       "      <td>John Doe</td>\n",
       "    </tr>\n",
       "    <tr>\n",
       "      <th>...</th>\n",
       "      <td>...</td>\n",
       "      <td>...</td>\n",
       "      <td>...</td>\n",
       "      <td>...</td>\n",
       "      <td>...</td>\n",
       "    </tr>\n",
       "    <tr>\n",
       "      <th>6</th>\n",
       "      <td>DOGE</td>\n",
       "      <td>sell</td>\n",
       "      <td>3000.0</td>\n",
       "      <td>0.15</td>\n",
       "      <td>Rockfeller</td>\n",
       "    </tr>\n",
       "    <tr>\n",
       "      <th>7</th>\n",
       "      <td>DOGE</td>\n",
       "      <td>sell</td>\n",
       "      <td>3000.0</td>\n",
       "      <td>0.10</td>\n",
       "      <td>Rockfeller</td>\n",
       "    </tr>\n",
       "    <tr>\n",
       "      <th>8</th>\n",
       "      <td>DOGE</td>\n",
       "      <td>buy</td>\n",
       "      <td>5000.0</td>\n",
       "      <td>0.20</td>\n",
       "      <td>J.P. Morgan</td>\n",
       "    </tr>\n",
       "    <tr>\n",
       "      <th>9</th>\n",
       "      <td>BTC</td>\n",
       "      <td>sell</td>\n",
       "      <td>4.0</td>\n",
       "      <td>6200.00</td>\n",
       "      <td>NaN</td>\n",
       "    </tr>\n",
       "    <tr>\n",
       "      <th>10</th>\n",
       "      <td>ADA</td>\n",
       "      <td>sell</td>\n",
       "      <td>NaN</td>\n",
       "      <td>NaN</td>\n",
       "      <td>Rick</td>\n",
       "    </tr>\n",
       "  </tbody>\n",
       "</table>\n",
       "<p>11 rows × 5 columns</p>\n",
       "</div>"
      ],
      "text/plain": [
       "   symbol  type  amount    price         user\n",
       "0     ETH  sell    10.0   400.00          NaN\n",
       "1     ETH  sell    10.0   300.00          NaN\n",
       "2     BTC   buy     1.0  5600.00     John Doe\n",
       "3     BTC   buy    10.0  6000.00     John Doe\n",
       "4     BTC   buy     2.5  5900.00     John Doe\n",
       "..    ...   ...     ...      ...          ...\n",
       "6    DOGE  sell  3000.0     0.15   Rockfeller\n",
       "7    DOGE  sell  3000.0     0.10   Rockfeller\n",
       "8    DOGE   buy  5000.0     0.20  J.P. Morgan\n",
       "9     BTC  sell     4.0  6200.00          NaN\n",
       "10    ADA  sell     NaN      NaN         Rick\n",
       "\n",
       "[11 rows x 5 columns]"
      ]
     },
     "execution_count": 170,
     "metadata": {},
     "output_type": "execute_result"
    }
   ],
   "source": [
    "# Outer join\n",
    "pd.merge(operations, transactions, on=['symbol', 'type'], how='outer')"
   ]
  },
  {
   "cell_type": "code",
   "execution_count": 171,
   "metadata": {},
   "outputs": [],
   "source": [
    "del operations_new, operations_old, operations, transactions"
   ]
  },
  {
   "cell_type": "markdown",
   "metadata": {},
   "source": [
    "### 13. Read table"
   ]
  },
  {
   "cell_type": "markdown",
   "metadata": {},
   "source": [
    "In order to analyze data you should get it somewhere. In pandas there are functions with *read_* prefix for that. We will look at read_csv."
   ]
  },
  {
   "cell_type": "code",
   "execution_count": 172,
   "metadata": {},
   "outputs": [
    {
     "data": {
      "text/html": [
       "<div>\n",
       "<style scoped>\n",
       "    .dataframe tbody tr th:only-of-type {\n",
       "        vertical-align: middle;\n",
       "    }\n",
       "\n",
       "    .dataframe tbody tr th {\n",
       "        vertical-align: top;\n",
       "    }\n",
       "\n",
       "    .dataframe thead th {\n",
       "        text-align: right;\n",
       "    }\n",
       "</style>\n",
       "<table border=\"1\" class=\"dataframe\">\n",
       "  <thead>\n",
       "    <tr style=\"text-align: right;\">\n",
       "      <th></th>\n",
       "      <th>date</th>\n",
       "      <th>price</th>\n",
       "      <th>txCount</th>\n",
       "      <th>txVolume</th>\n",
       "      <th>activeAddresses</th>\n",
       "      <th>symbol</th>\n",
       "      <th>name</th>\n",
       "      <th>open</th>\n",
       "      <th>high</th>\n",
       "      <th>low</th>\n",
       "      <th>close</th>\n",
       "      <th>volume</th>\n",
       "      <th>market</th>\n",
       "    </tr>\n",
       "  </thead>\n",
       "  <tbody>\n",
       "    <tr>\n",
       "      <th>0</th>\n",
       "      <td>2013-04-28</td>\n",
       "      <td>135.300000</td>\n",
       "      <td>41702.0</td>\n",
       "      <td>6.879868e+07</td>\n",
       "      <td>117984.0</td>\n",
       "      <td>BTC</td>\n",
       "      <td>Bitcoin</td>\n",
       "      <td>135.300000</td>\n",
       "      <td>135.980000</td>\n",
       "      <td>132.100000</td>\n",
       "      <td>134.210000</td>\n",
       "      <td>0.0</td>\n",
       "      <td>1.500520e+09</td>\n",
       "    </tr>\n",
       "    <tr>\n",
       "      <th>1</th>\n",
       "      <td>2013-04-28</td>\n",
       "      <td>4.300000</td>\n",
       "      <td>9174.0</td>\n",
       "      <td>4.431952e+07</td>\n",
       "      <td>17216.0</td>\n",
       "      <td>LTC</td>\n",
       "      <td>Litecoin</td>\n",
       "      <td>4.300000</td>\n",
       "      <td>4.400000</td>\n",
       "      <td>4.180000</td>\n",
       "      <td>4.350000</td>\n",
       "      <td>0.0</td>\n",
       "      <td>7.377340e+07</td>\n",
       "    </tr>\n",
       "    <tr>\n",
       "      <th>2</th>\n",
       "      <td>2013-04-29</td>\n",
       "      <td>134.440000</td>\n",
       "      <td>51602.0</td>\n",
       "      <td>1.138128e+08</td>\n",
       "      <td>86925.0</td>\n",
       "      <td>BTC</td>\n",
       "      <td>Bitcoin</td>\n",
       "      <td>134.440000</td>\n",
       "      <td>147.490000</td>\n",
       "      <td>134.000000</td>\n",
       "      <td>144.540000</td>\n",
       "      <td>0.0</td>\n",
       "      <td>1.491160e+09</td>\n",
       "    </tr>\n",
       "    <tr>\n",
       "      <th>3</th>\n",
       "      <td>2013-04-29</td>\n",
       "      <td>4.370000</td>\n",
       "      <td>9275.0</td>\n",
       "      <td>3.647810e+07</td>\n",
       "      <td>18395.0</td>\n",
       "      <td>LTC</td>\n",
       "      <td>Litecoin</td>\n",
       "      <td>4.370000</td>\n",
       "      <td>4.570000</td>\n",
       "      <td>4.230000</td>\n",
       "      <td>4.380000</td>\n",
       "      <td>0.0</td>\n",
       "      <td>7.495270e+07</td>\n",
       "    </tr>\n",
       "    <tr>\n",
       "      <th>4</th>\n",
       "      <td>2013-04-30</td>\n",
       "      <td>144.000000</td>\n",
       "      <td>47450.0</td>\n",
       "      <td>8.426632e+07</td>\n",
       "      <td>76871.0</td>\n",
       "      <td>BTC</td>\n",
       "      <td>Bitcoin</td>\n",
       "      <td>144.000000</td>\n",
       "      <td>146.930000</td>\n",
       "      <td>134.050000</td>\n",
       "      <td>139.000000</td>\n",
       "      <td>0.0</td>\n",
       "      <td>1.597780e+09</td>\n",
       "    </tr>\n",
       "    <tr>\n",
       "      <th>...</th>\n",
       "      <td>...</td>\n",
       "      <td>...</td>\n",
       "      <td>...</td>\n",
       "      <td>...</td>\n",
       "      <td>...</td>\n",
       "      <td>...</td>\n",
       "      <td>...</td>\n",
       "      <td>...</td>\n",
       "      <td>...</td>\n",
       "      <td>...</td>\n",
       "      <td>...</td>\n",
       "      <td>...</td>\n",
       "      <td>...</td>\n",
       "    </tr>\n",
       "    <tr>\n",
       "      <th>37583</th>\n",
       "      <td>2018-06-06</td>\n",
       "      <td>0.293325</td>\n",
       "      <td>4830.0</td>\n",
       "      <td>2.312763e+05</td>\n",
       "      <td>659.0</td>\n",
       "      <td>XLM</td>\n",
       "      <td>Stellar</td>\n",
       "      <td>0.293325</td>\n",
       "      <td>0.299955</td>\n",
       "      <td>0.289500</td>\n",
       "      <td>0.298269</td>\n",
       "      <td>51165000.0</td>\n",
       "      <td>5.450080e+09</td>\n",
       "    </tr>\n",
       "    <tr>\n",
       "      <th>37584</th>\n",
       "      <td>2018-06-06</td>\n",
       "      <td>0.039586</td>\n",
       "      <td>7205.0</td>\n",
       "      <td>4.947760e+06</td>\n",
       "      <td>18228.0</td>\n",
       "      <td>XVG</td>\n",
       "      <td>Verge</td>\n",
       "      <td>0.039586</td>\n",
       "      <td>0.039737</td>\n",
       "      <td>0.037680</td>\n",
       "      <td>0.038797</td>\n",
       "      <td>9307450.0</td>\n",
       "      <td>5.959400e+08</td>\n",
       "    </tr>\n",
       "    <tr>\n",
       "      <th>37585</th>\n",
       "      <td>2018-06-06</td>\n",
       "      <td>239.760000</td>\n",
       "      <td>10687.0</td>\n",
       "      <td>3.986308e+07</td>\n",
       "      <td>96516.0</td>\n",
       "      <td>ZEC</td>\n",
       "      <td>Zcash</td>\n",
       "      <td>239.750000</td>\n",
       "      <td>240.340000</td>\n",
       "      <td>229.210000</td>\n",
       "      <td>236.050000</td>\n",
       "      <td>56887000.0</td>\n",
       "      <td>9.769940e+08</td>\n",
       "    </tr>\n",
       "    <tr>\n",
       "      <th>37586</th>\n",
       "      <td>2018-06-06</td>\n",
       "      <td>0.127555</td>\n",
       "      <td>1313.0</td>\n",
       "      <td>1.596436e+07</td>\n",
       "      <td>733.0</td>\n",
       "      <td>ZIL</td>\n",
       "      <td>Zilliqa</td>\n",
       "      <td>0.127555</td>\n",
       "      <td>0.133254</td>\n",
       "      <td>0.124194</td>\n",
       "      <td>0.131766</td>\n",
       "      <td>54667900.0</td>\n",
       "      <td>9.348810e+08</td>\n",
       "    </tr>\n",
       "    <tr>\n",
       "      <th>37587</th>\n",
       "      <td>2018-06-06</td>\n",
       "      <td>1.270000</td>\n",
       "      <td>795.0</td>\n",
       "      <td>6.094435e+06</td>\n",
       "      <td>599.0</td>\n",
       "      <td>ZRX</td>\n",
       "      <td>0x</td>\n",
       "      <td>1.270000</td>\n",
       "      <td>1.340000</td>\n",
       "      <td>1.250000</td>\n",
       "      <td>1.330000</td>\n",
       "      <td>17778000.0</td>\n",
       "      <td>6.741510e+08</td>\n",
       "    </tr>\n",
       "  </tbody>\n",
       "</table>\n",
       "<p>37588 rows × 13 columns</p>\n",
       "</div>"
      ],
      "text/plain": [
       "             date       price  txCount      txVolume  activeAddresses symbol  \\\n",
       "0      2013-04-28  135.300000  41702.0  6.879868e+07         117984.0    BTC   \n",
       "1      2013-04-28    4.300000   9174.0  4.431952e+07          17216.0    LTC   \n",
       "2      2013-04-29  134.440000  51602.0  1.138128e+08          86925.0    BTC   \n",
       "3      2013-04-29    4.370000   9275.0  3.647810e+07          18395.0    LTC   \n",
       "4      2013-04-30  144.000000  47450.0  8.426632e+07          76871.0    BTC   \n",
       "...           ...         ...      ...           ...              ...    ...   \n",
       "37583  2018-06-06    0.293325   4830.0  2.312763e+05            659.0    XLM   \n",
       "37584  2018-06-06    0.039586   7205.0  4.947760e+06          18228.0    XVG   \n",
       "37585  2018-06-06  239.760000  10687.0  3.986308e+07          96516.0    ZEC   \n",
       "37586  2018-06-06    0.127555   1313.0  1.596436e+07            733.0    ZIL   \n",
       "37587  2018-06-06    1.270000    795.0  6.094435e+06            599.0    ZRX   \n",
       "\n",
       "           name        open        high         low       close      volume  \\\n",
       "0       Bitcoin  135.300000  135.980000  132.100000  134.210000         0.0   \n",
       "1      Litecoin    4.300000    4.400000    4.180000    4.350000         0.0   \n",
       "2       Bitcoin  134.440000  147.490000  134.000000  144.540000         0.0   \n",
       "3      Litecoin    4.370000    4.570000    4.230000    4.380000         0.0   \n",
       "4       Bitcoin  144.000000  146.930000  134.050000  139.000000         0.0   \n",
       "...         ...         ...         ...         ...         ...         ...   \n",
       "37583   Stellar    0.293325    0.299955    0.289500    0.298269  51165000.0   \n",
       "37584     Verge    0.039586    0.039737    0.037680    0.038797   9307450.0   \n",
       "37585     Zcash  239.750000  240.340000  229.210000  236.050000  56887000.0   \n",
       "37586   Zilliqa    0.127555    0.133254    0.124194    0.131766  54667900.0   \n",
       "37587        0x    1.270000    1.340000    1.250000    1.330000  17778000.0   \n",
       "\n",
       "             market  \n",
       "0      1.500520e+09  \n",
       "1      7.377340e+07  \n",
       "2      1.491160e+09  \n",
       "3      7.495270e+07  \n",
       "4      1.597780e+09  \n",
       "...             ...  \n",
       "37583  5.450080e+09  \n",
       "37584  5.959400e+08  \n",
       "37585  9.769940e+08  \n",
       "37586  9.348810e+08  \n",
       "37587  6.741510e+08  \n",
       "\n",
       "[37588 rows x 13 columns]"
      ]
     },
     "execution_count": 172,
     "metadata": {},
     "output_type": "execute_result"
    }
   ],
   "source": [
    "# Just read a table from file\n",
    "pd.read_csv('coins.csv')"
   ]
  },
  {
   "cell_type": "code",
   "execution_count": 173,
   "metadata": {},
   "outputs": [
    {
     "data": {
      "text/html": [
       "<div>\n",
       "<style scoped>\n",
       "    .dataframe tbody tr th:only-of-type {\n",
       "        vertical-align: middle;\n",
       "    }\n",
       "\n",
       "    .dataframe tbody tr th {\n",
       "        vertical-align: top;\n",
       "    }\n",
       "\n",
       "    .dataframe thead th {\n",
       "        text-align: right;\n",
       "    }\n",
       "</style>\n",
       "<table border=\"1\" class=\"dataframe\">\n",
       "  <thead>\n",
       "    <tr style=\"text-align: right;\">\n",
       "      <th></th>\n",
       "      <th>price</th>\n",
       "      <th>txCount</th>\n",
       "      <th>txVolume</th>\n",
       "      <th>activeAddresses</th>\n",
       "      <th>symbol</th>\n",
       "      <th>name</th>\n",
       "      <th>open</th>\n",
       "      <th>high</th>\n",
       "      <th>low</th>\n",
       "      <th>close</th>\n",
       "      <th>volume</th>\n",
       "      <th>market</th>\n",
       "    </tr>\n",
       "    <tr>\n",
       "      <th>date</th>\n",
       "      <th></th>\n",
       "      <th></th>\n",
       "      <th></th>\n",
       "      <th></th>\n",
       "      <th></th>\n",
       "      <th></th>\n",
       "      <th></th>\n",
       "      <th></th>\n",
       "      <th></th>\n",
       "      <th></th>\n",
       "      <th></th>\n",
       "      <th></th>\n",
       "    </tr>\n",
       "  </thead>\n",
       "  <tbody>\n",
       "    <tr>\n",
       "      <th>2013-04-28</th>\n",
       "      <td>135.300000</td>\n",
       "      <td>41702.0</td>\n",
       "      <td>6.879868e+07</td>\n",
       "      <td>117984.0</td>\n",
       "      <td>BTC</td>\n",
       "      <td>Bitcoin</td>\n",
       "      <td>135.300000</td>\n",
       "      <td>135.980000</td>\n",
       "      <td>132.100000</td>\n",
       "      <td>134.210000</td>\n",
       "      <td>0.0</td>\n",
       "      <td>1.500520e+09</td>\n",
       "    </tr>\n",
       "    <tr>\n",
       "      <th>2013-04-28</th>\n",
       "      <td>4.300000</td>\n",
       "      <td>9174.0</td>\n",
       "      <td>4.431952e+07</td>\n",
       "      <td>17216.0</td>\n",
       "      <td>LTC</td>\n",
       "      <td>Litecoin</td>\n",
       "      <td>4.300000</td>\n",
       "      <td>4.400000</td>\n",
       "      <td>4.180000</td>\n",
       "      <td>4.350000</td>\n",
       "      <td>0.0</td>\n",
       "      <td>7.377340e+07</td>\n",
       "    </tr>\n",
       "    <tr>\n",
       "      <th>2013-04-29</th>\n",
       "      <td>134.440000</td>\n",
       "      <td>51602.0</td>\n",
       "      <td>1.138128e+08</td>\n",
       "      <td>86925.0</td>\n",
       "      <td>BTC</td>\n",
       "      <td>Bitcoin</td>\n",
       "      <td>134.440000</td>\n",
       "      <td>147.490000</td>\n",
       "      <td>134.000000</td>\n",
       "      <td>144.540000</td>\n",
       "      <td>0.0</td>\n",
       "      <td>1.491160e+09</td>\n",
       "    </tr>\n",
       "    <tr>\n",
       "      <th>2013-04-29</th>\n",
       "      <td>4.370000</td>\n",
       "      <td>9275.0</td>\n",
       "      <td>3.647810e+07</td>\n",
       "      <td>18395.0</td>\n",
       "      <td>LTC</td>\n",
       "      <td>Litecoin</td>\n",
       "      <td>4.370000</td>\n",
       "      <td>4.570000</td>\n",
       "      <td>4.230000</td>\n",
       "      <td>4.380000</td>\n",
       "      <td>0.0</td>\n",
       "      <td>7.495270e+07</td>\n",
       "    </tr>\n",
       "    <tr>\n",
       "      <th>2013-04-30</th>\n",
       "      <td>144.000000</td>\n",
       "      <td>47450.0</td>\n",
       "      <td>8.426632e+07</td>\n",
       "      <td>76871.0</td>\n",
       "      <td>BTC</td>\n",
       "      <td>Bitcoin</td>\n",
       "      <td>144.000000</td>\n",
       "      <td>146.930000</td>\n",
       "      <td>134.050000</td>\n",
       "      <td>139.000000</td>\n",
       "      <td>0.0</td>\n",
       "      <td>1.597780e+09</td>\n",
       "    </tr>\n",
       "    <tr>\n",
       "      <th>...</th>\n",
       "      <td>...</td>\n",
       "      <td>...</td>\n",
       "      <td>...</td>\n",
       "      <td>...</td>\n",
       "      <td>...</td>\n",
       "      <td>...</td>\n",
       "      <td>...</td>\n",
       "      <td>...</td>\n",
       "      <td>...</td>\n",
       "      <td>...</td>\n",
       "      <td>...</td>\n",
       "      <td>...</td>\n",
       "    </tr>\n",
       "    <tr>\n",
       "      <th>2018-06-06</th>\n",
       "      <td>0.293325</td>\n",
       "      <td>4830.0</td>\n",
       "      <td>2.312763e+05</td>\n",
       "      <td>659.0</td>\n",
       "      <td>XLM</td>\n",
       "      <td>Stellar</td>\n",
       "      <td>0.293325</td>\n",
       "      <td>0.299955</td>\n",
       "      <td>0.289500</td>\n",
       "      <td>0.298269</td>\n",
       "      <td>51165000.0</td>\n",
       "      <td>5.450080e+09</td>\n",
       "    </tr>\n",
       "    <tr>\n",
       "      <th>2018-06-06</th>\n",
       "      <td>0.039586</td>\n",
       "      <td>7205.0</td>\n",
       "      <td>4.947760e+06</td>\n",
       "      <td>18228.0</td>\n",
       "      <td>XVG</td>\n",
       "      <td>Verge</td>\n",
       "      <td>0.039586</td>\n",
       "      <td>0.039737</td>\n",
       "      <td>0.037680</td>\n",
       "      <td>0.038797</td>\n",
       "      <td>9307450.0</td>\n",
       "      <td>5.959400e+08</td>\n",
       "    </tr>\n",
       "    <tr>\n",
       "      <th>2018-06-06</th>\n",
       "      <td>239.760000</td>\n",
       "      <td>10687.0</td>\n",
       "      <td>3.986308e+07</td>\n",
       "      <td>96516.0</td>\n",
       "      <td>ZEC</td>\n",
       "      <td>Zcash</td>\n",
       "      <td>239.750000</td>\n",
       "      <td>240.340000</td>\n",
       "      <td>229.210000</td>\n",
       "      <td>236.050000</td>\n",
       "      <td>56887000.0</td>\n",
       "      <td>9.769940e+08</td>\n",
       "    </tr>\n",
       "    <tr>\n",
       "      <th>2018-06-06</th>\n",
       "      <td>0.127555</td>\n",
       "      <td>1313.0</td>\n",
       "      <td>1.596436e+07</td>\n",
       "      <td>733.0</td>\n",
       "      <td>ZIL</td>\n",
       "      <td>Zilliqa</td>\n",
       "      <td>0.127555</td>\n",
       "      <td>0.133254</td>\n",
       "      <td>0.124194</td>\n",
       "      <td>0.131766</td>\n",
       "      <td>54667900.0</td>\n",
       "      <td>9.348810e+08</td>\n",
       "    </tr>\n",
       "    <tr>\n",
       "      <th>2018-06-06</th>\n",
       "      <td>1.270000</td>\n",
       "      <td>795.0</td>\n",
       "      <td>6.094435e+06</td>\n",
       "      <td>599.0</td>\n",
       "      <td>ZRX</td>\n",
       "      <td>0x</td>\n",
       "      <td>1.270000</td>\n",
       "      <td>1.340000</td>\n",
       "      <td>1.250000</td>\n",
       "      <td>1.330000</td>\n",
       "      <td>17778000.0</td>\n",
       "      <td>6.741510e+08</td>\n",
       "    </tr>\n",
       "  </tbody>\n",
       "</table>\n",
       "<p>37588 rows × 12 columns</p>\n",
       "</div>"
      ],
      "text/plain": [
       "                 price  txCount      txVolume  activeAddresses symbol  \\\n",
       "date                                                                    \n",
       "2013-04-28  135.300000  41702.0  6.879868e+07         117984.0    BTC   \n",
       "2013-04-28    4.300000   9174.0  4.431952e+07          17216.0    LTC   \n",
       "2013-04-29  134.440000  51602.0  1.138128e+08          86925.0    BTC   \n",
       "2013-04-29    4.370000   9275.0  3.647810e+07          18395.0    LTC   \n",
       "2013-04-30  144.000000  47450.0  8.426632e+07          76871.0    BTC   \n",
       "...                ...      ...           ...              ...    ...   \n",
       "2018-06-06    0.293325   4830.0  2.312763e+05            659.0    XLM   \n",
       "2018-06-06    0.039586   7205.0  4.947760e+06          18228.0    XVG   \n",
       "2018-06-06  239.760000  10687.0  3.986308e+07          96516.0    ZEC   \n",
       "2018-06-06    0.127555   1313.0  1.596436e+07            733.0    ZIL   \n",
       "2018-06-06    1.270000    795.0  6.094435e+06            599.0    ZRX   \n",
       "\n",
       "                name        open        high         low       close  \\\n",
       "date                                                                   \n",
       "2013-04-28   Bitcoin  135.300000  135.980000  132.100000  134.210000   \n",
       "2013-04-28  Litecoin    4.300000    4.400000    4.180000    4.350000   \n",
       "2013-04-29   Bitcoin  134.440000  147.490000  134.000000  144.540000   \n",
       "2013-04-29  Litecoin    4.370000    4.570000    4.230000    4.380000   \n",
       "2013-04-30   Bitcoin  144.000000  146.930000  134.050000  139.000000   \n",
       "...              ...         ...         ...         ...         ...   \n",
       "2018-06-06   Stellar    0.293325    0.299955    0.289500    0.298269   \n",
       "2018-06-06     Verge    0.039586    0.039737    0.037680    0.038797   \n",
       "2018-06-06     Zcash  239.750000  240.340000  229.210000  236.050000   \n",
       "2018-06-06   Zilliqa    0.127555    0.133254    0.124194    0.131766   \n",
       "2018-06-06        0x    1.270000    1.340000    1.250000    1.330000   \n",
       "\n",
       "                volume        market  \n",
       "date                                  \n",
       "2013-04-28         0.0  1.500520e+09  \n",
       "2013-04-28         0.0  7.377340e+07  \n",
       "2013-04-29         0.0  1.491160e+09  \n",
       "2013-04-29         0.0  7.495270e+07  \n",
       "2013-04-30         0.0  1.597780e+09  \n",
       "...                ...           ...  \n",
       "2018-06-06  51165000.0  5.450080e+09  \n",
       "2018-06-06   9307450.0  5.959400e+08  \n",
       "2018-06-06  56887000.0  9.769940e+08  \n",
       "2018-06-06  54667900.0  9.348810e+08  \n",
       "2018-06-06  17778000.0  6.741510e+08  \n",
       "\n",
       "[37588 rows x 12 columns]"
      ]
     },
     "execution_count": 173,
     "metadata": {},
     "output_type": "execute_result"
    }
   ],
   "source": [
    "# Read and use date column as index\n",
    "pd.read_csv('coins.csv', index_col='date')"
   ]
  },
  {
   "cell_type": "code",
   "execution_count": 174,
   "metadata": {},
   "outputs": [
    {
     "data": {
      "text/html": [
       "<div>\n",
       "<style scoped>\n",
       "    .dataframe tbody tr th:only-of-type {\n",
       "        vertical-align: middle;\n",
       "    }\n",
       "\n",
       "    .dataframe tbody tr th {\n",
       "        vertical-align: top;\n",
       "    }\n",
       "\n",
       "    .dataframe thead th {\n",
       "        text-align: right;\n",
       "    }\n",
       "</style>\n",
       "<table border=\"1\" class=\"dataframe\">\n",
       "  <thead>\n",
       "    <tr style=\"text-align: right;\">\n",
       "      <th></th>\n",
       "      <th>date</th>\n",
       "      <th>price</th>\n",
       "      <th>txCount</th>\n",
       "      <th>txVolume</th>\n",
       "      <th>activeAddresses</th>\n",
       "      <th>symbol</th>\n",
       "      <th>name</th>\n",
       "      <th>open</th>\n",
       "      <th>high</th>\n",
       "      <th>low</th>\n",
       "      <th>close</th>\n",
       "      <th>volume</th>\n",
       "      <th>market</th>\n",
       "    </tr>\n",
       "  </thead>\n",
       "  <tbody>\n",
       "    <tr>\n",
       "      <th>0</th>\n",
       "      <td>2013-04-28</td>\n",
       "      <td>135.300000</td>\n",
       "      <td>41702.0</td>\n",
       "      <td>6.879868e+07</td>\n",
       "      <td>117984.0</td>\n",
       "      <td>BTC</td>\n",
       "      <td>Bitcoin</td>\n",
       "      <td>135.300000</td>\n",
       "      <td>135.980000</td>\n",
       "      <td>132.100000</td>\n",
       "      <td>134.210000</td>\n",
       "      <td>0.0</td>\n",
       "      <td>1.500520e+09</td>\n",
       "    </tr>\n",
       "    <tr>\n",
       "      <th>1</th>\n",
       "      <td>2013-04-28</td>\n",
       "      <td>4.300000</td>\n",
       "      <td>9174.0</td>\n",
       "      <td>4.431952e+07</td>\n",
       "      <td>17216.0</td>\n",
       "      <td>LTC</td>\n",
       "      <td>Litecoin</td>\n",
       "      <td>4.300000</td>\n",
       "      <td>4.400000</td>\n",
       "      <td>4.180000</td>\n",
       "      <td>4.350000</td>\n",
       "      <td>0.0</td>\n",
       "      <td>7.377340e+07</td>\n",
       "    </tr>\n",
       "    <tr>\n",
       "      <th>2</th>\n",
       "      <td>2013-04-29</td>\n",
       "      <td>134.440000</td>\n",
       "      <td>51602.0</td>\n",
       "      <td>1.138128e+08</td>\n",
       "      <td>86925.0</td>\n",
       "      <td>BTC</td>\n",
       "      <td>Bitcoin</td>\n",
       "      <td>134.440000</td>\n",
       "      <td>147.490000</td>\n",
       "      <td>134.000000</td>\n",
       "      <td>144.540000</td>\n",
       "      <td>0.0</td>\n",
       "      <td>1.491160e+09</td>\n",
       "    </tr>\n",
       "    <tr>\n",
       "      <th>3</th>\n",
       "      <td>2013-04-29</td>\n",
       "      <td>4.370000</td>\n",
       "      <td>9275.0</td>\n",
       "      <td>3.647810e+07</td>\n",
       "      <td>18395.0</td>\n",
       "      <td>LTC</td>\n",
       "      <td>Litecoin</td>\n",
       "      <td>4.370000</td>\n",
       "      <td>4.570000</td>\n",
       "      <td>4.230000</td>\n",
       "      <td>4.380000</td>\n",
       "      <td>0.0</td>\n",
       "      <td>7.495270e+07</td>\n",
       "    </tr>\n",
       "    <tr>\n",
       "      <th>4</th>\n",
       "      <td>2013-04-30</td>\n",
       "      <td>144.000000</td>\n",
       "      <td>47450.0</td>\n",
       "      <td>8.426632e+07</td>\n",
       "      <td>76871.0</td>\n",
       "      <td>BTC</td>\n",
       "      <td>Bitcoin</td>\n",
       "      <td>144.000000</td>\n",
       "      <td>146.930000</td>\n",
       "      <td>134.050000</td>\n",
       "      <td>139.000000</td>\n",
       "      <td>0.0</td>\n",
       "      <td>1.597780e+09</td>\n",
       "    </tr>\n",
       "    <tr>\n",
       "      <th>...</th>\n",
       "      <td>...</td>\n",
       "      <td>...</td>\n",
       "      <td>...</td>\n",
       "      <td>...</td>\n",
       "      <td>...</td>\n",
       "      <td>...</td>\n",
       "      <td>...</td>\n",
       "      <td>...</td>\n",
       "      <td>...</td>\n",
       "      <td>...</td>\n",
       "      <td>...</td>\n",
       "      <td>...</td>\n",
       "      <td>...</td>\n",
       "    </tr>\n",
       "    <tr>\n",
       "      <th>37583</th>\n",
       "      <td>2018-06-06</td>\n",
       "      <td>0.293325</td>\n",
       "      <td>4830.0</td>\n",
       "      <td>2.312763e+05</td>\n",
       "      <td>659.0</td>\n",
       "      <td>XLM</td>\n",
       "      <td>Stellar</td>\n",
       "      <td>0.293325</td>\n",
       "      <td>0.299955</td>\n",
       "      <td>0.289500</td>\n",
       "      <td>0.298269</td>\n",
       "      <td>51165000.0</td>\n",
       "      <td>5.450080e+09</td>\n",
       "    </tr>\n",
       "    <tr>\n",
       "      <th>37584</th>\n",
       "      <td>2018-06-06</td>\n",
       "      <td>0.039586</td>\n",
       "      <td>7205.0</td>\n",
       "      <td>4.947760e+06</td>\n",
       "      <td>18228.0</td>\n",
       "      <td>XVG</td>\n",
       "      <td>Verge</td>\n",
       "      <td>0.039586</td>\n",
       "      <td>0.039737</td>\n",
       "      <td>0.037680</td>\n",
       "      <td>0.038797</td>\n",
       "      <td>9307450.0</td>\n",
       "      <td>5.959400e+08</td>\n",
       "    </tr>\n",
       "    <tr>\n",
       "      <th>37585</th>\n",
       "      <td>2018-06-06</td>\n",
       "      <td>239.760000</td>\n",
       "      <td>10687.0</td>\n",
       "      <td>3.986308e+07</td>\n",
       "      <td>96516.0</td>\n",
       "      <td>ZEC</td>\n",
       "      <td>Zcash</td>\n",
       "      <td>239.750000</td>\n",
       "      <td>240.340000</td>\n",
       "      <td>229.210000</td>\n",
       "      <td>236.050000</td>\n",
       "      <td>56887000.0</td>\n",
       "      <td>9.769940e+08</td>\n",
       "    </tr>\n",
       "    <tr>\n",
       "      <th>37586</th>\n",
       "      <td>2018-06-06</td>\n",
       "      <td>0.127555</td>\n",
       "      <td>1313.0</td>\n",
       "      <td>1.596436e+07</td>\n",
       "      <td>733.0</td>\n",
       "      <td>ZIL</td>\n",
       "      <td>Zilliqa</td>\n",
       "      <td>0.127555</td>\n",
       "      <td>0.133254</td>\n",
       "      <td>0.124194</td>\n",
       "      <td>0.131766</td>\n",
       "      <td>54667900.0</td>\n",
       "      <td>9.348810e+08</td>\n",
       "    </tr>\n",
       "    <tr>\n",
       "      <th>37587</th>\n",
       "      <td>2018-06-06</td>\n",
       "      <td>1.270000</td>\n",
       "      <td>795.0</td>\n",
       "      <td>6.094435e+06</td>\n",
       "      <td>599.0</td>\n",
       "      <td>ZRX</td>\n",
       "      <td>0x</td>\n",
       "      <td>1.270000</td>\n",
       "      <td>1.340000</td>\n",
       "      <td>1.250000</td>\n",
       "      <td>1.330000</td>\n",
       "      <td>17778000.0</td>\n",
       "      <td>6.741510e+08</td>\n",
       "    </tr>\n",
       "  </tbody>\n",
       "</table>\n",
       "<p>37588 rows × 13 columns</p>\n",
       "</div>"
      ],
      "text/plain": [
       "             date       price  txCount      txVolume  activeAddresses symbol  \\\n",
       "0      2013-04-28  135.300000  41702.0  6.879868e+07         117984.0    BTC   \n",
       "1      2013-04-28    4.300000   9174.0  4.431952e+07          17216.0    LTC   \n",
       "2      2013-04-29  134.440000  51602.0  1.138128e+08          86925.0    BTC   \n",
       "3      2013-04-29    4.370000   9275.0  3.647810e+07          18395.0    LTC   \n",
       "4      2013-04-30  144.000000  47450.0  8.426632e+07          76871.0    BTC   \n",
       "...           ...         ...      ...           ...              ...    ...   \n",
       "37583  2018-06-06    0.293325   4830.0  2.312763e+05            659.0    XLM   \n",
       "37584  2018-06-06    0.039586   7205.0  4.947760e+06          18228.0    XVG   \n",
       "37585  2018-06-06  239.760000  10687.0  3.986308e+07          96516.0    ZEC   \n",
       "37586  2018-06-06    0.127555   1313.0  1.596436e+07            733.0    ZIL   \n",
       "37587  2018-06-06    1.270000    795.0  6.094435e+06            599.0    ZRX   \n",
       "\n",
       "           name        open        high         low       close      volume  \\\n",
       "0       Bitcoin  135.300000  135.980000  132.100000  134.210000         0.0   \n",
       "1      Litecoin    4.300000    4.400000    4.180000    4.350000         0.0   \n",
       "2       Bitcoin  134.440000  147.490000  134.000000  144.540000         0.0   \n",
       "3      Litecoin    4.370000    4.570000    4.230000    4.380000         0.0   \n",
       "4       Bitcoin  144.000000  146.930000  134.050000  139.000000         0.0   \n",
       "...         ...         ...         ...         ...         ...         ...   \n",
       "37583   Stellar    0.293325    0.299955    0.289500    0.298269  51165000.0   \n",
       "37584     Verge    0.039586    0.039737    0.037680    0.038797   9307450.0   \n",
       "37585     Zcash  239.750000  240.340000  229.210000  236.050000  56887000.0   \n",
       "37586   Zilliqa    0.127555    0.133254    0.124194    0.131766  54667900.0   \n",
       "37587        0x    1.270000    1.340000    1.250000    1.330000  17778000.0   \n",
       "\n",
       "             market  \n",
       "0      1.500520e+09  \n",
       "1      7.377340e+07  \n",
       "2      1.491160e+09  \n",
       "3      7.495270e+07  \n",
       "4      1.597780e+09  \n",
       "...             ...  \n",
       "37583  5.450080e+09  \n",
       "37584  5.959400e+08  \n",
       "37585  9.769940e+08  \n",
       "37586  9.348810e+08  \n",
       "37587  6.741510e+08  \n",
       "\n",
       "[37588 rows x 13 columns]"
      ]
     },
     "execution_count": 174,
     "metadata": {},
     "output_type": "execute_result"
    }
   ],
   "source": [
    "# Read and help pandas with data types for two columns\n",
    "pd.read_csv('coins.csv', dtype={'symbol': str, 'name': str})"
   ]
  },
  {
   "cell_type": "markdown",
   "metadata": {},
   "source": [
    "### 14. Visualization"
   ]
  },
  {
   "cell_type": "markdown",
   "metadata": {},
   "source": [
    "Pandas has very simple visualization tools. They are suitable for quick analysis, but if you want to do it beautifully and informatively, then you are not at the right place. Any visualization is done through the plot attribute of the pandas.Series or pandas.DataFrame object."
   ]
  },
  {
   "cell_type": "markdown",
   "metadata": {},
   "source": [
    "Remember about this line in order to see your plots:\n",
    "```\n",
    "%matplotlib inline\n",
    "```"
   ]
  },
  {
   "cell_type": "code",
   "execution_count": 175,
   "metadata": {},
   "outputs": [],
   "source": [
    "%matplotlib inline"
   ]
  },
  {
   "cell_type": "code",
   "execution_count": 176,
   "metadata": {},
   "outputs": [
    {
     "data": {
      "text/html": [
       "<div>\n",
       "<style scoped>\n",
       "    .dataframe tbody tr th:only-of-type {\n",
       "        vertical-align: middle;\n",
       "    }\n",
       "\n",
       "    .dataframe tbody tr th {\n",
       "        vertical-align: top;\n",
       "    }\n",
       "\n",
       "    .dataframe thead th {\n",
       "        text-align: right;\n",
       "    }\n",
       "</style>\n",
       "<table border=\"1\" class=\"dataframe\">\n",
       "  <thead>\n",
       "    <tr style=\"text-align: right;\">\n",
       "      <th></th>\n",
       "      <th>ADA</th>\n",
       "      <th>DOGE</th>\n",
       "    </tr>\n",
       "  </thead>\n",
       "  <tbody>\n",
       "    <tr>\n",
       "      <th>2018-11-01</th>\n",
       "      <td>0.547</td>\n",
       "      <td>0.745</td>\n",
       "    </tr>\n",
       "    <tr>\n",
       "      <th>2018-11-02</th>\n",
       "      <td>0.500</td>\n",
       "      <td>0.964</td>\n",
       "    </tr>\n",
       "    <tr>\n",
       "      <th>2018-11-03</th>\n",
       "      <td>0.770</td>\n",
       "      <td>0.718</td>\n",
       "    </tr>\n",
       "    <tr>\n",
       "      <th>2018-11-04</th>\n",
       "      <td>0.135</td>\n",
       "      <td>0.845</td>\n",
       "    </tr>\n",
       "    <tr>\n",
       "      <th>2018-11-05</th>\n",
       "      <td>0.530</td>\n",
       "      <td>NaN</td>\n",
       "    </tr>\n",
       "    <tr>\n",
       "      <th>2018-11-06</th>\n",
       "      <td>0.150</td>\n",
       "      <td>0.795</td>\n",
       "    </tr>\n",
       "  </tbody>\n",
       "</table>\n",
       "</div>"
      ],
      "text/plain": [
       "              ADA   DOGE\n",
       "2018-11-01  0.547  0.745\n",
       "2018-11-02  0.500  0.964\n",
       "2018-11-03  0.770  0.718\n",
       "2018-11-04  0.135  0.845\n",
       "2018-11-05  0.530    NaN\n",
       "2018-11-06  0.150  0.795"
      ]
     },
     "execution_count": 176,
     "metadata": {},
     "output_type": "execute_result"
    }
   ],
   "source": [
    "price = pd.DataFrame(\n",
    "    data=[\n",
    "        [0.547, 0.745],\n",
    "        [0.5, 0.964],\n",
    "        [0.77, 0.718],\n",
    "        [0.135, 0.845],\n",
    "        [0.53, None],\n",
    "        [0.15, 0.795]],\n",
    "    columns=['ADA', 'DOGE'],\n",
    "    index=pd.date_range('2018-11-01', periods=6)\n",
    ")\n",
    "price"
   ]
  },
  {
   "cell_type": "code",
   "execution_count": 177,
   "metadata": {},
   "outputs": [
    {
     "data": {
      "text/plain": [
       "<AxesSubplot:>"
      ]
     },
     "execution_count": 177,
     "metadata": {},
     "output_type": "execute_result"
    },
    {
     "data": {
      "image/png": "[encoded data removed]",
      "text/plain": [
       "<Figure size 432x288 with 1 Axes>"
      ]
     },
     "metadata": {
      "needs_background": "light"
     },
     "output_type": "display_data"
    }
   ],
   "source": [
    "# Plot prices for ADA coin\n",
    "price['ADA'].plot()"
   ]
  },
  {
   "cell_type": "code",
   "execution_count": 178,
   "metadata": {},
   "outputs": [
    {
     "data": {
      "text/plain": [
       "<AxesSubplot:>"
      ]
     },
     "execution_count": 178,
     "metadata": {},
     "output_type": "execute_result"
    },
    {
     "data": {
      "image/png": "[encoded data removed]",
      "text/plain": [
       "<Figure size 432x288 with 1 Axes>"
      ]
     },
     "metadata": {
      "needs_background": "light"
     },
     "output_type": "display_data"
    }
   ],
   "source": [
    "# Plot several price graphs\n",
    "price[['ADA', 'DOGE']].plot()"
   ]
  },
  {
   "cell_type": "code",
   "execution_count": 179,
   "metadata": {},
   "outputs": [
    {
     "data": {
      "text/plain": [
       "<AxesSubplot:>"
      ]
     },
     "execution_count": 179,
     "metadata": {},
     "output_type": "execute_result"
    },
    {
     "data": {
      "image/png": "[encoded data removed]",
      "text/plain": [
       "<Figure size 432x288 with 1 Axes>"
      ]
     },
     "metadata": {
      "needs_background": "light"
     },
     "output_type": "display_data"
    }
   ],
   "source": [
    "# Bar chart\n",
    "price.plot.bar(stacked=True)"
   ]
  },
  {
   "cell_type": "code",
   "execution_count": 180,
   "metadata": {},
   "outputs": [
    {
     "data": {
      "text/plain": [
       "<AxesSubplot:>"
      ]
     },
     "execution_count": 180,
     "metadata": {},
     "output_type": "execute_result"
    },
    {
     "data": {
      "image/png": "[encoded data removed]",
      "text/plain": [
       "<Figure size 432x288 with 1 Axes>"
      ]
     },
     "metadata": {
      "needs_background": "light"
     },
     "output_type": "display_data"
    }
   ],
   "source": [
    "# Horizontal bar chart\n",
    "price.plot.barh()"
   ]
  },
  {
   "cell_type": "code",
   "execution_count": 181,
   "metadata": {},
   "outputs": [
    {
     "data": {
      "text/plain": [
       "<AxesSubplot:ylabel='Frequency'>"
      ]
     },
     "execution_count": 181,
     "metadata": {},
     "output_type": "execute_result"
    },
    {
     "data": {
      "image/png": "[encoded data removed]",
      "text/plain": [
       "<Figure size 432x288 with 1 Axes>"
      ]
     },
     "metadata": {
      "needs_background": "light"
     },
     "output_type": "display_data"
    }
   ],
   "source": [
    "# Histogram\n",
    "price.plot.hist(bins=10)"
   ]
  },
  {
   "cell_type": "code",
   "execution_count": 182,
   "metadata": {},
   "outputs": [
    {
     "data": {
      "text/plain": [
       "<AxesSubplot:>"
      ]
     },
     "execution_count": 182,
     "metadata": {},
     "output_type": "execute_result"
    },
    {
     "data": {
      "image/png": "[encoded data removed]",
      "text/plain": [
       "<Figure size 432x288 with 1 Axes>"
      ]
     },
     "metadata": {
      "needs_background": "light"
     },
     "output_type": "display_data"
    }
   ],
   "source": [
    "# Box plot\n",
    "price.plot.box()"
   ]
  },
  {
   "cell_type": "code",
   "execution_count": 183,
   "metadata": {},
   "outputs": [
    {
     "data": {
      "text/plain": [
       "<AxesSubplot:>"
      ]
     },
     "execution_count": 183,
     "metadata": {},
     "output_type": "execute_result"
    },
    {
     "data": {
      "image/png": "[encoded data removed]",
      "text/plain": [
       "<Figure size 432x288 with 1 Axes>"
      ]
     },
     "metadata": {
      "needs_background": "light"
     },
     "output_type": "display_data"
    }
   ],
   "source": [
    "# Filled plots\n",
    "price.plot.area()"
   ]
  },
  {
   "cell_type": "code",
   "execution_count": 184,
   "metadata": {},
   "outputs": [
    {
     "data": {
      "text/plain": [
       "<AxesSubplot:xlabel='ADA', ylabel='DOGE'>"
      ]
     },
     "execution_count": 184,
     "metadata": {},
     "output_type": "execute_result"
    },
    {
     "data": {
      "image/png": "[encoded data removed]",
      "text/plain": [
       "<Figure size 432x288 with 1 Axes>"
      ]
     },
     "metadata": {
      "needs_background": "light"
     },
     "output_type": "display_data"
    }
   ],
   "source": [
    "# Scatter plot\n",
    "price.plot.scatter(x='ADA', y='DOGE')"
   ]
  },
  {
   "cell_type": "code",
   "execution_count": 185,
   "metadata": {},
   "outputs": [
    {
     "data": {
      "text/plain": [
       "array([<AxesSubplot:ylabel='ADA'>, <AxesSubplot:ylabel='DOGE'>],\n",
       "      dtype=object)"
      ]
     },
     "execution_count": 185,
     "metadata": {},
     "output_type": "execute_result"
    },
    {
     "data": {
      "image/png": "[encoded data removed]",
      "text/plain": [
       "<Figure size 1080x540 with 2 Axes>"
      ]
     },
     "metadata": {},
     "output_type": "display_data"
    }
   ],
   "source": [
    "# Pie chart\n",
    "price.plot.pie(subplots=True, figsize=(15,7.5))"
   ]
  },
  {
   "cell_type": "code",
   "execution_count": 16,
   "metadata": {
    "collapsed": true
   },
   "outputs": [],
   "source": [
    "del price"
   ]
  },
  {
   "cell_type": "markdown",
   "metadata": {},
   "source": [
    "# NB\n",
    "\n",
    "\n",
    "## Other tools to work with data\n",
    "\n",
    "If your dataset is not too big, then pandas is de facto the best tool available. Otherwise, there are alternatives:\n",
    " - [numpy](http://www.numpy.org/) - library for low-level work with multidimensional arrays of primitive data types. Suitable for \"vectorized\" processing. Numpy is your last chance to still write in regular python without C bindings. Suitable for tasks of fast processing of not too large data. Actually pandas uses numpy under its hood.\n",
    " - [Graphlab](https://turi.com/) - Paid Python library for working with both big data and small datasets. Data is represented as SFrame objects, much like the DataFrame from pandas.\n",
    " - [Hadoop](https://hadoop.apache.org/) - for working with very large data, in particular there is a classic MapReduce.\n",
    " \n",
    "## Other visualization tools\n",
    "\n",
    "\n",
    "There are many more libraries for visualization. Here are the most popular\n",
    " - [Pandas](https://pandas.pydata.org/) - for quick and very easy visualization. Any customization will require knowledge of matplotlib\n",
    " - [Seaborn](https://seaborn.pydata.org/) - A wide but fixed set of sophisticated visualizations with beautiful color schemes. The library is an add-on for matplotlib, and again, fine tuning will require knowledge of matplotlib.\n",
    "   - [Gallery with examples](https://seaborn.pydata.org/examples/index.html)\n",
    "   - [Tutorial](https://seaborn.pydata.org/tutorial.html)\n",
    " - [ggplot](http://ggplot.yhathq.com/) - promising library copied from R. So far at the development stage\n",
    " - [Bokeh](https://bokeh.pydata.org/en/latest/) - for visualization in web\n",
    " - [Plot.ly](https://plot.ly/) - library for interactive and static visualizations. It is aimed at working in the cloud, but it can work locally.\n",
    "   - [Gallery with examples](https://plot.ly/python/)\n",
    "   - [Cheat sheet](https://images.plot.ly/plotly-documentation/images/python_cheat_sheet.pdf)"
   ]
  },
  {
   "cell_type": "code",
   "execution_count": null,
   "metadata": {
    "collapsed": true
   },
   "outputs": [],
   "source": []
  }
 ],
 "metadata": {
  "celltoolbar": "Slideshow",
  "kernelspec": {
   "display_name": "Python 3 (ipykernel)",
   "language": "python",
   "name": "python3"
  },
  "language_info": {
   "codemirror_mode": {
    "name": "ipython",
    "version": 3
   },
   "file_extension": ".py",
   "mimetype": "text/x-python",
   "name": "python",
   "nbconvert_exporter": "python",
   "pygments_lexer": "ipython3",
   "version": "3.8.10"
  }
 },
 "nbformat": 4,
 "nbformat_minor": 2
}
